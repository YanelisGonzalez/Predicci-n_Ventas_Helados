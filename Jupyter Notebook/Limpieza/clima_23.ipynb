{
 "cells": [
  {
   "cell_type": "code",
   "execution_count": 66,
   "metadata": {},
   "outputs": [],
   "source": [
    "import numpy as np\n",
    "import pandas as pd\n",
    "import seaborn as sns\n",
    "import matplotlib.pyplot as plt\n",
    "import matplotlib.dates as mdates\n",
    "from functools import reduce"
   ]
  },
  {
   "cell_type": "markdown",
   "metadata": {},
   "source": [
    "## Datasets de temperaturas medias diarias año 2023"
   ]
  },
  {
   "cell_type": "code",
   "execution_count": 67,
   "metadata": {},
   "outputs": [
    {
     "data": {
      "text/html": [
       "<div>\n",
       "<style scoped>\n",
       "    .dataframe tbody tr th:only-of-type {\n",
       "        vertical-align: middle;\n",
       "    }\n",
       "\n",
       "    .dataframe tbody tr th {\n",
       "        vertical-align: top;\n",
       "    }\n",
       "\n",
       "    .dataframe thead th {\n",
       "        text-align: right;\n",
       "    }\n",
       "</style>\n",
       "<table border=\"1\" class=\"dataframe\">\n",
       "  <thead>\n",
       "    <tr style=\"text-align: right;\">\n",
       "      <th></th>\n",
       "      <th>Fecha</th>\n",
       "      <th>Magnitud</th>\n",
       "      <th>Zona</th>\n",
       "      <th>Estación</th>\n",
       "      <th>Valor</th>\n",
       "    </tr>\n",
       "  </thead>\n",
       "  <tbody>\n",
       "    <tr>\n",
       "      <th>0</th>\n",
       "      <td>2023-01-01</td>\n",
       "      <td>Temperatura media</td>\n",
       "      <td>Noroeste</td>\n",
       "      <td>Casa de Campo</td>\n",
       "      <td>9,3</td>\n",
       "    </tr>\n",
       "    <tr>\n",
       "      <th>1</th>\n",
       "      <td>2023-01-02</td>\n",
       "      <td>Temperatura media</td>\n",
       "      <td>Noroeste</td>\n",
       "      <td>Casa de Campo</td>\n",
       "      <td>10,7</td>\n",
       "    </tr>\n",
       "    <tr>\n",
       "      <th>2</th>\n",
       "      <td>2023-01-03</td>\n",
       "      <td>Temperatura media</td>\n",
       "      <td>Noroeste</td>\n",
       "      <td>Casa de Campo</td>\n",
       "      <td>7,2</td>\n",
       "    </tr>\n",
       "    <tr>\n",
       "      <th>3</th>\n",
       "      <td>2023-01-04</td>\n",
       "      <td>Temperatura media</td>\n",
       "      <td>Noroeste</td>\n",
       "      <td>Casa de Campo</td>\n",
       "      <td>5,7</td>\n",
       "    </tr>\n",
       "    <tr>\n",
       "      <th>4</th>\n",
       "      <td>2023-01-05</td>\n",
       "      <td>Temperatura media</td>\n",
       "      <td>Noroeste</td>\n",
       "      <td>Casa de Campo</td>\n",
       "      <td>5,6</td>\n",
       "    </tr>\n",
       "  </tbody>\n",
       "</table>\n",
       "</div>"
      ],
      "text/plain": [
       "        Fecha           Magnitud      Zona       Estación Valor\n",
       "0  2023-01-01  Temperatura media  Noroeste  Casa de Campo   9,3\n",
       "1  2023-01-02  Temperatura media  Noroeste  Casa de Campo  10,7\n",
       "2  2023-01-03  Temperatura media  Noroeste  Casa de Campo   7,2\n",
       "3  2023-01-04  Temperatura media  Noroeste  Casa de Campo   5,7\n",
       "4  2023-01-05  Temperatura media  Noroeste  Casa de Campo   5,6"
      ]
     },
     "execution_count": 67,
     "metadata": {},
     "output_type": "execute_result"
    }
   ],
   "source": [
    "df_temp_ene =pd.read_csv('C:/Users/rfg2m/Documents/DATA_SCIENCE/Entregas/Proyectos/MACHINE LEARNING/Data/raw/Data_23/temp_ene_23.csv',sep=';', encoding='utf-8')\n",
    "df_temp_ene.head()"
   ]
  },
  {
   "cell_type": "code",
   "execution_count": 68,
   "metadata": {},
   "outputs": [
    {
     "name": "stdout",
     "output_type": "stream",
     "text": [
      "<class 'pandas.core.frame.DataFrame'>\n",
      "RangeIndex: 31 entries, 0 to 30\n",
      "Data columns (total 5 columns):\n",
      " #   Column    Non-Null Count  Dtype \n",
      "---  ------    --------------  ----- \n",
      " 0   Fecha     31 non-null     object\n",
      " 1   Magnitud  31 non-null     object\n",
      " 2   Zona      31 non-null     object\n",
      " 3   Estación  31 non-null     object\n",
      " 4   Valor     31 non-null     object\n",
      "dtypes: object(5)\n",
      "memory usage: 1.3+ KB\n"
     ]
    }
   ],
   "source": [
    "df_temp_ene.info()"
   ]
  },
  {
   "cell_type": "code",
   "execution_count": 69,
   "metadata": {},
   "outputs": [
    {
     "name": "stdout",
     "output_type": "stream",
     "text": [
      "<class 'pandas.core.frame.DataFrame'>\n",
      "RangeIndex: 31 entries, 0 to 30\n",
      "Data columns (total 5 columns):\n",
      " #   Column    Non-Null Count  Dtype         \n",
      "---  ------    --------------  -----         \n",
      " 0   Fecha     31 non-null     datetime64[ns]\n",
      " 1   Magnitud  31 non-null     object        \n",
      " 2   Zona      31 non-null     object        \n",
      " 3   Estación  31 non-null     object        \n",
      " 4   Valor     31 non-null     object        \n",
      "dtypes: datetime64[ns](1), object(4)\n",
      "memory usage: 1.3+ KB\n"
     ]
    }
   ],
   "source": [
    "df_temp_ene['Fecha'] = pd.to_datetime(df_temp_ene['Fecha'])\n",
    "df_temp_ene.info()"
   ]
  },
  {
   "cell_type": "code",
   "execution_count": 70,
   "metadata": {},
   "outputs": [
    {
     "data": {
      "text/html": [
       "<div>\n",
       "<style scoped>\n",
       "    .dataframe tbody tr th:only-of-type {\n",
       "        vertical-align: middle;\n",
       "    }\n",
       "\n",
       "    .dataframe tbody tr th {\n",
       "        vertical-align: top;\n",
       "    }\n",
       "\n",
       "    .dataframe thead th {\n",
       "        text-align: right;\n",
       "    }\n",
       "</style>\n",
       "<table border=\"1\" class=\"dataframe\">\n",
       "  <thead>\n",
       "    <tr style=\"text-align: right;\">\n",
       "      <th></th>\n",
       "      <th>Fecha</th>\n",
       "      <th>Magnitud</th>\n",
       "      <th>Zona</th>\n",
       "      <th>Estación</th>\n",
       "      <th>Valor</th>\n",
       "    </tr>\n",
       "  </thead>\n",
       "  <tbody>\n",
       "    <tr>\n",
       "      <th>0</th>\n",
       "      <td>2023-01-01</td>\n",
       "      <td>Temperatura media</td>\n",
       "      <td>Noroeste</td>\n",
       "      <td>Casa de Campo</td>\n",
       "      <td>9.3</td>\n",
       "    </tr>\n",
       "    <tr>\n",
       "      <th>1</th>\n",
       "      <td>2023-01-02</td>\n",
       "      <td>Temperatura media</td>\n",
       "      <td>Noroeste</td>\n",
       "      <td>Casa de Campo</td>\n",
       "      <td>10.7</td>\n",
       "    </tr>\n",
       "    <tr>\n",
       "      <th>2</th>\n",
       "      <td>2023-01-03</td>\n",
       "      <td>Temperatura media</td>\n",
       "      <td>Noroeste</td>\n",
       "      <td>Casa de Campo</td>\n",
       "      <td>7.2</td>\n",
       "    </tr>\n",
       "    <tr>\n",
       "      <th>3</th>\n",
       "      <td>2023-01-04</td>\n",
       "      <td>Temperatura media</td>\n",
       "      <td>Noroeste</td>\n",
       "      <td>Casa de Campo</td>\n",
       "      <td>5.7</td>\n",
       "    </tr>\n",
       "    <tr>\n",
       "      <th>4</th>\n",
       "      <td>2023-01-05</td>\n",
       "      <td>Temperatura media</td>\n",
       "      <td>Noroeste</td>\n",
       "      <td>Casa de Campo</td>\n",
       "      <td>5.6</td>\n",
       "    </tr>\n",
       "  </tbody>\n",
       "</table>\n",
       "</div>"
      ],
      "text/plain": [
       "       Fecha           Magnitud      Zona       Estación Valor\n",
       "0 2023-01-01  Temperatura media  Noroeste  Casa de Campo   9.3\n",
       "1 2023-01-02  Temperatura media  Noroeste  Casa de Campo  10.7\n",
       "2 2023-01-03  Temperatura media  Noroeste  Casa de Campo   7.2\n",
       "3 2023-01-04  Temperatura media  Noroeste  Casa de Campo   5.7\n",
       "4 2023-01-05  Temperatura media  Noroeste  Casa de Campo   5.6"
      ]
     },
     "execution_count": 70,
     "metadata": {},
     "output_type": "execute_result"
    }
   ],
   "source": [
    "df_temp_ene['Valor'] = df_temp_ene['Valor'].str.replace(',', '.') #Reemplazar comas por puntos\n",
    "df_temp_ene['Valor'] = df_temp_ene['Valor'].str.replace(r'[^\\d\\.]', '', regex=True) #Eliminar caracteres no numéricos, exepto el punto \n",
    "df_temp_ene.head()"
   ]
  },
  {
   "cell_type": "code",
   "execution_count": 71,
   "metadata": {},
   "outputs": [
    {
     "data": {
      "text/html": [
       "<div>\n",
       "<style scoped>\n",
       "    .dataframe tbody tr th:only-of-type {\n",
       "        vertical-align: middle;\n",
       "    }\n",
       "\n",
       "    .dataframe tbody tr th {\n",
       "        vertical-align: top;\n",
       "    }\n",
       "\n",
       "    .dataframe thead th {\n",
       "        text-align: right;\n",
       "    }\n",
       "</style>\n",
       "<table border=\"1\" class=\"dataframe\">\n",
       "  <thead>\n",
       "    <tr style=\"text-align: right;\">\n",
       "      <th></th>\n",
       "      <th>Fecha</th>\n",
       "      <th>Magnitud</th>\n",
       "      <th>Zona</th>\n",
       "      <th>Estación</th>\n",
       "      <th>Valor</th>\n",
       "    </tr>\n",
       "  </thead>\n",
       "  <tbody>\n",
       "    <tr>\n",
       "      <th>0</th>\n",
       "      <td>2023-01-01</td>\n",
       "      <td>Temperatura media</td>\n",
       "      <td>Noroeste</td>\n",
       "      <td>Casa de Campo</td>\n",
       "      <td>9.3</td>\n",
       "    </tr>\n",
       "    <tr>\n",
       "      <th>1</th>\n",
       "      <td>2023-01-02</td>\n",
       "      <td>Temperatura media</td>\n",
       "      <td>Noroeste</td>\n",
       "      <td>Casa de Campo</td>\n",
       "      <td>10.7</td>\n",
       "    </tr>\n",
       "    <tr>\n",
       "      <th>2</th>\n",
       "      <td>2023-01-03</td>\n",
       "      <td>Temperatura media</td>\n",
       "      <td>Noroeste</td>\n",
       "      <td>Casa de Campo</td>\n",
       "      <td>7.2</td>\n",
       "    </tr>\n",
       "    <tr>\n",
       "      <th>3</th>\n",
       "      <td>2023-01-04</td>\n",
       "      <td>Temperatura media</td>\n",
       "      <td>Noroeste</td>\n",
       "      <td>Casa de Campo</td>\n",
       "      <td>5.7</td>\n",
       "    </tr>\n",
       "    <tr>\n",
       "      <th>4</th>\n",
       "      <td>2023-01-05</td>\n",
       "      <td>Temperatura media</td>\n",
       "      <td>Noroeste</td>\n",
       "      <td>Casa de Campo</td>\n",
       "      <td>5.6</td>\n",
       "    </tr>\n",
       "  </tbody>\n",
       "</table>\n",
       "</div>"
      ],
      "text/plain": [
       "       Fecha           Magnitud      Zona       Estación  Valor\n",
       "0 2023-01-01  Temperatura media  Noroeste  Casa de Campo    9.3\n",
       "1 2023-01-02  Temperatura media  Noroeste  Casa de Campo   10.7\n",
       "2 2023-01-03  Temperatura media  Noroeste  Casa de Campo    7.2\n",
       "3 2023-01-04  Temperatura media  Noroeste  Casa de Campo    5.7\n",
       "4 2023-01-05  Temperatura media  Noroeste  Casa de Campo    5.6"
      ]
     },
     "execution_count": 71,
     "metadata": {},
     "output_type": "execute_result"
    }
   ],
   "source": [
    "df_temp_ene['Valor'] = pd.to_numeric(df_temp_ene['Valor'], errors='coerce')\n",
    "df_temp_ene.head()"
   ]
  },
  {
   "cell_type": "code",
   "execution_count": 72,
   "metadata": {},
   "outputs": [
    {
     "name": "stdout",
     "output_type": "stream",
     "text": [
      "<class 'pandas.core.frame.DataFrame'>\n",
      "RangeIndex: 31 entries, 0 to 30\n",
      "Data columns (total 5 columns):\n",
      " #   Column    Non-Null Count  Dtype         \n",
      "---  ------    --------------  -----         \n",
      " 0   Fecha     31 non-null     datetime64[ns]\n",
      " 1   Magnitud  31 non-null     object        \n",
      " 2   Zona      31 non-null     object        \n",
      " 3   Estación  31 non-null     object        \n",
      " 4   Valor     31 non-null     float64       \n",
      "dtypes: datetime64[ns](1), float64(1), object(3)\n",
      "memory usage: 1.3+ KB\n"
     ]
    }
   ],
   "source": [
    "df_temp_ene.info()"
   ]
  },
  {
   "cell_type": "code",
   "execution_count": 73,
   "metadata": {},
   "outputs": [
    {
     "data": {
      "text/html": [
       "<div>\n",
       "<style scoped>\n",
       "    .dataframe tbody tr th:only-of-type {\n",
       "        vertical-align: middle;\n",
       "    }\n",
       "\n",
       "    .dataframe tbody tr th {\n",
       "        vertical-align: top;\n",
       "    }\n",
       "\n",
       "    .dataframe thead th {\n",
       "        text-align: right;\n",
       "    }\n",
       "</style>\n",
       "<table border=\"1\" class=\"dataframe\">\n",
       "  <thead>\n",
       "    <tr style=\"text-align: right;\">\n",
       "      <th></th>\n",
       "      <th>Fecha</th>\n",
       "      <th>Magnitud</th>\n",
       "      <th>Zona</th>\n",
       "      <th>Estación</th>\n",
       "      <th>Valor</th>\n",
       "    </tr>\n",
       "  </thead>\n",
       "  <tbody>\n",
       "    <tr>\n",
       "      <th>0</th>\n",
       "      <td>2023-02-01</td>\n",
       "      <td>Temperatura media</td>\n",
       "      <td>Noroeste</td>\n",
       "      <td>Casa de Campo</td>\n",
       "      <td>4,1</td>\n",
       "    </tr>\n",
       "    <tr>\n",
       "      <th>1</th>\n",
       "      <td>2023-02-02</td>\n",
       "      <td>Temperatura media</td>\n",
       "      <td>Noroeste</td>\n",
       "      <td>Casa de Campo</td>\n",
       "      <td>6,0</td>\n",
       "    </tr>\n",
       "    <tr>\n",
       "      <th>2</th>\n",
       "      <td>2023-02-03</td>\n",
       "      <td>Temperatura media</td>\n",
       "      <td>Noroeste</td>\n",
       "      <td>Casa de Campo</td>\n",
       "      <td>5,9</td>\n",
       "    </tr>\n",
       "    <tr>\n",
       "      <th>3</th>\n",
       "      <td>2023-02-04</td>\n",
       "      <td>Temperatura media</td>\n",
       "      <td>Noroeste</td>\n",
       "      <td>Casa de Campo</td>\n",
       "      <td>6,6</td>\n",
       "    </tr>\n",
       "    <tr>\n",
       "      <th>4</th>\n",
       "      <td>2023-02-05</td>\n",
       "      <td>Temperatura media</td>\n",
       "      <td>Noroeste</td>\n",
       "      <td>Casa de Campo</td>\n",
       "      <td>7,1</td>\n",
       "    </tr>\n",
       "  </tbody>\n",
       "</table>\n",
       "</div>"
      ],
      "text/plain": [
       "        Fecha           Magnitud      Zona       Estación Valor\n",
       "0  2023-02-01  Temperatura media  Noroeste  Casa de Campo   4,1\n",
       "1  2023-02-02  Temperatura media  Noroeste  Casa de Campo   6,0\n",
       "2  2023-02-03  Temperatura media  Noroeste  Casa de Campo   5,9\n",
       "3  2023-02-04  Temperatura media  Noroeste  Casa de Campo   6,6\n",
       "4  2023-02-05  Temperatura media  Noroeste  Casa de Campo   7,1"
      ]
     },
     "execution_count": 73,
     "metadata": {},
     "output_type": "execute_result"
    }
   ],
   "source": [
    "df_temp_feb =pd.read_csv('C:/Users/rfg2m/Documents/DATA_SCIENCE/Entregas/Proyectos/MACHINE LEARNING/Data/raw/Data_23/temp_feb_23.csv',sep=';', encoding='utf-8')\n",
    "df_temp_feb.head()"
   ]
  },
  {
   "cell_type": "code",
   "execution_count": 74,
   "metadata": {},
   "outputs": [
    {
     "name": "stdout",
     "output_type": "stream",
     "text": [
      "<class 'pandas.core.frame.DataFrame'>\n",
      "RangeIndex: 28 entries, 0 to 27\n",
      "Data columns (total 5 columns):\n",
      " #   Column    Non-Null Count  Dtype \n",
      "---  ------    --------------  ----- \n",
      " 0   Fecha     28 non-null     object\n",
      " 1   Magnitud  28 non-null     object\n",
      " 2   Zona      28 non-null     object\n",
      " 3   Estación  28 non-null     object\n",
      " 4   Valor     28 non-null     object\n",
      "dtypes: object(5)\n",
      "memory usage: 1.2+ KB\n"
     ]
    }
   ],
   "source": [
    "df_temp_feb.info()"
   ]
  },
  {
   "cell_type": "code",
   "execution_count": 75,
   "metadata": {},
   "outputs": [
    {
     "name": "stdout",
     "output_type": "stream",
     "text": [
      "<class 'pandas.core.frame.DataFrame'>\n",
      "RangeIndex: 28 entries, 0 to 27\n",
      "Data columns (total 5 columns):\n",
      " #   Column    Non-Null Count  Dtype         \n",
      "---  ------    --------------  -----         \n",
      " 0   Fecha     28 non-null     datetime64[ns]\n",
      " 1   Magnitud  28 non-null     object        \n",
      " 2   Zona      28 non-null     object        \n",
      " 3   Estación  28 non-null     object        \n",
      " 4   Valor     28 non-null     object        \n",
      "dtypes: datetime64[ns](1), object(4)\n",
      "memory usage: 1.2+ KB\n"
     ]
    }
   ],
   "source": [
    "df_temp_feb['Fecha'] = pd.to_datetime(df_temp_feb['Fecha'])\n",
    "df_temp_feb.info()"
   ]
  },
  {
   "cell_type": "code",
   "execution_count": 76,
   "metadata": {},
   "outputs": [
    {
     "data": {
      "text/html": [
       "<div>\n",
       "<style scoped>\n",
       "    .dataframe tbody tr th:only-of-type {\n",
       "        vertical-align: middle;\n",
       "    }\n",
       "\n",
       "    .dataframe tbody tr th {\n",
       "        vertical-align: top;\n",
       "    }\n",
       "\n",
       "    .dataframe thead th {\n",
       "        text-align: right;\n",
       "    }\n",
       "</style>\n",
       "<table border=\"1\" class=\"dataframe\">\n",
       "  <thead>\n",
       "    <tr style=\"text-align: right;\">\n",
       "      <th></th>\n",
       "      <th>Fecha</th>\n",
       "      <th>Magnitud</th>\n",
       "      <th>Zona</th>\n",
       "      <th>Estación</th>\n",
       "      <th>Valor</th>\n",
       "    </tr>\n",
       "  </thead>\n",
       "  <tbody>\n",
       "    <tr>\n",
       "      <th>0</th>\n",
       "      <td>2023-02-01</td>\n",
       "      <td>Temperatura media</td>\n",
       "      <td>Noroeste</td>\n",
       "      <td>Casa de Campo</td>\n",
       "      <td>4.1</td>\n",
       "    </tr>\n",
       "    <tr>\n",
       "      <th>1</th>\n",
       "      <td>2023-02-02</td>\n",
       "      <td>Temperatura media</td>\n",
       "      <td>Noroeste</td>\n",
       "      <td>Casa de Campo</td>\n",
       "      <td>6.0</td>\n",
       "    </tr>\n",
       "    <tr>\n",
       "      <th>2</th>\n",
       "      <td>2023-02-03</td>\n",
       "      <td>Temperatura media</td>\n",
       "      <td>Noroeste</td>\n",
       "      <td>Casa de Campo</td>\n",
       "      <td>5.9</td>\n",
       "    </tr>\n",
       "    <tr>\n",
       "      <th>3</th>\n",
       "      <td>2023-02-04</td>\n",
       "      <td>Temperatura media</td>\n",
       "      <td>Noroeste</td>\n",
       "      <td>Casa de Campo</td>\n",
       "      <td>6.6</td>\n",
       "    </tr>\n",
       "    <tr>\n",
       "      <th>4</th>\n",
       "      <td>2023-02-05</td>\n",
       "      <td>Temperatura media</td>\n",
       "      <td>Noroeste</td>\n",
       "      <td>Casa de Campo</td>\n",
       "      <td>7.1</td>\n",
       "    </tr>\n",
       "  </tbody>\n",
       "</table>\n",
       "</div>"
      ],
      "text/plain": [
       "       Fecha           Magnitud      Zona       Estación Valor\n",
       "0 2023-02-01  Temperatura media  Noroeste  Casa de Campo   4.1\n",
       "1 2023-02-02  Temperatura media  Noroeste  Casa de Campo   6.0\n",
       "2 2023-02-03  Temperatura media  Noroeste  Casa de Campo   5.9\n",
       "3 2023-02-04  Temperatura media  Noroeste  Casa de Campo   6.6\n",
       "4 2023-02-05  Temperatura media  Noroeste  Casa de Campo   7.1"
      ]
     },
     "execution_count": 76,
     "metadata": {},
     "output_type": "execute_result"
    }
   ],
   "source": [
    "df_temp_feb['Valor'] = df_temp_feb['Valor'].str.replace(',', '.') #Reemplazar comas por puntos\n",
    "df_temp_feb['Valor'] = df_temp_feb['Valor'].str.replace(r'[^\\d\\.]', '', regex=True) #Eliminar caracteres no numéricos, exepto el punto \n",
    "df_temp_feb.head()"
   ]
  },
  {
   "cell_type": "code",
   "execution_count": 77,
   "metadata": {},
   "outputs": [],
   "source": [
    "df_temp_feb['Valor'] = pd.to_numeric(df_temp_feb['Valor'], errors='coerce')"
   ]
  },
  {
   "cell_type": "code",
   "execution_count": 78,
   "metadata": {},
   "outputs": [
    {
     "name": "stdout",
     "output_type": "stream",
     "text": [
      "<class 'pandas.core.frame.DataFrame'>\n",
      "RangeIndex: 28 entries, 0 to 27\n",
      "Data columns (total 5 columns):\n",
      " #   Column    Non-Null Count  Dtype         \n",
      "---  ------    --------------  -----         \n",
      " 0   Fecha     28 non-null     datetime64[ns]\n",
      " 1   Magnitud  28 non-null     object        \n",
      " 2   Zona      28 non-null     object        \n",
      " 3   Estación  28 non-null     object        \n",
      " 4   Valor     28 non-null     float64       \n",
      "dtypes: datetime64[ns](1), float64(1), object(3)\n",
      "memory usage: 1.2+ KB\n"
     ]
    }
   ],
   "source": [
    "df_temp_feb.info()"
   ]
  },
  {
   "cell_type": "code",
   "execution_count": 79,
   "metadata": {},
   "outputs": [
    {
     "data": {
      "text/html": [
       "<div>\n",
       "<style scoped>\n",
       "    .dataframe tbody tr th:only-of-type {\n",
       "        vertical-align: middle;\n",
       "    }\n",
       "\n",
       "    .dataframe tbody tr th {\n",
       "        vertical-align: top;\n",
       "    }\n",
       "\n",
       "    .dataframe thead th {\n",
       "        text-align: right;\n",
       "    }\n",
       "</style>\n",
       "<table border=\"1\" class=\"dataframe\">\n",
       "  <thead>\n",
       "    <tr style=\"text-align: right;\">\n",
       "      <th></th>\n",
       "      <th>Fecha</th>\n",
       "      <th>Magnitud</th>\n",
       "      <th>Zona</th>\n",
       "      <th>Estación</th>\n",
       "      <th>Valor</th>\n",
       "    </tr>\n",
       "  </thead>\n",
       "  <tbody>\n",
       "    <tr>\n",
       "      <th>0</th>\n",
       "      <td>2023-03-01</td>\n",
       "      <td>Temperatura media</td>\n",
       "      <td>Noroeste</td>\n",
       "      <td>Casa de Campo</td>\n",
       "      <td>1,1</td>\n",
       "    </tr>\n",
       "    <tr>\n",
       "      <th>1</th>\n",
       "      <td>2023-03-02</td>\n",
       "      <td>Temperatura media</td>\n",
       "      <td>Noroeste</td>\n",
       "      <td>Casa de Campo</td>\n",
       "      <td>3,0</td>\n",
       "    </tr>\n",
       "    <tr>\n",
       "      <th>2</th>\n",
       "      <td>2023-03-03</td>\n",
       "      <td>Temperatura media</td>\n",
       "      <td>Noroeste</td>\n",
       "      <td>Casa de Campo</td>\n",
       "      <td>4,6</td>\n",
       "    </tr>\n",
       "    <tr>\n",
       "      <th>3</th>\n",
       "      <td>2023-03-04</td>\n",
       "      <td>Temperatura media</td>\n",
       "      <td>Noroeste</td>\n",
       "      <td>Casa de Campo</td>\n",
       "      <td>5,7</td>\n",
       "    </tr>\n",
       "    <tr>\n",
       "      <th>4</th>\n",
       "      <td>2023-03-05</td>\n",
       "      <td>Temperatura media</td>\n",
       "      <td>Noroeste</td>\n",
       "      <td>Casa de Campo</td>\n",
       "      <td>3,6</td>\n",
       "    </tr>\n",
       "  </tbody>\n",
       "</table>\n",
       "</div>"
      ],
      "text/plain": [
       "        Fecha           Magnitud      Zona       Estación Valor\n",
       "0  2023-03-01  Temperatura media  Noroeste  Casa de Campo   1,1\n",
       "1  2023-03-02  Temperatura media  Noroeste  Casa de Campo   3,0\n",
       "2  2023-03-03  Temperatura media  Noroeste  Casa de Campo   4,6\n",
       "3  2023-03-04  Temperatura media  Noroeste  Casa de Campo   5,7\n",
       "4  2023-03-05  Temperatura media  Noroeste  Casa de Campo   3,6"
      ]
     },
     "execution_count": 79,
     "metadata": {},
     "output_type": "execute_result"
    }
   ],
   "source": [
    "df_temp_mar =pd.read_csv('C:/Users/rfg2m/Documents/DATA_SCIENCE/Entregas/Proyectos/MACHINE LEARNING/Data/raw/Data_23/temp_mar_23.csv',sep=';', encoding='utf-8')\n",
    "df_temp_mar.head()"
   ]
  },
  {
   "cell_type": "code",
   "execution_count": 80,
   "metadata": {},
   "outputs": [
    {
     "name": "stdout",
     "output_type": "stream",
     "text": [
      "<class 'pandas.core.frame.DataFrame'>\n",
      "RangeIndex: 31 entries, 0 to 30\n",
      "Data columns (total 5 columns):\n",
      " #   Column    Non-Null Count  Dtype \n",
      "---  ------    --------------  ----- \n",
      " 0   Fecha     31 non-null     object\n",
      " 1   Magnitud  31 non-null     object\n",
      " 2   Zona      31 non-null     object\n",
      " 3   Estación  31 non-null     object\n",
      " 4   Valor     31 non-null     object\n",
      "dtypes: object(5)\n",
      "memory usage: 1.3+ KB\n"
     ]
    }
   ],
   "source": [
    "df_temp_mar.info()"
   ]
  },
  {
   "cell_type": "code",
   "execution_count": 81,
   "metadata": {},
   "outputs": [
    {
     "name": "stdout",
     "output_type": "stream",
     "text": [
      "<class 'pandas.core.frame.DataFrame'>\n",
      "RangeIndex: 31 entries, 0 to 30\n",
      "Data columns (total 5 columns):\n",
      " #   Column    Non-Null Count  Dtype         \n",
      "---  ------    --------------  -----         \n",
      " 0   Fecha     31 non-null     datetime64[ns]\n",
      " 1   Magnitud  31 non-null     object        \n",
      " 2   Zona      31 non-null     object        \n",
      " 3   Estación  31 non-null     object        \n",
      " 4   Valor     31 non-null     object        \n",
      "dtypes: datetime64[ns](1), object(4)\n",
      "memory usage: 1.3+ KB\n"
     ]
    }
   ],
   "source": [
    "df_temp_mar['Fecha'] = pd.to_datetime(df_temp_mar['Fecha'])\n",
    "df_temp_mar.info()"
   ]
  },
  {
   "cell_type": "code",
   "execution_count": 82,
   "metadata": {},
   "outputs": [
    {
     "data": {
      "text/html": [
       "<div>\n",
       "<style scoped>\n",
       "    .dataframe tbody tr th:only-of-type {\n",
       "        vertical-align: middle;\n",
       "    }\n",
       "\n",
       "    .dataframe tbody tr th {\n",
       "        vertical-align: top;\n",
       "    }\n",
       "\n",
       "    .dataframe thead th {\n",
       "        text-align: right;\n",
       "    }\n",
       "</style>\n",
       "<table border=\"1\" class=\"dataframe\">\n",
       "  <thead>\n",
       "    <tr style=\"text-align: right;\">\n",
       "      <th></th>\n",
       "      <th>Fecha</th>\n",
       "      <th>Magnitud</th>\n",
       "      <th>Zona</th>\n",
       "      <th>Estación</th>\n",
       "      <th>Valor</th>\n",
       "    </tr>\n",
       "  </thead>\n",
       "  <tbody>\n",
       "    <tr>\n",
       "      <th>0</th>\n",
       "      <td>2023-03-01</td>\n",
       "      <td>Temperatura media</td>\n",
       "      <td>Noroeste</td>\n",
       "      <td>Casa de Campo</td>\n",
       "      <td>1.1</td>\n",
       "    </tr>\n",
       "    <tr>\n",
       "      <th>1</th>\n",
       "      <td>2023-03-02</td>\n",
       "      <td>Temperatura media</td>\n",
       "      <td>Noroeste</td>\n",
       "      <td>Casa de Campo</td>\n",
       "      <td>3.0</td>\n",
       "    </tr>\n",
       "    <tr>\n",
       "      <th>2</th>\n",
       "      <td>2023-03-03</td>\n",
       "      <td>Temperatura media</td>\n",
       "      <td>Noroeste</td>\n",
       "      <td>Casa de Campo</td>\n",
       "      <td>4.6</td>\n",
       "    </tr>\n",
       "    <tr>\n",
       "      <th>3</th>\n",
       "      <td>2023-03-04</td>\n",
       "      <td>Temperatura media</td>\n",
       "      <td>Noroeste</td>\n",
       "      <td>Casa de Campo</td>\n",
       "      <td>5.7</td>\n",
       "    </tr>\n",
       "    <tr>\n",
       "      <th>4</th>\n",
       "      <td>2023-03-05</td>\n",
       "      <td>Temperatura media</td>\n",
       "      <td>Noroeste</td>\n",
       "      <td>Casa de Campo</td>\n",
       "      <td>3.6</td>\n",
       "    </tr>\n",
       "  </tbody>\n",
       "</table>\n",
       "</div>"
      ],
      "text/plain": [
       "       Fecha           Magnitud      Zona       Estación Valor\n",
       "0 2023-03-01  Temperatura media  Noroeste  Casa de Campo   1.1\n",
       "1 2023-03-02  Temperatura media  Noroeste  Casa de Campo   3.0\n",
       "2 2023-03-03  Temperatura media  Noroeste  Casa de Campo   4.6\n",
       "3 2023-03-04  Temperatura media  Noroeste  Casa de Campo   5.7\n",
       "4 2023-03-05  Temperatura media  Noroeste  Casa de Campo   3.6"
      ]
     },
     "execution_count": 82,
     "metadata": {},
     "output_type": "execute_result"
    }
   ],
   "source": [
    "df_temp_mar['Valor'] = df_temp_mar['Valor'].str.replace(',', '.') #Reemplazar comas por puntos\n",
    "df_temp_mar['Valor'] = df_temp_mar['Valor'].str.replace(r'[^\\d\\.]', '', regex=True) #Eliminar caracteres no numéricos, exepto el punto \n",
    "df_temp_mar.head()"
   ]
  },
  {
   "cell_type": "code",
   "execution_count": 83,
   "metadata": {},
   "outputs": [],
   "source": [
    "df_temp_mar['Valor'] = pd.to_numeric(df_temp_mar['Valor'], errors='coerce')"
   ]
  },
  {
   "cell_type": "code",
   "execution_count": 84,
   "metadata": {},
   "outputs": [
    {
     "name": "stdout",
     "output_type": "stream",
     "text": [
      "<class 'pandas.core.frame.DataFrame'>\n",
      "RangeIndex: 31 entries, 0 to 30\n",
      "Data columns (total 5 columns):\n",
      " #   Column    Non-Null Count  Dtype         \n",
      "---  ------    --------------  -----         \n",
      " 0   Fecha     31 non-null     datetime64[ns]\n",
      " 1   Magnitud  31 non-null     object        \n",
      " 2   Zona      31 non-null     object        \n",
      " 3   Estación  31 non-null     object        \n",
      " 4   Valor     31 non-null     float64       \n",
      "dtypes: datetime64[ns](1), float64(1), object(3)\n",
      "memory usage: 1.3+ KB\n"
     ]
    }
   ],
   "source": [
    "df_temp_mar.info()"
   ]
  },
  {
   "cell_type": "code",
   "execution_count": 85,
   "metadata": {},
   "outputs": [
    {
     "data": {
      "text/html": [
       "<div>\n",
       "<style scoped>\n",
       "    .dataframe tbody tr th:only-of-type {\n",
       "        vertical-align: middle;\n",
       "    }\n",
       "\n",
       "    .dataframe tbody tr th {\n",
       "        vertical-align: top;\n",
       "    }\n",
       "\n",
       "    .dataframe thead th {\n",
       "        text-align: right;\n",
       "    }\n",
       "</style>\n",
       "<table border=\"1\" class=\"dataframe\">\n",
       "  <thead>\n",
       "    <tr style=\"text-align: right;\">\n",
       "      <th></th>\n",
       "      <th>Fecha</th>\n",
       "      <th>Magnitud</th>\n",
       "      <th>Zona</th>\n",
       "      <th>Estación</th>\n",
       "      <th>Valor</th>\n",
       "    </tr>\n",
       "  </thead>\n",
       "  <tbody>\n",
       "    <tr>\n",
       "      <th>0</th>\n",
       "      <td>2023-04-01</td>\n",
       "      <td>Temperatura media</td>\n",
       "      <td>Noroeste</td>\n",
       "      <td>Casa de Campo</td>\n",
       "      <td>13,7</td>\n",
       "    </tr>\n",
       "    <tr>\n",
       "      <th>1</th>\n",
       "      <td>2023-04-02</td>\n",
       "      <td>Temperatura media</td>\n",
       "      <td>Noroeste</td>\n",
       "      <td>Casa de Campo</td>\n",
       "      <td>11,7</td>\n",
       "    </tr>\n",
       "    <tr>\n",
       "      <th>2</th>\n",
       "      <td>2023-04-03</td>\n",
       "      <td>Temperatura media</td>\n",
       "      <td>Noroeste</td>\n",
       "      <td>Casa de Campo</td>\n",
       "      <td>11,6</td>\n",
       "    </tr>\n",
       "    <tr>\n",
       "      <th>3</th>\n",
       "      <td>2023-04-04</td>\n",
       "      <td>Temperatura media</td>\n",
       "      <td>Noroeste</td>\n",
       "      <td>Casa de Campo</td>\n",
       "      <td>13,0</td>\n",
       "    </tr>\n",
       "    <tr>\n",
       "      <th>4</th>\n",
       "      <td>2023-04-05</td>\n",
       "      <td>Temperatura media</td>\n",
       "      <td>Noroeste</td>\n",
       "      <td>Casa de Campo</td>\n",
       "      <td>13,0</td>\n",
       "    </tr>\n",
       "  </tbody>\n",
       "</table>\n",
       "</div>"
      ],
      "text/plain": [
       "        Fecha           Magnitud      Zona       Estación Valor\n",
       "0  2023-04-01  Temperatura media  Noroeste  Casa de Campo  13,7\n",
       "1  2023-04-02  Temperatura media  Noroeste  Casa de Campo  11,7\n",
       "2  2023-04-03  Temperatura media  Noroeste  Casa de Campo  11,6\n",
       "3  2023-04-04  Temperatura media  Noroeste  Casa de Campo  13,0\n",
       "4  2023-04-05  Temperatura media  Noroeste  Casa de Campo  13,0"
      ]
     },
     "execution_count": 85,
     "metadata": {},
     "output_type": "execute_result"
    }
   ],
   "source": [
    "df_temp_abr =pd.read_csv('C:/Users/rfg2m/Documents/DATA_SCIENCE/Entregas/Proyectos/MACHINE LEARNING/Data/raw/Data_23/temp_abr_23.csv',sep=';', encoding='utf-8')\n",
    "df_temp_abr.head()"
   ]
  },
  {
   "cell_type": "code",
   "execution_count": 86,
   "metadata": {},
   "outputs": [
    {
     "name": "stdout",
     "output_type": "stream",
     "text": [
      "<class 'pandas.core.frame.DataFrame'>\n",
      "RangeIndex: 30 entries, 0 to 29\n",
      "Data columns (total 5 columns):\n",
      " #   Column    Non-Null Count  Dtype \n",
      "---  ------    --------------  ----- \n",
      " 0   Fecha     30 non-null     object\n",
      " 1   Magnitud  30 non-null     object\n",
      " 2   Zona      30 non-null     object\n",
      " 3   Estación  30 non-null     object\n",
      " 4   Valor     30 non-null     object\n",
      "dtypes: object(5)\n",
      "memory usage: 1.3+ KB\n"
     ]
    }
   ],
   "source": [
    "df_temp_abr.info()"
   ]
  },
  {
   "cell_type": "code",
   "execution_count": 87,
   "metadata": {},
   "outputs": [
    {
     "name": "stdout",
     "output_type": "stream",
     "text": [
      "<class 'pandas.core.frame.DataFrame'>\n",
      "RangeIndex: 30 entries, 0 to 29\n",
      "Data columns (total 5 columns):\n",
      " #   Column    Non-Null Count  Dtype         \n",
      "---  ------    --------------  -----         \n",
      " 0   Fecha     30 non-null     datetime64[ns]\n",
      " 1   Magnitud  30 non-null     object        \n",
      " 2   Zona      30 non-null     object        \n",
      " 3   Estación  30 non-null     object        \n",
      " 4   Valor     30 non-null     object        \n",
      "dtypes: datetime64[ns](1), object(4)\n",
      "memory usage: 1.3+ KB\n"
     ]
    }
   ],
   "source": [
    "df_temp_abr['Fecha'] = pd.to_datetime(df_temp_abr['Fecha'])\n",
    "df_temp_abr.info()"
   ]
  },
  {
   "cell_type": "code",
   "execution_count": 88,
   "metadata": {},
   "outputs": [
    {
     "data": {
      "text/html": [
       "<div>\n",
       "<style scoped>\n",
       "    .dataframe tbody tr th:only-of-type {\n",
       "        vertical-align: middle;\n",
       "    }\n",
       "\n",
       "    .dataframe tbody tr th {\n",
       "        vertical-align: top;\n",
       "    }\n",
       "\n",
       "    .dataframe thead th {\n",
       "        text-align: right;\n",
       "    }\n",
       "</style>\n",
       "<table border=\"1\" class=\"dataframe\">\n",
       "  <thead>\n",
       "    <tr style=\"text-align: right;\">\n",
       "      <th></th>\n",
       "      <th>Fecha</th>\n",
       "      <th>Magnitud</th>\n",
       "      <th>Zona</th>\n",
       "      <th>Estación</th>\n",
       "      <th>Valor</th>\n",
       "    </tr>\n",
       "  </thead>\n",
       "  <tbody>\n",
       "    <tr>\n",
       "      <th>0</th>\n",
       "      <td>2023-04-01</td>\n",
       "      <td>Temperatura media</td>\n",
       "      <td>Noroeste</td>\n",
       "      <td>Casa de Campo</td>\n",
       "      <td>13.7</td>\n",
       "    </tr>\n",
       "    <tr>\n",
       "      <th>1</th>\n",
       "      <td>2023-04-02</td>\n",
       "      <td>Temperatura media</td>\n",
       "      <td>Noroeste</td>\n",
       "      <td>Casa de Campo</td>\n",
       "      <td>11.7</td>\n",
       "    </tr>\n",
       "    <tr>\n",
       "      <th>2</th>\n",
       "      <td>2023-04-03</td>\n",
       "      <td>Temperatura media</td>\n",
       "      <td>Noroeste</td>\n",
       "      <td>Casa de Campo</td>\n",
       "      <td>11.6</td>\n",
       "    </tr>\n",
       "    <tr>\n",
       "      <th>3</th>\n",
       "      <td>2023-04-04</td>\n",
       "      <td>Temperatura media</td>\n",
       "      <td>Noroeste</td>\n",
       "      <td>Casa de Campo</td>\n",
       "      <td>13.0</td>\n",
       "    </tr>\n",
       "    <tr>\n",
       "      <th>4</th>\n",
       "      <td>2023-04-05</td>\n",
       "      <td>Temperatura media</td>\n",
       "      <td>Noroeste</td>\n",
       "      <td>Casa de Campo</td>\n",
       "      <td>13.0</td>\n",
       "    </tr>\n",
       "  </tbody>\n",
       "</table>\n",
       "</div>"
      ],
      "text/plain": [
       "       Fecha           Magnitud      Zona       Estación Valor\n",
       "0 2023-04-01  Temperatura media  Noroeste  Casa de Campo  13.7\n",
       "1 2023-04-02  Temperatura media  Noroeste  Casa de Campo  11.7\n",
       "2 2023-04-03  Temperatura media  Noroeste  Casa de Campo  11.6\n",
       "3 2023-04-04  Temperatura media  Noroeste  Casa de Campo  13.0\n",
       "4 2023-04-05  Temperatura media  Noroeste  Casa de Campo  13.0"
      ]
     },
     "execution_count": 88,
     "metadata": {},
     "output_type": "execute_result"
    }
   ],
   "source": [
    "df_temp_abr['Valor'] = df_temp_abr['Valor'].str.replace(',', '.') #Reemplazar comas por puntos\n",
    "df_temp_abr['Valor'] = df_temp_abr['Valor'].str.replace(r'[^\\d\\.]', '', regex=True) #Eliminar caracteres no numéricos, exepto el punto \n",
    "df_temp_abr.head()"
   ]
  },
  {
   "cell_type": "code",
   "execution_count": 89,
   "metadata": {},
   "outputs": [],
   "source": [
    "df_temp_abr['Valor'] = pd.to_numeric(df_temp_abr['Valor'], errors='coerce')"
   ]
  },
  {
   "cell_type": "code",
   "execution_count": 90,
   "metadata": {},
   "outputs": [
    {
     "name": "stdout",
     "output_type": "stream",
     "text": [
      "<class 'pandas.core.frame.DataFrame'>\n",
      "RangeIndex: 30 entries, 0 to 29\n",
      "Data columns (total 5 columns):\n",
      " #   Column    Non-Null Count  Dtype         \n",
      "---  ------    --------------  -----         \n",
      " 0   Fecha     30 non-null     datetime64[ns]\n",
      " 1   Magnitud  30 non-null     object        \n",
      " 2   Zona      30 non-null     object        \n",
      " 3   Estación  30 non-null     object        \n",
      " 4   Valor     30 non-null     float64       \n",
      "dtypes: datetime64[ns](1), float64(1), object(3)\n",
      "memory usage: 1.3+ KB\n"
     ]
    }
   ],
   "source": [
    "df_temp_abr.info()"
   ]
  },
  {
   "cell_type": "code",
   "execution_count": 91,
   "metadata": {},
   "outputs": [
    {
     "data": {
      "text/html": [
       "<div>\n",
       "<style scoped>\n",
       "    .dataframe tbody tr th:only-of-type {\n",
       "        vertical-align: middle;\n",
       "    }\n",
       "\n",
       "    .dataframe tbody tr th {\n",
       "        vertical-align: top;\n",
       "    }\n",
       "\n",
       "    .dataframe thead th {\n",
       "        text-align: right;\n",
       "    }\n",
       "</style>\n",
       "<table border=\"1\" class=\"dataframe\">\n",
       "  <thead>\n",
       "    <tr style=\"text-align: right;\">\n",
       "      <th></th>\n",
       "      <th>Fecha</th>\n",
       "      <th>Magnitud</th>\n",
       "      <th>Zona</th>\n",
       "      <th>Estación</th>\n",
       "      <th>Valor</th>\n",
       "    </tr>\n",
       "  </thead>\n",
       "  <tbody>\n",
       "    <tr>\n",
       "      <th>0</th>\n",
       "      <td>2023-05-01</td>\n",
       "      <td>Temperatura media</td>\n",
       "      <td>Noroeste</td>\n",
       "      <td>Casa de Campo</td>\n",
       "      <td>19,4</td>\n",
       "    </tr>\n",
       "    <tr>\n",
       "      <th>1</th>\n",
       "      <td>2023-05-02</td>\n",
       "      <td>Temperatura media</td>\n",
       "      <td>Noroeste</td>\n",
       "      <td>Casa de Campo</td>\n",
       "      <td>20,4</td>\n",
       "    </tr>\n",
       "    <tr>\n",
       "      <th>2</th>\n",
       "      <td>2023-05-03</td>\n",
       "      <td>Temperatura media</td>\n",
       "      <td>Noroeste</td>\n",
       "      <td>Casa de Campo</td>\n",
       "      <td>21,6</td>\n",
       "    </tr>\n",
       "    <tr>\n",
       "      <th>3</th>\n",
       "      <td>2023-05-04</td>\n",
       "      <td>Temperatura media</td>\n",
       "      <td>Noroeste</td>\n",
       "      <td>Casa de Campo</td>\n",
       "      <td>19,4</td>\n",
       "    </tr>\n",
       "    <tr>\n",
       "      <th>4</th>\n",
       "      <td>2023-05-05</td>\n",
       "      <td>Temperatura media</td>\n",
       "      <td>Noroeste</td>\n",
       "      <td>Casa de Campo</td>\n",
       "      <td>18,9</td>\n",
       "    </tr>\n",
       "  </tbody>\n",
       "</table>\n",
       "</div>"
      ],
      "text/plain": [
       "        Fecha           Magnitud      Zona       Estación Valor\n",
       "0  2023-05-01  Temperatura media  Noroeste  Casa de Campo  19,4\n",
       "1  2023-05-02  Temperatura media  Noroeste  Casa de Campo  20,4\n",
       "2  2023-05-03  Temperatura media  Noroeste  Casa de Campo  21,6\n",
       "3  2023-05-04  Temperatura media  Noroeste  Casa de Campo  19,4\n",
       "4  2023-05-05  Temperatura media  Noroeste  Casa de Campo  18,9"
      ]
     },
     "execution_count": 91,
     "metadata": {},
     "output_type": "execute_result"
    }
   ],
   "source": [
    "df_temp_may =pd.read_csv('C:/Users/rfg2m/Documents/DATA_SCIENCE/Entregas/Proyectos/MACHINE LEARNING/Data/raw/Data_23/temp_may_23.csv',sep=';', encoding='utf-8')\n",
    "df_temp_may.head()"
   ]
  },
  {
   "cell_type": "code",
   "execution_count": 92,
   "metadata": {},
   "outputs": [
    {
     "name": "stdout",
     "output_type": "stream",
     "text": [
      "<class 'pandas.core.frame.DataFrame'>\n",
      "RangeIndex: 31 entries, 0 to 30\n",
      "Data columns (total 5 columns):\n",
      " #   Column    Non-Null Count  Dtype \n",
      "---  ------    --------------  ----- \n",
      " 0   Fecha     31 non-null     object\n",
      " 1   Magnitud  31 non-null     object\n",
      " 2   Zona      31 non-null     object\n",
      " 3   Estación  31 non-null     object\n",
      " 4   Valor     31 non-null     object\n",
      "dtypes: object(5)\n",
      "memory usage: 1.3+ KB\n"
     ]
    }
   ],
   "source": [
    "df_temp_may.info()"
   ]
  },
  {
   "cell_type": "code",
   "execution_count": 93,
   "metadata": {},
   "outputs": [
    {
     "name": "stdout",
     "output_type": "stream",
     "text": [
      "<class 'pandas.core.frame.DataFrame'>\n",
      "RangeIndex: 31 entries, 0 to 30\n",
      "Data columns (total 5 columns):\n",
      " #   Column    Non-Null Count  Dtype         \n",
      "---  ------    --------------  -----         \n",
      " 0   Fecha     31 non-null     datetime64[ns]\n",
      " 1   Magnitud  31 non-null     object        \n",
      " 2   Zona      31 non-null     object        \n",
      " 3   Estación  31 non-null     object        \n",
      " 4   Valor     31 non-null     object        \n",
      "dtypes: datetime64[ns](1), object(4)\n",
      "memory usage: 1.3+ KB\n"
     ]
    }
   ],
   "source": [
    "df_temp_may['Fecha'] = pd.to_datetime(df_temp_may['Fecha'])\n",
    "df_temp_may.info()"
   ]
  },
  {
   "cell_type": "code",
   "execution_count": 94,
   "metadata": {},
   "outputs": [
    {
     "data": {
      "text/html": [
       "<div>\n",
       "<style scoped>\n",
       "    .dataframe tbody tr th:only-of-type {\n",
       "        vertical-align: middle;\n",
       "    }\n",
       "\n",
       "    .dataframe tbody tr th {\n",
       "        vertical-align: top;\n",
       "    }\n",
       "\n",
       "    .dataframe thead th {\n",
       "        text-align: right;\n",
       "    }\n",
       "</style>\n",
       "<table border=\"1\" class=\"dataframe\">\n",
       "  <thead>\n",
       "    <tr style=\"text-align: right;\">\n",
       "      <th></th>\n",
       "      <th>Fecha</th>\n",
       "      <th>Magnitud</th>\n",
       "      <th>Zona</th>\n",
       "      <th>Estación</th>\n",
       "      <th>Valor</th>\n",
       "    </tr>\n",
       "  </thead>\n",
       "  <tbody>\n",
       "    <tr>\n",
       "      <th>0</th>\n",
       "      <td>2023-05-01</td>\n",
       "      <td>Temperatura media</td>\n",
       "      <td>Noroeste</td>\n",
       "      <td>Casa de Campo</td>\n",
       "      <td>19.4</td>\n",
       "    </tr>\n",
       "    <tr>\n",
       "      <th>1</th>\n",
       "      <td>2023-05-02</td>\n",
       "      <td>Temperatura media</td>\n",
       "      <td>Noroeste</td>\n",
       "      <td>Casa de Campo</td>\n",
       "      <td>20.4</td>\n",
       "    </tr>\n",
       "    <tr>\n",
       "      <th>2</th>\n",
       "      <td>2023-05-03</td>\n",
       "      <td>Temperatura media</td>\n",
       "      <td>Noroeste</td>\n",
       "      <td>Casa de Campo</td>\n",
       "      <td>21.6</td>\n",
       "    </tr>\n",
       "    <tr>\n",
       "      <th>3</th>\n",
       "      <td>2023-05-04</td>\n",
       "      <td>Temperatura media</td>\n",
       "      <td>Noroeste</td>\n",
       "      <td>Casa de Campo</td>\n",
       "      <td>19.4</td>\n",
       "    </tr>\n",
       "    <tr>\n",
       "      <th>4</th>\n",
       "      <td>2023-05-05</td>\n",
       "      <td>Temperatura media</td>\n",
       "      <td>Noroeste</td>\n",
       "      <td>Casa de Campo</td>\n",
       "      <td>18.9</td>\n",
       "    </tr>\n",
       "  </tbody>\n",
       "</table>\n",
       "</div>"
      ],
      "text/plain": [
       "       Fecha           Magnitud      Zona       Estación Valor\n",
       "0 2023-05-01  Temperatura media  Noroeste  Casa de Campo  19.4\n",
       "1 2023-05-02  Temperatura media  Noroeste  Casa de Campo  20.4\n",
       "2 2023-05-03  Temperatura media  Noroeste  Casa de Campo  21.6\n",
       "3 2023-05-04  Temperatura media  Noroeste  Casa de Campo  19.4\n",
       "4 2023-05-05  Temperatura media  Noroeste  Casa de Campo  18.9"
      ]
     },
     "execution_count": 94,
     "metadata": {},
     "output_type": "execute_result"
    }
   ],
   "source": [
    "df_temp_may['Valor'] = df_temp_may['Valor'].str.replace(',', '.') #Reemplazar comas por puntos\n",
    "df_temp_may['Valor'] = df_temp_may['Valor'].str.replace(r'[^\\d\\.]', '', regex=True) #Eliminar caracteres no numéricos, exepto el punto \n",
    "df_temp_may.head()"
   ]
  },
  {
   "cell_type": "code",
   "execution_count": 95,
   "metadata": {},
   "outputs": [],
   "source": [
    "df_temp_may['Valor'] = pd.to_numeric(df_temp_may['Valor'], errors='coerce')"
   ]
  },
  {
   "cell_type": "code",
   "execution_count": 96,
   "metadata": {},
   "outputs": [
    {
     "name": "stdout",
     "output_type": "stream",
     "text": [
      "<class 'pandas.core.frame.DataFrame'>\n",
      "RangeIndex: 31 entries, 0 to 30\n",
      "Data columns (total 5 columns):\n",
      " #   Column    Non-Null Count  Dtype         \n",
      "---  ------    --------------  -----         \n",
      " 0   Fecha     31 non-null     datetime64[ns]\n",
      " 1   Magnitud  31 non-null     object        \n",
      " 2   Zona      31 non-null     object        \n",
      " 3   Estación  31 non-null     object        \n",
      " 4   Valor     31 non-null     float64       \n",
      "dtypes: datetime64[ns](1), float64(1), object(3)\n",
      "memory usage: 1.3+ KB\n"
     ]
    }
   ],
   "source": [
    "df_temp_may.info()"
   ]
  },
  {
   "cell_type": "code",
   "execution_count": 97,
   "metadata": {},
   "outputs": [
    {
     "data": {
      "text/html": [
       "<div>\n",
       "<style scoped>\n",
       "    .dataframe tbody tr th:only-of-type {\n",
       "        vertical-align: middle;\n",
       "    }\n",
       "\n",
       "    .dataframe tbody tr th {\n",
       "        vertical-align: top;\n",
       "    }\n",
       "\n",
       "    .dataframe thead th {\n",
       "        text-align: right;\n",
       "    }\n",
       "</style>\n",
       "<table border=\"1\" class=\"dataframe\">\n",
       "  <thead>\n",
       "    <tr style=\"text-align: right;\">\n",
       "      <th></th>\n",
       "      <th>Fecha</th>\n",
       "      <th>Magnitud</th>\n",
       "      <th>Zona</th>\n",
       "      <th>Estación</th>\n",
       "      <th>Valor</th>\n",
       "    </tr>\n",
       "  </thead>\n",
       "  <tbody>\n",
       "    <tr>\n",
       "      <th>0</th>\n",
       "      <td>2023-06-01</td>\n",
       "      <td>Temperatura media</td>\n",
       "      <td>Noroeste</td>\n",
       "      <td>Casa de Campo</td>\n",
       "      <td>17,4</td>\n",
       "    </tr>\n",
       "    <tr>\n",
       "      <th>1</th>\n",
       "      <td>2023-06-02</td>\n",
       "      <td>Temperatura media</td>\n",
       "      <td>Noroeste</td>\n",
       "      <td>Casa de Campo</td>\n",
       "      <td>17,3</td>\n",
       "    </tr>\n",
       "    <tr>\n",
       "      <th>2</th>\n",
       "      <td>2023-06-03</td>\n",
       "      <td>Temperatura media</td>\n",
       "      <td>Noroeste</td>\n",
       "      <td>Casa de Campo</td>\n",
       "      <td>18,2</td>\n",
       "    </tr>\n",
       "    <tr>\n",
       "      <th>3</th>\n",
       "      <td>2023-06-04</td>\n",
       "      <td>Temperatura media</td>\n",
       "      <td>Noroeste</td>\n",
       "      <td>Casa de Campo</td>\n",
       "      <td>20,0</td>\n",
       "    </tr>\n",
       "    <tr>\n",
       "      <th>4</th>\n",
       "      <td>2023-06-05</td>\n",
       "      <td>Temperatura media</td>\n",
       "      <td>Noroeste</td>\n",
       "      <td>Casa de Campo</td>\n",
       "      <td>20,2</td>\n",
       "    </tr>\n",
       "  </tbody>\n",
       "</table>\n",
       "</div>"
      ],
      "text/plain": [
       "        Fecha           Magnitud      Zona       Estación Valor\n",
       "0  2023-06-01  Temperatura media  Noroeste  Casa de Campo  17,4\n",
       "1  2023-06-02  Temperatura media  Noroeste  Casa de Campo  17,3\n",
       "2  2023-06-03  Temperatura media  Noroeste  Casa de Campo  18,2\n",
       "3  2023-06-04  Temperatura media  Noroeste  Casa de Campo  20,0\n",
       "4  2023-06-05  Temperatura media  Noroeste  Casa de Campo  20,2"
      ]
     },
     "execution_count": 97,
     "metadata": {},
     "output_type": "execute_result"
    }
   ],
   "source": [
    "df_temp_jun =pd.read_csv('C:/Users/rfg2m/Documents/DATA_SCIENCE/Entregas/Proyectos/MACHINE LEARNING/Data/raw/Data_23/temp_jun_23.csv',sep=';', encoding='utf-8')\n",
    "df_temp_jun.head()"
   ]
  },
  {
   "cell_type": "code",
   "execution_count": 98,
   "metadata": {},
   "outputs": [
    {
     "name": "stdout",
     "output_type": "stream",
     "text": [
      "<class 'pandas.core.frame.DataFrame'>\n",
      "RangeIndex: 30 entries, 0 to 29\n",
      "Data columns (total 5 columns):\n",
      " #   Column    Non-Null Count  Dtype \n",
      "---  ------    --------------  ----- \n",
      " 0   Fecha     30 non-null     object\n",
      " 1   Magnitud  30 non-null     object\n",
      " 2   Zona      30 non-null     object\n",
      " 3   Estación  30 non-null     object\n",
      " 4   Valor     30 non-null     object\n",
      "dtypes: object(5)\n",
      "memory usage: 1.3+ KB\n"
     ]
    }
   ],
   "source": [
    "df_temp_jun.info()"
   ]
  },
  {
   "cell_type": "code",
   "execution_count": 99,
   "metadata": {},
   "outputs": [
    {
     "name": "stdout",
     "output_type": "stream",
     "text": [
      "<class 'pandas.core.frame.DataFrame'>\n",
      "RangeIndex: 30 entries, 0 to 29\n",
      "Data columns (total 5 columns):\n",
      " #   Column    Non-Null Count  Dtype         \n",
      "---  ------    --------------  -----         \n",
      " 0   Fecha     30 non-null     datetime64[ns]\n",
      " 1   Magnitud  30 non-null     object        \n",
      " 2   Zona      30 non-null     object        \n",
      " 3   Estación  30 non-null     object        \n",
      " 4   Valor     30 non-null     object        \n",
      "dtypes: datetime64[ns](1), object(4)\n",
      "memory usage: 1.3+ KB\n"
     ]
    }
   ],
   "source": [
    "df_temp_jun['Fecha'] = pd.to_datetime(df_temp_jun['Fecha'])\n",
    "df_temp_jun.info()"
   ]
  },
  {
   "cell_type": "code",
   "execution_count": 100,
   "metadata": {},
   "outputs": [
    {
     "data": {
      "text/html": [
       "<div>\n",
       "<style scoped>\n",
       "    .dataframe tbody tr th:only-of-type {\n",
       "        vertical-align: middle;\n",
       "    }\n",
       "\n",
       "    .dataframe tbody tr th {\n",
       "        vertical-align: top;\n",
       "    }\n",
       "\n",
       "    .dataframe thead th {\n",
       "        text-align: right;\n",
       "    }\n",
       "</style>\n",
       "<table border=\"1\" class=\"dataframe\">\n",
       "  <thead>\n",
       "    <tr style=\"text-align: right;\">\n",
       "      <th></th>\n",
       "      <th>Fecha</th>\n",
       "      <th>Magnitud</th>\n",
       "      <th>Zona</th>\n",
       "      <th>Estación</th>\n",
       "      <th>Valor</th>\n",
       "    </tr>\n",
       "  </thead>\n",
       "  <tbody>\n",
       "    <tr>\n",
       "      <th>0</th>\n",
       "      <td>2023-06-01</td>\n",
       "      <td>Temperatura media</td>\n",
       "      <td>Noroeste</td>\n",
       "      <td>Casa de Campo</td>\n",
       "      <td>17.4</td>\n",
       "    </tr>\n",
       "    <tr>\n",
       "      <th>1</th>\n",
       "      <td>2023-06-02</td>\n",
       "      <td>Temperatura media</td>\n",
       "      <td>Noroeste</td>\n",
       "      <td>Casa de Campo</td>\n",
       "      <td>17.3</td>\n",
       "    </tr>\n",
       "    <tr>\n",
       "      <th>2</th>\n",
       "      <td>2023-06-03</td>\n",
       "      <td>Temperatura media</td>\n",
       "      <td>Noroeste</td>\n",
       "      <td>Casa de Campo</td>\n",
       "      <td>18.2</td>\n",
       "    </tr>\n",
       "    <tr>\n",
       "      <th>3</th>\n",
       "      <td>2023-06-04</td>\n",
       "      <td>Temperatura media</td>\n",
       "      <td>Noroeste</td>\n",
       "      <td>Casa de Campo</td>\n",
       "      <td>20.0</td>\n",
       "    </tr>\n",
       "    <tr>\n",
       "      <th>4</th>\n",
       "      <td>2023-06-05</td>\n",
       "      <td>Temperatura media</td>\n",
       "      <td>Noroeste</td>\n",
       "      <td>Casa de Campo</td>\n",
       "      <td>20.2</td>\n",
       "    </tr>\n",
       "  </tbody>\n",
       "</table>\n",
       "</div>"
      ],
      "text/plain": [
       "       Fecha           Magnitud      Zona       Estación Valor\n",
       "0 2023-06-01  Temperatura media  Noroeste  Casa de Campo  17.4\n",
       "1 2023-06-02  Temperatura media  Noroeste  Casa de Campo  17.3\n",
       "2 2023-06-03  Temperatura media  Noroeste  Casa de Campo  18.2\n",
       "3 2023-06-04  Temperatura media  Noroeste  Casa de Campo  20.0\n",
       "4 2023-06-05  Temperatura media  Noroeste  Casa de Campo  20.2"
      ]
     },
     "execution_count": 100,
     "metadata": {},
     "output_type": "execute_result"
    }
   ],
   "source": [
    "df_temp_jun['Valor'] = df_temp_jun['Valor'].str.replace(',', '.') #Reemplazar comas por puntos\n",
    "df_temp_jun['Valor'] = df_temp_jun['Valor'].str.replace(r'[^\\d\\.]', '', regex=True) #Eliminar caracteres no numéricos, exepto el punto \n",
    "df_temp_jun.head()"
   ]
  },
  {
   "cell_type": "code",
   "execution_count": 101,
   "metadata": {},
   "outputs": [],
   "source": [
    "df_temp_jun['Valor'] = pd.to_numeric(df_temp_jun['Valor'], errors='coerce')"
   ]
  },
  {
   "cell_type": "code",
   "execution_count": 102,
   "metadata": {},
   "outputs": [
    {
     "name": "stdout",
     "output_type": "stream",
     "text": [
      "<class 'pandas.core.frame.DataFrame'>\n",
      "RangeIndex: 30 entries, 0 to 29\n",
      "Data columns (total 5 columns):\n",
      " #   Column    Non-Null Count  Dtype         \n",
      "---  ------    --------------  -----         \n",
      " 0   Fecha     30 non-null     datetime64[ns]\n",
      " 1   Magnitud  30 non-null     object        \n",
      " 2   Zona      30 non-null     object        \n",
      " 3   Estación  30 non-null     object        \n",
      " 4   Valor     30 non-null     float64       \n",
      "dtypes: datetime64[ns](1), float64(1), object(3)\n",
      "memory usage: 1.3+ KB\n"
     ]
    }
   ],
   "source": [
    "df_temp_jun.info()"
   ]
  },
  {
   "cell_type": "code",
   "execution_count": 103,
   "metadata": {},
   "outputs": [
    {
     "data": {
      "text/html": [
       "<div>\n",
       "<style scoped>\n",
       "    .dataframe tbody tr th:only-of-type {\n",
       "        vertical-align: middle;\n",
       "    }\n",
       "\n",
       "    .dataframe tbody tr th {\n",
       "        vertical-align: top;\n",
       "    }\n",
       "\n",
       "    .dataframe thead th {\n",
       "        text-align: right;\n",
       "    }\n",
       "</style>\n",
       "<table border=\"1\" class=\"dataframe\">\n",
       "  <thead>\n",
       "    <tr style=\"text-align: right;\">\n",
       "      <th></th>\n",
       "      <th>Fecha</th>\n",
       "      <th>Magnitud</th>\n",
       "      <th>Zona</th>\n",
       "      <th>Estación</th>\n",
       "      <th>Valor</th>\n",
       "    </tr>\n",
       "  </thead>\n",
       "  <tbody>\n",
       "    <tr>\n",
       "      <th>0</th>\n",
       "      <td>2023-07-01</td>\n",
       "      <td>Temperatura media</td>\n",
       "      <td>Noroeste</td>\n",
       "      <td>Casa de Campo</td>\n",
       "      <td>25,4</td>\n",
       "    </tr>\n",
       "    <tr>\n",
       "      <th>1</th>\n",
       "      <td>2023-07-02</td>\n",
       "      <td>Temperatura media</td>\n",
       "      <td>Noroeste</td>\n",
       "      <td>Casa de Campo</td>\n",
       "      <td>27,2</td>\n",
       "    </tr>\n",
       "    <tr>\n",
       "      <th>2</th>\n",
       "      <td>2023-07-03</td>\n",
       "      <td>Temperatura media</td>\n",
       "      <td>Noroeste</td>\n",
       "      <td>Casa de Campo</td>\n",
       "      <td>28,5</td>\n",
       "    </tr>\n",
       "    <tr>\n",
       "      <th>3</th>\n",
       "      <td>2023-07-04</td>\n",
       "      <td>Temperatura media</td>\n",
       "      <td>Noroeste</td>\n",
       "      <td>Casa de Campo</td>\n",
       "      <td>27,5</td>\n",
       "    </tr>\n",
       "    <tr>\n",
       "      <th>4</th>\n",
       "      <td>2023-07-05</td>\n",
       "      <td>Temperatura media</td>\n",
       "      <td>Noroeste</td>\n",
       "      <td>Casa de Campo</td>\n",
       "      <td>26,7</td>\n",
       "    </tr>\n",
       "  </tbody>\n",
       "</table>\n",
       "</div>"
      ],
      "text/plain": [
       "        Fecha           Magnitud      Zona       Estación Valor\n",
       "0  2023-07-01  Temperatura media  Noroeste  Casa de Campo  25,4\n",
       "1  2023-07-02  Temperatura media  Noroeste  Casa de Campo  27,2\n",
       "2  2023-07-03  Temperatura media  Noroeste  Casa de Campo  28,5\n",
       "3  2023-07-04  Temperatura media  Noroeste  Casa de Campo  27,5\n",
       "4  2023-07-05  Temperatura media  Noroeste  Casa de Campo  26,7"
      ]
     },
     "execution_count": 103,
     "metadata": {},
     "output_type": "execute_result"
    }
   ],
   "source": [
    "df_temp_jul =pd.read_csv('C:/Users/rfg2m/Documents/DATA_SCIENCE/Entregas/Proyectos/MACHINE LEARNING/Data/raw/Data_23/temp_jul_23.csv',sep=';', encoding='utf-8')\n",
    "df_temp_jul.head()"
   ]
  },
  {
   "cell_type": "code",
   "execution_count": 104,
   "metadata": {},
   "outputs": [
    {
     "name": "stdout",
     "output_type": "stream",
     "text": [
      "<class 'pandas.core.frame.DataFrame'>\n",
      "RangeIndex: 31 entries, 0 to 30\n",
      "Data columns (total 5 columns):\n",
      " #   Column    Non-Null Count  Dtype \n",
      "---  ------    --------------  ----- \n",
      " 0   Fecha     31 non-null     object\n",
      " 1   Magnitud  31 non-null     object\n",
      " 2   Zona      31 non-null     object\n",
      " 3   Estación  31 non-null     object\n",
      " 4   Valor     31 non-null     object\n",
      "dtypes: object(5)\n",
      "memory usage: 1.3+ KB\n"
     ]
    }
   ],
   "source": [
    "df_temp_jul.info()"
   ]
  },
  {
   "cell_type": "code",
   "execution_count": 105,
   "metadata": {},
   "outputs": [
    {
     "name": "stdout",
     "output_type": "stream",
     "text": [
      "<class 'pandas.core.frame.DataFrame'>\n",
      "RangeIndex: 31 entries, 0 to 30\n",
      "Data columns (total 5 columns):\n",
      " #   Column    Non-Null Count  Dtype         \n",
      "---  ------    --------------  -----         \n",
      " 0   Fecha     31 non-null     datetime64[ns]\n",
      " 1   Magnitud  31 non-null     object        \n",
      " 2   Zona      31 non-null     object        \n",
      " 3   Estación  31 non-null     object        \n",
      " 4   Valor     31 non-null     object        \n",
      "dtypes: datetime64[ns](1), object(4)\n",
      "memory usage: 1.3+ KB\n"
     ]
    }
   ],
   "source": [
    "df_temp_jul['Fecha'] = pd.to_datetime(df_temp_jul['Fecha'])\n",
    "df_temp_jul.info()"
   ]
  },
  {
   "cell_type": "code",
   "execution_count": 106,
   "metadata": {},
   "outputs": [
    {
     "data": {
      "text/html": [
       "<div>\n",
       "<style scoped>\n",
       "    .dataframe tbody tr th:only-of-type {\n",
       "        vertical-align: middle;\n",
       "    }\n",
       "\n",
       "    .dataframe tbody tr th {\n",
       "        vertical-align: top;\n",
       "    }\n",
       "\n",
       "    .dataframe thead th {\n",
       "        text-align: right;\n",
       "    }\n",
       "</style>\n",
       "<table border=\"1\" class=\"dataframe\">\n",
       "  <thead>\n",
       "    <tr style=\"text-align: right;\">\n",
       "      <th></th>\n",
       "      <th>Fecha</th>\n",
       "      <th>Magnitud</th>\n",
       "      <th>Zona</th>\n",
       "      <th>Estación</th>\n",
       "      <th>Valor</th>\n",
       "    </tr>\n",
       "  </thead>\n",
       "  <tbody>\n",
       "    <tr>\n",
       "      <th>0</th>\n",
       "      <td>2023-07-01</td>\n",
       "      <td>Temperatura media</td>\n",
       "      <td>Noroeste</td>\n",
       "      <td>Casa de Campo</td>\n",
       "      <td>25.4</td>\n",
       "    </tr>\n",
       "    <tr>\n",
       "      <th>1</th>\n",
       "      <td>2023-07-02</td>\n",
       "      <td>Temperatura media</td>\n",
       "      <td>Noroeste</td>\n",
       "      <td>Casa de Campo</td>\n",
       "      <td>27.2</td>\n",
       "    </tr>\n",
       "    <tr>\n",
       "      <th>2</th>\n",
       "      <td>2023-07-03</td>\n",
       "      <td>Temperatura media</td>\n",
       "      <td>Noroeste</td>\n",
       "      <td>Casa de Campo</td>\n",
       "      <td>28.5</td>\n",
       "    </tr>\n",
       "    <tr>\n",
       "      <th>3</th>\n",
       "      <td>2023-07-04</td>\n",
       "      <td>Temperatura media</td>\n",
       "      <td>Noroeste</td>\n",
       "      <td>Casa de Campo</td>\n",
       "      <td>27.5</td>\n",
       "    </tr>\n",
       "    <tr>\n",
       "      <th>4</th>\n",
       "      <td>2023-07-05</td>\n",
       "      <td>Temperatura media</td>\n",
       "      <td>Noroeste</td>\n",
       "      <td>Casa de Campo</td>\n",
       "      <td>26.7</td>\n",
       "    </tr>\n",
       "  </tbody>\n",
       "</table>\n",
       "</div>"
      ],
      "text/plain": [
       "       Fecha           Magnitud      Zona       Estación Valor\n",
       "0 2023-07-01  Temperatura media  Noroeste  Casa de Campo  25.4\n",
       "1 2023-07-02  Temperatura media  Noroeste  Casa de Campo  27.2\n",
       "2 2023-07-03  Temperatura media  Noroeste  Casa de Campo  28.5\n",
       "3 2023-07-04  Temperatura media  Noroeste  Casa de Campo  27.5\n",
       "4 2023-07-05  Temperatura media  Noroeste  Casa de Campo  26.7"
      ]
     },
     "execution_count": 106,
     "metadata": {},
     "output_type": "execute_result"
    }
   ],
   "source": [
    "df_temp_jul['Valor'] = df_temp_jul['Valor'].str.replace(',', '.') #Reemplazar comas por puntos\n",
    "df_temp_jul['Valor'] = df_temp_jul['Valor'].str.replace(r'[^\\d\\.]', '', regex=True) #Eliminar caracteres no numéricos, exepto el punto \n",
    "df_temp_jul.head()"
   ]
  },
  {
   "cell_type": "code",
   "execution_count": 107,
   "metadata": {},
   "outputs": [],
   "source": [
    "df_temp_jul['Valor'] = pd.to_numeric(df_temp_jul['Valor'], errors='coerce')"
   ]
  },
  {
   "cell_type": "code",
   "execution_count": 108,
   "metadata": {},
   "outputs": [
    {
     "name": "stdout",
     "output_type": "stream",
     "text": [
      "<class 'pandas.core.frame.DataFrame'>\n",
      "RangeIndex: 31 entries, 0 to 30\n",
      "Data columns (total 5 columns):\n",
      " #   Column    Non-Null Count  Dtype         \n",
      "---  ------    --------------  -----         \n",
      " 0   Fecha     31 non-null     datetime64[ns]\n",
      " 1   Magnitud  31 non-null     object        \n",
      " 2   Zona      31 non-null     object        \n",
      " 3   Estación  31 non-null     object        \n",
      " 4   Valor     31 non-null     float64       \n",
      "dtypes: datetime64[ns](1), float64(1), object(3)\n",
      "memory usage: 1.3+ KB\n"
     ]
    }
   ],
   "source": [
    "df_temp_jul.info()"
   ]
  },
  {
   "cell_type": "code",
   "execution_count": 109,
   "metadata": {},
   "outputs": [
    {
     "data": {
      "text/html": [
       "<div>\n",
       "<style scoped>\n",
       "    .dataframe tbody tr th:only-of-type {\n",
       "        vertical-align: middle;\n",
       "    }\n",
       "\n",
       "    .dataframe tbody tr th {\n",
       "        vertical-align: top;\n",
       "    }\n",
       "\n",
       "    .dataframe thead th {\n",
       "        text-align: right;\n",
       "    }\n",
       "</style>\n",
       "<table border=\"1\" class=\"dataframe\">\n",
       "  <thead>\n",
       "    <tr style=\"text-align: right;\">\n",
       "      <th></th>\n",
       "      <th>Fecha</th>\n",
       "      <th>Magnitud</th>\n",
       "      <th>Zona</th>\n",
       "      <th>Estación</th>\n",
       "      <th>Valor</th>\n",
       "    </tr>\n",
       "  </thead>\n",
       "  <tbody>\n",
       "    <tr>\n",
       "      <th>0</th>\n",
       "      <td>2023-08-01</td>\n",
       "      <td>Temperatura media</td>\n",
       "      <td>Noroeste</td>\n",
       "      <td>Casa de Campo</td>\n",
       "      <td>29,5</td>\n",
       "    </tr>\n",
       "    <tr>\n",
       "      <th>1</th>\n",
       "      <td>2023-08-02</td>\n",
       "      <td>Temperatura media</td>\n",
       "      <td>Noroeste</td>\n",
       "      <td>Casa de Campo</td>\n",
       "      <td>28,4</td>\n",
       "    </tr>\n",
       "    <tr>\n",
       "      <th>2</th>\n",
       "      <td>2023-08-03</td>\n",
       "      <td>Temperatura media</td>\n",
       "      <td>Noroeste</td>\n",
       "      <td>Casa de Campo</td>\n",
       "      <td>26,0</td>\n",
       "    </tr>\n",
       "    <tr>\n",
       "      <th>3</th>\n",
       "      <td>2023-08-04</td>\n",
       "      <td>Temperatura media</td>\n",
       "      <td>Noroeste</td>\n",
       "      <td>Casa de Campo</td>\n",
       "      <td>26,0</td>\n",
       "    </tr>\n",
       "    <tr>\n",
       "      <th>4</th>\n",
       "      <td>2023-08-05</td>\n",
       "      <td>Temperatura media</td>\n",
       "      <td>Noroeste</td>\n",
       "      <td>Casa de Campo</td>\n",
       "      <td>24,2</td>\n",
       "    </tr>\n",
       "  </tbody>\n",
       "</table>\n",
       "</div>"
      ],
      "text/plain": [
       "        Fecha           Magnitud      Zona       Estación Valor\n",
       "0  2023-08-01  Temperatura media  Noroeste  Casa de Campo  29,5\n",
       "1  2023-08-02  Temperatura media  Noroeste  Casa de Campo  28,4\n",
       "2  2023-08-03  Temperatura media  Noroeste  Casa de Campo  26,0\n",
       "3  2023-08-04  Temperatura media  Noroeste  Casa de Campo  26,0\n",
       "4  2023-08-05  Temperatura media  Noroeste  Casa de Campo  24,2"
      ]
     },
     "execution_count": 109,
     "metadata": {},
     "output_type": "execute_result"
    }
   ],
   "source": [
    "df_temp_ago =pd.read_csv('C:/Users/rfg2m/Documents/DATA_SCIENCE/Entregas/Proyectos/MACHINE LEARNING/Data/raw/Data_23/temp_ago_23.csv',sep=';', encoding='utf-8')\n",
    "df_temp_ago.head()"
   ]
  },
  {
   "cell_type": "code",
   "execution_count": 110,
   "metadata": {},
   "outputs": [
    {
     "name": "stdout",
     "output_type": "stream",
     "text": [
      "<class 'pandas.core.frame.DataFrame'>\n",
      "RangeIndex: 31 entries, 0 to 30\n",
      "Data columns (total 5 columns):\n",
      " #   Column    Non-Null Count  Dtype \n",
      "---  ------    --------------  ----- \n",
      " 0   Fecha     31 non-null     object\n",
      " 1   Magnitud  31 non-null     object\n",
      " 2   Zona      31 non-null     object\n",
      " 3   Estación  31 non-null     object\n",
      " 4   Valor     31 non-null     object\n",
      "dtypes: object(5)\n",
      "memory usage: 1.3+ KB\n"
     ]
    }
   ],
   "source": [
    "df_temp_ago.info()"
   ]
  },
  {
   "cell_type": "code",
   "execution_count": 111,
   "metadata": {},
   "outputs": [
    {
     "name": "stdout",
     "output_type": "stream",
     "text": [
      "<class 'pandas.core.frame.DataFrame'>\n",
      "RangeIndex: 31 entries, 0 to 30\n",
      "Data columns (total 5 columns):\n",
      " #   Column    Non-Null Count  Dtype         \n",
      "---  ------    --------------  -----         \n",
      " 0   Fecha     31 non-null     datetime64[ns]\n",
      " 1   Magnitud  31 non-null     object        \n",
      " 2   Zona      31 non-null     object        \n",
      " 3   Estación  31 non-null     object        \n",
      " 4   Valor     31 non-null     object        \n",
      "dtypes: datetime64[ns](1), object(4)\n",
      "memory usage: 1.3+ KB\n"
     ]
    }
   ],
   "source": [
    "df_temp_ago['Fecha'] = pd.to_datetime(df_temp_ago['Fecha'])\n",
    "df_temp_ago.info()"
   ]
  },
  {
   "cell_type": "code",
   "execution_count": 112,
   "metadata": {},
   "outputs": [
    {
     "data": {
      "text/html": [
       "<div>\n",
       "<style scoped>\n",
       "    .dataframe tbody tr th:only-of-type {\n",
       "        vertical-align: middle;\n",
       "    }\n",
       "\n",
       "    .dataframe tbody tr th {\n",
       "        vertical-align: top;\n",
       "    }\n",
       "\n",
       "    .dataframe thead th {\n",
       "        text-align: right;\n",
       "    }\n",
       "</style>\n",
       "<table border=\"1\" class=\"dataframe\">\n",
       "  <thead>\n",
       "    <tr style=\"text-align: right;\">\n",
       "      <th></th>\n",
       "      <th>Fecha</th>\n",
       "      <th>Magnitud</th>\n",
       "      <th>Zona</th>\n",
       "      <th>Estación</th>\n",
       "      <th>Valor</th>\n",
       "    </tr>\n",
       "  </thead>\n",
       "  <tbody>\n",
       "    <tr>\n",
       "      <th>0</th>\n",
       "      <td>2023-08-01</td>\n",
       "      <td>Temperatura media</td>\n",
       "      <td>Noroeste</td>\n",
       "      <td>Casa de Campo</td>\n",
       "      <td>29.5</td>\n",
       "    </tr>\n",
       "    <tr>\n",
       "      <th>1</th>\n",
       "      <td>2023-08-02</td>\n",
       "      <td>Temperatura media</td>\n",
       "      <td>Noroeste</td>\n",
       "      <td>Casa de Campo</td>\n",
       "      <td>28.4</td>\n",
       "    </tr>\n",
       "    <tr>\n",
       "      <th>2</th>\n",
       "      <td>2023-08-03</td>\n",
       "      <td>Temperatura media</td>\n",
       "      <td>Noroeste</td>\n",
       "      <td>Casa de Campo</td>\n",
       "      <td>26.0</td>\n",
       "    </tr>\n",
       "    <tr>\n",
       "      <th>3</th>\n",
       "      <td>2023-08-04</td>\n",
       "      <td>Temperatura media</td>\n",
       "      <td>Noroeste</td>\n",
       "      <td>Casa de Campo</td>\n",
       "      <td>26.0</td>\n",
       "    </tr>\n",
       "    <tr>\n",
       "      <th>4</th>\n",
       "      <td>2023-08-05</td>\n",
       "      <td>Temperatura media</td>\n",
       "      <td>Noroeste</td>\n",
       "      <td>Casa de Campo</td>\n",
       "      <td>24.2</td>\n",
       "    </tr>\n",
       "  </tbody>\n",
       "</table>\n",
       "</div>"
      ],
      "text/plain": [
       "       Fecha           Magnitud      Zona       Estación Valor\n",
       "0 2023-08-01  Temperatura media  Noroeste  Casa de Campo  29.5\n",
       "1 2023-08-02  Temperatura media  Noroeste  Casa de Campo  28.4\n",
       "2 2023-08-03  Temperatura media  Noroeste  Casa de Campo  26.0\n",
       "3 2023-08-04  Temperatura media  Noroeste  Casa de Campo  26.0\n",
       "4 2023-08-05  Temperatura media  Noroeste  Casa de Campo  24.2"
      ]
     },
     "execution_count": 112,
     "metadata": {},
     "output_type": "execute_result"
    }
   ],
   "source": [
    "df_temp_ago['Valor'] = df_temp_ago['Valor'].str.replace(',', '.') #Reemplazar comas por puntos\n",
    "df_temp_ago['Valor'] = df_temp_ago['Valor'].str.replace(r'[^\\d\\.]', '', regex=True) #Eliminar caracteres no numéricos, exepto el punto \n",
    "df_temp_ago.head()"
   ]
  },
  {
   "cell_type": "code",
   "execution_count": 113,
   "metadata": {},
   "outputs": [],
   "source": [
    "df_temp_ago['Valor'] = pd.to_numeric(df_temp_ago['Valor'], errors='coerce')"
   ]
  },
  {
   "cell_type": "code",
   "execution_count": 114,
   "metadata": {},
   "outputs": [
    {
     "name": "stdout",
     "output_type": "stream",
     "text": [
      "<class 'pandas.core.frame.DataFrame'>\n",
      "RangeIndex: 31 entries, 0 to 30\n",
      "Data columns (total 5 columns):\n",
      " #   Column    Non-Null Count  Dtype         \n",
      "---  ------    --------------  -----         \n",
      " 0   Fecha     31 non-null     datetime64[ns]\n",
      " 1   Magnitud  31 non-null     object        \n",
      " 2   Zona      31 non-null     object        \n",
      " 3   Estación  31 non-null     object        \n",
      " 4   Valor     31 non-null     float64       \n",
      "dtypes: datetime64[ns](1), float64(1), object(3)\n",
      "memory usage: 1.3+ KB\n"
     ]
    }
   ],
   "source": [
    "df_temp_ago.info()"
   ]
  },
  {
   "cell_type": "code",
   "execution_count": 115,
   "metadata": {},
   "outputs": [
    {
     "data": {
      "text/html": [
       "<div>\n",
       "<style scoped>\n",
       "    .dataframe tbody tr th:only-of-type {\n",
       "        vertical-align: middle;\n",
       "    }\n",
       "\n",
       "    .dataframe tbody tr th {\n",
       "        vertical-align: top;\n",
       "    }\n",
       "\n",
       "    .dataframe thead th {\n",
       "        text-align: right;\n",
       "    }\n",
       "</style>\n",
       "<table border=\"1\" class=\"dataframe\">\n",
       "  <thead>\n",
       "    <tr style=\"text-align: right;\">\n",
       "      <th></th>\n",
       "      <th>Fecha</th>\n",
       "      <th>Magnitud</th>\n",
       "      <th>Zona</th>\n",
       "      <th>Estación</th>\n",
       "      <th>Valor</th>\n",
       "    </tr>\n",
       "  </thead>\n",
       "  <tbody>\n",
       "    <tr>\n",
       "      <th>0</th>\n",
       "      <td>2023-09-01</td>\n",
       "      <td>Temperatura media</td>\n",
       "      <td>Noroeste</td>\n",
       "      <td>Casa de Campo</td>\n",
       "      <td>23,6</td>\n",
       "    </tr>\n",
       "    <tr>\n",
       "      <th>1</th>\n",
       "      <td>2023-09-02</td>\n",
       "      <td>Temperatura media</td>\n",
       "      <td>Noroeste</td>\n",
       "      <td>Casa de Campo</td>\n",
       "      <td>18,3</td>\n",
       "    </tr>\n",
       "    <tr>\n",
       "      <th>2</th>\n",
       "      <td>2023-09-03</td>\n",
       "      <td>Temperatura media</td>\n",
       "      <td>Noroeste</td>\n",
       "      <td>Casa de Campo</td>\n",
       "      <td>17,3</td>\n",
       "    </tr>\n",
       "    <tr>\n",
       "      <th>3</th>\n",
       "      <td>2023-09-04</td>\n",
       "      <td>Temperatura media</td>\n",
       "      <td>Noroeste</td>\n",
       "      <td>Casa de Campo</td>\n",
       "      <td>19,2</td>\n",
       "    </tr>\n",
       "    <tr>\n",
       "      <th>4</th>\n",
       "      <td>2023-09-05</td>\n",
       "      <td>Temperatura media</td>\n",
       "      <td>Noroeste</td>\n",
       "      <td>Casa de Campo</td>\n",
       "      <td>21,9</td>\n",
       "    </tr>\n",
       "  </tbody>\n",
       "</table>\n",
       "</div>"
      ],
      "text/plain": [
       "        Fecha           Magnitud      Zona       Estación Valor\n",
       "0  2023-09-01  Temperatura media  Noroeste  Casa de Campo  23,6\n",
       "1  2023-09-02  Temperatura media  Noroeste  Casa de Campo  18,3\n",
       "2  2023-09-03  Temperatura media  Noroeste  Casa de Campo  17,3\n",
       "3  2023-09-04  Temperatura media  Noroeste  Casa de Campo  19,2\n",
       "4  2023-09-05  Temperatura media  Noroeste  Casa de Campo  21,9"
      ]
     },
     "execution_count": 115,
     "metadata": {},
     "output_type": "execute_result"
    }
   ],
   "source": [
    "df_temp_sep =pd.read_csv('C:/Users/rfg2m/Documents/DATA_SCIENCE/Entregas/Proyectos/MACHINE LEARNING/Data/raw/Data_23/temp_sep_23.csv',sep=';', encoding='utf-8')\n",
    "df_temp_sep.head()"
   ]
  },
  {
   "cell_type": "code",
   "execution_count": 116,
   "metadata": {},
   "outputs": [
    {
     "name": "stdout",
     "output_type": "stream",
     "text": [
      "<class 'pandas.core.frame.DataFrame'>\n",
      "RangeIndex: 30 entries, 0 to 29\n",
      "Data columns (total 5 columns):\n",
      " #   Column    Non-Null Count  Dtype \n",
      "---  ------    --------------  ----- \n",
      " 0   Fecha     30 non-null     object\n",
      " 1   Magnitud  30 non-null     object\n",
      " 2   Zona      30 non-null     object\n",
      " 3   Estación  30 non-null     object\n",
      " 4   Valor     30 non-null     object\n",
      "dtypes: object(5)\n",
      "memory usage: 1.3+ KB\n"
     ]
    }
   ],
   "source": [
    "df_temp_sep.info()"
   ]
  },
  {
   "cell_type": "code",
   "execution_count": 117,
   "metadata": {},
   "outputs": [
    {
     "name": "stdout",
     "output_type": "stream",
     "text": [
      "<class 'pandas.core.frame.DataFrame'>\n",
      "RangeIndex: 30 entries, 0 to 29\n",
      "Data columns (total 5 columns):\n",
      " #   Column    Non-Null Count  Dtype         \n",
      "---  ------    --------------  -----         \n",
      " 0   Fecha     30 non-null     datetime64[ns]\n",
      " 1   Magnitud  30 non-null     object        \n",
      " 2   Zona      30 non-null     object        \n",
      " 3   Estación  30 non-null     object        \n",
      " 4   Valor     30 non-null     object        \n",
      "dtypes: datetime64[ns](1), object(4)\n",
      "memory usage: 1.3+ KB\n"
     ]
    }
   ],
   "source": [
    "df_temp_sep[\"Fecha\"] = pd.to_datetime(df_temp_sep[\"Fecha\"])\n",
    "df_temp_sep.info()"
   ]
  },
  {
   "cell_type": "code",
   "execution_count": 118,
   "metadata": {},
   "outputs": [
    {
     "data": {
      "text/html": [
       "<div>\n",
       "<style scoped>\n",
       "    .dataframe tbody tr th:only-of-type {\n",
       "        vertical-align: middle;\n",
       "    }\n",
       "\n",
       "    .dataframe tbody tr th {\n",
       "        vertical-align: top;\n",
       "    }\n",
       "\n",
       "    .dataframe thead th {\n",
       "        text-align: right;\n",
       "    }\n",
       "</style>\n",
       "<table border=\"1\" class=\"dataframe\">\n",
       "  <thead>\n",
       "    <tr style=\"text-align: right;\">\n",
       "      <th></th>\n",
       "      <th>Fecha</th>\n",
       "      <th>Magnitud</th>\n",
       "      <th>Zona</th>\n",
       "      <th>Estación</th>\n",
       "      <th>Valor</th>\n",
       "    </tr>\n",
       "  </thead>\n",
       "  <tbody>\n",
       "    <tr>\n",
       "      <th>0</th>\n",
       "      <td>2023-09-01</td>\n",
       "      <td>Temperatura media</td>\n",
       "      <td>Noroeste</td>\n",
       "      <td>Casa de Campo</td>\n",
       "      <td>23.6</td>\n",
       "    </tr>\n",
       "    <tr>\n",
       "      <th>1</th>\n",
       "      <td>2023-09-02</td>\n",
       "      <td>Temperatura media</td>\n",
       "      <td>Noroeste</td>\n",
       "      <td>Casa de Campo</td>\n",
       "      <td>18.3</td>\n",
       "    </tr>\n",
       "    <tr>\n",
       "      <th>2</th>\n",
       "      <td>2023-09-03</td>\n",
       "      <td>Temperatura media</td>\n",
       "      <td>Noroeste</td>\n",
       "      <td>Casa de Campo</td>\n",
       "      <td>17.3</td>\n",
       "    </tr>\n",
       "    <tr>\n",
       "      <th>3</th>\n",
       "      <td>2023-09-04</td>\n",
       "      <td>Temperatura media</td>\n",
       "      <td>Noroeste</td>\n",
       "      <td>Casa de Campo</td>\n",
       "      <td>19.2</td>\n",
       "    </tr>\n",
       "    <tr>\n",
       "      <th>4</th>\n",
       "      <td>2023-09-05</td>\n",
       "      <td>Temperatura media</td>\n",
       "      <td>Noroeste</td>\n",
       "      <td>Casa de Campo</td>\n",
       "      <td>21.9</td>\n",
       "    </tr>\n",
       "  </tbody>\n",
       "</table>\n",
       "</div>"
      ],
      "text/plain": [
       "       Fecha           Magnitud      Zona       Estación Valor\n",
       "0 2023-09-01  Temperatura media  Noroeste  Casa de Campo  23.6\n",
       "1 2023-09-02  Temperatura media  Noroeste  Casa de Campo  18.3\n",
       "2 2023-09-03  Temperatura media  Noroeste  Casa de Campo  17.3\n",
       "3 2023-09-04  Temperatura media  Noroeste  Casa de Campo  19.2\n",
       "4 2023-09-05  Temperatura media  Noroeste  Casa de Campo  21.9"
      ]
     },
     "execution_count": 118,
     "metadata": {},
     "output_type": "execute_result"
    }
   ],
   "source": [
    "df_temp_sep['Valor'] = df_temp_sep['Valor'].str.replace(',', '.') #Reemplazar comas por puntos\n",
    "df_temp_sep['Valor'] = df_temp_sep['Valor'].str.replace(r'[^\\d\\.]', '', regex=True) #Eliminar caracteres no numéricos, exepto el punto \n",
    "df_temp_sep.head()"
   ]
  },
  {
   "cell_type": "code",
   "execution_count": 119,
   "metadata": {},
   "outputs": [],
   "source": [
    "df_temp_sep['Valor'] = pd.to_numeric(df_temp_sep['Valor'], errors='coerce')"
   ]
  },
  {
   "cell_type": "code",
   "execution_count": 120,
   "metadata": {},
   "outputs": [
    {
     "name": "stdout",
     "output_type": "stream",
     "text": [
      "<class 'pandas.core.frame.DataFrame'>\n",
      "RangeIndex: 30 entries, 0 to 29\n",
      "Data columns (total 5 columns):\n",
      " #   Column    Non-Null Count  Dtype         \n",
      "---  ------    --------------  -----         \n",
      " 0   Fecha     30 non-null     datetime64[ns]\n",
      " 1   Magnitud  30 non-null     object        \n",
      " 2   Zona      30 non-null     object        \n",
      " 3   Estación  30 non-null     object        \n",
      " 4   Valor     30 non-null     float64       \n",
      "dtypes: datetime64[ns](1), float64(1), object(3)\n",
      "memory usage: 1.3+ KB\n"
     ]
    }
   ],
   "source": [
    "df_temp_sep.info()"
   ]
  },
  {
   "cell_type": "code",
   "execution_count": 121,
   "metadata": {},
   "outputs": [
    {
     "data": {
      "text/html": [
       "<div>\n",
       "<style scoped>\n",
       "    .dataframe tbody tr th:only-of-type {\n",
       "        vertical-align: middle;\n",
       "    }\n",
       "\n",
       "    .dataframe tbody tr th {\n",
       "        vertical-align: top;\n",
       "    }\n",
       "\n",
       "    .dataframe thead th {\n",
       "        text-align: right;\n",
       "    }\n",
       "</style>\n",
       "<table border=\"1\" class=\"dataframe\">\n",
       "  <thead>\n",
       "    <tr style=\"text-align: right;\">\n",
       "      <th></th>\n",
       "      <th>Fecha</th>\n",
       "      <th>Magnitud</th>\n",
       "      <th>Zona</th>\n",
       "      <th>Estación</th>\n",
       "      <th>Valor</th>\n",
       "    </tr>\n",
       "  </thead>\n",
       "  <tbody>\n",
       "    <tr>\n",
       "      <th>0</th>\n",
       "      <td>2023-10-01</td>\n",
       "      <td>Temperatura media</td>\n",
       "      <td>Noroeste</td>\n",
       "      <td>Casa de Campo</td>\n",
       "      <td>22,6</td>\n",
       "    </tr>\n",
       "    <tr>\n",
       "      <th>1</th>\n",
       "      <td>2023-10-02</td>\n",
       "      <td>Temperatura media</td>\n",
       "      <td>Noroeste</td>\n",
       "      <td>Casa de Campo</td>\n",
       "      <td>21,8</td>\n",
       "    </tr>\n",
       "    <tr>\n",
       "      <th>2</th>\n",
       "      <td>2023-10-03</td>\n",
       "      <td>Temperatura media</td>\n",
       "      <td>Noroeste</td>\n",
       "      <td>Casa de Campo</td>\n",
       "      <td>21,2</td>\n",
       "    </tr>\n",
       "    <tr>\n",
       "      <th>3</th>\n",
       "      <td>2023-10-04</td>\n",
       "      <td>Temperatura media</td>\n",
       "      <td>Noroeste</td>\n",
       "      <td>Casa de Campo</td>\n",
       "      <td>21,7</td>\n",
       "    </tr>\n",
       "    <tr>\n",
       "      <th>4</th>\n",
       "      <td>2023-10-05</td>\n",
       "      <td>Temperatura media</td>\n",
       "      <td>Noroeste</td>\n",
       "      <td>Casa de Campo</td>\n",
       "      <td>21,9</td>\n",
       "    </tr>\n",
       "  </tbody>\n",
       "</table>\n",
       "</div>"
      ],
      "text/plain": [
       "        Fecha           Magnitud      Zona       Estación Valor\n",
       "0  2023-10-01  Temperatura media  Noroeste  Casa de Campo  22,6\n",
       "1  2023-10-02  Temperatura media  Noroeste  Casa de Campo  21,8\n",
       "2  2023-10-03  Temperatura media  Noroeste  Casa de Campo  21,2\n",
       "3  2023-10-04  Temperatura media  Noroeste  Casa de Campo  21,7\n",
       "4  2023-10-05  Temperatura media  Noroeste  Casa de Campo  21,9"
      ]
     },
     "execution_count": 121,
     "metadata": {},
     "output_type": "execute_result"
    }
   ],
   "source": [
    "df_temp_oct =pd.read_csv('C:/Users/rfg2m/Documents/DATA_SCIENCE/Entregas/Proyectos/MACHINE LEARNING/Data/raw/Data_23/temp_oct_23.csv',sep=';', encoding='utf-8')\n",
    "df_temp_oct.head()"
   ]
  },
  {
   "cell_type": "code",
   "execution_count": 122,
   "metadata": {},
   "outputs": [
    {
     "name": "stdout",
     "output_type": "stream",
     "text": [
      "<class 'pandas.core.frame.DataFrame'>\n",
      "RangeIndex: 31 entries, 0 to 30\n",
      "Data columns (total 5 columns):\n",
      " #   Column    Non-Null Count  Dtype \n",
      "---  ------    --------------  ----- \n",
      " 0   Fecha     31 non-null     object\n",
      " 1   Magnitud  31 non-null     object\n",
      " 2   Zona      31 non-null     object\n",
      " 3   Estación  31 non-null     object\n",
      " 4   Valor     31 non-null     object\n",
      "dtypes: object(5)\n",
      "memory usage: 1.3+ KB\n"
     ]
    }
   ],
   "source": [
    "df_temp_oct.info()"
   ]
  },
  {
   "cell_type": "code",
   "execution_count": 123,
   "metadata": {},
   "outputs": [
    {
     "name": "stdout",
     "output_type": "stream",
     "text": [
      "<class 'pandas.core.frame.DataFrame'>\n",
      "RangeIndex: 31 entries, 0 to 30\n",
      "Data columns (total 5 columns):\n",
      " #   Column    Non-Null Count  Dtype         \n",
      "---  ------    --------------  -----         \n",
      " 0   Fecha     31 non-null     datetime64[ns]\n",
      " 1   Magnitud  31 non-null     object        \n",
      " 2   Zona      31 non-null     object        \n",
      " 3   Estación  31 non-null     object        \n",
      " 4   Valor     31 non-null     object        \n",
      "dtypes: datetime64[ns](1), object(4)\n",
      "memory usage: 1.3+ KB\n"
     ]
    }
   ],
   "source": [
    "df_temp_oct[\"Fecha\"] = pd.to_datetime(df_temp_oct[\"Fecha\"])\n",
    "df_temp_oct.info()"
   ]
  },
  {
   "cell_type": "code",
   "execution_count": 124,
   "metadata": {},
   "outputs": [
    {
     "data": {
      "text/html": [
       "<div>\n",
       "<style scoped>\n",
       "    .dataframe tbody tr th:only-of-type {\n",
       "        vertical-align: middle;\n",
       "    }\n",
       "\n",
       "    .dataframe tbody tr th {\n",
       "        vertical-align: top;\n",
       "    }\n",
       "\n",
       "    .dataframe thead th {\n",
       "        text-align: right;\n",
       "    }\n",
       "</style>\n",
       "<table border=\"1\" class=\"dataframe\">\n",
       "  <thead>\n",
       "    <tr style=\"text-align: right;\">\n",
       "      <th></th>\n",
       "      <th>Fecha</th>\n",
       "      <th>Magnitud</th>\n",
       "      <th>Zona</th>\n",
       "      <th>Estación</th>\n",
       "      <th>Valor</th>\n",
       "    </tr>\n",
       "  </thead>\n",
       "  <tbody>\n",
       "    <tr>\n",
       "      <th>0</th>\n",
       "      <td>2023-10-01</td>\n",
       "      <td>Temperatura media</td>\n",
       "      <td>Noroeste</td>\n",
       "      <td>Casa de Campo</td>\n",
       "      <td>22.6</td>\n",
       "    </tr>\n",
       "    <tr>\n",
       "      <th>1</th>\n",
       "      <td>2023-10-02</td>\n",
       "      <td>Temperatura media</td>\n",
       "      <td>Noroeste</td>\n",
       "      <td>Casa de Campo</td>\n",
       "      <td>21.8</td>\n",
       "    </tr>\n",
       "    <tr>\n",
       "      <th>2</th>\n",
       "      <td>2023-10-03</td>\n",
       "      <td>Temperatura media</td>\n",
       "      <td>Noroeste</td>\n",
       "      <td>Casa de Campo</td>\n",
       "      <td>21.2</td>\n",
       "    </tr>\n",
       "    <tr>\n",
       "      <th>3</th>\n",
       "      <td>2023-10-04</td>\n",
       "      <td>Temperatura media</td>\n",
       "      <td>Noroeste</td>\n",
       "      <td>Casa de Campo</td>\n",
       "      <td>21.7</td>\n",
       "    </tr>\n",
       "    <tr>\n",
       "      <th>4</th>\n",
       "      <td>2023-10-05</td>\n",
       "      <td>Temperatura media</td>\n",
       "      <td>Noroeste</td>\n",
       "      <td>Casa de Campo</td>\n",
       "      <td>21.9</td>\n",
       "    </tr>\n",
       "  </tbody>\n",
       "</table>\n",
       "</div>"
      ],
      "text/plain": [
       "       Fecha           Magnitud      Zona       Estación Valor\n",
       "0 2023-10-01  Temperatura media  Noroeste  Casa de Campo  22.6\n",
       "1 2023-10-02  Temperatura media  Noroeste  Casa de Campo  21.8\n",
       "2 2023-10-03  Temperatura media  Noroeste  Casa de Campo  21.2\n",
       "3 2023-10-04  Temperatura media  Noroeste  Casa de Campo  21.7\n",
       "4 2023-10-05  Temperatura media  Noroeste  Casa de Campo  21.9"
      ]
     },
     "execution_count": 124,
     "metadata": {},
     "output_type": "execute_result"
    }
   ],
   "source": [
    "df_temp_oct['Valor'] = df_temp_oct['Valor'].str.replace(',', '.') #Reemplazar comas por puntos\n",
    "df_temp_oct['Valor'] = df_temp_oct['Valor'].str.replace(r'[^\\d\\.]', '', regex=True) #Eliminar caracteres no numéricos, exepto el punto \n",
    "df_temp_oct.head()"
   ]
  },
  {
   "cell_type": "code",
   "execution_count": 125,
   "metadata": {},
   "outputs": [],
   "source": [
    "df_temp_oct['Valor'] = pd.to_numeric(df_temp_oct['Valor'], errors='coerce')"
   ]
  },
  {
   "cell_type": "code",
   "execution_count": 126,
   "metadata": {},
   "outputs": [
    {
     "name": "stdout",
     "output_type": "stream",
     "text": [
      "<class 'pandas.core.frame.DataFrame'>\n",
      "RangeIndex: 31 entries, 0 to 30\n",
      "Data columns (total 5 columns):\n",
      " #   Column    Non-Null Count  Dtype         \n",
      "---  ------    --------------  -----         \n",
      " 0   Fecha     31 non-null     datetime64[ns]\n",
      " 1   Magnitud  31 non-null     object        \n",
      " 2   Zona      31 non-null     object        \n",
      " 3   Estación  31 non-null     object        \n",
      " 4   Valor     31 non-null     float64       \n",
      "dtypes: datetime64[ns](1), float64(1), object(3)\n",
      "memory usage: 1.3+ KB\n"
     ]
    }
   ],
   "source": [
    "df_temp_oct.info()"
   ]
  },
  {
   "cell_type": "code",
   "execution_count": 127,
   "metadata": {},
   "outputs": [
    {
     "data": {
      "text/html": [
       "<div>\n",
       "<style scoped>\n",
       "    .dataframe tbody tr th:only-of-type {\n",
       "        vertical-align: middle;\n",
       "    }\n",
       "\n",
       "    .dataframe tbody tr th {\n",
       "        vertical-align: top;\n",
       "    }\n",
       "\n",
       "    .dataframe thead th {\n",
       "        text-align: right;\n",
       "    }\n",
       "</style>\n",
       "<table border=\"1\" class=\"dataframe\">\n",
       "  <thead>\n",
       "    <tr style=\"text-align: right;\">\n",
       "      <th></th>\n",
       "      <th>Fecha</th>\n",
       "      <th>Magnitud</th>\n",
       "      <th>Zona</th>\n",
       "      <th>Estación</th>\n",
       "      <th>Valor</th>\n",
       "    </tr>\n",
       "  </thead>\n",
       "  <tbody>\n",
       "    <tr>\n",
       "      <th>0</th>\n",
       "      <td>2023-11-01</td>\n",
       "      <td>Temperatura media</td>\n",
       "      <td>Noroeste</td>\n",
       "      <td>Casa de Campo</td>\n",
       "      <td>11,1</td>\n",
       "    </tr>\n",
       "    <tr>\n",
       "      <th>1</th>\n",
       "      <td>2023-11-02</td>\n",
       "      <td>Temperatura media</td>\n",
       "      <td>Noroeste</td>\n",
       "      <td>Casa de Campo</td>\n",
       "      <td>11,8</td>\n",
       "    </tr>\n",
       "    <tr>\n",
       "      <th>2</th>\n",
       "      <td>2023-11-03</td>\n",
       "      <td>Temperatura media</td>\n",
       "      <td>Noroeste</td>\n",
       "      <td>Casa de Campo</td>\n",
       "      <td>9,2</td>\n",
       "    </tr>\n",
       "    <tr>\n",
       "      <th>3</th>\n",
       "      <td>2023-11-04</td>\n",
       "      <td>Temperatura media</td>\n",
       "      <td>Noroeste</td>\n",
       "      <td>Casa de Campo</td>\n",
       "      <td>11,1</td>\n",
       "    </tr>\n",
       "    <tr>\n",
       "      <th>4</th>\n",
       "      <td>2023-11-05</td>\n",
       "      <td>Temperatura media</td>\n",
       "      <td>Noroeste</td>\n",
       "      <td>Casa de Campo</td>\n",
       "      <td>10,1</td>\n",
       "    </tr>\n",
       "  </tbody>\n",
       "</table>\n",
       "</div>"
      ],
      "text/plain": [
       "        Fecha           Magnitud      Zona       Estación Valor\n",
       "0  2023-11-01  Temperatura media  Noroeste  Casa de Campo  11,1\n",
       "1  2023-11-02  Temperatura media  Noroeste  Casa de Campo  11,8\n",
       "2  2023-11-03  Temperatura media  Noroeste  Casa de Campo   9,2\n",
       "3  2023-11-04  Temperatura media  Noroeste  Casa de Campo  11,1\n",
       "4  2023-11-05  Temperatura media  Noroeste  Casa de Campo  10,1"
      ]
     },
     "execution_count": 127,
     "metadata": {},
     "output_type": "execute_result"
    }
   ],
   "source": [
    "df_temp_nov =pd.read_csv('C:/Users/rfg2m/Documents/DATA_SCIENCE/Entregas/Proyectos/MACHINE LEARNING/Data/raw/Data_23/temp_nov_23.csv',sep=';', encoding='utf-8')\n",
    "df_temp_nov.head()"
   ]
  },
  {
   "cell_type": "code",
   "execution_count": 128,
   "metadata": {},
   "outputs": [
    {
     "name": "stdout",
     "output_type": "stream",
     "text": [
      "<class 'pandas.core.frame.DataFrame'>\n",
      "RangeIndex: 30 entries, 0 to 29\n",
      "Data columns (total 5 columns):\n",
      " #   Column    Non-Null Count  Dtype \n",
      "---  ------    --------------  ----- \n",
      " 0   Fecha     30 non-null     object\n",
      " 1   Magnitud  30 non-null     object\n",
      " 2   Zona      30 non-null     object\n",
      " 3   Estación  30 non-null     object\n",
      " 4   Valor     28 non-null     object\n",
      "dtypes: object(5)\n",
      "memory usage: 1.3+ KB\n"
     ]
    }
   ],
   "source": [
    "df_temp_nov.info()"
   ]
  },
  {
   "cell_type": "code",
   "execution_count": 129,
   "metadata": {},
   "outputs": [
    {
     "name": "stdout",
     "output_type": "stream",
     "text": [
      "<class 'pandas.core.frame.DataFrame'>\n",
      "RangeIndex: 30 entries, 0 to 29\n",
      "Data columns (total 5 columns):\n",
      " #   Column    Non-Null Count  Dtype         \n",
      "---  ------    --------------  -----         \n",
      " 0   Fecha     30 non-null     datetime64[ns]\n",
      " 1   Magnitud  30 non-null     object        \n",
      " 2   Zona      30 non-null     object        \n",
      " 3   Estación  30 non-null     object        \n",
      " 4   Valor     28 non-null     object        \n",
      "dtypes: datetime64[ns](1), object(4)\n",
      "memory usage: 1.3+ KB\n"
     ]
    }
   ],
   "source": [
    "df_temp_nov[\"Fecha\"] = pd.to_datetime(df_temp_nov[\"Fecha\"])\n",
    "df_temp_nov.info()"
   ]
  },
  {
   "cell_type": "code",
   "execution_count": 130,
   "metadata": {},
   "outputs": [
    {
     "data": {
      "text/html": [
       "<div>\n",
       "<style scoped>\n",
       "    .dataframe tbody tr th:only-of-type {\n",
       "        vertical-align: middle;\n",
       "    }\n",
       "\n",
       "    .dataframe tbody tr th {\n",
       "        vertical-align: top;\n",
       "    }\n",
       "\n",
       "    .dataframe thead th {\n",
       "        text-align: right;\n",
       "    }\n",
       "</style>\n",
       "<table border=\"1\" class=\"dataframe\">\n",
       "  <thead>\n",
       "    <tr style=\"text-align: right;\">\n",
       "      <th></th>\n",
       "      <th>Fecha</th>\n",
       "      <th>Magnitud</th>\n",
       "      <th>Zona</th>\n",
       "      <th>Estación</th>\n",
       "      <th>Valor</th>\n",
       "    </tr>\n",
       "  </thead>\n",
       "  <tbody>\n",
       "    <tr>\n",
       "      <th>0</th>\n",
       "      <td>2023-11-01</td>\n",
       "      <td>Temperatura media</td>\n",
       "      <td>Noroeste</td>\n",
       "      <td>Casa de Campo</td>\n",
       "      <td>11.1</td>\n",
       "    </tr>\n",
       "    <tr>\n",
       "      <th>1</th>\n",
       "      <td>2023-11-02</td>\n",
       "      <td>Temperatura media</td>\n",
       "      <td>Noroeste</td>\n",
       "      <td>Casa de Campo</td>\n",
       "      <td>11.8</td>\n",
       "    </tr>\n",
       "    <tr>\n",
       "      <th>2</th>\n",
       "      <td>2023-11-03</td>\n",
       "      <td>Temperatura media</td>\n",
       "      <td>Noroeste</td>\n",
       "      <td>Casa de Campo</td>\n",
       "      <td>9.2</td>\n",
       "    </tr>\n",
       "    <tr>\n",
       "      <th>3</th>\n",
       "      <td>2023-11-04</td>\n",
       "      <td>Temperatura media</td>\n",
       "      <td>Noroeste</td>\n",
       "      <td>Casa de Campo</td>\n",
       "      <td>11.1</td>\n",
       "    </tr>\n",
       "    <tr>\n",
       "      <th>4</th>\n",
       "      <td>2023-11-05</td>\n",
       "      <td>Temperatura media</td>\n",
       "      <td>Noroeste</td>\n",
       "      <td>Casa de Campo</td>\n",
       "      <td>10.1</td>\n",
       "    </tr>\n",
       "  </tbody>\n",
       "</table>\n",
       "</div>"
      ],
      "text/plain": [
       "       Fecha           Magnitud      Zona       Estación Valor\n",
       "0 2023-11-01  Temperatura media  Noroeste  Casa de Campo  11.1\n",
       "1 2023-11-02  Temperatura media  Noroeste  Casa de Campo  11.8\n",
       "2 2023-11-03  Temperatura media  Noroeste  Casa de Campo   9.2\n",
       "3 2023-11-04  Temperatura media  Noroeste  Casa de Campo  11.1\n",
       "4 2023-11-05  Temperatura media  Noroeste  Casa de Campo  10.1"
      ]
     },
     "execution_count": 130,
     "metadata": {},
     "output_type": "execute_result"
    }
   ],
   "source": [
    "df_temp_nov['Valor'] = df_temp_nov['Valor'].str.replace(',', '.') #Reemplazar comas por puntos\n",
    "df_temp_nov['Valor'] = df_temp_nov['Valor'].str.replace(r'[^\\d\\.]', '', regex=True) #Eliminar caracteres no numéricos, exepto el punto \n",
    "df_temp_nov.head()"
   ]
  },
  {
   "cell_type": "code",
   "execution_count": 131,
   "metadata": {},
   "outputs": [],
   "source": [
    "df_temp_nov['Valor'] = pd.to_numeric(df_temp_nov['Valor'], errors='coerce')"
   ]
  },
  {
   "cell_type": "code",
   "execution_count": 132,
   "metadata": {},
   "outputs": [
    {
     "name": "stdout",
     "output_type": "stream",
     "text": [
      "        Fecha           Magnitud      Zona       Estación  Valor\n",
      "22 2023-11-23  Temperatura media  Noroeste  Casa de Campo    NaN\n",
      "23 2023-11-24  Temperatura media  Noroeste  Casa de Campo    NaN\n"
     ]
    }
   ],
   "source": [
    "df_nulos = df_temp_nov[df_temp_nov.isnull().any(axis=1)]\n",
    "print(df_nulos)"
   ]
  },
  {
   "cell_type": "code",
   "execution_count": 133,
   "metadata": {},
   "outputs": [
    {
     "data": {
      "text/html": [
       "<div>\n",
       "<style scoped>\n",
       "    .dataframe tbody tr th:only-of-type {\n",
       "        vertical-align: middle;\n",
       "    }\n",
       "\n",
       "    .dataframe tbody tr th {\n",
       "        vertical-align: top;\n",
       "    }\n",
       "\n",
       "    .dataframe thead th {\n",
       "        text-align: right;\n",
       "    }\n",
       "</style>\n",
       "<table border=\"1\" class=\"dataframe\">\n",
       "  <thead>\n",
       "    <tr style=\"text-align: right;\">\n",
       "      <th></th>\n",
       "      <th>Fecha</th>\n",
       "      <th>Magnitud</th>\n",
       "      <th>Zona</th>\n",
       "      <th>Estación</th>\n",
       "      <th>Valor</th>\n",
       "    </tr>\n",
       "  </thead>\n",
       "  <tbody>\n",
       "    <tr>\n",
       "      <th>0</th>\n",
       "      <td>2023-11-01</td>\n",
       "      <td>Temperatura media</td>\n",
       "      <td>Noroeste</td>\n",
       "      <td>Casa de Campo</td>\n",
       "      <td>11.1</td>\n",
       "    </tr>\n",
       "    <tr>\n",
       "      <th>1</th>\n",
       "      <td>2023-11-02</td>\n",
       "      <td>Temperatura media</td>\n",
       "      <td>Noroeste</td>\n",
       "      <td>Casa de Campo</td>\n",
       "      <td>11.8</td>\n",
       "    </tr>\n",
       "    <tr>\n",
       "      <th>2</th>\n",
       "      <td>2023-11-03</td>\n",
       "      <td>Temperatura media</td>\n",
       "      <td>Noroeste</td>\n",
       "      <td>Casa de Campo</td>\n",
       "      <td>9.2</td>\n",
       "    </tr>\n",
       "    <tr>\n",
       "      <th>3</th>\n",
       "      <td>2023-11-04</td>\n",
       "      <td>Temperatura media</td>\n",
       "      <td>Noroeste</td>\n",
       "      <td>Casa de Campo</td>\n",
       "      <td>11.1</td>\n",
       "    </tr>\n",
       "    <tr>\n",
       "      <th>4</th>\n",
       "      <td>2023-11-05</td>\n",
       "      <td>Temperatura media</td>\n",
       "      <td>Noroeste</td>\n",
       "      <td>Casa de Campo</td>\n",
       "      <td>10.1</td>\n",
       "    </tr>\n",
       "  </tbody>\n",
       "</table>\n",
       "</div>"
      ],
      "text/plain": [
       "       Fecha           Magnitud      Zona       Estación  Valor\n",
       "0 2023-11-01  Temperatura media  Noroeste  Casa de Campo   11.1\n",
       "1 2023-11-02  Temperatura media  Noroeste  Casa de Campo   11.8\n",
       "2 2023-11-03  Temperatura media  Noroeste  Casa de Campo    9.2\n",
       "3 2023-11-04  Temperatura media  Noroeste  Casa de Campo   11.1\n",
       "4 2023-11-05  Temperatura media  Noroeste  Casa de Campo   10.1"
      ]
     },
     "execution_count": 133,
     "metadata": {},
     "output_type": "execute_result"
    }
   ],
   "source": [
    "df_temp_nov['Valor'] = df_temp_nov['Valor'].fillna(df_temp_nov['Valor'].mean())\n",
    "df_temp_nov.head()"
   ]
  },
  {
   "cell_type": "code",
   "execution_count": 134,
   "metadata": {},
   "outputs": [
    {
     "name": "stdout",
     "output_type": "stream",
     "text": [
      "<class 'pandas.core.frame.DataFrame'>\n",
      "RangeIndex: 30 entries, 0 to 29\n",
      "Data columns (total 5 columns):\n",
      " #   Column    Non-Null Count  Dtype         \n",
      "---  ------    --------------  -----         \n",
      " 0   Fecha     30 non-null     datetime64[ns]\n",
      " 1   Magnitud  30 non-null     object        \n",
      " 2   Zona      30 non-null     object        \n",
      " 3   Estación  30 non-null     object        \n",
      " 4   Valor     30 non-null     float64       \n",
      "dtypes: datetime64[ns](1), float64(1), object(3)\n",
      "memory usage: 1.3+ KB\n"
     ]
    }
   ],
   "source": [
    "df_temp_nov.info()"
   ]
  },
  {
   "cell_type": "code",
   "execution_count": 135,
   "metadata": {},
   "outputs": [
    {
     "data": {
      "text/html": [
       "<div>\n",
       "<style scoped>\n",
       "    .dataframe tbody tr th:only-of-type {\n",
       "        vertical-align: middle;\n",
       "    }\n",
       "\n",
       "    .dataframe tbody tr th {\n",
       "        vertical-align: top;\n",
       "    }\n",
       "\n",
       "    .dataframe thead th {\n",
       "        text-align: right;\n",
       "    }\n",
       "</style>\n",
       "<table border=\"1\" class=\"dataframe\">\n",
       "  <thead>\n",
       "    <tr style=\"text-align: right;\">\n",
       "      <th></th>\n",
       "      <th>Fecha</th>\n",
       "      <th>Magnitud</th>\n",
       "      <th>Zona</th>\n",
       "      <th>Estación</th>\n",
       "      <th>Valor</th>\n",
       "    </tr>\n",
       "  </thead>\n",
       "  <tbody>\n",
       "    <tr>\n",
       "      <th>0</th>\n",
       "      <td>2023-12-01</td>\n",
       "      <td>Temperatura media</td>\n",
       "      <td>Noroeste</td>\n",
       "      <td>Casa de Campo</td>\n",
       "      <td>8,1</td>\n",
       "    </tr>\n",
       "    <tr>\n",
       "      <th>1</th>\n",
       "      <td>2023-12-02</td>\n",
       "      <td>Temperatura media</td>\n",
       "      <td>Noroeste</td>\n",
       "      <td>Casa de Campo</td>\n",
       "      <td>7,5</td>\n",
       "    </tr>\n",
       "    <tr>\n",
       "      <th>2</th>\n",
       "      <td>2023-12-03</td>\n",
       "      <td>Temperatura media</td>\n",
       "      <td>Noroeste</td>\n",
       "      <td>Casa de Campo</td>\n",
       "      <td>3,9</td>\n",
       "    </tr>\n",
       "    <tr>\n",
       "      <th>3</th>\n",
       "      <td>2023-12-04</td>\n",
       "      <td>Temperatura media</td>\n",
       "      <td>Noroeste</td>\n",
       "      <td>Casa de Campo</td>\n",
       "      <td>6,8</td>\n",
       "    </tr>\n",
       "    <tr>\n",
       "      <th>4</th>\n",
       "      <td>2023-12-05</td>\n",
       "      <td>Temperatura media</td>\n",
       "      <td>Noroeste</td>\n",
       "      <td>Casa de Campo</td>\n",
       "      <td>5,9</td>\n",
       "    </tr>\n",
       "  </tbody>\n",
       "</table>\n",
       "</div>"
      ],
      "text/plain": [
       "        Fecha           Magnitud      Zona       Estación Valor\n",
       "0  2023-12-01  Temperatura media  Noroeste  Casa de Campo   8,1\n",
       "1  2023-12-02  Temperatura media  Noroeste  Casa de Campo   7,5\n",
       "2  2023-12-03  Temperatura media  Noroeste  Casa de Campo   3,9\n",
       "3  2023-12-04  Temperatura media  Noroeste  Casa de Campo   6,8\n",
       "4  2023-12-05  Temperatura media  Noroeste  Casa de Campo   5,9"
      ]
     },
     "execution_count": 135,
     "metadata": {},
     "output_type": "execute_result"
    }
   ],
   "source": [
    "df_temp_dic = pd.read_csv('C:/Users/rfg2m/Documents/DATA_SCIENCE/Entregas/Proyectos/MACHINE LEARNING/Data/raw/Data_23/temp_dic_23.csv', sep=';', encoding='utf-8')\n",
    "df_temp_dic.head()"
   ]
  },
  {
   "cell_type": "code",
   "execution_count": 136,
   "metadata": {},
   "outputs": [
    {
     "name": "stdout",
     "output_type": "stream",
     "text": [
      "<class 'pandas.core.frame.DataFrame'>\n",
      "RangeIndex: 31 entries, 0 to 30\n",
      "Data columns (total 5 columns):\n",
      " #   Column    Non-Null Count  Dtype \n",
      "---  ------    --------------  ----- \n",
      " 0   Fecha     31 non-null     object\n",
      " 1   Magnitud  31 non-null     object\n",
      " 2   Zona      31 non-null     object\n",
      " 3   Estación  31 non-null     object\n",
      " 4   Valor     31 non-null     object\n",
      "dtypes: object(5)\n",
      "memory usage: 1.3+ KB\n"
     ]
    }
   ],
   "source": [
    "df_temp_dic.info()"
   ]
  },
  {
   "cell_type": "code",
   "execution_count": 137,
   "metadata": {},
   "outputs": [
    {
     "name": "stdout",
     "output_type": "stream",
     "text": [
      "<class 'pandas.core.frame.DataFrame'>\n",
      "RangeIndex: 31 entries, 0 to 30\n",
      "Data columns (total 5 columns):\n",
      " #   Column    Non-Null Count  Dtype         \n",
      "---  ------    --------------  -----         \n",
      " 0   Fecha     31 non-null     datetime64[ns]\n",
      " 1   Magnitud  31 non-null     object        \n",
      " 2   Zona      31 non-null     object        \n",
      " 3   Estación  31 non-null     object        \n",
      " 4   Valor     31 non-null     object        \n",
      "dtypes: datetime64[ns](1), object(4)\n",
      "memory usage: 1.3+ KB\n"
     ]
    }
   ],
   "source": [
    "df_temp_dic[\"Fecha\"] = pd.to_datetime(df_temp_dic[\"Fecha\"])\n",
    "df_temp_dic.info()"
   ]
  },
  {
   "cell_type": "code",
   "execution_count": 138,
   "metadata": {},
   "outputs": [
    {
     "data": {
      "text/html": [
       "<div>\n",
       "<style scoped>\n",
       "    .dataframe tbody tr th:only-of-type {\n",
       "        vertical-align: middle;\n",
       "    }\n",
       "\n",
       "    .dataframe tbody tr th {\n",
       "        vertical-align: top;\n",
       "    }\n",
       "\n",
       "    .dataframe thead th {\n",
       "        text-align: right;\n",
       "    }\n",
       "</style>\n",
       "<table border=\"1\" class=\"dataframe\">\n",
       "  <thead>\n",
       "    <tr style=\"text-align: right;\">\n",
       "      <th></th>\n",
       "      <th>Fecha</th>\n",
       "      <th>Magnitud</th>\n",
       "      <th>Zona</th>\n",
       "      <th>Estación</th>\n",
       "      <th>Valor</th>\n",
       "    </tr>\n",
       "  </thead>\n",
       "  <tbody>\n",
       "    <tr>\n",
       "      <th>0</th>\n",
       "      <td>2023-12-01</td>\n",
       "      <td>Temperatura media</td>\n",
       "      <td>Noroeste</td>\n",
       "      <td>Casa de Campo</td>\n",
       "      <td>8.1</td>\n",
       "    </tr>\n",
       "    <tr>\n",
       "      <th>1</th>\n",
       "      <td>2023-12-02</td>\n",
       "      <td>Temperatura media</td>\n",
       "      <td>Noroeste</td>\n",
       "      <td>Casa de Campo</td>\n",
       "      <td>7.5</td>\n",
       "    </tr>\n",
       "    <tr>\n",
       "      <th>2</th>\n",
       "      <td>2023-12-03</td>\n",
       "      <td>Temperatura media</td>\n",
       "      <td>Noroeste</td>\n",
       "      <td>Casa de Campo</td>\n",
       "      <td>3.9</td>\n",
       "    </tr>\n",
       "    <tr>\n",
       "      <th>3</th>\n",
       "      <td>2023-12-04</td>\n",
       "      <td>Temperatura media</td>\n",
       "      <td>Noroeste</td>\n",
       "      <td>Casa de Campo</td>\n",
       "      <td>6.8</td>\n",
       "    </tr>\n",
       "    <tr>\n",
       "      <th>4</th>\n",
       "      <td>2023-12-05</td>\n",
       "      <td>Temperatura media</td>\n",
       "      <td>Noroeste</td>\n",
       "      <td>Casa de Campo</td>\n",
       "      <td>5.9</td>\n",
       "    </tr>\n",
       "  </tbody>\n",
       "</table>\n",
       "</div>"
      ],
      "text/plain": [
       "       Fecha           Magnitud      Zona       Estación Valor\n",
       "0 2023-12-01  Temperatura media  Noroeste  Casa de Campo   8.1\n",
       "1 2023-12-02  Temperatura media  Noroeste  Casa de Campo   7.5\n",
       "2 2023-12-03  Temperatura media  Noroeste  Casa de Campo   3.9\n",
       "3 2023-12-04  Temperatura media  Noroeste  Casa de Campo   6.8\n",
       "4 2023-12-05  Temperatura media  Noroeste  Casa de Campo   5.9"
      ]
     },
     "execution_count": 138,
     "metadata": {},
     "output_type": "execute_result"
    }
   ],
   "source": [
    "df_temp_dic['Valor'] = df_temp_dic['Valor'].str.replace(',', '.') #Reemplazar comas por puntos\n",
    "df_temp_dic['Valor'] = df_temp_dic['Valor'].str.replace(r'[^\\d\\.]', '', regex=True) #Eliminar caracteres no numéricos, exepto el punto \n",
    "df_temp_dic.head()"
   ]
  },
  {
   "cell_type": "code",
   "execution_count": 139,
   "metadata": {},
   "outputs": [],
   "source": [
    "df_temp_dic['Valor'] = pd.to_numeric(df_temp_dic['Valor'], errors='coerce')"
   ]
  },
  {
   "cell_type": "code",
   "execution_count": 140,
   "metadata": {},
   "outputs": [
    {
     "name": "stdout",
     "output_type": "stream",
     "text": [
      "<class 'pandas.core.frame.DataFrame'>\n",
      "RangeIndex: 31 entries, 0 to 30\n",
      "Data columns (total 5 columns):\n",
      " #   Column    Non-Null Count  Dtype         \n",
      "---  ------    --------------  -----         \n",
      " 0   Fecha     31 non-null     datetime64[ns]\n",
      " 1   Magnitud  31 non-null     object        \n",
      " 2   Zona      31 non-null     object        \n",
      " 3   Estación  31 non-null     object        \n",
      " 4   Valor     31 non-null     float64       \n",
      "dtypes: datetime64[ns](1), float64(1), object(3)\n",
      "memory usage: 1.3+ KB\n"
     ]
    }
   ],
   "source": [
    "df_temp_dic.info()"
   ]
  },
  {
   "cell_type": "code",
   "execution_count": 141,
   "metadata": {},
   "outputs": [
    {
     "data": {
      "text/html": [
       "<div>\n",
       "<style scoped>\n",
       "    .dataframe tbody tr th:only-of-type {\n",
       "        vertical-align: middle;\n",
       "    }\n",
       "\n",
       "    .dataframe tbody tr th {\n",
       "        vertical-align: top;\n",
       "    }\n",
       "\n",
       "    .dataframe thead th {\n",
       "        text-align: right;\n",
       "    }\n",
       "</style>\n",
       "<table border=\"1\" class=\"dataframe\">\n",
       "  <thead>\n",
       "    <tr style=\"text-align: right;\">\n",
       "      <th></th>\n",
       "      <th>Fecha</th>\n",
       "      <th>Magnitud</th>\n",
       "      <th>Zona</th>\n",
       "      <th>Estación</th>\n",
       "      <th>Valor</th>\n",
       "    </tr>\n",
       "  </thead>\n",
       "  <tbody>\n",
       "    <tr>\n",
       "      <th>0</th>\n",
       "      <td>2023-01-01</td>\n",
       "      <td>Temperatura media</td>\n",
       "      <td>Noroeste</td>\n",
       "      <td>Casa de Campo</td>\n",
       "      <td>9.3</td>\n",
       "    </tr>\n",
       "    <tr>\n",
       "      <th>1</th>\n",
       "      <td>2023-01-02</td>\n",
       "      <td>Temperatura media</td>\n",
       "      <td>Noroeste</td>\n",
       "      <td>Casa de Campo</td>\n",
       "      <td>10.7</td>\n",
       "    </tr>\n",
       "    <tr>\n",
       "      <th>2</th>\n",
       "      <td>2023-01-03</td>\n",
       "      <td>Temperatura media</td>\n",
       "      <td>Noroeste</td>\n",
       "      <td>Casa de Campo</td>\n",
       "      <td>7.2</td>\n",
       "    </tr>\n",
       "    <tr>\n",
       "      <th>3</th>\n",
       "      <td>2023-01-04</td>\n",
       "      <td>Temperatura media</td>\n",
       "      <td>Noroeste</td>\n",
       "      <td>Casa de Campo</td>\n",
       "      <td>5.7</td>\n",
       "    </tr>\n",
       "    <tr>\n",
       "      <th>4</th>\n",
       "      <td>2023-01-05</td>\n",
       "      <td>Temperatura media</td>\n",
       "      <td>Noroeste</td>\n",
       "      <td>Casa de Campo</td>\n",
       "      <td>5.6</td>\n",
       "    </tr>\n",
       "    <tr>\n",
       "      <th>...</th>\n",
       "      <td>...</td>\n",
       "      <td>...</td>\n",
       "      <td>...</td>\n",
       "      <td>...</td>\n",
       "      <td>...</td>\n",
       "    </tr>\n",
       "    <tr>\n",
       "      <th>360</th>\n",
       "      <td>2023-12-27</td>\n",
       "      <td>Temperatura media</td>\n",
       "      <td>Noroeste</td>\n",
       "      <td>Casa de Campo</td>\n",
       "      <td>3.2</td>\n",
       "    </tr>\n",
       "    <tr>\n",
       "      <th>361</th>\n",
       "      <td>2023-12-28</td>\n",
       "      <td>Temperatura media</td>\n",
       "      <td>Noroeste</td>\n",
       "      <td>Casa de Campo</td>\n",
       "      <td>2.6</td>\n",
       "    </tr>\n",
       "    <tr>\n",
       "      <th>362</th>\n",
       "      <td>2023-12-29</td>\n",
       "      <td>Temperatura media</td>\n",
       "      <td>Noroeste</td>\n",
       "      <td>Casa de Campo</td>\n",
       "      <td>4.4</td>\n",
       "    </tr>\n",
       "    <tr>\n",
       "      <th>363</th>\n",
       "      <td>2023-12-30</td>\n",
       "      <td>Temperatura media</td>\n",
       "      <td>Noroeste</td>\n",
       "      <td>Casa de Campo</td>\n",
       "      <td>5.6</td>\n",
       "    </tr>\n",
       "    <tr>\n",
       "      <th>364</th>\n",
       "      <td>2023-12-31</td>\n",
       "      <td>Temperatura media</td>\n",
       "      <td>Noroeste</td>\n",
       "      <td>Casa de Campo</td>\n",
       "      <td>6.7</td>\n",
       "    </tr>\n",
       "  </tbody>\n",
       "</table>\n",
       "<p>365 rows × 5 columns</p>\n",
       "</div>"
      ],
      "text/plain": [
       "         Fecha           Magnitud      Zona       Estación  Valor\n",
       "0   2023-01-01  Temperatura media  Noroeste  Casa de Campo    9.3\n",
       "1   2023-01-02  Temperatura media  Noroeste  Casa de Campo   10.7\n",
       "2   2023-01-03  Temperatura media  Noroeste  Casa de Campo    7.2\n",
       "3   2023-01-04  Temperatura media  Noroeste  Casa de Campo    5.7\n",
       "4   2023-01-05  Temperatura media  Noroeste  Casa de Campo    5.6\n",
       "..         ...                ...       ...            ...    ...\n",
       "360 2023-12-27  Temperatura media  Noroeste  Casa de Campo    3.2\n",
       "361 2023-12-28  Temperatura media  Noroeste  Casa de Campo    2.6\n",
       "362 2023-12-29  Temperatura media  Noroeste  Casa de Campo    4.4\n",
       "363 2023-12-30  Temperatura media  Noroeste  Casa de Campo    5.6\n",
       "364 2023-12-31  Temperatura media  Noroeste  Casa de Campo    6.7\n",
       "\n",
       "[365 rows x 5 columns]"
      ]
     },
     "execution_count": 141,
     "metadata": {},
     "output_type": "execute_result"
    }
   ],
   "source": [
    "df_temp = pd.concat([df_temp_ene, df_temp_feb, df_temp_mar, df_temp_abr, df_temp_may, df_temp_jun, df_temp_jul, df_temp_ago, df_temp_sep, df_temp_oct, df_temp_nov, df_temp_dic ],axis=0, ignore_index=True)\n",
    "df_temp"
   ]
  },
  {
   "cell_type": "code",
   "execution_count": 142,
   "metadata": {},
   "outputs": [
    {
     "name": "stdout",
     "output_type": "stream",
     "text": [
      "<class 'pandas.core.frame.DataFrame'>\n",
      "RangeIndex: 365 entries, 0 to 364\n",
      "Data columns (total 5 columns):\n",
      " #   Column    Non-Null Count  Dtype         \n",
      "---  ------    --------------  -----         \n",
      " 0   Fecha     365 non-null    datetime64[ns]\n",
      " 1   Magnitud  365 non-null    object        \n",
      " 2   Zona      365 non-null    object        \n",
      " 3   Estación  365 non-null    object        \n",
      " 4   Valor     365 non-null    float64       \n",
      "dtypes: datetime64[ns](1), float64(1), object(3)\n",
      "memory usage: 14.4+ KB\n"
     ]
    }
   ],
   "source": [
    "df_temp.info()"
   ]
  },
  {
   "cell_type": "code",
   "execution_count": 143,
   "metadata": {},
   "outputs": [],
   "source": [
    "df_temp.drop(columns=['Magnitud', 'Zona', 'Estación'], inplace=True)"
   ]
  },
  {
   "cell_type": "code",
   "execution_count": 144,
   "metadata": {},
   "outputs": [
    {
     "data": {
      "text/html": [
       "<div>\n",
       "<style scoped>\n",
       "    .dataframe tbody tr th:only-of-type {\n",
       "        vertical-align: middle;\n",
       "    }\n",
       "\n",
       "    .dataframe tbody tr th {\n",
       "        vertical-align: top;\n",
       "    }\n",
       "\n",
       "    .dataframe thead th {\n",
       "        text-align: right;\n",
       "    }\n",
       "</style>\n",
       "<table border=\"1\" class=\"dataframe\">\n",
       "  <thead>\n",
       "    <tr style=\"text-align: right;\">\n",
       "      <th></th>\n",
       "      <th>Fecha</th>\n",
       "      <th>Temperatura_Media</th>\n",
       "    </tr>\n",
       "  </thead>\n",
       "  <tbody>\n",
       "    <tr>\n",
       "      <th>0</th>\n",
       "      <td>2023-01-01</td>\n",
       "      <td>9.3</td>\n",
       "    </tr>\n",
       "    <tr>\n",
       "      <th>1</th>\n",
       "      <td>2023-01-02</td>\n",
       "      <td>10.7</td>\n",
       "    </tr>\n",
       "    <tr>\n",
       "      <th>2</th>\n",
       "      <td>2023-01-03</td>\n",
       "      <td>7.2</td>\n",
       "    </tr>\n",
       "    <tr>\n",
       "      <th>3</th>\n",
       "      <td>2023-01-04</td>\n",
       "      <td>5.7</td>\n",
       "    </tr>\n",
       "    <tr>\n",
       "      <th>4</th>\n",
       "      <td>2023-01-05</td>\n",
       "      <td>5.6</td>\n",
       "    </tr>\n",
       "  </tbody>\n",
       "</table>\n",
       "</div>"
      ],
      "text/plain": [
       "       Fecha  Temperatura_Media\n",
       "0 2023-01-01                9.3\n",
       "1 2023-01-02               10.7\n",
       "2 2023-01-03                7.2\n",
       "3 2023-01-04                5.7\n",
       "4 2023-01-05                5.6"
      ]
     },
     "execution_count": 144,
     "metadata": {},
     "output_type": "execute_result"
    }
   ],
   "source": [
    "df_temp.rename(columns={'Valor': 'Temperatura_Media'}, inplace=True)\n",
    "df_temp.head()"
   ]
  },
  {
   "cell_type": "code",
   "execution_count": 145,
   "metadata": {},
   "outputs": [
    {
     "name": "stdout",
     "output_type": "stream",
     "text": [
      "<class 'pandas.core.frame.DataFrame'>\n",
      "RangeIndex: 365 entries, 0 to 364\n",
      "Data columns (total 2 columns):\n",
      " #   Column             Non-Null Count  Dtype         \n",
      "---  ------             --------------  -----         \n",
      " 0   Fecha              365 non-null    datetime64[ns]\n",
      " 1   Temperatura_Media  365 non-null    float64       \n",
      "dtypes: datetime64[ns](1), float64(1)\n",
      "memory usage: 5.8 KB\n"
     ]
    }
   ],
   "source": [
    "df_temp.info()"
   ]
  },
  {
   "cell_type": "markdown",
   "metadata": {},
   "source": [
    "## Datasets de precipitaciones diarias año 2021"
   ]
  },
  {
   "cell_type": "code",
   "execution_count": 146,
   "metadata": {},
   "outputs": [
    {
     "data": {
      "text/html": [
       "<div>\n",
       "<style scoped>\n",
       "    .dataframe tbody tr th:only-of-type {\n",
       "        vertical-align: middle;\n",
       "    }\n",
       "\n",
       "    .dataframe tbody tr th {\n",
       "        vertical-align: top;\n",
       "    }\n",
       "\n",
       "    .dataframe thead th {\n",
       "        text-align: right;\n",
       "    }\n",
       "</style>\n",
       "<table border=\"1\" class=\"dataframe\">\n",
       "  <thead>\n",
       "    <tr style=\"text-align: right;\">\n",
       "      <th></th>\n",
       "      <th>Fecha</th>\n",
       "      <th>Magnitud</th>\n",
       "      <th>Zona</th>\n",
       "      <th>Estación</th>\n",
       "      <th>Valor</th>\n",
       "    </tr>\n",
       "  </thead>\n",
       "  <tbody>\n",
       "    <tr>\n",
       "      <th>0</th>\n",
       "      <td>2023-01-01</td>\n",
       "      <td>Precipitación</td>\n",
       "      <td>Noroeste</td>\n",
       "      <td>Casa de Campo</td>\n",
       "      <td>0,00</td>\n",
       "    </tr>\n",
       "    <tr>\n",
       "      <th>1</th>\n",
       "      <td>2023-01-02</td>\n",
       "      <td>Precipitación</td>\n",
       "      <td>Noroeste</td>\n",
       "      <td>Casa de Campo</td>\n",
       "      <td>0,00</td>\n",
       "    </tr>\n",
       "    <tr>\n",
       "      <th>2</th>\n",
       "      <td>2023-01-03</td>\n",
       "      <td>Precipitación</td>\n",
       "      <td>Noroeste</td>\n",
       "      <td>Casa de Campo</td>\n",
       "      <td>0,00</td>\n",
       "    </tr>\n",
       "    <tr>\n",
       "      <th>3</th>\n",
       "      <td>2023-01-04</td>\n",
       "      <td>Precipitación</td>\n",
       "      <td>Noroeste</td>\n",
       "      <td>Casa de Campo</td>\n",
       "      <td>0,00</td>\n",
       "    </tr>\n",
       "    <tr>\n",
       "      <th>4</th>\n",
       "      <td>2023-01-05</td>\n",
       "      <td>Precipitación</td>\n",
       "      <td>Noroeste</td>\n",
       "      <td>Casa de Campo</td>\n",
       "      <td>0,00</td>\n",
       "    </tr>\n",
       "  </tbody>\n",
       "</table>\n",
       "</div>"
      ],
      "text/plain": [
       "        Fecha       Magnitud      Zona       Estación Valor\n",
       "0  2023-01-01  Precipitación  Noroeste  Casa de Campo  0,00\n",
       "1  2023-01-02  Precipitación  Noroeste  Casa de Campo  0,00\n",
       "2  2023-01-03  Precipitación  Noroeste  Casa de Campo  0,00\n",
       "3  2023-01-04  Precipitación  Noroeste  Casa de Campo  0,00\n",
       "4  2023-01-05  Precipitación  Noroeste  Casa de Campo  0,00"
      ]
     },
     "execution_count": 146,
     "metadata": {},
     "output_type": "execute_result"
    }
   ],
   "source": [
    "df_precp_ene = pd.read_csv('C:/Users/rfg2m/Documents/DATA_SCIENCE/Entregas/Proyectos/MACHINE LEARNING/Data/raw/Data_23/precp_ene_23.csv', sep=';', encoding='utf-8')\n",
    "df_precp_ene.head()"
   ]
  },
  {
   "cell_type": "code",
   "execution_count": 147,
   "metadata": {},
   "outputs": [
    {
     "name": "stdout",
     "output_type": "stream",
     "text": [
      "<class 'pandas.core.frame.DataFrame'>\n",
      "RangeIndex: 31 entries, 0 to 30\n",
      "Data columns (total 5 columns):\n",
      " #   Column    Non-Null Count  Dtype \n",
      "---  ------    --------------  ----- \n",
      " 0   Fecha     31 non-null     object\n",
      " 1   Magnitud  31 non-null     object\n",
      " 2   Zona      31 non-null     object\n",
      " 3   Estación  31 non-null     object\n",
      " 4   Valor     31 non-null     object\n",
      "dtypes: object(5)\n",
      "memory usage: 1.3+ KB\n"
     ]
    }
   ],
   "source": [
    "df_precp_ene.info()"
   ]
  },
  {
   "cell_type": "code",
   "execution_count": 148,
   "metadata": {},
   "outputs": [
    {
     "name": "stdout",
     "output_type": "stream",
     "text": [
      "<class 'pandas.core.frame.DataFrame'>\n",
      "RangeIndex: 31 entries, 0 to 30\n",
      "Data columns (total 5 columns):\n",
      " #   Column    Non-Null Count  Dtype         \n",
      "---  ------    --------------  -----         \n",
      " 0   Fecha     31 non-null     datetime64[ns]\n",
      " 1   Magnitud  31 non-null     object        \n",
      " 2   Zona      31 non-null     object        \n",
      " 3   Estación  31 non-null     object        \n",
      " 4   Valor     31 non-null     object        \n",
      "dtypes: datetime64[ns](1), object(4)\n",
      "memory usage: 1.3+ KB\n"
     ]
    }
   ],
   "source": [
    "df_precp_ene[\"Fecha\"] = pd.to_datetime(df_precp_ene[\"Fecha\"])\n",
    "df_precp_ene.info()"
   ]
  },
  {
   "cell_type": "code",
   "execution_count": 149,
   "metadata": {},
   "outputs": [
    {
     "data": {
      "text/html": [
       "<div>\n",
       "<style scoped>\n",
       "    .dataframe tbody tr th:only-of-type {\n",
       "        vertical-align: middle;\n",
       "    }\n",
       "\n",
       "    .dataframe tbody tr th {\n",
       "        vertical-align: top;\n",
       "    }\n",
       "\n",
       "    .dataframe thead th {\n",
       "        text-align: right;\n",
       "    }\n",
       "</style>\n",
       "<table border=\"1\" class=\"dataframe\">\n",
       "  <thead>\n",
       "    <tr style=\"text-align: right;\">\n",
       "      <th></th>\n",
       "      <th>Fecha</th>\n",
       "      <th>Magnitud</th>\n",
       "      <th>Zona</th>\n",
       "      <th>Estación</th>\n",
       "      <th>Valor</th>\n",
       "    </tr>\n",
       "  </thead>\n",
       "  <tbody>\n",
       "    <tr>\n",
       "      <th>0</th>\n",
       "      <td>2023-01-01</td>\n",
       "      <td>Precipitación</td>\n",
       "      <td>Noroeste</td>\n",
       "      <td>Casa de Campo</td>\n",
       "      <td>0.00</td>\n",
       "    </tr>\n",
       "    <tr>\n",
       "      <th>1</th>\n",
       "      <td>2023-01-02</td>\n",
       "      <td>Precipitación</td>\n",
       "      <td>Noroeste</td>\n",
       "      <td>Casa de Campo</td>\n",
       "      <td>0.00</td>\n",
       "    </tr>\n",
       "    <tr>\n",
       "      <th>2</th>\n",
       "      <td>2023-01-03</td>\n",
       "      <td>Precipitación</td>\n",
       "      <td>Noroeste</td>\n",
       "      <td>Casa de Campo</td>\n",
       "      <td>0.00</td>\n",
       "    </tr>\n",
       "    <tr>\n",
       "      <th>3</th>\n",
       "      <td>2023-01-04</td>\n",
       "      <td>Precipitación</td>\n",
       "      <td>Noroeste</td>\n",
       "      <td>Casa de Campo</td>\n",
       "      <td>0.00</td>\n",
       "    </tr>\n",
       "    <tr>\n",
       "      <th>4</th>\n",
       "      <td>2023-01-05</td>\n",
       "      <td>Precipitación</td>\n",
       "      <td>Noroeste</td>\n",
       "      <td>Casa de Campo</td>\n",
       "      <td>0.00</td>\n",
       "    </tr>\n",
       "  </tbody>\n",
       "</table>\n",
       "</div>"
      ],
      "text/plain": [
       "       Fecha       Magnitud      Zona       Estación Valor\n",
       "0 2023-01-01  Precipitación  Noroeste  Casa de Campo  0.00\n",
       "1 2023-01-02  Precipitación  Noroeste  Casa de Campo  0.00\n",
       "2 2023-01-03  Precipitación  Noroeste  Casa de Campo  0.00\n",
       "3 2023-01-04  Precipitación  Noroeste  Casa de Campo  0.00\n",
       "4 2023-01-05  Precipitación  Noroeste  Casa de Campo  0.00"
      ]
     },
     "execution_count": 149,
     "metadata": {},
     "output_type": "execute_result"
    }
   ],
   "source": [
    "df_precp_ene['Valor'] = df_precp_ene['Valor'].str.replace(',', '.') #Reemplazar comas por puntos\n",
    "df_precp_ene['Valor'] = df_precp_ene['Valor'].str.replace(r'[^\\d\\.]', '', regex=True) #Eliminar caracteres no numéricos, exepto el punto \n",
    "df_precp_ene.head()"
   ]
  },
  {
   "cell_type": "code",
   "execution_count": 150,
   "metadata": {},
   "outputs": [],
   "source": [
    "df_precp_ene['Valor'] = pd.to_numeric(df_precp_ene['Valor'], errors='coerce')"
   ]
  },
  {
   "cell_type": "code",
   "execution_count": 151,
   "metadata": {},
   "outputs": [
    {
     "name": "stdout",
     "output_type": "stream",
     "text": [
      "<class 'pandas.core.frame.DataFrame'>\n",
      "RangeIndex: 31 entries, 0 to 30\n",
      "Data columns (total 5 columns):\n",
      " #   Column    Non-Null Count  Dtype         \n",
      "---  ------    --------------  -----         \n",
      " 0   Fecha     31 non-null     datetime64[ns]\n",
      " 1   Magnitud  31 non-null     object        \n",
      " 2   Zona      31 non-null     object        \n",
      " 3   Estación  31 non-null     object        \n",
      " 4   Valor     31 non-null     float64       \n",
      "dtypes: datetime64[ns](1), float64(1), object(3)\n",
      "memory usage: 1.3+ KB\n"
     ]
    }
   ],
   "source": [
    "df_precp_ene.info()"
   ]
  },
  {
   "cell_type": "code",
   "execution_count": 152,
   "metadata": {},
   "outputs": [
    {
     "data": {
      "text/html": [
       "<div>\n",
       "<style scoped>\n",
       "    .dataframe tbody tr th:only-of-type {\n",
       "        vertical-align: middle;\n",
       "    }\n",
       "\n",
       "    .dataframe tbody tr th {\n",
       "        vertical-align: top;\n",
       "    }\n",
       "\n",
       "    .dataframe thead th {\n",
       "        text-align: right;\n",
       "    }\n",
       "</style>\n",
       "<table border=\"1\" class=\"dataframe\">\n",
       "  <thead>\n",
       "    <tr style=\"text-align: right;\">\n",
       "      <th></th>\n",
       "      <th>Fecha</th>\n",
       "      <th>Magnitud</th>\n",
       "      <th>Zona</th>\n",
       "      <th>Estación</th>\n",
       "      <th>Valor</th>\n",
       "    </tr>\n",
       "  </thead>\n",
       "  <tbody>\n",
       "    <tr>\n",
       "      <th>0</th>\n",
       "      <td>2023-02-01</td>\n",
       "      <td>Precipitación</td>\n",
       "      <td>Noroeste</td>\n",
       "      <td>Casa de Campo</td>\n",
       "      <td>0,00</td>\n",
       "    </tr>\n",
       "    <tr>\n",
       "      <th>1</th>\n",
       "      <td>2023-02-02</td>\n",
       "      <td>Precipitación</td>\n",
       "      <td>Noroeste</td>\n",
       "      <td>Casa de Campo</td>\n",
       "      <td>0,00</td>\n",
       "    </tr>\n",
       "    <tr>\n",
       "      <th>2</th>\n",
       "      <td>2023-02-03</td>\n",
       "      <td>Precipitación</td>\n",
       "      <td>Noroeste</td>\n",
       "      <td>Casa de Campo</td>\n",
       "      <td>0,00</td>\n",
       "    </tr>\n",
       "    <tr>\n",
       "      <th>3</th>\n",
       "      <td>2023-02-04</td>\n",
       "      <td>Precipitación</td>\n",
       "      <td>Noroeste</td>\n",
       "      <td>Casa de Campo</td>\n",
       "      <td>0,00</td>\n",
       "    </tr>\n",
       "    <tr>\n",
       "      <th>4</th>\n",
       "      <td>2023-02-05</td>\n",
       "      <td>Precipitación</td>\n",
       "      <td>Noroeste</td>\n",
       "      <td>Casa de Campo</td>\n",
       "      <td>0,00</td>\n",
       "    </tr>\n",
       "  </tbody>\n",
       "</table>\n",
       "</div>"
      ],
      "text/plain": [
       "        Fecha       Magnitud      Zona       Estación Valor\n",
       "0  2023-02-01  Precipitación  Noroeste  Casa de Campo  0,00\n",
       "1  2023-02-02  Precipitación  Noroeste  Casa de Campo  0,00\n",
       "2  2023-02-03  Precipitación  Noroeste  Casa de Campo  0,00\n",
       "3  2023-02-04  Precipitación  Noroeste  Casa de Campo  0,00\n",
       "4  2023-02-05  Precipitación  Noroeste  Casa de Campo  0,00"
      ]
     },
     "execution_count": 152,
     "metadata": {},
     "output_type": "execute_result"
    }
   ],
   "source": [
    "df_precp_feb = pd.read_csv('C:/Users/rfg2m/Documents/DATA_SCIENCE/Entregas/Proyectos/MACHINE LEARNING/Data/raw/Data_23/precp_feb_23.csv', sep=';', encoding='utf-8')\n",
    "df_precp_feb.head()"
   ]
  },
  {
   "cell_type": "code",
   "execution_count": 153,
   "metadata": {},
   "outputs": [
    {
     "name": "stdout",
     "output_type": "stream",
     "text": [
      "<class 'pandas.core.frame.DataFrame'>\n",
      "RangeIndex: 28 entries, 0 to 27\n",
      "Data columns (total 5 columns):\n",
      " #   Column    Non-Null Count  Dtype \n",
      "---  ------    --------------  ----- \n",
      " 0   Fecha     28 non-null     object\n",
      " 1   Magnitud  28 non-null     object\n",
      " 2   Zona      28 non-null     object\n",
      " 3   Estación  28 non-null     object\n",
      " 4   Valor     28 non-null     object\n",
      "dtypes: object(5)\n",
      "memory usage: 1.2+ KB\n"
     ]
    }
   ],
   "source": [
    "df_precp_feb.info()"
   ]
  },
  {
   "cell_type": "code",
   "execution_count": 154,
   "metadata": {},
   "outputs": [
    {
     "name": "stdout",
     "output_type": "stream",
     "text": [
      "<class 'pandas.core.frame.DataFrame'>\n",
      "RangeIndex: 28 entries, 0 to 27\n",
      "Data columns (total 5 columns):\n",
      " #   Column    Non-Null Count  Dtype         \n",
      "---  ------    --------------  -----         \n",
      " 0   Fecha     28 non-null     datetime64[ns]\n",
      " 1   Magnitud  28 non-null     object        \n",
      " 2   Zona      28 non-null     object        \n",
      " 3   Estación  28 non-null     object        \n",
      " 4   Valor     28 non-null     object        \n",
      "dtypes: datetime64[ns](1), object(4)\n",
      "memory usage: 1.2+ KB\n"
     ]
    }
   ],
   "source": [
    "df_precp_feb[\"Fecha\"] = pd.to_datetime(df_precp_feb[\"Fecha\"])\n",
    "df_precp_feb.info()"
   ]
  },
  {
   "cell_type": "code",
   "execution_count": 155,
   "metadata": {},
   "outputs": [
    {
     "data": {
      "text/html": [
       "<div>\n",
       "<style scoped>\n",
       "    .dataframe tbody tr th:only-of-type {\n",
       "        vertical-align: middle;\n",
       "    }\n",
       "\n",
       "    .dataframe tbody tr th {\n",
       "        vertical-align: top;\n",
       "    }\n",
       "\n",
       "    .dataframe thead th {\n",
       "        text-align: right;\n",
       "    }\n",
       "</style>\n",
       "<table border=\"1\" class=\"dataframe\">\n",
       "  <thead>\n",
       "    <tr style=\"text-align: right;\">\n",
       "      <th></th>\n",
       "      <th>Fecha</th>\n",
       "      <th>Magnitud</th>\n",
       "      <th>Zona</th>\n",
       "      <th>Estación</th>\n",
       "      <th>Valor</th>\n",
       "    </tr>\n",
       "  </thead>\n",
       "  <tbody>\n",
       "    <tr>\n",
       "      <th>0</th>\n",
       "      <td>2023-02-01</td>\n",
       "      <td>Precipitación</td>\n",
       "      <td>Noroeste</td>\n",
       "      <td>Casa de Campo</td>\n",
       "      <td>0.00</td>\n",
       "    </tr>\n",
       "    <tr>\n",
       "      <th>1</th>\n",
       "      <td>2023-02-02</td>\n",
       "      <td>Precipitación</td>\n",
       "      <td>Noroeste</td>\n",
       "      <td>Casa de Campo</td>\n",
       "      <td>0.00</td>\n",
       "    </tr>\n",
       "    <tr>\n",
       "      <th>2</th>\n",
       "      <td>2023-02-03</td>\n",
       "      <td>Precipitación</td>\n",
       "      <td>Noroeste</td>\n",
       "      <td>Casa de Campo</td>\n",
       "      <td>0.00</td>\n",
       "    </tr>\n",
       "    <tr>\n",
       "      <th>3</th>\n",
       "      <td>2023-02-04</td>\n",
       "      <td>Precipitación</td>\n",
       "      <td>Noroeste</td>\n",
       "      <td>Casa de Campo</td>\n",
       "      <td>0.00</td>\n",
       "    </tr>\n",
       "    <tr>\n",
       "      <th>4</th>\n",
       "      <td>2023-02-05</td>\n",
       "      <td>Precipitación</td>\n",
       "      <td>Noroeste</td>\n",
       "      <td>Casa de Campo</td>\n",
       "      <td>0.00</td>\n",
       "    </tr>\n",
       "  </tbody>\n",
       "</table>\n",
       "</div>"
      ],
      "text/plain": [
       "       Fecha       Magnitud      Zona       Estación Valor\n",
       "0 2023-02-01  Precipitación  Noroeste  Casa de Campo  0.00\n",
       "1 2023-02-02  Precipitación  Noroeste  Casa de Campo  0.00\n",
       "2 2023-02-03  Precipitación  Noroeste  Casa de Campo  0.00\n",
       "3 2023-02-04  Precipitación  Noroeste  Casa de Campo  0.00\n",
       "4 2023-02-05  Precipitación  Noroeste  Casa de Campo  0.00"
      ]
     },
     "execution_count": 155,
     "metadata": {},
     "output_type": "execute_result"
    }
   ],
   "source": [
    "df_precp_feb['Valor'] = df_precp_feb['Valor'].str.replace(',', '.') #Reemplazar comas por puntos\n",
    "df_precp_feb['Valor'] = df_precp_feb['Valor'].str.replace(r'[^\\d\\.]', '', regex=True) #Eliminar caracteres no numéricos, exepto el punto \n",
    "df_precp_feb.head()"
   ]
  },
  {
   "cell_type": "code",
   "execution_count": 156,
   "metadata": {},
   "outputs": [],
   "source": [
    "df_precp_feb['Valor'] = pd.to_numeric(df_precp_feb['Valor'], errors='coerce')"
   ]
  },
  {
   "cell_type": "code",
   "execution_count": 157,
   "metadata": {},
   "outputs": [
    {
     "name": "stdout",
     "output_type": "stream",
     "text": [
      "<class 'pandas.core.frame.DataFrame'>\n",
      "RangeIndex: 28 entries, 0 to 27\n",
      "Data columns (total 5 columns):\n",
      " #   Column    Non-Null Count  Dtype         \n",
      "---  ------    --------------  -----         \n",
      " 0   Fecha     28 non-null     datetime64[ns]\n",
      " 1   Magnitud  28 non-null     object        \n",
      " 2   Zona      28 non-null     object        \n",
      " 3   Estación  28 non-null     object        \n",
      " 4   Valor     28 non-null     float64       \n",
      "dtypes: datetime64[ns](1), float64(1), object(3)\n",
      "memory usage: 1.2+ KB\n"
     ]
    }
   ],
   "source": [
    "df_precp_feb.info()"
   ]
  },
  {
   "cell_type": "code",
   "execution_count": 158,
   "metadata": {},
   "outputs": [
    {
     "data": {
      "text/html": [
       "<div>\n",
       "<style scoped>\n",
       "    .dataframe tbody tr th:only-of-type {\n",
       "        vertical-align: middle;\n",
       "    }\n",
       "\n",
       "    .dataframe tbody tr th {\n",
       "        vertical-align: top;\n",
       "    }\n",
       "\n",
       "    .dataframe thead th {\n",
       "        text-align: right;\n",
       "    }\n",
       "</style>\n",
       "<table border=\"1\" class=\"dataframe\">\n",
       "  <thead>\n",
       "    <tr style=\"text-align: right;\">\n",
       "      <th></th>\n",
       "      <th>Fecha</th>\n",
       "      <th>Magnitud</th>\n",
       "      <th>Zona</th>\n",
       "      <th>Estación</th>\n",
       "      <th>Valor</th>\n",
       "    </tr>\n",
       "  </thead>\n",
       "  <tbody>\n",
       "    <tr>\n",
       "      <th>0</th>\n",
       "      <td>2023-03-01</td>\n",
       "      <td>Precipitación</td>\n",
       "      <td>Noroeste</td>\n",
       "      <td>Casa de Campo</td>\n",
       "      <td>0,00</td>\n",
       "    </tr>\n",
       "    <tr>\n",
       "      <th>1</th>\n",
       "      <td>2023-03-02</td>\n",
       "      <td>Precipitación</td>\n",
       "      <td>Noroeste</td>\n",
       "      <td>Casa de Campo</td>\n",
       "      <td>0,00</td>\n",
       "    </tr>\n",
       "    <tr>\n",
       "      <th>2</th>\n",
       "      <td>2023-03-03</td>\n",
       "      <td>Precipitación</td>\n",
       "      <td>Noroeste</td>\n",
       "      <td>Casa de Campo</td>\n",
       "      <td>0,00</td>\n",
       "    </tr>\n",
       "    <tr>\n",
       "      <th>3</th>\n",
       "      <td>2023-03-04</td>\n",
       "      <td>Precipitación</td>\n",
       "      <td>Noroeste</td>\n",
       "      <td>Casa de Campo</td>\n",
       "      <td>0,00</td>\n",
       "    </tr>\n",
       "    <tr>\n",
       "      <th>4</th>\n",
       "      <td>2023-03-05</td>\n",
       "      <td>Precipitación</td>\n",
       "      <td>Noroeste</td>\n",
       "      <td>Casa de Campo</td>\n",
       "      <td>0,13</td>\n",
       "    </tr>\n",
       "  </tbody>\n",
       "</table>\n",
       "</div>"
      ],
      "text/plain": [
       "        Fecha       Magnitud      Zona       Estación Valor\n",
       "0  2023-03-01  Precipitación  Noroeste  Casa de Campo  0,00\n",
       "1  2023-03-02  Precipitación  Noroeste  Casa de Campo  0,00\n",
       "2  2023-03-03  Precipitación  Noroeste  Casa de Campo  0,00\n",
       "3  2023-03-04  Precipitación  Noroeste  Casa de Campo  0,00\n",
       "4  2023-03-05  Precipitación  Noroeste  Casa de Campo  0,13"
      ]
     },
     "execution_count": 158,
     "metadata": {},
     "output_type": "execute_result"
    }
   ],
   "source": [
    "df_precp_mar = pd.read_csv('C:/Users/rfg2m/Documents/DATA_SCIENCE/Entregas/Proyectos/MACHINE LEARNING/Data/raw/Data_23/precp_mar_23.csv', sep=';', encoding='utf-8')\n",
    "df_precp_mar.head()"
   ]
  },
  {
   "cell_type": "code",
   "execution_count": 159,
   "metadata": {},
   "outputs": [
    {
     "name": "stdout",
     "output_type": "stream",
     "text": [
      "<class 'pandas.core.frame.DataFrame'>\n",
      "RangeIndex: 31 entries, 0 to 30\n",
      "Data columns (total 5 columns):\n",
      " #   Column    Non-Null Count  Dtype \n",
      "---  ------    --------------  ----- \n",
      " 0   Fecha     31 non-null     object\n",
      " 1   Magnitud  31 non-null     object\n",
      " 2   Zona      31 non-null     object\n",
      " 3   Estación  31 non-null     object\n",
      " 4   Valor     31 non-null     object\n",
      "dtypes: object(5)\n",
      "memory usage: 1.3+ KB\n"
     ]
    }
   ],
   "source": [
    "df_precp_mar.info()"
   ]
  },
  {
   "cell_type": "code",
   "execution_count": 160,
   "metadata": {},
   "outputs": [
    {
     "name": "stdout",
     "output_type": "stream",
     "text": [
      "<class 'pandas.core.frame.DataFrame'>\n",
      "RangeIndex: 31 entries, 0 to 30\n",
      "Data columns (total 5 columns):\n",
      " #   Column    Non-Null Count  Dtype         \n",
      "---  ------    --------------  -----         \n",
      " 0   Fecha     31 non-null     datetime64[ns]\n",
      " 1   Magnitud  31 non-null     object        \n",
      " 2   Zona      31 non-null     object        \n",
      " 3   Estación  31 non-null     object        \n",
      " 4   Valor     31 non-null     object        \n",
      "dtypes: datetime64[ns](1), object(4)\n",
      "memory usage: 1.3+ KB\n"
     ]
    }
   ],
   "source": [
    "df_precp_mar[\"Fecha\"] = pd.to_datetime(df_precp_mar[\"Fecha\"])\n",
    "df_precp_mar.info()"
   ]
  },
  {
   "cell_type": "code",
   "execution_count": 161,
   "metadata": {},
   "outputs": [
    {
     "data": {
      "text/html": [
       "<div>\n",
       "<style scoped>\n",
       "    .dataframe tbody tr th:only-of-type {\n",
       "        vertical-align: middle;\n",
       "    }\n",
       "\n",
       "    .dataframe tbody tr th {\n",
       "        vertical-align: top;\n",
       "    }\n",
       "\n",
       "    .dataframe thead th {\n",
       "        text-align: right;\n",
       "    }\n",
       "</style>\n",
       "<table border=\"1\" class=\"dataframe\">\n",
       "  <thead>\n",
       "    <tr style=\"text-align: right;\">\n",
       "      <th></th>\n",
       "      <th>Fecha</th>\n",
       "      <th>Magnitud</th>\n",
       "      <th>Zona</th>\n",
       "      <th>Estación</th>\n",
       "      <th>Valor</th>\n",
       "    </tr>\n",
       "  </thead>\n",
       "  <tbody>\n",
       "    <tr>\n",
       "      <th>0</th>\n",
       "      <td>2023-03-01</td>\n",
       "      <td>Precipitación</td>\n",
       "      <td>Noroeste</td>\n",
       "      <td>Casa de Campo</td>\n",
       "      <td>0.00</td>\n",
       "    </tr>\n",
       "    <tr>\n",
       "      <th>1</th>\n",
       "      <td>2023-03-02</td>\n",
       "      <td>Precipitación</td>\n",
       "      <td>Noroeste</td>\n",
       "      <td>Casa de Campo</td>\n",
       "      <td>0.00</td>\n",
       "    </tr>\n",
       "    <tr>\n",
       "      <th>2</th>\n",
       "      <td>2023-03-03</td>\n",
       "      <td>Precipitación</td>\n",
       "      <td>Noroeste</td>\n",
       "      <td>Casa de Campo</td>\n",
       "      <td>0.00</td>\n",
       "    </tr>\n",
       "    <tr>\n",
       "      <th>3</th>\n",
       "      <td>2023-03-04</td>\n",
       "      <td>Precipitación</td>\n",
       "      <td>Noroeste</td>\n",
       "      <td>Casa de Campo</td>\n",
       "      <td>0.00</td>\n",
       "    </tr>\n",
       "    <tr>\n",
       "      <th>4</th>\n",
       "      <td>2023-03-05</td>\n",
       "      <td>Precipitación</td>\n",
       "      <td>Noroeste</td>\n",
       "      <td>Casa de Campo</td>\n",
       "      <td>0.13</td>\n",
       "    </tr>\n",
       "  </tbody>\n",
       "</table>\n",
       "</div>"
      ],
      "text/plain": [
       "       Fecha       Magnitud      Zona       Estación Valor\n",
       "0 2023-03-01  Precipitación  Noroeste  Casa de Campo  0.00\n",
       "1 2023-03-02  Precipitación  Noroeste  Casa de Campo  0.00\n",
       "2 2023-03-03  Precipitación  Noroeste  Casa de Campo  0.00\n",
       "3 2023-03-04  Precipitación  Noroeste  Casa de Campo  0.00\n",
       "4 2023-03-05  Precipitación  Noroeste  Casa de Campo  0.13"
      ]
     },
     "execution_count": 161,
     "metadata": {},
     "output_type": "execute_result"
    }
   ],
   "source": [
    "df_precp_mar['Valor'] = df_precp_mar['Valor'].str.replace(',', '.') #Reemplazar comas por puntos\n",
    "df_precp_mar['Valor'] = df_precp_mar['Valor'].str.replace(r'[^\\d\\.]', '', regex=True) #Eliminar caracteres no numéricos, exepto el punto \n",
    "df_precp_mar.head()"
   ]
  },
  {
   "cell_type": "code",
   "execution_count": 162,
   "metadata": {},
   "outputs": [],
   "source": [
    "df_precp_mar['Valor'] = pd.to_numeric(df_precp_mar['Valor'], errors='coerce')"
   ]
  },
  {
   "cell_type": "code",
   "execution_count": 163,
   "metadata": {},
   "outputs": [
    {
     "name": "stdout",
     "output_type": "stream",
     "text": [
      "<class 'pandas.core.frame.DataFrame'>\n",
      "RangeIndex: 31 entries, 0 to 30\n",
      "Data columns (total 5 columns):\n",
      " #   Column    Non-Null Count  Dtype         \n",
      "---  ------    --------------  -----         \n",
      " 0   Fecha     31 non-null     datetime64[ns]\n",
      " 1   Magnitud  31 non-null     object        \n",
      " 2   Zona      31 non-null     object        \n",
      " 3   Estación  31 non-null     object        \n",
      " 4   Valor     31 non-null     float64       \n",
      "dtypes: datetime64[ns](1), float64(1), object(3)\n",
      "memory usage: 1.3+ KB\n"
     ]
    }
   ],
   "source": [
    "df_precp_mar.info()"
   ]
  },
  {
   "cell_type": "code",
   "execution_count": 164,
   "metadata": {},
   "outputs": [
    {
     "data": {
      "text/html": [
       "<div>\n",
       "<style scoped>\n",
       "    .dataframe tbody tr th:only-of-type {\n",
       "        vertical-align: middle;\n",
       "    }\n",
       "\n",
       "    .dataframe tbody tr th {\n",
       "        vertical-align: top;\n",
       "    }\n",
       "\n",
       "    .dataframe thead th {\n",
       "        text-align: right;\n",
       "    }\n",
       "</style>\n",
       "<table border=\"1\" class=\"dataframe\">\n",
       "  <thead>\n",
       "    <tr style=\"text-align: right;\">\n",
       "      <th></th>\n",
       "      <th>Fecha</th>\n",
       "      <th>Magnitud</th>\n",
       "      <th>Zona</th>\n",
       "      <th>Estación</th>\n",
       "      <th>Valor</th>\n",
       "    </tr>\n",
       "  </thead>\n",
       "  <tbody>\n",
       "    <tr>\n",
       "      <th>0</th>\n",
       "      <td>2023-04-01</td>\n",
       "      <td>Precipitación</td>\n",
       "      <td>Noroeste</td>\n",
       "      <td>Casa de Campo</td>\n",
       "      <td>0,00</td>\n",
       "    </tr>\n",
       "    <tr>\n",
       "      <th>1</th>\n",
       "      <td>2023-04-02</td>\n",
       "      <td>Precipitación</td>\n",
       "      <td>Noroeste</td>\n",
       "      <td>Casa de Campo</td>\n",
       "      <td>0,00</td>\n",
       "    </tr>\n",
       "    <tr>\n",
       "      <th>2</th>\n",
       "      <td>2023-04-03</td>\n",
       "      <td>Precipitación</td>\n",
       "      <td>Noroeste</td>\n",
       "      <td>Casa de Campo</td>\n",
       "      <td>0,00</td>\n",
       "    </tr>\n",
       "    <tr>\n",
       "      <th>3</th>\n",
       "      <td>2023-04-04</td>\n",
       "      <td>Precipitación</td>\n",
       "      <td>Noroeste</td>\n",
       "      <td>Casa de Campo</td>\n",
       "      <td>0,00</td>\n",
       "    </tr>\n",
       "    <tr>\n",
       "      <th>4</th>\n",
       "      <td>2023-04-05</td>\n",
       "      <td>Precipitación</td>\n",
       "      <td>Noroeste</td>\n",
       "      <td>Casa de Campo</td>\n",
       "      <td>0,00</td>\n",
       "    </tr>\n",
       "  </tbody>\n",
       "</table>\n",
       "</div>"
      ],
      "text/plain": [
       "        Fecha       Magnitud      Zona       Estación Valor\n",
       "0  2023-04-01  Precipitación  Noroeste  Casa de Campo  0,00\n",
       "1  2023-04-02  Precipitación  Noroeste  Casa de Campo  0,00\n",
       "2  2023-04-03  Precipitación  Noroeste  Casa de Campo  0,00\n",
       "3  2023-04-04  Precipitación  Noroeste  Casa de Campo  0,00\n",
       "4  2023-04-05  Precipitación  Noroeste  Casa de Campo  0,00"
      ]
     },
     "execution_count": 164,
     "metadata": {},
     "output_type": "execute_result"
    }
   ],
   "source": [
    "df_precp_abr = pd.read_csv('C:/Users/rfg2m/Documents/DATA_SCIENCE/Entregas/Proyectos/MACHINE LEARNING/Data/raw/Data_23/precp_abr_23.csv', sep=';', encoding='utf-8')\n",
    "df_precp_abr.head()"
   ]
  },
  {
   "cell_type": "code",
   "execution_count": 165,
   "metadata": {},
   "outputs": [
    {
     "name": "stdout",
     "output_type": "stream",
     "text": [
      "<class 'pandas.core.frame.DataFrame'>\n",
      "RangeIndex: 31 entries, 0 to 30\n",
      "Data columns (total 5 columns):\n",
      " #   Column    Non-Null Count  Dtype         \n",
      "---  ------    --------------  -----         \n",
      " 0   Fecha     31 non-null     datetime64[ns]\n",
      " 1   Magnitud  31 non-null     object        \n",
      " 2   Zona      31 non-null     object        \n",
      " 3   Estación  31 non-null     object        \n",
      " 4   Valor     31 non-null     float64       \n",
      "dtypes: datetime64[ns](1), float64(1), object(3)\n",
      "memory usage: 1.3+ KB\n"
     ]
    }
   ],
   "source": [
    "df_precp_mar.info()"
   ]
  },
  {
   "cell_type": "code",
   "execution_count": 166,
   "metadata": {},
   "outputs": [
    {
     "name": "stdout",
     "output_type": "stream",
     "text": [
      "<class 'pandas.core.frame.DataFrame'>\n",
      "RangeIndex: 30 entries, 0 to 29\n",
      "Data columns (total 5 columns):\n",
      " #   Column    Non-Null Count  Dtype         \n",
      "---  ------    --------------  -----         \n",
      " 0   Fecha     30 non-null     datetime64[ns]\n",
      " 1   Magnitud  30 non-null     object        \n",
      " 2   Zona      30 non-null     object        \n",
      " 3   Estación  30 non-null     object        \n",
      " 4   Valor     30 non-null     object        \n",
      "dtypes: datetime64[ns](1), object(4)\n",
      "memory usage: 1.3+ KB\n"
     ]
    }
   ],
   "source": [
    "df_precp_abr[\"Fecha\"] = pd.to_datetime(df_precp_abr[\"Fecha\"], errors=\"coerce\")\n",
    "df_precp_abr.info()"
   ]
  },
  {
   "cell_type": "code",
   "execution_count": 167,
   "metadata": {},
   "outputs": [
    {
     "data": {
      "text/html": [
       "<div>\n",
       "<style scoped>\n",
       "    .dataframe tbody tr th:only-of-type {\n",
       "        vertical-align: middle;\n",
       "    }\n",
       "\n",
       "    .dataframe tbody tr th {\n",
       "        vertical-align: top;\n",
       "    }\n",
       "\n",
       "    .dataframe thead th {\n",
       "        text-align: right;\n",
       "    }\n",
       "</style>\n",
       "<table border=\"1\" class=\"dataframe\">\n",
       "  <thead>\n",
       "    <tr style=\"text-align: right;\">\n",
       "      <th></th>\n",
       "      <th>Fecha</th>\n",
       "      <th>Magnitud</th>\n",
       "      <th>Zona</th>\n",
       "      <th>Estación</th>\n",
       "      <th>Valor</th>\n",
       "    </tr>\n",
       "  </thead>\n",
       "  <tbody>\n",
       "    <tr>\n",
       "      <th>0</th>\n",
       "      <td>2023-04-01</td>\n",
       "      <td>Precipitación</td>\n",
       "      <td>Noroeste</td>\n",
       "      <td>Casa de Campo</td>\n",
       "      <td>0.00</td>\n",
       "    </tr>\n",
       "    <tr>\n",
       "      <th>1</th>\n",
       "      <td>2023-04-02</td>\n",
       "      <td>Precipitación</td>\n",
       "      <td>Noroeste</td>\n",
       "      <td>Casa de Campo</td>\n",
       "      <td>0.00</td>\n",
       "    </tr>\n",
       "    <tr>\n",
       "      <th>2</th>\n",
       "      <td>2023-04-03</td>\n",
       "      <td>Precipitación</td>\n",
       "      <td>Noroeste</td>\n",
       "      <td>Casa de Campo</td>\n",
       "      <td>0.00</td>\n",
       "    </tr>\n",
       "    <tr>\n",
       "      <th>3</th>\n",
       "      <td>2023-04-04</td>\n",
       "      <td>Precipitación</td>\n",
       "      <td>Noroeste</td>\n",
       "      <td>Casa de Campo</td>\n",
       "      <td>0.00</td>\n",
       "    </tr>\n",
       "    <tr>\n",
       "      <th>4</th>\n",
       "      <td>2023-04-05</td>\n",
       "      <td>Precipitación</td>\n",
       "      <td>Noroeste</td>\n",
       "      <td>Casa de Campo</td>\n",
       "      <td>0.00</td>\n",
       "    </tr>\n",
       "  </tbody>\n",
       "</table>\n",
       "</div>"
      ],
      "text/plain": [
       "       Fecha       Magnitud      Zona       Estación Valor\n",
       "0 2023-04-01  Precipitación  Noroeste  Casa de Campo  0.00\n",
       "1 2023-04-02  Precipitación  Noroeste  Casa de Campo  0.00\n",
       "2 2023-04-03  Precipitación  Noroeste  Casa de Campo  0.00\n",
       "3 2023-04-04  Precipitación  Noroeste  Casa de Campo  0.00\n",
       "4 2023-04-05  Precipitación  Noroeste  Casa de Campo  0.00"
      ]
     },
     "execution_count": 167,
     "metadata": {},
     "output_type": "execute_result"
    }
   ],
   "source": [
    "df_precp_abr['Valor'] = df_precp_abr['Valor'].str.replace(',', '.') #Reemplazar comas por puntos\n",
    "df_precp_abr['Valor'] = df_precp_abr['Valor'].str.replace(r'[^\\d\\.]', '', regex=True) #Eliminar caracteres no numéricos, exepto el punto \n",
    "df_precp_abr.head()"
   ]
  },
  {
   "cell_type": "code",
   "execution_count": 168,
   "metadata": {},
   "outputs": [],
   "source": [
    "df_precp_abr['Valor'] = pd.to_numeric(df_precp_abr['Valor'], errors='coerce')"
   ]
  },
  {
   "cell_type": "code",
   "execution_count": 169,
   "metadata": {},
   "outputs": [
    {
     "name": "stdout",
     "output_type": "stream",
     "text": [
      "<class 'pandas.core.frame.DataFrame'>\n",
      "RangeIndex: 30 entries, 0 to 29\n",
      "Data columns (total 5 columns):\n",
      " #   Column    Non-Null Count  Dtype         \n",
      "---  ------    --------------  -----         \n",
      " 0   Fecha     30 non-null     datetime64[ns]\n",
      " 1   Magnitud  30 non-null     object        \n",
      " 2   Zona      30 non-null     object        \n",
      " 3   Estación  30 non-null     object        \n",
      " 4   Valor     30 non-null     float64       \n",
      "dtypes: datetime64[ns](1), float64(1), object(3)\n",
      "memory usage: 1.3+ KB\n"
     ]
    }
   ],
   "source": [
    "df_precp_abr.info()"
   ]
  },
  {
   "cell_type": "code",
   "execution_count": 170,
   "metadata": {},
   "outputs": [
    {
     "data": {
      "text/html": [
       "<div>\n",
       "<style scoped>\n",
       "    .dataframe tbody tr th:only-of-type {\n",
       "        vertical-align: middle;\n",
       "    }\n",
       "\n",
       "    .dataframe tbody tr th {\n",
       "        vertical-align: top;\n",
       "    }\n",
       "\n",
       "    .dataframe thead th {\n",
       "        text-align: right;\n",
       "    }\n",
       "</style>\n",
       "<table border=\"1\" class=\"dataframe\">\n",
       "  <thead>\n",
       "    <tr style=\"text-align: right;\">\n",
       "      <th></th>\n",
       "      <th>Fecha</th>\n",
       "      <th>Magnitud</th>\n",
       "      <th>Zona</th>\n",
       "      <th>Estación</th>\n",
       "      <th>Valor</th>\n",
       "    </tr>\n",
       "  </thead>\n",
       "  <tbody>\n",
       "    <tr>\n",
       "      <th>0</th>\n",
       "      <td>2023-05-01</td>\n",
       "      <td>Precipitación</td>\n",
       "      <td>Noroeste</td>\n",
       "      <td>Casa de Campo</td>\n",
       "      <td>0,00</td>\n",
       "    </tr>\n",
       "    <tr>\n",
       "      <th>1</th>\n",
       "      <td>2023-05-02</td>\n",
       "      <td>Precipitación</td>\n",
       "      <td>Noroeste</td>\n",
       "      <td>Casa de Campo</td>\n",
       "      <td>0,00</td>\n",
       "    </tr>\n",
       "    <tr>\n",
       "      <th>2</th>\n",
       "      <td>2023-05-03</td>\n",
       "      <td>Precipitación</td>\n",
       "      <td>Noroeste</td>\n",
       "      <td>Casa de Campo</td>\n",
       "      <td>0,00</td>\n",
       "    </tr>\n",
       "    <tr>\n",
       "      <th>3</th>\n",
       "      <td>2023-05-04</td>\n",
       "      <td>Precipitación</td>\n",
       "      <td>Noroeste</td>\n",
       "      <td>Casa de Campo</td>\n",
       "      <td>0,00</td>\n",
       "    </tr>\n",
       "    <tr>\n",
       "      <th>4</th>\n",
       "      <td>2023-05-05</td>\n",
       "      <td>Precipitación</td>\n",
       "      <td>Noroeste</td>\n",
       "      <td>Casa de Campo</td>\n",
       "      <td>0,00</td>\n",
       "    </tr>\n",
       "  </tbody>\n",
       "</table>\n",
       "</div>"
      ],
      "text/plain": [
       "        Fecha       Magnitud      Zona       Estación Valor\n",
       "0  2023-05-01  Precipitación  Noroeste  Casa de Campo  0,00\n",
       "1  2023-05-02  Precipitación  Noroeste  Casa de Campo  0,00\n",
       "2  2023-05-03  Precipitación  Noroeste  Casa de Campo  0,00\n",
       "3  2023-05-04  Precipitación  Noroeste  Casa de Campo  0,00\n",
       "4  2023-05-05  Precipitación  Noroeste  Casa de Campo  0,00"
      ]
     },
     "execution_count": 170,
     "metadata": {},
     "output_type": "execute_result"
    }
   ],
   "source": [
    "df_precp_may = pd.read_csv('C:/Users/rfg2m/Documents/DATA_SCIENCE/Entregas/Proyectos/MACHINE LEARNING/Data/raw/Data_23/precp_may_23.csv', sep=';', encoding='utf-8')\n",
    "df_precp_may.head()"
   ]
  },
  {
   "cell_type": "code",
   "execution_count": 171,
   "metadata": {},
   "outputs": [
    {
     "name": "stdout",
     "output_type": "stream",
     "text": [
      "<class 'pandas.core.frame.DataFrame'>\n",
      "RangeIndex: 31 entries, 0 to 30\n",
      "Data columns (total 5 columns):\n",
      " #   Column    Non-Null Count  Dtype \n",
      "---  ------    --------------  ----- \n",
      " 0   Fecha     31 non-null     object\n",
      " 1   Magnitud  31 non-null     object\n",
      " 2   Zona      31 non-null     object\n",
      " 3   Estación  31 non-null     object\n",
      " 4   Valor     31 non-null     object\n",
      "dtypes: object(5)\n",
      "memory usage: 1.3+ KB\n"
     ]
    }
   ],
   "source": [
    "df_precp_may.info()"
   ]
  },
  {
   "cell_type": "code",
   "execution_count": 172,
   "metadata": {},
   "outputs": [
    {
     "name": "stdout",
     "output_type": "stream",
     "text": [
      "<class 'pandas.core.frame.DataFrame'>\n",
      "RangeIndex: 31 entries, 0 to 30\n",
      "Data columns (total 5 columns):\n",
      " #   Column    Non-Null Count  Dtype         \n",
      "---  ------    --------------  -----         \n",
      " 0   Fecha     31 non-null     datetime64[ns]\n",
      " 1   Magnitud  31 non-null     object        \n",
      " 2   Zona      31 non-null     object        \n",
      " 3   Estación  31 non-null     object        \n",
      " 4   Valor     31 non-null     object        \n",
      "dtypes: datetime64[ns](1), object(4)\n",
      "memory usage: 1.3+ KB\n"
     ]
    }
   ],
   "source": [
    "df_precp_may[\"Fecha\"] = pd.to_datetime(df_precp_may[\"Fecha\"])\n",
    "df_precp_may.info()"
   ]
  },
  {
   "cell_type": "code",
   "execution_count": 173,
   "metadata": {},
   "outputs": [
    {
     "data": {
      "text/html": [
       "<div>\n",
       "<style scoped>\n",
       "    .dataframe tbody tr th:only-of-type {\n",
       "        vertical-align: middle;\n",
       "    }\n",
       "\n",
       "    .dataframe tbody tr th {\n",
       "        vertical-align: top;\n",
       "    }\n",
       "\n",
       "    .dataframe thead th {\n",
       "        text-align: right;\n",
       "    }\n",
       "</style>\n",
       "<table border=\"1\" class=\"dataframe\">\n",
       "  <thead>\n",
       "    <tr style=\"text-align: right;\">\n",
       "      <th></th>\n",
       "      <th>Fecha</th>\n",
       "      <th>Magnitud</th>\n",
       "      <th>Zona</th>\n",
       "      <th>Estación</th>\n",
       "      <th>Valor</th>\n",
       "    </tr>\n",
       "  </thead>\n",
       "  <tbody>\n",
       "    <tr>\n",
       "      <th>0</th>\n",
       "      <td>2023-05-01</td>\n",
       "      <td>Precipitación</td>\n",
       "      <td>Noroeste</td>\n",
       "      <td>Casa de Campo</td>\n",
       "      <td>0.00</td>\n",
       "    </tr>\n",
       "    <tr>\n",
       "      <th>1</th>\n",
       "      <td>2023-05-02</td>\n",
       "      <td>Precipitación</td>\n",
       "      <td>Noroeste</td>\n",
       "      <td>Casa de Campo</td>\n",
       "      <td>0.00</td>\n",
       "    </tr>\n",
       "    <tr>\n",
       "      <th>2</th>\n",
       "      <td>2023-05-03</td>\n",
       "      <td>Precipitación</td>\n",
       "      <td>Noroeste</td>\n",
       "      <td>Casa de Campo</td>\n",
       "      <td>0.00</td>\n",
       "    </tr>\n",
       "    <tr>\n",
       "      <th>3</th>\n",
       "      <td>2023-05-04</td>\n",
       "      <td>Precipitación</td>\n",
       "      <td>Noroeste</td>\n",
       "      <td>Casa de Campo</td>\n",
       "      <td>0.00</td>\n",
       "    </tr>\n",
       "    <tr>\n",
       "      <th>4</th>\n",
       "      <td>2023-05-05</td>\n",
       "      <td>Precipitación</td>\n",
       "      <td>Noroeste</td>\n",
       "      <td>Casa de Campo</td>\n",
       "      <td>0.00</td>\n",
       "    </tr>\n",
       "  </tbody>\n",
       "</table>\n",
       "</div>"
      ],
      "text/plain": [
       "       Fecha       Magnitud      Zona       Estación Valor\n",
       "0 2023-05-01  Precipitación  Noroeste  Casa de Campo  0.00\n",
       "1 2023-05-02  Precipitación  Noroeste  Casa de Campo  0.00\n",
       "2 2023-05-03  Precipitación  Noroeste  Casa de Campo  0.00\n",
       "3 2023-05-04  Precipitación  Noroeste  Casa de Campo  0.00\n",
       "4 2023-05-05  Precipitación  Noroeste  Casa de Campo  0.00"
      ]
     },
     "execution_count": 173,
     "metadata": {},
     "output_type": "execute_result"
    }
   ],
   "source": [
    "df_precp_may['Valor'] = df_precp_may['Valor'].str.replace(',', '.') #Reemplazar comas por puntos\n",
    "df_precp_may['Valor'] = df_precp_may['Valor'].str.replace(r'[^\\d\\.]', '', regex=True) #Eliminar caracteres no numéricos, exepto el punto \n",
    "df_precp_may.head()"
   ]
  },
  {
   "cell_type": "code",
   "execution_count": 174,
   "metadata": {},
   "outputs": [],
   "source": [
    "df_precp_may['Valor'] = pd.to_numeric(df_precp_may['Valor'], errors='coerce')"
   ]
  },
  {
   "cell_type": "code",
   "execution_count": 175,
   "metadata": {},
   "outputs": [
    {
     "name": "stdout",
     "output_type": "stream",
     "text": [
      "<class 'pandas.core.frame.DataFrame'>\n",
      "RangeIndex: 31 entries, 0 to 30\n",
      "Data columns (total 5 columns):\n",
      " #   Column    Non-Null Count  Dtype         \n",
      "---  ------    --------------  -----         \n",
      " 0   Fecha     31 non-null     datetime64[ns]\n",
      " 1   Magnitud  31 non-null     object        \n",
      " 2   Zona      31 non-null     object        \n",
      " 3   Estación  31 non-null     object        \n",
      " 4   Valor     31 non-null     float64       \n",
      "dtypes: datetime64[ns](1), float64(1), object(3)\n",
      "memory usage: 1.3+ KB\n"
     ]
    }
   ],
   "source": [
    "df_precp_may.info()"
   ]
  },
  {
   "cell_type": "code",
   "execution_count": 176,
   "metadata": {},
   "outputs": [
    {
     "data": {
      "text/html": [
       "<div>\n",
       "<style scoped>\n",
       "    .dataframe tbody tr th:only-of-type {\n",
       "        vertical-align: middle;\n",
       "    }\n",
       "\n",
       "    .dataframe tbody tr th {\n",
       "        vertical-align: top;\n",
       "    }\n",
       "\n",
       "    .dataframe thead th {\n",
       "        text-align: right;\n",
       "    }\n",
       "</style>\n",
       "<table border=\"1\" class=\"dataframe\">\n",
       "  <thead>\n",
       "    <tr style=\"text-align: right;\">\n",
       "      <th></th>\n",
       "      <th>Fecha</th>\n",
       "      <th>Magnitud</th>\n",
       "      <th>Zona</th>\n",
       "      <th>Estación</th>\n",
       "      <th>Valor</th>\n",
       "    </tr>\n",
       "  </thead>\n",
       "  <tbody>\n",
       "    <tr>\n",
       "      <th>0</th>\n",
       "      <td>2023-06-01</td>\n",
       "      <td>Precipitación</td>\n",
       "      <td>Noroeste</td>\n",
       "      <td>Casa de Campo</td>\n",
       "      <td>0,09</td>\n",
       "    </tr>\n",
       "    <tr>\n",
       "      <th>1</th>\n",
       "      <td>2023-06-02</td>\n",
       "      <td>Precipitación</td>\n",
       "      <td>Noroeste</td>\n",
       "      <td>Casa de Campo</td>\n",
       "      <td>0,12</td>\n",
       "    </tr>\n",
       "    <tr>\n",
       "      <th>2</th>\n",
       "      <td>2023-06-03</td>\n",
       "      <td>Precipitación</td>\n",
       "      <td>Noroeste</td>\n",
       "      <td>Casa de Campo</td>\n",
       "      <td>0,47</td>\n",
       "    </tr>\n",
       "    <tr>\n",
       "      <th>3</th>\n",
       "      <td>2023-06-04</td>\n",
       "      <td>Precipitación</td>\n",
       "      <td>Noroeste</td>\n",
       "      <td>Casa de Campo</td>\n",
       "      <td>0,00</td>\n",
       "    </tr>\n",
       "    <tr>\n",
       "      <th>4</th>\n",
       "      <td>2023-06-05</td>\n",
       "      <td>Precipitación</td>\n",
       "      <td>Noroeste</td>\n",
       "      <td>Casa de Campo</td>\n",
       "      <td>0,00</td>\n",
       "    </tr>\n",
       "  </tbody>\n",
       "</table>\n",
       "</div>"
      ],
      "text/plain": [
       "        Fecha       Magnitud      Zona       Estación Valor\n",
       "0  2023-06-01  Precipitación  Noroeste  Casa de Campo  0,09\n",
       "1  2023-06-02  Precipitación  Noroeste  Casa de Campo  0,12\n",
       "2  2023-06-03  Precipitación  Noroeste  Casa de Campo  0,47\n",
       "3  2023-06-04  Precipitación  Noroeste  Casa de Campo  0,00\n",
       "4  2023-06-05  Precipitación  Noroeste  Casa de Campo  0,00"
      ]
     },
     "execution_count": 176,
     "metadata": {},
     "output_type": "execute_result"
    }
   ],
   "source": [
    "df_precp_jun = pd.read_csv('C:/Users/rfg2m/Documents/DATA_SCIENCE/Entregas/Proyectos/MACHINE LEARNING/Data/raw/Data_23/precp_jun_23.csv', sep=';', encoding='utf-8')\n",
    "df_precp_jun.head()"
   ]
  },
  {
   "cell_type": "code",
   "execution_count": 177,
   "metadata": {},
   "outputs": [
    {
     "name": "stdout",
     "output_type": "stream",
     "text": [
      "<class 'pandas.core.frame.DataFrame'>\n",
      "RangeIndex: 30 entries, 0 to 29\n",
      "Data columns (total 5 columns):\n",
      " #   Column    Non-Null Count  Dtype \n",
      "---  ------    --------------  ----- \n",
      " 0   Fecha     30 non-null     object\n",
      " 1   Magnitud  30 non-null     object\n",
      " 2   Zona      30 non-null     object\n",
      " 3   Estación  30 non-null     object\n",
      " 4   Valor     30 non-null     object\n",
      "dtypes: object(5)\n",
      "memory usage: 1.3+ KB\n"
     ]
    }
   ],
   "source": [
    "df_precp_jun.info()"
   ]
  },
  {
   "cell_type": "code",
   "execution_count": 178,
   "metadata": {},
   "outputs": [
    {
     "name": "stdout",
     "output_type": "stream",
     "text": [
      "<class 'pandas.core.frame.DataFrame'>\n",
      "RangeIndex: 30 entries, 0 to 29\n",
      "Data columns (total 5 columns):\n",
      " #   Column    Non-Null Count  Dtype         \n",
      "---  ------    --------------  -----         \n",
      " 0   Fecha     30 non-null     datetime64[ns]\n",
      " 1   Magnitud  30 non-null     object        \n",
      " 2   Zona      30 non-null     object        \n",
      " 3   Estación  30 non-null     object        \n",
      " 4   Valor     30 non-null     object        \n",
      "dtypes: datetime64[ns](1), object(4)\n",
      "memory usage: 1.3+ KB\n"
     ]
    }
   ],
   "source": [
    "df_precp_jun[\"Fecha\"] = pd.to_datetime(df_precp_jun[\"Fecha\"])\n",
    "df_precp_jun.info()"
   ]
  },
  {
   "cell_type": "code",
   "execution_count": 179,
   "metadata": {},
   "outputs": [
    {
     "data": {
      "text/html": [
       "<div>\n",
       "<style scoped>\n",
       "    .dataframe tbody tr th:only-of-type {\n",
       "        vertical-align: middle;\n",
       "    }\n",
       "\n",
       "    .dataframe tbody tr th {\n",
       "        vertical-align: top;\n",
       "    }\n",
       "\n",
       "    .dataframe thead th {\n",
       "        text-align: right;\n",
       "    }\n",
       "</style>\n",
       "<table border=\"1\" class=\"dataframe\">\n",
       "  <thead>\n",
       "    <tr style=\"text-align: right;\">\n",
       "      <th></th>\n",
       "      <th>Fecha</th>\n",
       "      <th>Magnitud</th>\n",
       "      <th>Zona</th>\n",
       "      <th>Estación</th>\n",
       "      <th>Valor</th>\n",
       "    </tr>\n",
       "  </thead>\n",
       "  <tbody>\n",
       "    <tr>\n",
       "      <th>0</th>\n",
       "      <td>2023-06-01</td>\n",
       "      <td>Precipitación</td>\n",
       "      <td>Noroeste</td>\n",
       "      <td>Casa de Campo</td>\n",
       "      <td>0.09</td>\n",
       "    </tr>\n",
       "    <tr>\n",
       "      <th>1</th>\n",
       "      <td>2023-06-02</td>\n",
       "      <td>Precipitación</td>\n",
       "      <td>Noroeste</td>\n",
       "      <td>Casa de Campo</td>\n",
       "      <td>0.12</td>\n",
       "    </tr>\n",
       "    <tr>\n",
       "      <th>2</th>\n",
       "      <td>2023-06-03</td>\n",
       "      <td>Precipitación</td>\n",
       "      <td>Noroeste</td>\n",
       "      <td>Casa de Campo</td>\n",
       "      <td>0.47</td>\n",
       "    </tr>\n",
       "    <tr>\n",
       "      <th>3</th>\n",
       "      <td>2023-06-04</td>\n",
       "      <td>Precipitación</td>\n",
       "      <td>Noroeste</td>\n",
       "      <td>Casa de Campo</td>\n",
       "      <td>0.00</td>\n",
       "    </tr>\n",
       "    <tr>\n",
       "      <th>4</th>\n",
       "      <td>2023-06-05</td>\n",
       "      <td>Precipitación</td>\n",
       "      <td>Noroeste</td>\n",
       "      <td>Casa de Campo</td>\n",
       "      <td>0.00</td>\n",
       "    </tr>\n",
       "  </tbody>\n",
       "</table>\n",
       "</div>"
      ],
      "text/plain": [
       "       Fecha       Magnitud      Zona       Estación Valor\n",
       "0 2023-06-01  Precipitación  Noroeste  Casa de Campo  0.09\n",
       "1 2023-06-02  Precipitación  Noroeste  Casa de Campo  0.12\n",
       "2 2023-06-03  Precipitación  Noroeste  Casa de Campo  0.47\n",
       "3 2023-06-04  Precipitación  Noroeste  Casa de Campo  0.00\n",
       "4 2023-06-05  Precipitación  Noroeste  Casa de Campo  0.00"
      ]
     },
     "execution_count": 179,
     "metadata": {},
     "output_type": "execute_result"
    }
   ],
   "source": [
    "df_precp_jun['Valor'] = df_precp_jun['Valor'].str.replace(',', '.') #Reemplazar comas por puntos\n",
    "df_precp_jun['Valor'] = df_precp_jun['Valor'].str.replace(r'[^\\d\\.]', '', regex=True) #Eliminar caracteres no numéricos, exepto el punto \n",
    "df_precp_jun.head()"
   ]
  },
  {
   "cell_type": "code",
   "execution_count": 180,
   "metadata": {},
   "outputs": [],
   "source": [
    "df_precp_jun['Valor'] = pd.to_numeric(df_precp_jun['Valor'], errors='coerce')"
   ]
  },
  {
   "cell_type": "code",
   "execution_count": 181,
   "metadata": {},
   "outputs": [
    {
     "name": "stdout",
     "output_type": "stream",
     "text": [
      "<class 'pandas.core.frame.DataFrame'>\n",
      "RangeIndex: 30 entries, 0 to 29\n",
      "Data columns (total 5 columns):\n",
      " #   Column    Non-Null Count  Dtype         \n",
      "---  ------    --------------  -----         \n",
      " 0   Fecha     30 non-null     datetime64[ns]\n",
      " 1   Magnitud  30 non-null     object        \n",
      " 2   Zona      30 non-null     object        \n",
      " 3   Estación  30 non-null     object        \n",
      " 4   Valor     30 non-null     float64       \n",
      "dtypes: datetime64[ns](1), float64(1), object(3)\n",
      "memory usage: 1.3+ KB\n"
     ]
    }
   ],
   "source": [
    "df_precp_jun.info()"
   ]
  },
  {
   "cell_type": "code",
   "execution_count": 182,
   "metadata": {},
   "outputs": [
    {
     "data": {
      "text/html": [
       "<div>\n",
       "<style scoped>\n",
       "    .dataframe tbody tr th:only-of-type {\n",
       "        vertical-align: middle;\n",
       "    }\n",
       "\n",
       "    .dataframe tbody tr th {\n",
       "        vertical-align: top;\n",
       "    }\n",
       "\n",
       "    .dataframe thead th {\n",
       "        text-align: right;\n",
       "    }\n",
       "</style>\n",
       "<table border=\"1\" class=\"dataframe\">\n",
       "  <thead>\n",
       "    <tr style=\"text-align: right;\">\n",
       "      <th></th>\n",
       "      <th>Fecha</th>\n",
       "      <th>Magnitud</th>\n",
       "      <th>Zona</th>\n",
       "      <th>Estación</th>\n",
       "      <th>Valor</th>\n",
       "    </tr>\n",
       "  </thead>\n",
       "  <tbody>\n",
       "    <tr>\n",
       "      <th>0</th>\n",
       "      <td>2023-07-01</td>\n",
       "      <td>Precipitación</td>\n",
       "      <td>Noroeste</td>\n",
       "      <td>Casa de Campo</td>\n",
       "      <td>0,00</td>\n",
       "    </tr>\n",
       "    <tr>\n",
       "      <th>1</th>\n",
       "      <td>2023-07-02</td>\n",
       "      <td>Precipitación</td>\n",
       "      <td>Noroeste</td>\n",
       "      <td>Casa de Campo</td>\n",
       "      <td>0,00</td>\n",
       "    </tr>\n",
       "    <tr>\n",
       "      <th>2</th>\n",
       "      <td>2023-07-03</td>\n",
       "      <td>Precipitación</td>\n",
       "      <td>Noroeste</td>\n",
       "      <td>Casa de Campo</td>\n",
       "      <td>0,00</td>\n",
       "    </tr>\n",
       "    <tr>\n",
       "      <th>3</th>\n",
       "      <td>2023-07-04</td>\n",
       "      <td>Precipitación</td>\n",
       "      <td>Noroeste</td>\n",
       "      <td>Casa de Campo</td>\n",
       "      <td>0,00</td>\n",
       "    </tr>\n",
       "    <tr>\n",
       "      <th>4</th>\n",
       "      <td>2023-07-05</td>\n",
       "      <td>Precipitación</td>\n",
       "      <td>Noroeste</td>\n",
       "      <td>Casa de Campo</td>\n",
       "      <td>0,00</td>\n",
       "    </tr>\n",
       "  </tbody>\n",
       "</table>\n",
       "</div>"
      ],
      "text/plain": [
       "        Fecha       Magnitud      Zona       Estación Valor\n",
       "0  2023-07-01  Precipitación  Noroeste  Casa de Campo  0,00\n",
       "1  2023-07-02  Precipitación  Noroeste  Casa de Campo  0,00\n",
       "2  2023-07-03  Precipitación  Noroeste  Casa de Campo  0,00\n",
       "3  2023-07-04  Precipitación  Noroeste  Casa de Campo  0,00\n",
       "4  2023-07-05  Precipitación  Noroeste  Casa de Campo  0,00"
      ]
     },
     "execution_count": 182,
     "metadata": {},
     "output_type": "execute_result"
    }
   ],
   "source": [
    "df_precp_jul = pd.read_csv('C:/Users/rfg2m/Documents/DATA_SCIENCE/Entregas/Proyectos/MACHINE LEARNING/Data/raw/Data_23/precp_jul_23.csv', sep=';', encoding='utf-8')\n",
    "df_precp_jul.head()"
   ]
  },
  {
   "cell_type": "code",
   "execution_count": 183,
   "metadata": {},
   "outputs": [
    {
     "name": "stdout",
     "output_type": "stream",
     "text": [
      "<class 'pandas.core.frame.DataFrame'>\n",
      "RangeIndex: 31 entries, 0 to 30\n",
      "Data columns (total 5 columns):\n",
      " #   Column    Non-Null Count  Dtype \n",
      "---  ------    --------------  ----- \n",
      " 0   Fecha     31 non-null     object\n",
      " 1   Magnitud  31 non-null     object\n",
      " 2   Zona      31 non-null     object\n",
      " 3   Estación  31 non-null     object\n",
      " 4   Valor     31 non-null     object\n",
      "dtypes: object(5)\n",
      "memory usage: 1.3+ KB\n"
     ]
    }
   ],
   "source": [
    "df_precp_jul.info()"
   ]
  },
  {
   "cell_type": "code",
   "execution_count": 184,
   "metadata": {},
   "outputs": [
    {
     "name": "stdout",
     "output_type": "stream",
     "text": [
      "<class 'pandas.core.frame.DataFrame'>\n",
      "RangeIndex: 31 entries, 0 to 30\n",
      "Data columns (total 5 columns):\n",
      " #   Column    Non-Null Count  Dtype         \n",
      "---  ------    --------------  -----         \n",
      " 0   Fecha     31 non-null     datetime64[ns]\n",
      " 1   Magnitud  31 non-null     object        \n",
      " 2   Zona      31 non-null     object        \n",
      " 3   Estación  31 non-null     object        \n",
      " 4   Valor     31 non-null     object        \n",
      "dtypes: datetime64[ns](1), object(4)\n",
      "memory usage: 1.3+ KB\n"
     ]
    }
   ],
   "source": [
    "df_precp_jul[\"Fecha\"] = pd.to_datetime(df_precp_jul[\"Fecha\"])\n",
    "df_precp_jul.info()"
   ]
  },
  {
   "cell_type": "code",
   "execution_count": 185,
   "metadata": {},
   "outputs": [
    {
     "data": {
      "text/html": [
       "<div>\n",
       "<style scoped>\n",
       "    .dataframe tbody tr th:only-of-type {\n",
       "        vertical-align: middle;\n",
       "    }\n",
       "\n",
       "    .dataframe tbody tr th {\n",
       "        vertical-align: top;\n",
       "    }\n",
       "\n",
       "    .dataframe thead th {\n",
       "        text-align: right;\n",
       "    }\n",
       "</style>\n",
       "<table border=\"1\" class=\"dataframe\">\n",
       "  <thead>\n",
       "    <tr style=\"text-align: right;\">\n",
       "      <th></th>\n",
       "      <th>Fecha</th>\n",
       "      <th>Magnitud</th>\n",
       "      <th>Zona</th>\n",
       "      <th>Estación</th>\n",
       "      <th>Valor</th>\n",
       "    </tr>\n",
       "  </thead>\n",
       "  <tbody>\n",
       "    <tr>\n",
       "      <th>0</th>\n",
       "      <td>2023-07-01</td>\n",
       "      <td>Precipitación</td>\n",
       "      <td>Noroeste</td>\n",
       "      <td>Casa de Campo</td>\n",
       "      <td>0.00</td>\n",
       "    </tr>\n",
       "    <tr>\n",
       "      <th>1</th>\n",
       "      <td>2023-07-02</td>\n",
       "      <td>Precipitación</td>\n",
       "      <td>Noroeste</td>\n",
       "      <td>Casa de Campo</td>\n",
       "      <td>0.00</td>\n",
       "    </tr>\n",
       "    <tr>\n",
       "      <th>2</th>\n",
       "      <td>2023-07-03</td>\n",
       "      <td>Precipitación</td>\n",
       "      <td>Noroeste</td>\n",
       "      <td>Casa de Campo</td>\n",
       "      <td>0.00</td>\n",
       "    </tr>\n",
       "    <tr>\n",
       "      <th>3</th>\n",
       "      <td>2023-07-04</td>\n",
       "      <td>Precipitación</td>\n",
       "      <td>Noroeste</td>\n",
       "      <td>Casa de Campo</td>\n",
       "      <td>0.00</td>\n",
       "    </tr>\n",
       "    <tr>\n",
       "      <th>4</th>\n",
       "      <td>2023-07-05</td>\n",
       "      <td>Precipitación</td>\n",
       "      <td>Noroeste</td>\n",
       "      <td>Casa de Campo</td>\n",
       "      <td>0.00</td>\n",
       "    </tr>\n",
       "  </tbody>\n",
       "</table>\n",
       "</div>"
      ],
      "text/plain": [
       "       Fecha       Magnitud      Zona       Estación Valor\n",
       "0 2023-07-01  Precipitación  Noroeste  Casa de Campo  0.00\n",
       "1 2023-07-02  Precipitación  Noroeste  Casa de Campo  0.00\n",
       "2 2023-07-03  Precipitación  Noroeste  Casa de Campo  0.00\n",
       "3 2023-07-04  Precipitación  Noroeste  Casa de Campo  0.00\n",
       "4 2023-07-05  Precipitación  Noroeste  Casa de Campo  0.00"
      ]
     },
     "execution_count": 185,
     "metadata": {},
     "output_type": "execute_result"
    }
   ],
   "source": [
    "df_precp_jul['Valor'] = df_precp_jul['Valor'].str.replace(',', '.') #Reemplazar comas por puntos\n",
    "df_precp_jul['Valor'] = df_precp_jul['Valor'].str.replace(r'[^\\d\\.]', '', regex=True) #Eliminar caracteres no numéricos, exepto el punto \n",
    "df_precp_jul.head()"
   ]
  },
  {
   "cell_type": "code",
   "execution_count": 186,
   "metadata": {},
   "outputs": [],
   "source": [
    "df_precp_jul['Valor'] = pd.to_numeric(df_precp_jul['Valor'], errors='coerce')"
   ]
  },
  {
   "cell_type": "code",
   "execution_count": 187,
   "metadata": {},
   "outputs": [
    {
     "name": "stdout",
     "output_type": "stream",
     "text": [
      "<class 'pandas.core.frame.DataFrame'>\n",
      "RangeIndex: 31 entries, 0 to 30\n",
      "Data columns (total 5 columns):\n",
      " #   Column    Non-Null Count  Dtype         \n",
      "---  ------    --------------  -----         \n",
      " 0   Fecha     31 non-null     datetime64[ns]\n",
      " 1   Magnitud  31 non-null     object        \n",
      " 2   Zona      31 non-null     object        \n",
      " 3   Estación  31 non-null     object        \n",
      " 4   Valor     31 non-null     float64       \n",
      "dtypes: datetime64[ns](1), float64(1), object(3)\n",
      "memory usage: 1.3+ KB\n"
     ]
    }
   ],
   "source": [
    "df_precp_jul.info()"
   ]
  },
  {
   "cell_type": "code",
   "execution_count": 188,
   "metadata": {},
   "outputs": [
    {
     "data": {
      "text/html": [
       "<div>\n",
       "<style scoped>\n",
       "    .dataframe tbody tr th:only-of-type {\n",
       "        vertical-align: middle;\n",
       "    }\n",
       "\n",
       "    .dataframe tbody tr th {\n",
       "        vertical-align: top;\n",
       "    }\n",
       "\n",
       "    .dataframe thead th {\n",
       "        text-align: right;\n",
       "    }\n",
       "</style>\n",
       "<table border=\"1\" class=\"dataframe\">\n",
       "  <thead>\n",
       "    <tr style=\"text-align: right;\">\n",
       "      <th></th>\n",
       "      <th>Fecha</th>\n",
       "      <th>Magnitud</th>\n",
       "      <th>Zona</th>\n",
       "      <th>Estación</th>\n",
       "      <th>Valor</th>\n",
       "    </tr>\n",
       "  </thead>\n",
       "  <tbody>\n",
       "    <tr>\n",
       "      <th>0</th>\n",
       "      <td>2023-08-01</td>\n",
       "      <td>Precipitación</td>\n",
       "      <td>Noroeste</td>\n",
       "      <td>Casa de Campo</td>\n",
       "      <td>0,00</td>\n",
       "    </tr>\n",
       "    <tr>\n",
       "      <th>1</th>\n",
       "      <td>2023-08-02</td>\n",
       "      <td>Precipitación</td>\n",
       "      <td>Noroeste</td>\n",
       "      <td>Casa de Campo</td>\n",
       "      <td>0,00</td>\n",
       "    </tr>\n",
       "    <tr>\n",
       "      <th>2</th>\n",
       "      <td>2023-08-03</td>\n",
       "      <td>Precipitación</td>\n",
       "      <td>Noroeste</td>\n",
       "      <td>Casa de Campo</td>\n",
       "      <td>0,00</td>\n",
       "    </tr>\n",
       "    <tr>\n",
       "      <th>3</th>\n",
       "      <td>2023-08-04</td>\n",
       "      <td>Precipitación</td>\n",
       "      <td>Noroeste</td>\n",
       "      <td>Casa de Campo</td>\n",
       "      <td>0,00</td>\n",
       "    </tr>\n",
       "    <tr>\n",
       "      <th>4</th>\n",
       "      <td>2023-08-05</td>\n",
       "      <td>Precipitación</td>\n",
       "      <td>Noroeste</td>\n",
       "      <td>Casa de Campo</td>\n",
       "      <td>0,00</td>\n",
       "    </tr>\n",
       "  </tbody>\n",
       "</table>\n",
       "</div>"
      ],
      "text/plain": [
       "        Fecha       Magnitud      Zona       Estación Valor\n",
       "0  2023-08-01  Precipitación  Noroeste  Casa de Campo  0,00\n",
       "1  2023-08-02  Precipitación  Noroeste  Casa de Campo  0,00\n",
       "2  2023-08-03  Precipitación  Noroeste  Casa de Campo  0,00\n",
       "3  2023-08-04  Precipitación  Noroeste  Casa de Campo  0,00\n",
       "4  2023-08-05  Precipitación  Noroeste  Casa de Campo  0,00"
      ]
     },
     "execution_count": 188,
     "metadata": {},
     "output_type": "execute_result"
    }
   ],
   "source": [
    "df_precp_ago = pd.read_csv('C:/Users/rfg2m/Documents/DATA_SCIENCE/Entregas/Proyectos/MACHINE LEARNING/Data/raw/Data_23/precp_ago_23.csv', sep=';', encoding='utf-8')\n",
    "df_precp_ago.head()"
   ]
  },
  {
   "cell_type": "code",
   "execution_count": 189,
   "metadata": {},
   "outputs": [
    {
     "name": "stdout",
     "output_type": "stream",
     "text": [
      "<class 'pandas.core.frame.DataFrame'>\n",
      "RangeIndex: 31 entries, 0 to 30\n",
      "Data columns (total 5 columns):\n",
      " #   Column    Non-Null Count  Dtype \n",
      "---  ------    --------------  ----- \n",
      " 0   Fecha     31 non-null     object\n",
      " 1   Magnitud  31 non-null     object\n",
      " 2   Zona      31 non-null     object\n",
      " 3   Estación  31 non-null     object\n",
      " 4   Valor     31 non-null     object\n",
      "dtypes: object(5)\n",
      "memory usage: 1.3+ KB\n"
     ]
    }
   ],
   "source": [
    "df_precp_ago.info()"
   ]
  },
  {
   "cell_type": "code",
   "execution_count": 190,
   "metadata": {},
   "outputs": [
    {
     "name": "stdout",
     "output_type": "stream",
     "text": [
      "<class 'pandas.core.frame.DataFrame'>\n",
      "RangeIndex: 31 entries, 0 to 30\n",
      "Data columns (total 5 columns):\n",
      " #   Column    Non-Null Count  Dtype         \n",
      "---  ------    --------------  -----         \n",
      " 0   Fecha     31 non-null     datetime64[ns]\n",
      " 1   Magnitud  31 non-null     object        \n",
      " 2   Zona      31 non-null     object        \n",
      " 3   Estación  31 non-null     object        \n",
      " 4   Valor     31 non-null     object        \n",
      "dtypes: datetime64[ns](1), object(4)\n",
      "memory usage: 1.3+ KB\n"
     ]
    }
   ],
   "source": [
    "df_precp_ago[\"Fecha\"] = pd.to_datetime(df_precp_ago[\"Fecha\"])\n",
    "df_precp_ago.info()"
   ]
  },
  {
   "cell_type": "code",
   "execution_count": 191,
   "metadata": {},
   "outputs": [
    {
     "data": {
      "text/html": [
       "<div>\n",
       "<style scoped>\n",
       "    .dataframe tbody tr th:only-of-type {\n",
       "        vertical-align: middle;\n",
       "    }\n",
       "\n",
       "    .dataframe tbody tr th {\n",
       "        vertical-align: top;\n",
       "    }\n",
       "\n",
       "    .dataframe thead th {\n",
       "        text-align: right;\n",
       "    }\n",
       "</style>\n",
       "<table border=\"1\" class=\"dataframe\">\n",
       "  <thead>\n",
       "    <tr style=\"text-align: right;\">\n",
       "      <th></th>\n",
       "      <th>Fecha</th>\n",
       "      <th>Magnitud</th>\n",
       "      <th>Zona</th>\n",
       "      <th>Estación</th>\n",
       "      <th>Valor</th>\n",
       "    </tr>\n",
       "  </thead>\n",
       "  <tbody>\n",
       "    <tr>\n",
       "      <th>0</th>\n",
       "      <td>2023-08-01</td>\n",
       "      <td>Precipitación</td>\n",
       "      <td>Noroeste</td>\n",
       "      <td>Casa de Campo</td>\n",
       "      <td>0.00</td>\n",
       "    </tr>\n",
       "    <tr>\n",
       "      <th>1</th>\n",
       "      <td>2023-08-02</td>\n",
       "      <td>Precipitación</td>\n",
       "      <td>Noroeste</td>\n",
       "      <td>Casa de Campo</td>\n",
       "      <td>0.00</td>\n",
       "    </tr>\n",
       "    <tr>\n",
       "      <th>2</th>\n",
       "      <td>2023-08-03</td>\n",
       "      <td>Precipitación</td>\n",
       "      <td>Noroeste</td>\n",
       "      <td>Casa de Campo</td>\n",
       "      <td>0.00</td>\n",
       "    </tr>\n",
       "    <tr>\n",
       "      <th>3</th>\n",
       "      <td>2023-08-04</td>\n",
       "      <td>Precipitación</td>\n",
       "      <td>Noroeste</td>\n",
       "      <td>Casa de Campo</td>\n",
       "      <td>0.00</td>\n",
       "    </tr>\n",
       "    <tr>\n",
       "      <th>4</th>\n",
       "      <td>2023-08-05</td>\n",
       "      <td>Precipitación</td>\n",
       "      <td>Noroeste</td>\n",
       "      <td>Casa de Campo</td>\n",
       "      <td>0.00</td>\n",
       "    </tr>\n",
       "  </tbody>\n",
       "</table>\n",
       "</div>"
      ],
      "text/plain": [
       "       Fecha       Magnitud      Zona       Estación Valor\n",
       "0 2023-08-01  Precipitación  Noroeste  Casa de Campo  0.00\n",
       "1 2023-08-02  Precipitación  Noroeste  Casa de Campo  0.00\n",
       "2 2023-08-03  Precipitación  Noroeste  Casa de Campo  0.00\n",
       "3 2023-08-04  Precipitación  Noroeste  Casa de Campo  0.00\n",
       "4 2023-08-05  Precipitación  Noroeste  Casa de Campo  0.00"
      ]
     },
     "execution_count": 191,
     "metadata": {},
     "output_type": "execute_result"
    }
   ],
   "source": [
    "df_precp_ago['Valor'] = df_precp_ago['Valor'].str.replace(',', '.') #Reemplazar comas por puntos\n",
    "df_precp_ago['Valor'] = df_precp_ago['Valor'].str.replace(r'[^\\d\\.]', '', regex=True) #Eliminar caracteres no numéricos, exepto el punto \n",
    "df_precp_ago.head()"
   ]
  },
  {
   "cell_type": "code",
   "execution_count": 192,
   "metadata": {},
   "outputs": [],
   "source": [
    "df_precp_ago['Valor'] = pd.to_numeric(df_precp_ago['Valor'], errors='coerce')"
   ]
  },
  {
   "cell_type": "code",
   "execution_count": 193,
   "metadata": {},
   "outputs": [
    {
     "name": "stdout",
     "output_type": "stream",
     "text": [
      "<class 'pandas.core.frame.DataFrame'>\n",
      "RangeIndex: 31 entries, 0 to 30\n",
      "Data columns (total 5 columns):\n",
      " #   Column    Non-Null Count  Dtype         \n",
      "---  ------    --------------  -----         \n",
      " 0   Fecha     31 non-null     datetime64[ns]\n",
      " 1   Magnitud  31 non-null     object        \n",
      " 2   Zona      31 non-null     object        \n",
      " 3   Estación  31 non-null     object        \n",
      " 4   Valor     31 non-null     float64       \n",
      "dtypes: datetime64[ns](1), float64(1), object(3)\n",
      "memory usage: 1.3+ KB\n"
     ]
    }
   ],
   "source": [
    "df_precp_ago.info()"
   ]
  },
  {
   "cell_type": "code",
   "execution_count": 194,
   "metadata": {},
   "outputs": [
    {
     "data": {
      "text/html": [
       "<div>\n",
       "<style scoped>\n",
       "    .dataframe tbody tr th:only-of-type {\n",
       "        vertical-align: middle;\n",
       "    }\n",
       "\n",
       "    .dataframe tbody tr th {\n",
       "        vertical-align: top;\n",
       "    }\n",
       "\n",
       "    .dataframe thead th {\n",
       "        text-align: right;\n",
       "    }\n",
       "</style>\n",
       "<table border=\"1\" class=\"dataframe\">\n",
       "  <thead>\n",
       "    <tr style=\"text-align: right;\">\n",
       "      <th></th>\n",
       "      <th>Fecha</th>\n",
       "      <th>Magnitud</th>\n",
       "      <th>Zona</th>\n",
       "      <th>Estación</th>\n",
       "      <th>Valor</th>\n",
       "    </tr>\n",
       "  </thead>\n",
       "  <tbody>\n",
       "    <tr>\n",
       "      <th>0</th>\n",
       "      <td>2023-09-01</td>\n",
       "      <td>Precipitación</td>\n",
       "      <td>Noroeste</td>\n",
       "      <td>Casa de Campo</td>\n",
       "      <td>0,00</td>\n",
       "    </tr>\n",
       "    <tr>\n",
       "      <th>1</th>\n",
       "      <td>2023-09-02</td>\n",
       "      <td>Precipitación</td>\n",
       "      <td>Noroeste</td>\n",
       "      <td>Casa de Campo</td>\n",
       "      <td>0,48</td>\n",
       "    </tr>\n",
       "    <tr>\n",
       "      <th>2</th>\n",
       "      <td>2023-09-03</td>\n",
       "      <td>Precipitación</td>\n",
       "      <td>Noroeste</td>\n",
       "      <td>Casa de Campo</td>\n",
       "      <td>0,93</td>\n",
       "    </tr>\n",
       "    <tr>\n",
       "      <th>3</th>\n",
       "      <td>2023-09-04</td>\n",
       "      <td>Precipitación</td>\n",
       "      <td>Noroeste</td>\n",
       "      <td>Casa de Campo</td>\n",
       "      <td>1,92</td>\n",
       "    </tr>\n",
       "    <tr>\n",
       "      <th>4</th>\n",
       "      <td>2023-09-05</td>\n",
       "      <td>Precipitación</td>\n",
       "      <td>Noroeste</td>\n",
       "      <td>Casa de Campo</td>\n",
       "      <td>0,00</td>\n",
       "    </tr>\n",
       "  </tbody>\n",
       "</table>\n",
       "</div>"
      ],
      "text/plain": [
       "        Fecha       Magnitud      Zona       Estación Valor\n",
       "0  2023-09-01  Precipitación  Noroeste  Casa de Campo  0,00\n",
       "1  2023-09-02  Precipitación  Noroeste  Casa de Campo  0,48\n",
       "2  2023-09-03  Precipitación  Noroeste  Casa de Campo  0,93\n",
       "3  2023-09-04  Precipitación  Noroeste  Casa de Campo  1,92\n",
       "4  2023-09-05  Precipitación  Noroeste  Casa de Campo  0,00"
      ]
     },
     "execution_count": 194,
     "metadata": {},
     "output_type": "execute_result"
    }
   ],
   "source": [
    "df_precp_sep = pd.read_csv('C:/Users/rfg2m/Documents/DATA_SCIENCE/Entregas/Proyectos/MACHINE LEARNING/Data/raw/Data_23/precp_sep_23.csv', sep=';', encoding='utf-8')\n",
    "df_precp_sep.head()"
   ]
  },
  {
   "cell_type": "code",
   "execution_count": 195,
   "metadata": {},
   "outputs": [
    {
     "name": "stdout",
     "output_type": "stream",
     "text": [
      "<class 'pandas.core.frame.DataFrame'>\n",
      "RangeIndex: 30 entries, 0 to 29\n",
      "Data columns (total 5 columns):\n",
      " #   Column    Non-Null Count  Dtype \n",
      "---  ------    --------------  ----- \n",
      " 0   Fecha     30 non-null     object\n",
      " 1   Magnitud  30 non-null     object\n",
      " 2   Zona      30 non-null     object\n",
      " 3   Estación  30 non-null     object\n",
      " 4   Valor     30 non-null     object\n",
      "dtypes: object(5)\n",
      "memory usage: 1.3+ KB\n"
     ]
    }
   ],
   "source": [
    "df_precp_sep.info()"
   ]
  },
  {
   "cell_type": "code",
   "execution_count": 196,
   "metadata": {},
   "outputs": [
    {
     "name": "stdout",
     "output_type": "stream",
     "text": [
      "<class 'pandas.core.frame.DataFrame'>\n",
      "RangeIndex: 30 entries, 0 to 29\n",
      "Data columns (total 5 columns):\n",
      " #   Column    Non-Null Count  Dtype         \n",
      "---  ------    --------------  -----         \n",
      " 0   Fecha     30 non-null     datetime64[ns]\n",
      " 1   Magnitud  30 non-null     object        \n",
      " 2   Zona      30 non-null     object        \n",
      " 3   Estación  30 non-null     object        \n",
      " 4   Valor     30 non-null     object        \n",
      "dtypes: datetime64[ns](1), object(4)\n",
      "memory usage: 1.3+ KB\n"
     ]
    }
   ],
   "source": [
    "df_precp_sep[\"Fecha\"] = pd.to_datetime(df_precp_sep[\"Fecha\"])\n",
    "df_precp_sep.info()"
   ]
  },
  {
   "cell_type": "code",
   "execution_count": 197,
   "metadata": {},
   "outputs": [
    {
     "data": {
      "text/html": [
       "<div>\n",
       "<style scoped>\n",
       "    .dataframe tbody tr th:only-of-type {\n",
       "        vertical-align: middle;\n",
       "    }\n",
       "\n",
       "    .dataframe tbody tr th {\n",
       "        vertical-align: top;\n",
       "    }\n",
       "\n",
       "    .dataframe thead th {\n",
       "        text-align: right;\n",
       "    }\n",
       "</style>\n",
       "<table border=\"1\" class=\"dataframe\">\n",
       "  <thead>\n",
       "    <tr style=\"text-align: right;\">\n",
       "      <th></th>\n",
       "      <th>Fecha</th>\n",
       "      <th>Magnitud</th>\n",
       "      <th>Zona</th>\n",
       "      <th>Estación</th>\n",
       "      <th>Valor</th>\n",
       "    </tr>\n",
       "  </thead>\n",
       "  <tbody>\n",
       "    <tr>\n",
       "      <th>0</th>\n",
       "      <td>2023-09-01</td>\n",
       "      <td>Precipitación</td>\n",
       "      <td>Noroeste</td>\n",
       "      <td>Casa de Campo</td>\n",
       "      <td>0.00</td>\n",
       "    </tr>\n",
       "    <tr>\n",
       "      <th>1</th>\n",
       "      <td>2023-09-02</td>\n",
       "      <td>Precipitación</td>\n",
       "      <td>Noroeste</td>\n",
       "      <td>Casa de Campo</td>\n",
       "      <td>0.48</td>\n",
       "    </tr>\n",
       "    <tr>\n",
       "      <th>2</th>\n",
       "      <td>2023-09-03</td>\n",
       "      <td>Precipitación</td>\n",
       "      <td>Noroeste</td>\n",
       "      <td>Casa de Campo</td>\n",
       "      <td>0.93</td>\n",
       "    </tr>\n",
       "    <tr>\n",
       "      <th>3</th>\n",
       "      <td>2023-09-04</td>\n",
       "      <td>Precipitación</td>\n",
       "      <td>Noroeste</td>\n",
       "      <td>Casa de Campo</td>\n",
       "      <td>1.92</td>\n",
       "    </tr>\n",
       "    <tr>\n",
       "      <th>4</th>\n",
       "      <td>2023-09-05</td>\n",
       "      <td>Precipitación</td>\n",
       "      <td>Noroeste</td>\n",
       "      <td>Casa de Campo</td>\n",
       "      <td>0.00</td>\n",
       "    </tr>\n",
       "  </tbody>\n",
       "</table>\n",
       "</div>"
      ],
      "text/plain": [
       "       Fecha       Magnitud      Zona       Estación Valor\n",
       "0 2023-09-01  Precipitación  Noroeste  Casa de Campo  0.00\n",
       "1 2023-09-02  Precipitación  Noroeste  Casa de Campo  0.48\n",
       "2 2023-09-03  Precipitación  Noroeste  Casa de Campo  0.93\n",
       "3 2023-09-04  Precipitación  Noroeste  Casa de Campo  1.92\n",
       "4 2023-09-05  Precipitación  Noroeste  Casa de Campo  0.00"
      ]
     },
     "execution_count": 197,
     "metadata": {},
     "output_type": "execute_result"
    }
   ],
   "source": [
    "df_precp_sep['Valor'] = df_precp_sep['Valor'].str.replace(',', '.') #Reemplazar comas por puntos\n",
    "df_precp_sep['Valor'] = df_precp_sep['Valor'].str.replace(r'[^\\d\\.]', '', regex=True) #Eliminar caracteres no numéricos, exepto el punto \n",
    "df_precp_sep.head()"
   ]
  },
  {
   "cell_type": "code",
   "execution_count": 198,
   "metadata": {},
   "outputs": [],
   "source": [
    "df_precp_sep['Valor'] = pd.to_numeric(df_precp_sep['Valor'], errors='coerce')"
   ]
  },
  {
   "cell_type": "code",
   "execution_count": 199,
   "metadata": {},
   "outputs": [
    {
     "name": "stdout",
     "output_type": "stream",
     "text": [
      "<class 'pandas.core.frame.DataFrame'>\n",
      "RangeIndex: 30 entries, 0 to 29\n",
      "Data columns (total 5 columns):\n",
      " #   Column    Non-Null Count  Dtype         \n",
      "---  ------    --------------  -----         \n",
      " 0   Fecha     30 non-null     datetime64[ns]\n",
      " 1   Magnitud  30 non-null     object        \n",
      " 2   Zona      30 non-null     object        \n",
      " 3   Estación  30 non-null     object        \n",
      " 4   Valor     30 non-null     float64       \n",
      "dtypes: datetime64[ns](1), float64(1), object(3)\n",
      "memory usage: 1.3+ KB\n"
     ]
    }
   ],
   "source": [
    "df_precp_sep.info()"
   ]
  },
  {
   "cell_type": "code",
   "execution_count": 200,
   "metadata": {},
   "outputs": [
    {
     "data": {
      "text/html": [
       "<div>\n",
       "<style scoped>\n",
       "    .dataframe tbody tr th:only-of-type {\n",
       "        vertical-align: middle;\n",
       "    }\n",
       "\n",
       "    .dataframe tbody tr th {\n",
       "        vertical-align: top;\n",
       "    }\n",
       "\n",
       "    .dataframe thead th {\n",
       "        text-align: right;\n",
       "    }\n",
       "</style>\n",
       "<table border=\"1\" class=\"dataframe\">\n",
       "  <thead>\n",
       "    <tr style=\"text-align: right;\">\n",
       "      <th></th>\n",
       "      <th>Fecha</th>\n",
       "      <th>Magnitud</th>\n",
       "      <th>Zona</th>\n",
       "      <th>Estación</th>\n",
       "      <th>Valor</th>\n",
       "    </tr>\n",
       "  </thead>\n",
       "  <tbody>\n",
       "    <tr>\n",
       "      <th>0</th>\n",
       "      <td>2023-10-01</td>\n",
       "      <td>Precipitación</td>\n",
       "      <td>Noroeste</td>\n",
       "      <td>Casa de Campo</td>\n",
       "      <td>0,00</td>\n",
       "    </tr>\n",
       "    <tr>\n",
       "      <th>1</th>\n",
       "      <td>2023-10-02</td>\n",
       "      <td>Precipitación</td>\n",
       "      <td>Noroeste</td>\n",
       "      <td>Casa de Campo</td>\n",
       "      <td>0,00</td>\n",
       "    </tr>\n",
       "    <tr>\n",
       "      <th>2</th>\n",
       "      <td>2023-10-03</td>\n",
       "      <td>Precipitación</td>\n",
       "      <td>Noroeste</td>\n",
       "      <td>Casa de Campo</td>\n",
       "      <td>0,00</td>\n",
       "    </tr>\n",
       "    <tr>\n",
       "      <th>3</th>\n",
       "      <td>2023-10-04</td>\n",
       "      <td>Precipitación</td>\n",
       "      <td>Noroeste</td>\n",
       "      <td>Casa de Campo</td>\n",
       "      <td>0,00</td>\n",
       "    </tr>\n",
       "    <tr>\n",
       "      <th>4</th>\n",
       "      <td>2023-10-05</td>\n",
       "      <td>Precipitación</td>\n",
       "      <td>Noroeste</td>\n",
       "      <td>Casa de Campo</td>\n",
       "      <td>0,00</td>\n",
       "    </tr>\n",
       "  </tbody>\n",
       "</table>\n",
       "</div>"
      ],
      "text/plain": [
       "        Fecha       Magnitud      Zona       Estación Valor\n",
       "0  2023-10-01  Precipitación  Noroeste  Casa de Campo  0,00\n",
       "1  2023-10-02  Precipitación  Noroeste  Casa de Campo  0,00\n",
       "2  2023-10-03  Precipitación  Noroeste  Casa de Campo  0,00\n",
       "3  2023-10-04  Precipitación  Noroeste  Casa de Campo  0,00\n",
       "4  2023-10-05  Precipitación  Noroeste  Casa de Campo  0,00"
      ]
     },
     "execution_count": 200,
     "metadata": {},
     "output_type": "execute_result"
    }
   ],
   "source": [
    "df_precp_oct = pd.read_csv('C:/Users/rfg2m/Documents/DATA_SCIENCE/Entregas/Proyectos/MACHINE LEARNING/Data/raw/Data_23/precp_oct_23.csv', sep=';', encoding='utf-8')\n",
    "df_precp_oct.head()"
   ]
  },
  {
   "cell_type": "code",
   "execution_count": 201,
   "metadata": {},
   "outputs": [
    {
     "name": "stdout",
     "output_type": "stream",
     "text": [
      "<class 'pandas.core.frame.DataFrame'>\n",
      "RangeIndex: 31 entries, 0 to 30\n",
      "Data columns (total 5 columns):\n",
      " #   Column    Non-Null Count  Dtype \n",
      "---  ------    --------------  ----- \n",
      " 0   Fecha     31 non-null     object\n",
      " 1   Magnitud  31 non-null     object\n",
      " 2   Zona      31 non-null     object\n",
      " 3   Estación  31 non-null     object\n",
      " 4   Valor     31 non-null     object\n",
      "dtypes: object(5)\n",
      "memory usage: 1.3+ KB\n"
     ]
    }
   ],
   "source": [
    "df_precp_oct.info()"
   ]
  },
  {
   "cell_type": "code",
   "execution_count": 202,
   "metadata": {},
   "outputs": [
    {
     "name": "stdout",
     "output_type": "stream",
     "text": [
      "<class 'pandas.core.frame.DataFrame'>\n",
      "RangeIndex: 31 entries, 0 to 30\n",
      "Data columns (total 5 columns):\n",
      " #   Column    Non-Null Count  Dtype         \n",
      "---  ------    --------------  -----         \n",
      " 0   Fecha     31 non-null     datetime64[ns]\n",
      " 1   Magnitud  31 non-null     object        \n",
      " 2   Zona      31 non-null     object        \n",
      " 3   Estación  31 non-null     object        \n",
      " 4   Valor     31 non-null     object        \n",
      "dtypes: datetime64[ns](1), object(4)\n",
      "memory usage: 1.3+ KB\n"
     ]
    }
   ],
   "source": [
    "df_precp_oct[\"Fecha\"] = pd.to_datetime(df_precp_oct[\"Fecha\"])\n",
    "df_precp_oct.info()"
   ]
  },
  {
   "cell_type": "code",
   "execution_count": 203,
   "metadata": {},
   "outputs": [
    {
     "data": {
      "text/html": [
       "<div>\n",
       "<style scoped>\n",
       "    .dataframe tbody tr th:only-of-type {\n",
       "        vertical-align: middle;\n",
       "    }\n",
       "\n",
       "    .dataframe tbody tr th {\n",
       "        vertical-align: top;\n",
       "    }\n",
       "\n",
       "    .dataframe thead th {\n",
       "        text-align: right;\n",
       "    }\n",
       "</style>\n",
       "<table border=\"1\" class=\"dataframe\">\n",
       "  <thead>\n",
       "    <tr style=\"text-align: right;\">\n",
       "      <th></th>\n",
       "      <th>Fecha</th>\n",
       "      <th>Magnitud</th>\n",
       "      <th>Zona</th>\n",
       "      <th>Estación</th>\n",
       "      <th>Valor</th>\n",
       "    </tr>\n",
       "  </thead>\n",
       "  <tbody>\n",
       "    <tr>\n",
       "      <th>0</th>\n",
       "      <td>2023-10-01</td>\n",
       "      <td>Precipitación</td>\n",
       "      <td>Noroeste</td>\n",
       "      <td>Casa de Campo</td>\n",
       "      <td>0.00</td>\n",
       "    </tr>\n",
       "    <tr>\n",
       "      <th>1</th>\n",
       "      <td>2023-10-02</td>\n",
       "      <td>Precipitación</td>\n",
       "      <td>Noroeste</td>\n",
       "      <td>Casa de Campo</td>\n",
       "      <td>0.00</td>\n",
       "    </tr>\n",
       "    <tr>\n",
       "      <th>2</th>\n",
       "      <td>2023-10-03</td>\n",
       "      <td>Precipitación</td>\n",
       "      <td>Noroeste</td>\n",
       "      <td>Casa de Campo</td>\n",
       "      <td>0.00</td>\n",
       "    </tr>\n",
       "    <tr>\n",
       "      <th>3</th>\n",
       "      <td>2023-10-04</td>\n",
       "      <td>Precipitación</td>\n",
       "      <td>Noroeste</td>\n",
       "      <td>Casa de Campo</td>\n",
       "      <td>0.00</td>\n",
       "    </tr>\n",
       "    <tr>\n",
       "      <th>4</th>\n",
       "      <td>2023-10-05</td>\n",
       "      <td>Precipitación</td>\n",
       "      <td>Noroeste</td>\n",
       "      <td>Casa de Campo</td>\n",
       "      <td>0.00</td>\n",
       "    </tr>\n",
       "  </tbody>\n",
       "</table>\n",
       "</div>"
      ],
      "text/plain": [
       "       Fecha       Magnitud      Zona       Estación Valor\n",
       "0 2023-10-01  Precipitación  Noroeste  Casa de Campo  0.00\n",
       "1 2023-10-02  Precipitación  Noroeste  Casa de Campo  0.00\n",
       "2 2023-10-03  Precipitación  Noroeste  Casa de Campo  0.00\n",
       "3 2023-10-04  Precipitación  Noroeste  Casa de Campo  0.00\n",
       "4 2023-10-05  Precipitación  Noroeste  Casa de Campo  0.00"
      ]
     },
     "execution_count": 203,
     "metadata": {},
     "output_type": "execute_result"
    }
   ],
   "source": [
    "df_precp_oct['Valor'] = df_precp_oct['Valor'].str.replace(',', '.') #Reemplazar comas por puntos\n",
    "df_precp_oct['Valor'] = df_precp_oct['Valor'].str.replace(r'[^\\d\\.]', '', regex=True) #Eliminar caracteres no numéricos, exepto el punto \n",
    "df_precp_oct.head()"
   ]
  },
  {
   "cell_type": "code",
   "execution_count": 204,
   "metadata": {},
   "outputs": [],
   "source": [
    "df_precp_oct['Valor'] = pd.to_numeric(df_precp_oct['Valor'], errors='coerce')"
   ]
  },
  {
   "cell_type": "code",
   "execution_count": 205,
   "metadata": {},
   "outputs": [
    {
     "name": "stdout",
     "output_type": "stream",
     "text": [
      "<class 'pandas.core.frame.DataFrame'>\n",
      "RangeIndex: 31 entries, 0 to 30\n",
      "Data columns (total 5 columns):\n",
      " #   Column    Non-Null Count  Dtype         \n",
      "---  ------    --------------  -----         \n",
      " 0   Fecha     31 non-null     datetime64[ns]\n",
      " 1   Magnitud  31 non-null     object        \n",
      " 2   Zona      31 non-null     object        \n",
      " 3   Estación  31 non-null     object        \n",
      " 4   Valor     31 non-null     float64       \n",
      "dtypes: datetime64[ns](1), float64(1), object(3)\n",
      "memory usage: 1.3+ KB\n"
     ]
    }
   ],
   "source": [
    "df_precp_oct.info()"
   ]
  },
  {
   "cell_type": "code",
   "execution_count": 206,
   "metadata": {},
   "outputs": [
    {
     "data": {
      "text/html": [
       "<div>\n",
       "<style scoped>\n",
       "    .dataframe tbody tr th:only-of-type {\n",
       "        vertical-align: middle;\n",
       "    }\n",
       "\n",
       "    .dataframe tbody tr th {\n",
       "        vertical-align: top;\n",
       "    }\n",
       "\n",
       "    .dataframe thead th {\n",
       "        text-align: right;\n",
       "    }\n",
       "</style>\n",
       "<table border=\"1\" class=\"dataframe\">\n",
       "  <thead>\n",
       "    <tr style=\"text-align: right;\">\n",
       "      <th></th>\n",
       "      <th>Fecha</th>\n",
       "      <th>Magnitud</th>\n",
       "      <th>Zona</th>\n",
       "      <th>Estación</th>\n",
       "      <th>Valor</th>\n",
       "    </tr>\n",
       "  </thead>\n",
       "  <tbody>\n",
       "    <tr>\n",
       "      <th>0</th>\n",
       "      <td>2023-11-01</td>\n",
       "      <td>Precipitación</td>\n",
       "      <td>Noroeste</td>\n",
       "      <td>Casa de Campo</td>\n",
       "      <td>0,00</td>\n",
       "    </tr>\n",
       "    <tr>\n",
       "      <th>1</th>\n",
       "      <td>2023-11-02</td>\n",
       "      <td>Precipitación</td>\n",
       "      <td>Noroeste</td>\n",
       "      <td>Casa de Campo</td>\n",
       "      <td>0,24</td>\n",
       "    </tr>\n",
       "    <tr>\n",
       "      <th>2</th>\n",
       "      <td>2023-11-03</td>\n",
       "      <td>Precipitación</td>\n",
       "      <td>Noroeste</td>\n",
       "      <td>Casa de Campo</td>\n",
       "      <td>0,00</td>\n",
       "    </tr>\n",
       "    <tr>\n",
       "      <th>3</th>\n",
       "      <td>2023-11-04</td>\n",
       "      <td>Precipitación</td>\n",
       "      <td>Noroeste</td>\n",
       "      <td>Casa de Campo</td>\n",
       "      <td>0,03</td>\n",
       "    </tr>\n",
       "    <tr>\n",
       "      <th>4</th>\n",
       "      <td>2023-11-05</td>\n",
       "      <td>Precipitación</td>\n",
       "      <td>Noroeste</td>\n",
       "      <td>Casa de Campo</td>\n",
       "      <td>0,00</td>\n",
       "    </tr>\n",
       "  </tbody>\n",
       "</table>\n",
       "</div>"
      ],
      "text/plain": [
       "        Fecha       Magnitud      Zona       Estación Valor\n",
       "0  2023-11-01  Precipitación  Noroeste  Casa de Campo  0,00\n",
       "1  2023-11-02  Precipitación  Noroeste  Casa de Campo  0,24\n",
       "2  2023-11-03  Precipitación  Noroeste  Casa de Campo  0,00\n",
       "3  2023-11-04  Precipitación  Noroeste  Casa de Campo  0,03\n",
       "4  2023-11-05  Precipitación  Noroeste  Casa de Campo  0,00"
      ]
     },
     "execution_count": 206,
     "metadata": {},
     "output_type": "execute_result"
    }
   ],
   "source": [
    "df_precp_nov = pd.read_csv('C:/Users/rfg2m/Documents/DATA_SCIENCE/Entregas/Proyectos/MACHINE LEARNING/Data/raw/Data_23/precp_nov_23.csv', sep=';', encoding='utf-8')\n",
    "df_precp_nov.head()"
   ]
  },
  {
   "cell_type": "code",
   "execution_count": 207,
   "metadata": {},
   "outputs": [
    {
     "name": "stdout",
     "output_type": "stream",
     "text": [
      "<class 'pandas.core.frame.DataFrame'>\n",
      "RangeIndex: 30 entries, 0 to 29\n",
      "Data columns (total 5 columns):\n",
      " #   Column    Non-Null Count  Dtype \n",
      "---  ------    --------------  ----- \n",
      " 0   Fecha     30 non-null     object\n",
      " 1   Magnitud  30 non-null     object\n",
      " 2   Zona      30 non-null     object\n",
      " 3   Estación  30 non-null     object\n",
      " 4   Valor     28 non-null     object\n",
      "dtypes: object(5)\n",
      "memory usage: 1.3+ KB\n"
     ]
    }
   ],
   "source": [
    "df_precp_nov.info()"
   ]
  },
  {
   "cell_type": "code",
   "execution_count": 208,
   "metadata": {},
   "outputs": [
    {
     "name": "stdout",
     "output_type": "stream",
     "text": [
      "<class 'pandas.core.frame.DataFrame'>\n",
      "RangeIndex: 30 entries, 0 to 29\n",
      "Data columns (total 5 columns):\n",
      " #   Column    Non-Null Count  Dtype         \n",
      "---  ------    --------------  -----         \n",
      " 0   Fecha     30 non-null     datetime64[ns]\n",
      " 1   Magnitud  30 non-null     object        \n",
      " 2   Zona      30 non-null     object        \n",
      " 3   Estación  30 non-null     object        \n",
      " 4   Valor     28 non-null     object        \n",
      "dtypes: datetime64[ns](1), object(4)\n",
      "memory usage: 1.3+ KB\n"
     ]
    }
   ],
   "source": [
    "df_precp_nov[\"Fecha\"] = pd.to_datetime(df_precp_nov[\"Fecha\"])\n",
    "df_precp_nov.info()"
   ]
  },
  {
   "cell_type": "code",
   "execution_count": 209,
   "metadata": {},
   "outputs": [
    {
     "data": {
      "text/html": [
       "<div>\n",
       "<style scoped>\n",
       "    .dataframe tbody tr th:only-of-type {\n",
       "        vertical-align: middle;\n",
       "    }\n",
       "\n",
       "    .dataframe tbody tr th {\n",
       "        vertical-align: top;\n",
       "    }\n",
       "\n",
       "    .dataframe thead th {\n",
       "        text-align: right;\n",
       "    }\n",
       "</style>\n",
       "<table border=\"1\" class=\"dataframe\">\n",
       "  <thead>\n",
       "    <tr style=\"text-align: right;\">\n",
       "      <th></th>\n",
       "      <th>Fecha</th>\n",
       "      <th>Magnitud</th>\n",
       "      <th>Zona</th>\n",
       "      <th>Estación</th>\n",
       "      <th>Valor</th>\n",
       "    </tr>\n",
       "  </thead>\n",
       "  <tbody>\n",
       "    <tr>\n",
       "      <th>0</th>\n",
       "      <td>2023-11-01</td>\n",
       "      <td>Precipitación</td>\n",
       "      <td>Noroeste</td>\n",
       "      <td>Casa de Campo</td>\n",
       "      <td>0.00</td>\n",
       "    </tr>\n",
       "    <tr>\n",
       "      <th>1</th>\n",
       "      <td>2023-11-02</td>\n",
       "      <td>Precipitación</td>\n",
       "      <td>Noroeste</td>\n",
       "      <td>Casa de Campo</td>\n",
       "      <td>0.24</td>\n",
       "    </tr>\n",
       "    <tr>\n",
       "      <th>2</th>\n",
       "      <td>2023-11-03</td>\n",
       "      <td>Precipitación</td>\n",
       "      <td>Noroeste</td>\n",
       "      <td>Casa de Campo</td>\n",
       "      <td>0.00</td>\n",
       "    </tr>\n",
       "    <tr>\n",
       "      <th>3</th>\n",
       "      <td>2023-11-04</td>\n",
       "      <td>Precipitación</td>\n",
       "      <td>Noroeste</td>\n",
       "      <td>Casa de Campo</td>\n",
       "      <td>0.03</td>\n",
       "    </tr>\n",
       "    <tr>\n",
       "      <th>4</th>\n",
       "      <td>2023-11-05</td>\n",
       "      <td>Precipitación</td>\n",
       "      <td>Noroeste</td>\n",
       "      <td>Casa de Campo</td>\n",
       "      <td>0.00</td>\n",
       "    </tr>\n",
       "  </tbody>\n",
       "</table>\n",
       "</div>"
      ],
      "text/plain": [
       "       Fecha       Magnitud      Zona       Estación Valor\n",
       "0 2023-11-01  Precipitación  Noroeste  Casa de Campo  0.00\n",
       "1 2023-11-02  Precipitación  Noroeste  Casa de Campo  0.24\n",
       "2 2023-11-03  Precipitación  Noroeste  Casa de Campo  0.00\n",
       "3 2023-11-04  Precipitación  Noroeste  Casa de Campo  0.03\n",
       "4 2023-11-05  Precipitación  Noroeste  Casa de Campo  0.00"
      ]
     },
     "execution_count": 209,
     "metadata": {},
     "output_type": "execute_result"
    }
   ],
   "source": [
    "df_precp_nov['Valor'] = df_precp_nov['Valor'].str.replace(',', '.') #Reemplazar comas por puntos\n",
    "df_precp_nov['Valor'] = df_precp_nov['Valor'].str.replace(r'[^\\d\\.]', '', regex=True) #Eliminar caracteres no numéricos, exepto el punto \n",
    "df_precp_nov.head()"
   ]
  },
  {
   "cell_type": "code",
   "execution_count": 210,
   "metadata": {},
   "outputs": [],
   "source": [
    "df_precp_nov['Valor'] = pd.to_numeric(df_precp_nov['Valor'], errors='coerce')"
   ]
  },
  {
   "cell_type": "code",
   "execution_count": 211,
   "metadata": {},
   "outputs": [
    {
     "name": "stdout",
     "output_type": "stream",
     "text": [
      "        Fecha       Magnitud      Zona       Estación  Valor\n",
      "22 2023-11-23  Precipitación  Noroeste  Casa de Campo    NaN\n",
      "23 2023-11-24  Precipitación  Noroeste  Casa de Campo    NaN\n"
     ]
    }
   ],
   "source": [
    "df_nulos = df_precp_nov[df_precp_nov.isnull().any(axis=1)]\n",
    "print(df_nulos)"
   ]
  },
  {
   "cell_type": "code",
   "execution_count": 212,
   "metadata": {},
   "outputs": [
    {
     "data": {
      "text/html": [
       "<div>\n",
       "<style scoped>\n",
       "    .dataframe tbody tr th:only-of-type {\n",
       "        vertical-align: middle;\n",
       "    }\n",
       "\n",
       "    .dataframe tbody tr th {\n",
       "        vertical-align: top;\n",
       "    }\n",
       "\n",
       "    .dataframe thead th {\n",
       "        text-align: right;\n",
       "    }\n",
       "</style>\n",
       "<table border=\"1\" class=\"dataframe\">\n",
       "  <thead>\n",
       "    <tr style=\"text-align: right;\">\n",
       "      <th></th>\n",
       "      <th>Fecha</th>\n",
       "      <th>Magnitud</th>\n",
       "      <th>Zona</th>\n",
       "      <th>Estación</th>\n",
       "      <th>Valor</th>\n",
       "    </tr>\n",
       "  </thead>\n",
       "  <tbody>\n",
       "    <tr>\n",
       "      <th>0</th>\n",
       "      <td>2023-11-01</td>\n",
       "      <td>Precipitación</td>\n",
       "      <td>Noroeste</td>\n",
       "      <td>Casa de Campo</td>\n",
       "      <td>0.000000</td>\n",
       "    </tr>\n",
       "    <tr>\n",
       "      <th>1</th>\n",
       "      <td>2023-11-02</td>\n",
       "      <td>Precipitación</td>\n",
       "      <td>Noroeste</td>\n",
       "      <td>Casa de Campo</td>\n",
       "      <td>0.240000</td>\n",
       "    </tr>\n",
       "    <tr>\n",
       "      <th>2</th>\n",
       "      <td>2023-11-03</td>\n",
       "      <td>Precipitación</td>\n",
       "      <td>Noroeste</td>\n",
       "      <td>Casa de Campo</td>\n",
       "      <td>0.000000</td>\n",
       "    </tr>\n",
       "    <tr>\n",
       "      <th>3</th>\n",
       "      <td>2023-11-04</td>\n",
       "      <td>Precipitación</td>\n",
       "      <td>Noroeste</td>\n",
       "      <td>Casa de Campo</td>\n",
       "      <td>0.030000</td>\n",
       "    </tr>\n",
       "    <tr>\n",
       "      <th>4</th>\n",
       "      <td>2023-11-05</td>\n",
       "      <td>Precipitación</td>\n",
       "      <td>Noroeste</td>\n",
       "      <td>Casa de Campo</td>\n",
       "      <td>0.000000</td>\n",
       "    </tr>\n",
       "    <tr>\n",
       "      <th>5</th>\n",
       "      <td>2023-11-06</td>\n",
       "      <td>Precipitación</td>\n",
       "      <td>Noroeste</td>\n",
       "      <td>Casa de Campo</td>\n",
       "      <td>0.000000</td>\n",
       "    </tr>\n",
       "    <tr>\n",
       "      <th>6</th>\n",
       "      <td>2023-11-07</td>\n",
       "      <td>Precipitación</td>\n",
       "      <td>Noroeste</td>\n",
       "      <td>Casa de Campo</td>\n",
       "      <td>0.000000</td>\n",
       "    </tr>\n",
       "    <tr>\n",
       "      <th>7</th>\n",
       "      <td>2023-11-08</td>\n",
       "      <td>Precipitación</td>\n",
       "      <td>Noroeste</td>\n",
       "      <td>Casa de Campo</td>\n",
       "      <td>0.000000</td>\n",
       "    </tr>\n",
       "    <tr>\n",
       "      <th>8</th>\n",
       "      <td>2023-11-09</td>\n",
       "      <td>Precipitación</td>\n",
       "      <td>Noroeste</td>\n",
       "      <td>Casa de Campo</td>\n",
       "      <td>0.010000</td>\n",
       "    </tr>\n",
       "    <tr>\n",
       "      <th>9</th>\n",
       "      <td>2023-11-10</td>\n",
       "      <td>Precipitación</td>\n",
       "      <td>Noroeste</td>\n",
       "      <td>Casa de Campo</td>\n",
       "      <td>0.020000</td>\n",
       "    </tr>\n",
       "    <tr>\n",
       "      <th>10</th>\n",
       "      <td>2023-11-11</td>\n",
       "      <td>Precipitación</td>\n",
       "      <td>Noroeste</td>\n",
       "      <td>Casa de Campo</td>\n",
       "      <td>0.000000</td>\n",
       "    </tr>\n",
       "    <tr>\n",
       "      <th>11</th>\n",
       "      <td>2023-11-12</td>\n",
       "      <td>Precipitación</td>\n",
       "      <td>Noroeste</td>\n",
       "      <td>Casa de Campo</td>\n",
       "      <td>0.000000</td>\n",
       "    </tr>\n",
       "    <tr>\n",
       "      <th>12</th>\n",
       "      <td>2023-11-13</td>\n",
       "      <td>Precipitación</td>\n",
       "      <td>Noroeste</td>\n",
       "      <td>Casa de Campo</td>\n",
       "      <td>0.000000</td>\n",
       "    </tr>\n",
       "    <tr>\n",
       "      <th>13</th>\n",
       "      <td>2023-11-14</td>\n",
       "      <td>Precipitación</td>\n",
       "      <td>Noroeste</td>\n",
       "      <td>Casa de Campo</td>\n",
       "      <td>0.000000</td>\n",
       "    </tr>\n",
       "    <tr>\n",
       "      <th>14</th>\n",
       "      <td>2023-11-15</td>\n",
       "      <td>Precipitación</td>\n",
       "      <td>Noroeste</td>\n",
       "      <td>Casa de Campo</td>\n",
       "      <td>0.000000</td>\n",
       "    </tr>\n",
       "    <tr>\n",
       "      <th>15</th>\n",
       "      <td>2023-11-16</td>\n",
       "      <td>Precipitación</td>\n",
       "      <td>Noroeste</td>\n",
       "      <td>Casa de Campo</td>\n",
       "      <td>0.000000</td>\n",
       "    </tr>\n",
       "    <tr>\n",
       "      <th>16</th>\n",
       "      <td>2023-11-17</td>\n",
       "      <td>Precipitación</td>\n",
       "      <td>Noroeste</td>\n",
       "      <td>Casa de Campo</td>\n",
       "      <td>0.000000</td>\n",
       "    </tr>\n",
       "    <tr>\n",
       "      <th>17</th>\n",
       "      <td>2023-11-18</td>\n",
       "      <td>Precipitación</td>\n",
       "      <td>Noroeste</td>\n",
       "      <td>Casa de Campo</td>\n",
       "      <td>0.000000</td>\n",
       "    </tr>\n",
       "    <tr>\n",
       "      <th>18</th>\n",
       "      <td>2023-11-19</td>\n",
       "      <td>Precipitación</td>\n",
       "      <td>Noroeste</td>\n",
       "      <td>Casa de Campo</td>\n",
       "      <td>0.000000</td>\n",
       "    </tr>\n",
       "    <tr>\n",
       "      <th>19</th>\n",
       "      <td>2023-11-20</td>\n",
       "      <td>Precipitación</td>\n",
       "      <td>Noroeste</td>\n",
       "      <td>Casa de Campo</td>\n",
       "      <td>0.000000</td>\n",
       "    </tr>\n",
       "    <tr>\n",
       "      <th>20</th>\n",
       "      <td>2023-11-21</td>\n",
       "      <td>Precipitación</td>\n",
       "      <td>Noroeste</td>\n",
       "      <td>Casa de Campo</td>\n",
       "      <td>0.000000</td>\n",
       "    </tr>\n",
       "    <tr>\n",
       "      <th>21</th>\n",
       "      <td>2023-11-22</td>\n",
       "      <td>Precipitación</td>\n",
       "      <td>Noroeste</td>\n",
       "      <td>Casa de Campo</td>\n",
       "      <td>0.000000</td>\n",
       "    </tr>\n",
       "    <tr>\n",
       "      <th>22</th>\n",
       "      <td>2023-11-23</td>\n",
       "      <td>Precipitación</td>\n",
       "      <td>Noroeste</td>\n",
       "      <td>Casa de Campo</td>\n",
       "      <td>0.032143</td>\n",
       "    </tr>\n",
       "    <tr>\n",
       "      <th>23</th>\n",
       "      <td>2023-11-24</td>\n",
       "      <td>Precipitación</td>\n",
       "      <td>Noroeste</td>\n",
       "      <td>Casa de Campo</td>\n",
       "      <td>0.032143</td>\n",
       "    </tr>\n",
       "    <tr>\n",
       "      <th>24</th>\n",
       "      <td>2023-11-25</td>\n",
       "      <td>Precipitación</td>\n",
       "      <td>Noroeste</td>\n",
       "      <td>Casa de Campo</td>\n",
       "      <td>0.000000</td>\n",
       "    </tr>\n",
       "  </tbody>\n",
       "</table>\n",
       "</div>"
      ],
      "text/plain": [
       "        Fecha       Magnitud      Zona       Estación     Valor\n",
       "0  2023-11-01  Precipitación  Noroeste  Casa de Campo  0.000000\n",
       "1  2023-11-02  Precipitación  Noroeste  Casa de Campo  0.240000\n",
       "2  2023-11-03  Precipitación  Noroeste  Casa de Campo  0.000000\n",
       "3  2023-11-04  Precipitación  Noroeste  Casa de Campo  0.030000\n",
       "4  2023-11-05  Precipitación  Noroeste  Casa de Campo  0.000000\n",
       "5  2023-11-06  Precipitación  Noroeste  Casa de Campo  0.000000\n",
       "6  2023-11-07  Precipitación  Noroeste  Casa de Campo  0.000000\n",
       "7  2023-11-08  Precipitación  Noroeste  Casa de Campo  0.000000\n",
       "8  2023-11-09  Precipitación  Noroeste  Casa de Campo  0.010000\n",
       "9  2023-11-10  Precipitación  Noroeste  Casa de Campo  0.020000\n",
       "10 2023-11-11  Precipitación  Noroeste  Casa de Campo  0.000000\n",
       "11 2023-11-12  Precipitación  Noroeste  Casa de Campo  0.000000\n",
       "12 2023-11-13  Precipitación  Noroeste  Casa de Campo  0.000000\n",
       "13 2023-11-14  Precipitación  Noroeste  Casa de Campo  0.000000\n",
       "14 2023-11-15  Precipitación  Noroeste  Casa de Campo  0.000000\n",
       "15 2023-11-16  Precipitación  Noroeste  Casa de Campo  0.000000\n",
       "16 2023-11-17  Precipitación  Noroeste  Casa de Campo  0.000000\n",
       "17 2023-11-18  Precipitación  Noroeste  Casa de Campo  0.000000\n",
       "18 2023-11-19  Precipitación  Noroeste  Casa de Campo  0.000000\n",
       "19 2023-11-20  Precipitación  Noroeste  Casa de Campo  0.000000\n",
       "20 2023-11-21  Precipitación  Noroeste  Casa de Campo  0.000000\n",
       "21 2023-11-22  Precipitación  Noroeste  Casa de Campo  0.000000\n",
       "22 2023-11-23  Precipitación  Noroeste  Casa de Campo  0.032143\n",
       "23 2023-11-24  Precipitación  Noroeste  Casa de Campo  0.032143\n",
       "24 2023-11-25  Precipitación  Noroeste  Casa de Campo  0.000000"
      ]
     },
     "execution_count": 212,
     "metadata": {},
     "output_type": "execute_result"
    }
   ],
   "source": [
    "df_precp_nov['Valor'] = df_precp_nov['Valor'].fillna(df_precp_nov['Valor'].mean())\n",
    "df_precp_nov.head(25)"
   ]
  },
  {
   "cell_type": "code",
   "execution_count": 213,
   "metadata": {},
   "outputs": [
    {
     "name": "stdout",
     "output_type": "stream",
     "text": [
      "<class 'pandas.core.frame.DataFrame'>\n",
      "RangeIndex: 30 entries, 0 to 29\n",
      "Data columns (total 5 columns):\n",
      " #   Column    Non-Null Count  Dtype         \n",
      "---  ------    --------------  -----         \n",
      " 0   Fecha     30 non-null     datetime64[ns]\n",
      " 1   Magnitud  30 non-null     object        \n",
      " 2   Zona      30 non-null     object        \n",
      " 3   Estación  30 non-null     object        \n",
      " 4   Valor     30 non-null     float64       \n",
      "dtypes: datetime64[ns](1), float64(1), object(3)\n",
      "memory usage: 1.3+ KB\n"
     ]
    }
   ],
   "source": [
    "df_precp_nov.info()"
   ]
  },
  {
   "cell_type": "code",
   "execution_count": 214,
   "metadata": {},
   "outputs": [
    {
     "data": {
      "text/html": [
       "<div>\n",
       "<style scoped>\n",
       "    .dataframe tbody tr th:only-of-type {\n",
       "        vertical-align: middle;\n",
       "    }\n",
       "\n",
       "    .dataframe tbody tr th {\n",
       "        vertical-align: top;\n",
       "    }\n",
       "\n",
       "    .dataframe thead th {\n",
       "        text-align: right;\n",
       "    }\n",
       "</style>\n",
       "<table border=\"1\" class=\"dataframe\">\n",
       "  <thead>\n",
       "    <tr style=\"text-align: right;\">\n",
       "      <th></th>\n",
       "      <th>Fecha</th>\n",
       "      <th>Magnitud</th>\n",
       "      <th>Zona</th>\n",
       "      <th>Estación</th>\n",
       "      <th>Valor</th>\n",
       "    </tr>\n",
       "  </thead>\n",
       "  <tbody>\n",
       "    <tr>\n",
       "      <th>0</th>\n",
       "      <td>2023-12-01</td>\n",
       "      <td>Precipitación</td>\n",
       "      <td>Noroeste</td>\n",
       "      <td>Casa de Campo</td>\n",
       "      <td>0,54</td>\n",
       "    </tr>\n",
       "    <tr>\n",
       "      <th>1</th>\n",
       "      <td>2023-12-02</td>\n",
       "      <td>Precipitación</td>\n",
       "      <td>Noroeste</td>\n",
       "      <td>Casa de Campo</td>\n",
       "      <td>0,00</td>\n",
       "    </tr>\n",
       "    <tr>\n",
       "      <th>2</th>\n",
       "      <td>2023-12-03</td>\n",
       "      <td>Precipitación</td>\n",
       "      <td>Noroeste</td>\n",
       "      <td>Casa de Campo</td>\n",
       "      <td>0,00</td>\n",
       "    </tr>\n",
       "    <tr>\n",
       "      <th>3</th>\n",
       "      <td>2023-12-04</td>\n",
       "      <td>Precipitación</td>\n",
       "      <td>Noroeste</td>\n",
       "      <td>Casa de Campo</td>\n",
       "      <td>0,03</td>\n",
       "    </tr>\n",
       "    <tr>\n",
       "      <th>4</th>\n",
       "      <td>2023-12-05</td>\n",
       "      <td>Precipitación</td>\n",
       "      <td>Noroeste</td>\n",
       "      <td>Casa de Campo</td>\n",
       "      <td>0,00</td>\n",
       "    </tr>\n",
       "  </tbody>\n",
       "</table>\n",
       "</div>"
      ],
      "text/plain": [
       "        Fecha       Magnitud      Zona       Estación Valor\n",
       "0  2023-12-01  Precipitación  Noroeste  Casa de Campo  0,54\n",
       "1  2023-12-02  Precipitación  Noroeste  Casa de Campo  0,00\n",
       "2  2023-12-03  Precipitación  Noroeste  Casa de Campo  0,00\n",
       "3  2023-12-04  Precipitación  Noroeste  Casa de Campo  0,03\n",
       "4  2023-12-05  Precipitación  Noroeste  Casa de Campo  0,00"
      ]
     },
     "execution_count": 214,
     "metadata": {},
     "output_type": "execute_result"
    }
   ],
   "source": [
    "df_precp_dic = pd.read_csv('C:/Users/rfg2m/Documents/DATA_SCIENCE/Entregas/Proyectos/MACHINE LEARNING/Data/raw/Data_23/precp_dic_23.csv', sep=';', encoding='utf-8')\n",
    "df_precp_dic.head()"
   ]
  },
  {
   "cell_type": "code",
   "execution_count": 215,
   "metadata": {},
   "outputs": [
    {
     "name": "stdout",
     "output_type": "stream",
     "text": [
      "<class 'pandas.core.frame.DataFrame'>\n",
      "RangeIndex: 31 entries, 0 to 30\n",
      "Data columns (total 5 columns):\n",
      " #   Column    Non-Null Count  Dtype \n",
      "---  ------    --------------  ----- \n",
      " 0   Fecha     31 non-null     object\n",
      " 1   Magnitud  31 non-null     object\n",
      " 2   Zona      31 non-null     object\n",
      " 3   Estación  31 non-null     object\n",
      " 4   Valor     31 non-null     object\n",
      "dtypes: object(5)\n",
      "memory usage: 1.3+ KB\n"
     ]
    }
   ],
   "source": [
    "df_precp_dic.info()"
   ]
  },
  {
   "cell_type": "code",
   "execution_count": 216,
   "metadata": {},
   "outputs": [
    {
     "name": "stdout",
     "output_type": "stream",
     "text": [
      "<class 'pandas.core.frame.DataFrame'>\n",
      "RangeIndex: 31 entries, 0 to 30\n",
      "Data columns (total 5 columns):\n",
      " #   Column    Non-Null Count  Dtype         \n",
      "---  ------    --------------  -----         \n",
      " 0   Fecha     31 non-null     datetime64[ns]\n",
      " 1   Magnitud  31 non-null     object        \n",
      " 2   Zona      31 non-null     object        \n",
      " 3   Estación  31 non-null     object        \n",
      " 4   Valor     31 non-null     object        \n",
      "dtypes: datetime64[ns](1), object(4)\n",
      "memory usage: 1.3+ KB\n"
     ]
    }
   ],
   "source": [
    "df_precp_dic[\"Fecha\"] = pd.to_datetime(df_precp_dic[\"Fecha\"])\n",
    "df_precp_dic.info()"
   ]
  },
  {
   "cell_type": "code",
   "execution_count": 217,
   "metadata": {},
   "outputs": [
    {
     "data": {
      "text/html": [
       "<div>\n",
       "<style scoped>\n",
       "    .dataframe tbody tr th:only-of-type {\n",
       "        vertical-align: middle;\n",
       "    }\n",
       "\n",
       "    .dataframe tbody tr th {\n",
       "        vertical-align: top;\n",
       "    }\n",
       "\n",
       "    .dataframe thead th {\n",
       "        text-align: right;\n",
       "    }\n",
       "</style>\n",
       "<table border=\"1\" class=\"dataframe\">\n",
       "  <thead>\n",
       "    <tr style=\"text-align: right;\">\n",
       "      <th></th>\n",
       "      <th>Fecha</th>\n",
       "      <th>Magnitud</th>\n",
       "      <th>Zona</th>\n",
       "      <th>Estación</th>\n",
       "      <th>Valor</th>\n",
       "    </tr>\n",
       "  </thead>\n",
       "  <tbody>\n",
       "    <tr>\n",
       "      <th>0</th>\n",
       "      <td>2023-12-01</td>\n",
       "      <td>Precipitación</td>\n",
       "      <td>Noroeste</td>\n",
       "      <td>Casa de Campo</td>\n",
       "      <td>0.54</td>\n",
       "    </tr>\n",
       "    <tr>\n",
       "      <th>1</th>\n",
       "      <td>2023-12-02</td>\n",
       "      <td>Precipitación</td>\n",
       "      <td>Noroeste</td>\n",
       "      <td>Casa de Campo</td>\n",
       "      <td>0.00</td>\n",
       "    </tr>\n",
       "    <tr>\n",
       "      <th>2</th>\n",
       "      <td>2023-12-03</td>\n",
       "      <td>Precipitación</td>\n",
       "      <td>Noroeste</td>\n",
       "      <td>Casa de Campo</td>\n",
       "      <td>0.00</td>\n",
       "    </tr>\n",
       "    <tr>\n",
       "      <th>3</th>\n",
       "      <td>2023-12-04</td>\n",
       "      <td>Precipitación</td>\n",
       "      <td>Noroeste</td>\n",
       "      <td>Casa de Campo</td>\n",
       "      <td>0.03</td>\n",
       "    </tr>\n",
       "    <tr>\n",
       "      <th>4</th>\n",
       "      <td>2023-12-05</td>\n",
       "      <td>Precipitación</td>\n",
       "      <td>Noroeste</td>\n",
       "      <td>Casa de Campo</td>\n",
       "      <td>0.00</td>\n",
       "    </tr>\n",
       "  </tbody>\n",
       "</table>\n",
       "</div>"
      ],
      "text/plain": [
       "       Fecha       Magnitud      Zona       Estación Valor\n",
       "0 2023-12-01  Precipitación  Noroeste  Casa de Campo  0.54\n",
       "1 2023-12-02  Precipitación  Noroeste  Casa de Campo  0.00\n",
       "2 2023-12-03  Precipitación  Noroeste  Casa de Campo  0.00\n",
       "3 2023-12-04  Precipitación  Noroeste  Casa de Campo  0.03\n",
       "4 2023-12-05  Precipitación  Noroeste  Casa de Campo  0.00"
      ]
     },
     "execution_count": 217,
     "metadata": {},
     "output_type": "execute_result"
    }
   ],
   "source": [
    "df_precp_dic['Valor'] = df_precp_dic['Valor'].str.replace(',', '.') #Reemplazar comas por puntos\n",
    "df_precp_dic['Valor'] = df_precp_dic['Valor'].str.replace(r'[^\\d\\.]', '', regex=True) #Eliminar caracteres no numéricos, exepto el punto \n",
    "df_precp_dic.head()"
   ]
  },
  {
   "cell_type": "code",
   "execution_count": 218,
   "metadata": {},
   "outputs": [],
   "source": [
    "df_precp_dic['Valor'] = pd.to_numeric(df_precp_dic['Valor'], errors='coerce')"
   ]
  },
  {
   "cell_type": "code",
   "execution_count": 219,
   "metadata": {},
   "outputs": [
    {
     "name": "stdout",
     "output_type": "stream",
     "text": [
      "<class 'pandas.core.frame.DataFrame'>\n",
      "RangeIndex: 31 entries, 0 to 30\n",
      "Data columns (total 5 columns):\n",
      " #   Column    Non-Null Count  Dtype         \n",
      "---  ------    --------------  -----         \n",
      " 0   Fecha     31 non-null     datetime64[ns]\n",
      " 1   Magnitud  31 non-null     object        \n",
      " 2   Zona      31 non-null     object        \n",
      " 3   Estación  31 non-null     object        \n",
      " 4   Valor     31 non-null     float64       \n",
      "dtypes: datetime64[ns](1), float64(1), object(3)\n",
      "memory usage: 1.3+ KB\n"
     ]
    }
   ],
   "source": [
    "df_precp_dic.info()"
   ]
  },
  {
   "cell_type": "code",
   "execution_count": 220,
   "metadata": {},
   "outputs": [
    {
     "data": {
      "text/html": [
       "<div>\n",
       "<style scoped>\n",
       "    .dataframe tbody tr th:only-of-type {\n",
       "        vertical-align: middle;\n",
       "    }\n",
       "\n",
       "    .dataframe tbody tr th {\n",
       "        vertical-align: top;\n",
       "    }\n",
       "\n",
       "    .dataframe thead th {\n",
       "        text-align: right;\n",
       "    }\n",
       "</style>\n",
       "<table border=\"1\" class=\"dataframe\">\n",
       "  <thead>\n",
       "    <tr style=\"text-align: right;\">\n",
       "      <th></th>\n",
       "      <th>Fecha</th>\n",
       "      <th>Magnitud</th>\n",
       "      <th>Zona</th>\n",
       "      <th>Estación</th>\n",
       "      <th>Valor</th>\n",
       "    </tr>\n",
       "  </thead>\n",
       "  <tbody>\n",
       "    <tr>\n",
       "      <th>0</th>\n",
       "      <td>2023-01-01</td>\n",
       "      <td>Precipitación</td>\n",
       "      <td>Noroeste</td>\n",
       "      <td>Casa de Campo</td>\n",
       "      <td>0.0</td>\n",
       "    </tr>\n",
       "    <tr>\n",
       "      <th>1</th>\n",
       "      <td>2023-01-02</td>\n",
       "      <td>Precipitación</td>\n",
       "      <td>Noroeste</td>\n",
       "      <td>Casa de Campo</td>\n",
       "      <td>0.0</td>\n",
       "    </tr>\n",
       "    <tr>\n",
       "      <th>2</th>\n",
       "      <td>2023-01-03</td>\n",
       "      <td>Precipitación</td>\n",
       "      <td>Noroeste</td>\n",
       "      <td>Casa de Campo</td>\n",
       "      <td>0.0</td>\n",
       "    </tr>\n",
       "    <tr>\n",
       "      <th>3</th>\n",
       "      <td>2023-01-04</td>\n",
       "      <td>Precipitación</td>\n",
       "      <td>Noroeste</td>\n",
       "      <td>Casa de Campo</td>\n",
       "      <td>0.0</td>\n",
       "    </tr>\n",
       "    <tr>\n",
       "      <th>4</th>\n",
       "      <td>2023-01-05</td>\n",
       "      <td>Precipitación</td>\n",
       "      <td>Noroeste</td>\n",
       "      <td>Casa de Campo</td>\n",
       "      <td>0.0</td>\n",
       "    </tr>\n",
       "    <tr>\n",
       "      <th>...</th>\n",
       "      <td>...</td>\n",
       "      <td>...</td>\n",
       "      <td>...</td>\n",
       "      <td>...</td>\n",
       "      <td>...</td>\n",
       "    </tr>\n",
       "    <tr>\n",
       "      <th>360</th>\n",
       "      <td>2023-12-27</td>\n",
       "      <td>Precipitación</td>\n",
       "      <td>Noroeste</td>\n",
       "      <td>Casa de Campo</td>\n",
       "      <td>0.0</td>\n",
       "    </tr>\n",
       "    <tr>\n",
       "      <th>361</th>\n",
       "      <td>2023-12-28</td>\n",
       "      <td>Precipitación</td>\n",
       "      <td>Noroeste</td>\n",
       "      <td>Casa de Campo</td>\n",
       "      <td>0.0</td>\n",
       "    </tr>\n",
       "    <tr>\n",
       "      <th>362</th>\n",
       "      <td>2023-12-29</td>\n",
       "      <td>Precipitación</td>\n",
       "      <td>Noroeste</td>\n",
       "      <td>Casa de Campo</td>\n",
       "      <td>0.0</td>\n",
       "    </tr>\n",
       "    <tr>\n",
       "      <th>363</th>\n",
       "      <td>2023-12-30</td>\n",
       "      <td>Precipitación</td>\n",
       "      <td>Noroeste</td>\n",
       "      <td>Casa de Campo</td>\n",
       "      <td>0.0</td>\n",
       "    </tr>\n",
       "    <tr>\n",
       "      <th>364</th>\n",
       "      <td>2023-12-31</td>\n",
       "      <td>Precipitación</td>\n",
       "      <td>Noroeste</td>\n",
       "      <td>Casa de Campo</td>\n",
       "      <td>0.0</td>\n",
       "    </tr>\n",
       "  </tbody>\n",
       "</table>\n",
       "<p>365 rows × 5 columns</p>\n",
       "</div>"
      ],
      "text/plain": [
       "         Fecha       Magnitud      Zona       Estación  Valor\n",
       "0   2023-01-01  Precipitación  Noroeste  Casa de Campo    0.0\n",
       "1   2023-01-02  Precipitación  Noroeste  Casa de Campo    0.0\n",
       "2   2023-01-03  Precipitación  Noroeste  Casa de Campo    0.0\n",
       "3   2023-01-04  Precipitación  Noroeste  Casa de Campo    0.0\n",
       "4   2023-01-05  Precipitación  Noroeste  Casa de Campo    0.0\n",
       "..         ...            ...       ...            ...    ...\n",
       "360 2023-12-27  Precipitación  Noroeste  Casa de Campo    0.0\n",
       "361 2023-12-28  Precipitación  Noroeste  Casa de Campo    0.0\n",
       "362 2023-12-29  Precipitación  Noroeste  Casa de Campo    0.0\n",
       "363 2023-12-30  Precipitación  Noroeste  Casa de Campo    0.0\n",
       "364 2023-12-31  Precipitación  Noroeste  Casa de Campo    0.0\n",
       "\n",
       "[365 rows x 5 columns]"
      ]
     },
     "execution_count": 220,
     "metadata": {},
     "output_type": "execute_result"
    }
   ],
   "source": [
    "df_precp = pd.concat([df_precp_ene, df_precp_feb, df_precp_mar, df_precp_abr, df_precp_may, df_precp_jun, df_precp_jul, df_precp_ago, df_precp_sep, df_precp_oct, df_precp_nov, df_precp_dic ],axis=0, ignore_index=True)\n",
    "df_precp"
   ]
  },
  {
   "cell_type": "code",
   "execution_count": 221,
   "metadata": {},
   "outputs": [
    {
     "name": "stdout",
     "output_type": "stream",
     "text": [
      "<class 'pandas.core.frame.DataFrame'>\n",
      "RangeIndex: 365 entries, 0 to 364\n",
      "Data columns (total 5 columns):\n",
      " #   Column    Non-Null Count  Dtype         \n",
      "---  ------    --------------  -----         \n",
      " 0   Fecha     365 non-null    datetime64[ns]\n",
      " 1   Magnitud  365 non-null    object        \n",
      " 2   Zona      365 non-null    object        \n",
      " 3   Estación  365 non-null    object        \n",
      " 4   Valor     365 non-null    float64       \n",
      "dtypes: datetime64[ns](1), float64(1), object(3)\n",
      "memory usage: 14.4+ KB\n"
     ]
    }
   ],
   "source": [
    "df_precp.info()"
   ]
  },
  {
   "cell_type": "code",
   "execution_count": 222,
   "metadata": {},
   "outputs": [],
   "source": [
    "df_precp.drop(columns=['Magnitud', 'Zona', 'Estación'], inplace=True)"
   ]
  },
  {
   "cell_type": "code",
   "execution_count": 223,
   "metadata": {},
   "outputs": [
    {
     "data": {
      "text/html": [
       "<div>\n",
       "<style scoped>\n",
       "    .dataframe tbody tr th:only-of-type {\n",
       "        vertical-align: middle;\n",
       "    }\n",
       "\n",
       "    .dataframe tbody tr th {\n",
       "        vertical-align: top;\n",
       "    }\n",
       "\n",
       "    .dataframe thead th {\n",
       "        text-align: right;\n",
       "    }\n",
       "</style>\n",
       "<table border=\"1\" class=\"dataframe\">\n",
       "  <thead>\n",
       "    <tr style=\"text-align: right;\">\n",
       "      <th></th>\n",
       "      <th>Fecha</th>\n",
       "      <th>Precipitaciones</th>\n",
       "    </tr>\n",
       "  </thead>\n",
       "  <tbody>\n",
       "    <tr>\n",
       "      <th>0</th>\n",
       "      <td>2023-01-01</td>\n",
       "      <td>0.0</td>\n",
       "    </tr>\n",
       "    <tr>\n",
       "      <th>1</th>\n",
       "      <td>2023-01-02</td>\n",
       "      <td>0.0</td>\n",
       "    </tr>\n",
       "    <tr>\n",
       "      <th>2</th>\n",
       "      <td>2023-01-03</td>\n",
       "      <td>0.0</td>\n",
       "    </tr>\n",
       "    <tr>\n",
       "      <th>3</th>\n",
       "      <td>2023-01-04</td>\n",
       "      <td>0.0</td>\n",
       "    </tr>\n",
       "    <tr>\n",
       "      <th>4</th>\n",
       "      <td>2023-01-05</td>\n",
       "      <td>0.0</td>\n",
       "    </tr>\n",
       "  </tbody>\n",
       "</table>\n",
       "</div>"
      ],
      "text/plain": [
       "       Fecha  Precipitaciones\n",
       "0 2023-01-01              0.0\n",
       "1 2023-01-02              0.0\n",
       "2 2023-01-03              0.0\n",
       "3 2023-01-04              0.0\n",
       "4 2023-01-05              0.0"
      ]
     },
     "execution_count": 223,
     "metadata": {},
     "output_type": "execute_result"
    }
   ],
   "source": [
    "df_precp.rename(columns={'Valor': 'Precipitaciones'}, inplace=True)\n",
    "df_precp.head()"
   ]
  },
  {
   "cell_type": "code",
   "execution_count": 224,
   "metadata": {},
   "outputs": [
    {
     "name": "stdout",
     "output_type": "stream",
     "text": [
      "<class 'pandas.core.frame.DataFrame'>\n",
      "RangeIndex: 365 entries, 0 to 364\n",
      "Data columns (total 2 columns):\n",
      " #   Column           Non-Null Count  Dtype         \n",
      "---  ------           --------------  -----         \n",
      " 0   Fecha            365 non-null    datetime64[ns]\n",
      " 1   Precipitaciones  365 non-null    float64       \n",
      "dtypes: datetime64[ns](1), float64(1)\n",
      "memory usage: 5.8 KB\n"
     ]
    }
   ],
   "source": [
    "df_precp.info()"
   ]
  },
  {
   "cell_type": "markdown",
   "metadata": {},
   "source": [
    "## Datasets de radiación solar diaria año 2023"
   ]
  },
  {
   "cell_type": "code",
   "execution_count": 225,
   "metadata": {},
   "outputs": [
    {
     "data": {
      "text/html": [
       "<div>\n",
       "<style scoped>\n",
       "    .dataframe tbody tr th:only-of-type {\n",
       "        vertical-align: middle;\n",
       "    }\n",
       "\n",
       "    .dataframe tbody tr th {\n",
       "        vertical-align: top;\n",
       "    }\n",
       "\n",
       "    .dataframe thead th {\n",
       "        text-align: right;\n",
       "    }\n",
       "</style>\n",
       "<table border=\"1\" class=\"dataframe\">\n",
       "  <thead>\n",
       "    <tr style=\"text-align: right;\">\n",
       "      <th></th>\n",
       "      <th>Fecha</th>\n",
       "      <th>Magnitud</th>\n",
       "      <th>Zona</th>\n",
       "      <th>Estación</th>\n",
       "      <th>Valor</th>\n",
       "    </tr>\n",
       "  </thead>\n",
       "  <tbody>\n",
       "    <tr>\n",
       "      <th>0</th>\n",
       "      <td>2023-01-01</td>\n",
       "      <td>Radiación solar</td>\n",
       "      <td>Noroeste</td>\n",
       "      <td>Casa de Campo</td>\n",
       "      <td>82</td>\n",
       "    </tr>\n",
       "    <tr>\n",
       "      <th>1</th>\n",
       "      <td>2023-01-02</td>\n",
       "      <td>Radiación solar</td>\n",
       "      <td>Noroeste</td>\n",
       "      <td>Casa de Campo</td>\n",
       "      <td>75</td>\n",
       "    </tr>\n",
       "    <tr>\n",
       "      <th>2</th>\n",
       "      <td>2023-01-03</td>\n",
       "      <td>Radiación solar</td>\n",
       "      <td>Noroeste</td>\n",
       "      <td>Casa de Campo</td>\n",
       "      <td>101</td>\n",
       "    </tr>\n",
       "    <tr>\n",
       "      <th>3</th>\n",
       "      <td>2023-01-04</td>\n",
       "      <td>Radiación solar</td>\n",
       "      <td>Noroeste</td>\n",
       "      <td>Casa de Campo</td>\n",
       "      <td>99</td>\n",
       "    </tr>\n",
       "    <tr>\n",
       "      <th>4</th>\n",
       "      <td>2023-01-05</td>\n",
       "      <td>Radiación solar</td>\n",
       "      <td>Noroeste</td>\n",
       "      <td>Casa de Campo</td>\n",
       "      <td>100</td>\n",
       "    </tr>\n",
       "  </tbody>\n",
       "</table>\n",
       "</div>"
      ],
      "text/plain": [
       "        Fecha         Magnitud      Zona       Estación  Valor\n",
       "0  2023-01-01  Radiación solar  Noroeste  Casa de Campo     82\n",
       "1  2023-01-02  Radiación solar  Noroeste  Casa de Campo     75\n",
       "2  2023-01-03  Radiación solar  Noroeste  Casa de Campo    101\n",
       "3  2023-01-04  Radiación solar  Noroeste  Casa de Campo     99\n",
       "4  2023-01-05  Radiación solar  Noroeste  Casa de Campo    100"
      ]
     },
     "execution_count": 225,
     "metadata": {},
     "output_type": "execute_result"
    }
   ],
   "source": [
    "df_radia_solar_ene = pd.read_csv('C:/Users/rfg2m/Documents/DATA_SCIENCE/Entregas/Proyectos/MACHINE LEARNING/Data/raw/Data_23/radia_solar_ene_23.csv', sep=';', encoding='utf-8')\n",
    "df_radia_solar_ene.head()"
   ]
  },
  {
   "cell_type": "code",
   "execution_count": 226,
   "metadata": {},
   "outputs": [
    {
     "name": "stdout",
     "output_type": "stream",
     "text": [
      "<class 'pandas.core.frame.DataFrame'>\n",
      "RangeIndex: 31 entries, 0 to 30\n",
      "Data columns (total 5 columns):\n",
      " #   Column    Non-Null Count  Dtype \n",
      "---  ------    --------------  ----- \n",
      " 0   Fecha     31 non-null     object\n",
      " 1   Magnitud  31 non-null     object\n",
      " 2   Zona      31 non-null     object\n",
      " 3   Estación  31 non-null     object\n",
      " 4   Valor     31 non-null     int64 \n",
      "dtypes: int64(1), object(4)\n",
      "memory usage: 1.3+ KB\n"
     ]
    }
   ],
   "source": [
    "df_radia_solar_ene.info()"
   ]
  },
  {
   "cell_type": "code",
   "execution_count": 227,
   "metadata": {},
   "outputs": [],
   "source": [
    "df_radia_solar_ene['Valor'] = df_radia_solar_ene['Valor'].astype(float)"
   ]
  },
  {
   "cell_type": "code",
   "execution_count": 228,
   "metadata": {},
   "outputs": [
    {
     "name": "stdout",
     "output_type": "stream",
     "text": [
      "<class 'pandas.core.frame.DataFrame'>\n",
      "RangeIndex: 31 entries, 0 to 30\n",
      "Data columns (total 5 columns):\n",
      " #   Column    Non-Null Count  Dtype         \n",
      "---  ------    --------------  -----         \n",
      " 0   Fecha     31 non-null     datetime64[ns]\n",
      " 1   Magnitud  31 non-null     object        \n",
      " 2   Zona      31 non-null     object        \n",
      " 3   Estación  31 non-null     object        \n",
      " 4   Valor     31 non-null     float64       \n",
      "dtypes: datetime64[ns](1), float64(1), object(3)\n",
      "memory usage: 1.3+ KB\n"
     ]
    }
   ],
   "source": [
    "df_radia_solar_ene[\"Fecha\"] = pd.to_datetime(df_radia_solar_ene[\"Fecha\"])\n",
    "df_radia_solar_ene.info()"
   ]
  },
  {
   "cell_type": "code",
   "execution_count": 229,
   "metadata": {},
   "outputs": [
    {
     "data": {
      "text/html": [
       "<div>\n",
       "<style scoped>\n",
       "    .dataframe tbody tr th:only-of-type {\n",
       "        vertical-align: middle;\n",
       "    }\n",
       "\n",
       "    .dataframe tbody tr th {\n",
       "        vertical-align: top;\n",
       "    }\n",
       "\n",
       "    .dataframe thead th {\n",
       "        text-align: right;\n",
       "    }\n",
       "</style>\n",
       "<table border=\"1\" class=\"dataframe\">\n",
       "  <thead>\n",
       "    <tr style=\"text-align: right;\">\n",
       "      <th></th>\n",
       "      <th>Fecha</th>\n",
       "      <th>Magnitud</th>\n",
       "      <th>Zona</th>\n",
       "      <th>Estación</th>\n",
       "      <th>Valor</th>\n",
       "    </tr>\n",
       "  </thead>\n",
       "  <tbody>\n",
       "    <tr>\n",
       "      <th>0</th>\n",
       "      <td>2023-02-01</td>\n",
       "      <td>Radiación solar</td>\n",
       "      <td>Noroeste</td>\n",
       "      <td>Casa de Campo</td>\n",
       "      <td>138</td>\n",
       "    </tr>\n",
       "    <tr>\n",
       "      <th>1</th>\n",
       "      <td>2023-02-02</td>\n",
       "      <td>Radiación solar</td>\n",
       "      <td>Noroeste</td>\n",
       "      <td>Casa de Campo</td>\n",
       "      <td>136</td>\n",
       "    </tr>\n",
       "    <tr>\n",
       "      <th>2</th>\n",
       "      <td>2023-02-03</td>\n",
       "      <td>Radiación solar</td>\n",
       "      <td>Noroeste</td>\n",
       "      <td>Casa de Campo</td>\n",
       "      <td>141</td>\n",
       "    </tr>\n",
       "    <tr>\n",
       "      <th>3</th>\n",
       "      <td>2023-02-04</td>\n",
       "      <td>Radiación solar</td>\n",
       "      <td>Noroeste</td>\n",
       "      <td>Casa de Campo</td>\n",
       "      <td>144</td>\n",
       "    </tr>\n",
       "    <tr>\n",
       "      <th>4</th>\n",
       "      <td>2023-02-05</td>\n",
       "      <td>Radiación solar</td>\n",
       "      <td>Noroeste</td>\n",
       "      <td>Casa de Campo</td>\n",
       "      <td>148</td>\n",
       "    </tr>\n",
       "  </tbody>\n",
       "</table>\n",
       "</div>"
      ],
      "text/plain": [
       "        Fecha         Magnitud      Zona       Estación  Valor\n",
       "0  2023-02-01  Radiación solar  Noroeste  Casa de Campo    138\n",
       "1  2023-02-02  Radiación solar  Noroeste  Casa de Campo    136\n",
       "2  2023-02-03  Radiación solar  Noroeste  Casa de Campo    141\n",
       "3  2023-02-04  Radiación solar  Noroeste  Casa de Campo    144\n",
       "4  2023-02-05  Radiación solar  Noroeste  Casa de Campo    148"
      ]
     },
     "execution_count": 229,
     "metadata": {},
     "output_type": "execute_result"
    }
   ],
   "source": [
    "df_radia_solar_feb = pd.read_csv('C:/Users/rfg2m/Documents/DATA_SCIENCE/Entregas/Proyectos/MACHINE LEARNING/Data/raw/Data_23/radia_solar_feb_23.csv', sep=';', encoding='utf-8')\n",
    "df_radia_solar_feb.head()"
   ]
  },
  {
   "cell_type": "code",
   "execution_count": 230,
   "metadata": {},
   "outputs": [
    {
     "name": "stdout",
     "output_type": "stream",
     "text": [
      "<class 'pandas.core.frame.DataFrame'>\n",
      "RangeIndex: 28 entries, 0 to 27\n",
      "Data columns (total 5 columns):\n",
      " #   Column    Non-Null Count  Dtype \n",
      "---  ------    --------------  ----- \n",
      " 0   Fecha     28 non-null     object\n",
      " 1   Magnitud  28 non-null     object\n",
      " 2   Zona      28 non-null     object\n",
      " 3   Estación  28 non-null     object\n",
      " 4   Valor     28 non-null     int64 \n",
      "dtypes: int64(1), object(4)\n",
      "memory usage: 1.2+ KB\n"
     ]
    }
   ],
   "source": [
    "df_radia_solar_feb.info()"
   ]
  },
  {
   "cell_type": "code",
   "execution_count": 231,
   "metadata": {},
   "outputs": [],
   "source": [
    "df_radia_solar_feb['Valor'] = df_radia_solar_feb['Valor'].astype(float)"
   ]
  },
  {
   "cell_type": "code",
   "execution_count": 232,
   "metadata": {},
   "outputs": [
    {
     "name": "stdout",
     "output_type": "stream",
     "text": [
      "<class 'pandas.core.frame.DataFrame'>\n",
      "RangeIndex: 28 entries, 0 to 27\n",
      "Data columns (total 5 columns):\n",
      " #   Column    Non-Null Count  Dtype         \n",
      "---  ------    --------------  -----         \n",
      " 0   Fecha     28 non-null     datetime64[ns]\n",
      " 1   Magnitud  28 non-null     object        \n",
      " 2   Zona      28 non-null     object        \n",
      " 3   Estación  28 non-null     object        \n",
      " 4   Valor     28 non-null     float64       \n",
      "dtypes: datetime64[ns](1), float64(1), object(3)\n",
      "memory usage: 1.2+ KB\n"
     ]
    }
   ],
   "source": [
    "df_radia_solar_feb[\"Fecha\"] = pd.to_datetime(df_radia_solar_feb[\"Fecha\"])\n",
    "df_radia_solar_feb.info()"
   ]
  },
  {
   "cell_type": "code",
   "execution_count": 233,
   "metadata": {},
   "outputs": [
    {
     "data": {
      "text/html": [
       "<div>\n",
       "<style scoped>\n",
       "    .dataframe tbody tr th:only-of-type {\n",
       "        vertical-align: middle;\n",
       "    }\n",
       "\n",
       "    .dataframe tbody tr th {\n",
       "        vertical-align: top;\n",
       "    }\n",
       "\n",
       "    .dataframe thead th {\n",
       "        text-align: right;\n",
       "    }\n",
       "</style>\n",
       "<table border=\"1\" class=\"dataframe\">\n",
       "  <thead>\n",
       "    <tr style=\"text-align: right;\">\n",
       "      <th></th>\n",
       "      <th>Fecha</th>\n",
       "      <th>Magnitud</th>\n",
       "      <th>Zona</th>\n",
       "      <th>Estación</th>\n",
       "      <th>Valor</th>\n",
       "    </tr>\n",
       "  </thead>\n",
       "  <tbody>\n",
       "    <tr>\n",
       "      <th>0</th>\n",
       "      <td>2023-03-01</td>\n",
       "      <td>Radiación solar</td>\n",
       "      <td>Noroeste</td>\n",
       "      <td>Casa de Campo</td>\n",
       "      <td>161</td>\n",
       "    </tr>\n",
       "    <tr>\n",
       "      <th>1</th>\n",
       "      <td>2023-03-02</td>\n",
       "      <td>Radiación solar</td>\n",
       "      <td>Noroeste</td>\n",
       "      <td>Casa de Campo</td>\n",
       "      <td>197</td>\n",
       "    </tr>\n",
       "    <tr>\n",
       "      <th>2</th>\n",
       "      <td>2023-03-03</td>\n",
       "      <td>Radiación solar</td>\n",
       "      <td>Noroeste</td>\n",
       "      <td>Casa de Campo</td>\n",
       "      <td>197</td>\n",
       "    </tr>\n",
       "    <tr>\n",
       "      <th>3</th>\n",
       "      <td>2023-03-04</td>\n",
       "      <td>Radiación solar</td>\n",
       "      <td>Noroeste</td>\n",
       "      <td>Casa de Campo</td>\n",
       "      <td>204</td>\n",
       "    </tr>\n",
       "    <tr>\n",
       "      <th>4</th>\n",
       "      <td>2023-03-05</td>\n",
       "      <td>Radiación solar</td>\n",
       "      <td>Noroeste</td>\n",
       "      <td>Casa de Campo</td>\n",
       "      <td>65</td>\n",
       "    </tr>\n",
       "  </tbody>\n",
       "</table>\n",
       "</div>"
      ],
      "text/plain": [
       "        Fecha         Magnitud      Zona       Estación  Valor\n",
       "0  2023-03-01  Radiación solar  Noroeste  Casa de Campo    161\n",
       "1  2023-03-02  Radiación solar  Noroeste  Casa de Campo    197\n",
       "2  2023-03-03  Radiación solar  Noroeste  Casa de Campo    197\n",
       "3  2023-03-04  Radiación solar  Noroeste  Casa de Campo    204\n",
       "4  2023-03-05  Radiación solar  Noroeste  Casa de Campo     65"
      ]
     },
     "execution_count": 233,
     "metadata": {},
     "output_type": "execute_result"
    }
   ],
   "source": [
    "df_radia_solar_mar = pd.read_csv('C:/Users/rfg2m/Documents/DATA_SCIENCE/Entregas/Proyectos/MACHINE LEARNING/Data/raw/Data_23/radia_solar_mar_23.csv', sep=';', encoding='utf-8')\n",
    "df_radia_solar_mar.head()"
   ]
  },
  {
   "cell_type": "code",
   "execution_count": 234,
   "metadata": {},
   "outputs": [
    {
     "name": "stdout",
     "output_type": "stream",
     "text": [
      "<class 'pandas.core.frame.DataFrame'>\n",
      "RangeIndex: 31 entries, 0 to 30\n",
      "Data columns (total 5 columns):\n",
      " #   Column    Non-Null Count  Dtype \n",
      "---  ------    --------------  ----- \n",
      " 0   Fecha     31 non-null     object\n",
      " 1   Magnitud  31 non-null     object\n",
      " 2   Zona      31 non-null     object\n",
      " 3   Estación  31 non-null     object\n",
      " 4   Valor     31 non-null     int64 \n",
      "dtypes: int64(1), object(4)\n",
      "memory usage: 1.3+ KB\n"
     ]
    }
   ],
   "source": [
    "df_radia_solar_mar.info()"
   ]
  },
  {
   "cell_type": "code",
   "execution_count": 235,
   "metadata": {},
   "outputs": [],
   "source": [
    "df_radia_solar_mar['Valor'] = df_radia_solar_mar['Valor'].astype(float)"
   ]
  },
  {
   "cell_type": "code",
   "execution_count": 236,
   "metadata": {},
   "outputs": [
    {
     "name": "stdout",
     "output_type": "stream",
     "text": [
      "<class 'pandas.core.frame.DataFrame'>\n",
      "RangeIndex: 31 entries, 0 to 30\n",
      "Data columns (total 5 columns):\n",
      " #   Column    Non-Null Count  Dtype         \n",
      "---  ------    --------------  -----         \n",
      " 0   Fecha     31 non-null     datetime64[ns]\n",
      " 1   Magnitud  31 non-null     object        \n",
      " 2   Zona      31 non-null     object        \n",
      " 3   Estación  31 non-null     object        \n",
      " 4   Valor     31 non-null     float64       \n",
      "dtypes: datetime64[ns](1), float64(1), object(3)\n",
      "memory usage: 1.3+ KB\n"
     ]
    }
   ],
   "source": [
    "df_radia_solar_mar[\"Fecha\"] = pd.to_datetime(df_radia_solar_mar[\"Fecha\"])\n",
    "df_radia_solar_mar.info()"
   ]
  },
  {
   "cell_type": "code",
   "execution_count": 237,
   "metadata": {},
   "outputs": [
    {
     "data": {
      "text/html": [
       "<div>\n",
       "<style scoped>\n",
       "    .dataframe tbody tr th:only-of-type {\n",
       "        vertical-align: middle;\n",
       "    }\n",
       "\n",
       "    .dataframe tbody tr th {\n",
       "        vertical-align: top;\n",
       "    }\n",
       "\n",
       "    .dataframe thead th {\n",
       "        text-align: right;\n",
       "    }\n",
       "</style>\n",
       "<table border=\"1\" class=\"dataframe\">\n",
       "  <thead>\n",
       "    <tr style=\"text-align: right;\">\n",
       "      <th></th>\n",
       "      <th>Fecha</th>\n",
       "      <th>Magnitud</th>\n",
       "      <th>Zona</th>\n",
       "      <th>Estación</th>\n",
       "      <th>Valor</th>\n",
       "    </tr>\n",
       "  </thead>\n",
       "  <tbody>\n",
       "    <tr>\n",
       "      <th>0</th>\n",
       "      <td>2023-04-01</td>\n",
       "      <td>Radiación solar</td>\n",
       "      <td>Noroeste</td>\n",
       "      <td>Casa de Campo</td>\n",
       "      <td>242</td>\n",
       "    </tr>\n",
       "    <tr>\n",
       "      <th>1</th>\n",
       "      <td>2023-04-02</td>\n",
       "      <td>Radiación solar</td>\n",
       "      <td>Noroeste</td>\n",
       "      <td>Casa de Campo</td>\n",
       "      <td>280</td>\n",
       "    </tr>\n",
       "    <tr>\n",
       "      <th>2</th>\n",
       "      <td>2023-04-03</td>\n",
       "      <td>Radiación solar</td>\n",
       "      <td>Noroeste</td>\n",
       "      <td>Casa de Campo</td>\n",
       "      <td>265</td>\n",
       "    </tr>\n",
       "    <tr>\n",
       "      <th>3</th>\n",
       "      <td>2023-04-04</td>\n",
       "      <td>Radiación solar</td>\n",
       "      <td>Noroeste</td>\n",
       "      <td>Casa de Campo</td>\n",
       "      <td>291</td>\n",
       "    </tr>\n",
       "    <tr>\n",
       "      <th>4</th>\n",
       "      <td>2023-04-05</td>\n",
       "      <td>Radiación solar</td>\n",
       "      <td>Noroeste</td>\n",
       "      <td>Casa de Campo</td>\n",
       "      <td>291</td>\n",
       "    </tr>\n",
       "  </tbody>\n",
       "</table>\n",
       "</div>"
      ],
      "text/plain": [
       "        Fecha         Magnitud      Zona       Estación  Valor\n",
       "0  2023-04-01  Radiación solar  Noroeste  Casa de Campo    242\n",
       "1  2023-04-02  Radiación solar  Noroeste  Casa de Campo    280\n",
       "2  2023-04-03  Radiación solar  Noroeste  Casa de Campo    265\n",
       "3  2023-04-04  Radiación solar  Noroeste  Casa de Campo    291\n",
       "4  2023-04-05  Radiación solar  Noroeste  Casa de Campo    291"
      ]
     },
     "execution_count": 237,
     "metadata": {},
     "output_type": "execute_result"
    }
   ],
   "source": [
    "df_radia_solar_abr = pd.read_csv('C:/Users/rfg2m/Documents/DATA_SCIENCE/Entregas/Proyectos/MACHINE LEARNING/Data/raw/Data_23/radia_solar_abr_23.csv', sep=';', encoding='utf-8')\n",
    "df_radia_solar_abr.head()"
   ]
  },
  {
   "cell_type": "code",
   "execution_count": 238,
   "metadata": {},
   "outputs": [
    {
     "name": "stdout",
     "output_type": "stream",
     "text": [
      "<class 'pandas.core.frame.DataFrame'>\n",
      "RangeIndex: 30 entries, 0 to 29\n",
      "Data columns (total 5 columns):\n",
      " #   Column    Non-Null Count  Dtype \n",
      "---  ------    --------------  ----- \n",
      " 0   Fecha     30 non-null     object\n",
      " 1   Magnitud  30 non-null     object\n",
      " 2   Zona      30 non-null     object\n",
      " 3   Estación  30 non-null     object\n",
      " 4   Valor     30 non-null     int64 \n",
      "dtypes: int64(1), object(4)\n",
      "memory usage: 1.3+ KB\n"
     ]
    }
   ],
   "source": [
    "df_radia_solar_abr.info()"
   ]
  },
  {
   "cell_type": "code",
   "execution_count": 239,
   "metadata": {},
   "outputs": [],
   "source": [
    "df_radia_solar_abr['Valor'] = df_radia_solar_abr['Valor'].astype(float)"
   ]
  },
  {
   "cell_type": "code",
   "execution_count": 240,
   "metadata": {},
   "outputs": [
    {
     "name": "stdout",
     "output_type": "stream",
     "text": [
      "<class 'pandas.core.frame.DataFrame'>\n",
      "RangeIndex: 30 entries, 0 to 29\n",
      "Data columns (total 5 columns):\n",
      " #   Column    Non-Null Count  Dtype         \n",
      "---  ------    --------------  -----         \n",
      " 0   Fecha     30 non-null     datetime64[ns]\n",
      " 1   Magnitud  30 non-null     object        \n",
      " 2   Zona      30 non-null     object        \n",
      " 3   Estación  30 non-null     object        \n",
      " 4   Valor     30 non-null     float64       \n",
      "dtypes: datetime64[ns](1), float64(1), object(3)\n",
      "memory usage: 1.3+ KB\n"
     ]
    }
   ],
   "source": [
    "df_radia_solar_abr[\"Fecha\"] = pd.to_datetime(df_radia_solar_abr[\"Fecha\"])\n",
    "df_radia_solar_abr.info()"
   ]
  },
  {
   "cell_type": "code",
   "execution_count": 241,
   "metadata": {},
   "outputs": [
    {
     "data": {
      "text/html": [
       "<div>\n",
       "<style scoped>\n",
       "    .dataframe tbody tr th:only-of-type {\n",
       "        vertical-align: middle;\n",
       "    }\n",
       "\n",
       "    .dataframe tbody tr th {\n",
       "        vertical-align: top;\n",
       "    }\n",
       "\n",
       "    .dataframe thead th {\n",
       "        text-align: right;\n",
       "    }\n",
       "</style>\n",
       "<table border=\"1\" class=\"dataframe\">\n",
       "  <thead>\n",
       "    <tr style=\"text-align: right;\">\n",
       "      <th></th>\n",
       "      <th>Fecha</th>\n",
       "      <th>Magnitud</th>\n",
       "      <th>Zona</th>\n",
       "      <th>Estación</th>\n",
       "      <th>Valor</th>\n",
       "    </tr>\n",
       "  </thead>\n",
       "  <tbody>\n",
       "    <tr>\n",
       "      <th>0</th>\n",
       "      <td>2023-05-01</td>\n",
       "      <td>Radiación solar</td>\n",
       "      <td>Noroeste</td>\n",
       "      <td>Casa de Campo</td>\n",
       "      <td>310</td>\n",
       "    </tr>\n",
       "    <tr>\n",
       "      <th>1</th>\n",
       "      <td>2023-05-02</td>\n",
       "      <td>Radiación solar</td>\n",
       "      <td>Noroeste</td>\n",
       "      <td>Casa de Campo</td>\n",
       "      <td>283</td>\n",
       "    </tr>\n",
       "    <tr>\n",
       "      <th>2</th>\n",
       "      <td>2023-05-03</td>\n",
       "      <td>Radiación solar</td>\n",
       "      <td>Noroeste</td>\n",
       "      <td>Casa de Campo</td>\n",
       "      <td>276</td>\n",
       "    </tr>\n",
       "    <tr>\n",
       "      <th>3</th>\n",
       "      <td>2023-05-04</td>\n",
       "      <td>Radiación solar</td>\n",
       "      <td>Noroeste</td>\n",
       "      <td>Casa de Campo</td>\n",
       "      <td>325</td>\n",
       "    </tr>\n",
       "    <tr>\n",
       "      <th>4</th>\n",
       "      <td>2023-05-05</td>\n",
       "      <td>Radiación solar</td>\n",
       "      <td>Noroeste</td>\n",
       "      <td>Casa de Campo</td>\n",
       "      <td>327</td>\n",
       "    </tr>\n",
       "  </tbody>\n",
       "</table>\n",
       "</div>"
      ],
      "text/plain": [
       "        Fecha         Magnitud      Zona       Estación  Valor\n",
       "0  2023-05-01  Radiación solar  Noroeste  Casa de Campo    310\n",
       "1  2023-05-02  Radiación solar  Noroeste  Casa de Campo    283\n",
       "2  2023-05-03  Radiación solar  Noroeste  Casa de Campo    276\n",
       "3  2023-05-04  Radiación solar  Noroeste  Casa de Campo    325\n",
       "4  2023-05-05  Radiación solar  Noroeste  Casa de Campo    327"
      ]
     },
     "execution_count": 241,
     "metadata": {},
     "output_type": "execute_result"
    }
   ],
   "source": [
    "df_radia_solar_may = pd.read_csv('C:/Users/rfg2m/Documents/DATA_SCIENCE/Entregas/Proyectos/MACHINE LEARNING/Data/raw/Data_23/radia_solar_may_23.csv', sep=';', encoding='utf-8')\n",
    "df_radia_solar_may.head()"
   ]
  },
  {
   "cell_type": "code",
   "execution_count": 242,
   "metadata": {},
   "outputs": [
    {
     "name": "stdout",
     "output_type": "stream",
     "text": [
      "<class 'pandas.core.frame.DataFrame'>\n",
      "RangeIndex: 31 entries, 0 to 30\n",
      "Data columns (total 5 columns):\n",
      " #   Column    Non-Null Count  Dtype \n",
      "---  ------    --------------  ----- \n",
      " 0   Fecha     31 non-null     object\n",
      " 1   Magnitud  31 non-null     object\n",
      " 2   Zona      31 non-null     object\n",
      " 3   Estación  31 non-null     object\n",
      " 4   Valor     31 non-null     int64 \n",
      "dtypes: int64(1), object(4)\n",
      "memory usage: 1.3+ KB\n"
     ]
    }
   ],
   "source": [
    "df_radia_solar_may.info()"
   ]
  },
  {
   "cell_type": "code",
   "execution_count": 243,
   "metadata": {},
   "outputs": [],
   "source": [
    "df_radia_solar_may['Valor'] = df_radia_solar_may['Valor'].astype(float)"
   ]
  },
  {
   "cell_type": "code",
   "execution_count": 244,
   "metadata": {},
   "outputs": [
    {
     "name": "stdout",
     "output_type": "stream",
     "text": [
      "<class 'pandas.core.frame.DataFrame'>\n",
      "RangeIndex: 31 entries, 0 to 30\n",
      "Data columns (total 5 columns):\n",
      " #   Column    Non-Null Count  Dtype         \n",
      "---  ------    --------------  -----         \n",
      " 0   Fecha     31 non-null     datetime64[ns]\n",
      " 1   Magnitud  31 non-null     object        \n",
      " 2   Zona      31 non-null     object        \n",
      " 3   Estación  31 non-null     object        \n",
      " 4   Valor     31 non-null     float64       \n",
      "dtypes: datetime64[ns](1), float64(1), object(3)\n",
      "memory usage: 1.3+ KB\n"
     ]
    }
   ],
   "source": [
    "df_radia_solar_may[\"Fecha\"] = pd.to_datetime(df_radia_solar_may[\"Fecha\"])\n",
    "df_radia_solar_may.info()"
   ]
  },
  {
   "cell_type": "code",
   "execution_count": 245,
   "metadata": {},
   "outputs": [
    {
     "data": {
      "text/html": [
       "<div>\n",
       "<style scoped>\n",
       "    .dataframe tbody tr th:only-of-type {\n",
       "        vertical-align: middle;\n",
       "    }\n",
       "\n",
       "    .dataframe tbody tr th {\n",
       "        vertical-align: top;\n",
       "    }\n",
       "\n",
       "    .dataframe thead th {\n",
       "        text-align: right;\n",
       "    }\n",
       "</style>\n",
       "<table border=\"1\" class=\"dataframe\">\n",
       "  <thead>\n",
       "    <tr style=\"text-align: right;\">\n",
       "      <th></th>\n",
       "      <th>Fecha</th>\n",
       "      <th>Magnitud</th>\n",
       "      <th>Zona</th>\n",
       "      <th>Estación</th>\n",
       "      <th>Valor</th>\n",
       "    </tr>\n",
       "  </thead>\n",
       "  <tbody>\n",
       "    <tr>\n",
       "      <th>0</th>\n",
       "      <td>2023-06-01</td>\n",
       "      <td>Radiación solar</td>\n",
       "      <td>Noroeste</td>\n",
       "      <td>Casa de Campo</td>\n",
       "      <td>237</td>\n",
       "    </tr>\n",
       "    <tr>\n",
       "      <th>1</th>\n",
       "      <td>2023-06-02</td>\n",
       "      <td>Radiación solar</td>\n",
       "      <td>Noroeste</td>\n",
       "      <td>Casa de Campo</td>\n",
       "      <td>254</td>\n",
       "    </tr>\n",
       "    <tr>\n",
       "      <th>2</th>\n",
       "      <td>2023-06-03</td>\n",
       "      <td>Radiación solar</td>\n",
       "      <td>Noroeste</td>\n",
       "      <td>Casa de Campo</td>\n",
       "      <td>315</td>\n",
       "    </tr>\n",
       "    <tr>\n",
       "      <th>3</th>\n",
       "      <td>2023-06-04</td>\n",
       "      <td>Radiación solar</td>\n",
       "      <td>Noroeste</td>\n",
       "      <td>Casa de Campo</td>\n",
       "      <td>296</td>\n",
       "    </tr>\n",
       "    <tr>\n",
       "      <th>4</th>\n",
       "      <td>2023-06-05</td>\n",
       "      <td>Radiación solar</td>\n",
       "      <td>Noroeste</td>\n",
       "      <td>Casa de Campo</td>\n",
       "      <td>266</td>\n",
       "    </tr>\n",
       "  </tbody>\n",
       "</table>\n",
       "</div>"
      ],
      "text/plain": [
       "        Fecha         Magnitud      Zona       Estación  Valor\n",
       "0  2023-06-01  Radiación solar  Noroeste  Casa de Campo    237\n",
       "1  2023-06-02  Radiación solar  Noroeste  Casa de Campo    254\n",
       "2  2023-06-03  Radiación solar  Noroeste  Casa de Campo    315\n",
       "3  2023-06-04  Radiación solar  Noroeste  Casa de Campo    296\n",
       "4  2023-06-05  Radiación solar  Noroeste  Casa de Campo    266"
      ]
     },
     "execution_count": 245,
     "metadata": {},
     "output_type": "execute_result"
    }
   ],
   "source": [
    "df_radia_solar_jun = pd.read_csv('C:/Users/rfg2m/Documents/DATA_SCIENCE/Entregas/Proyectos/MACHINE LEARNING/Data/raw/Data_23/radia_solar_jun_23.csv', sep=';', encoding='utf-8')\n",
    "df_radia_solar_jun.head()"
   ]
  },
  {
   "cell_type": "code",
   "execution_count": 246,
   "metadata": {},
   "outputs": [
    {
     "name": "stdout",
     "output_type": "stream",
     "text": [
      "<class 'pandas.core.frame.DataFrame'>\n",
      "RangeIndex: 30 entries, 0 to 29\n",
      "Data columns (total 5 columns):\n",
      " #   Column    Non-Null Count  Dtype \n",
      "---  ------    --------------  ----- \n",
      " 0   Fecha     30 non-null     object\n",
      " 1   Magnitud  30 non-null     object\n",
      " 2   Zona      30 non-null     object\n",
      " 3   Estación  30 non-null     object\n",
      " 4   Valor     30 non-null     int64 \n",
      "dtypes: int64(1), object(4)\n",
      "memory usage: 1.3+ KB\n"
     ]
    }
   ],
   "source": [
    "df_radia_solar_jun.info()"
   ]
  },
  {
   "cell_type": "code",
   "execution_count": 247,
   "metadata": {},
   "outputs": [],
   "source": [
    "df_radia_solar_jun['Valor'] = df_radia_solar_jun['Valor'].astype(float)"
   ]
  },
  {
   "cell_type": "code",
   "execution_count": 248,
   "metadata": {},
   "outputs": [
    {
     "name": "stdout",
     "output_type": "stream",
     "text": [
      "<class 'pandas.core.frame.DataFrame'>\n",
      "RangeIndex: 30 entries, 0 to 29\n",
      "Data columns (total 5 columns):\n",
      " #   Column    Non-Null Count  Dtype         \n",
      "---  ------    --------------  -----         \n",
      " 0   Fecha     30 non-null     datetime64[ns]\n",
      " 1   Magnitud  30 non-null     object        \n",
      " 2   Zona      30 non-null     object        \n",
      " 3   Estación  30 non-null     object        \n",
      " 4   Valor     30 non-null     float64       \n",
      "dtypes: datetime64[ns](1), float64(1), object(3)\n",
      "memory usage: 1.3+ KB\n"
     ]
    }
   ],
   "source": [
    "df_radia_solar_jun[\"Fecha\"] = pd.to_datetime(df_radia_solar_jun[\"Fecha\"])\n",
    "df_radia_solar_jun.info()"
   ]
  },
  {
   "cell_type": "code",
   "execution_count": 249,
   "metadata": {},
   "outputs": [
    {
     "data": {
      "text/html": [
       "<div>\n",
       "<style scoped>\n",
       "    .dataframe tbody tr th:only-of-type {\n",
       "        vertical-align: middle;\n",
       "    }\n",
       "\n",
       "    .dataframe tbody tr th {\n",
       "        vertical-align: top;\n",
       "    }\n",
       "\n",
       "    .dataframe thead th {\n",
       "        text-align: right;\n",
       "    }\n",
       "</style>\n",
       "<table border=\"1\" class=\"dataframe\">\n",
       "  <thead>\n",
       "    <tr style=\"text-align: right;\">\n",
       "      <th></th>\n",
       "      <th>Fecha</th>\n",
       "      <th>Magnitud</th>\n",
       "      <th>Zona</th>\n",
       "      <th>Estación</th>\n",
       "      <th>Valor</th>\n",
       "    </tr>\n",
       "  </thead>\n",
       "  <tbody>\n",
       "    <tr>\n",
       "      <th>0</th>\n",
       "      <td>2023-07-01</td>\n",
       "      <td>Radiación solar</td>\n",
       "      <td>Noroeste</td>\n",
       "      <td>Casa de Campo</td>\n",
       "      <td>345</td>\n",
       "    </tr>\n",
       "    <tr>\n",
       "      <th>1</th>\n",
       "      <td>2023-07-02</td>\n",
       "      <td>Radiación solar</td>\n",
       "      <td>Noroeste</td>\n",
       "      <td>Casa de Campo</td>\n",
       "      <td>309</td>\n",
       "    </tr>\n",
       "    <tr>\n",
       "      <th>2</th>\n",
       "      <td>2023-07-03</td>\n",
       "      <td>Radiación solar</td>\n",
       "      <td>Noroeste</td>\n",
       "      <td>Casa de Campo</td>\n",
       "      <td>344</td>\n",
       "    </tr>\n",
       "    <tr>\n",
       "      <th>3</th>\n",
       "      <td>2023-07-04</td>\n",
       "      <td>Radiación solar</td>\n",
       "      <td>Noroeste</td>\n",
       "      <td>Casa de Campo</td>\n",
       "      <td>358</td>\n",
       "    </tr>\n",
       "    <tr>\n",
       "      <th>4</th>\n",
       "      <td>2023-07-05</td>\n",
       "      <td>Radiación solar</td>\n",
       "      <td>Noroeste</td>\n",
       "      <td>Casa de Campo</td>\n",
       "      <td>281</td>\n",
       "    </tr>\n",
       "  </tbody>\n",
       "</table>\n",
       "</div>"
      ],
      "text/plain": [
       "        Fecha         Magnitud      Zona       Estación  Valor\n",
       "0  2023-07-01  Radiación solar  Noroeste  Casa de Campo    345\n",
       "1  2023-07-02  Radiación solar  Noroeste  Casa de Campo    309\n",
       "2  2023-07-03  Radiación solar  Noroeste  Casa de Campo    344\n",
       "3  2023-07-04  Radiación solar  Noroeste  Casa de Campo    358\n",
       "4  2023-07-05  Radiación solar  Noroeste  Casa de Campo    281"
      ]
     },
     "execution_count": 249,
     "metadata": {},
     "output_type": "execute_result"
    }
   ],
   "source": [
    "df_radia_solar_jul = pd.read_csv('C:/Users/rfg2m/Documents/DATA_SCIENCE/Entregas/Proyectos/MACHINE LEARNING/Data/raw/Data_23/radia_solar_jul_23.csv', sep=';', encoding='utf-8')\n",
    "df_radia_solar_jul.head()"
   ]
  },
  {
   "cell_type": "code",
   "execution_count": 250,
   "metadata": {},
   "outputs": [
    {
     "name": "stdout",
     "output_type": "stream",
     "text": [
      "<class 'pandas.core.frame.DataFrame'>\n",
      "RangeIndex: 31 entries, 0 to 30\n",
      "Data columns (total 5 columns):\n",
      " #   Column    Non-Null Count  Dtype \n",
      "---  ------    --------------  ----- \n",
      " 0   Fecha     31 non-null     object\n",
      " 1   Magnitud  31 non-null     object\n",
      " 2   Zona      31 non-null     object\n",
      " 3   Estación  31 non-null     object\n",
      " 4   Valor     31 non-null     int64 \n",
      "dtypes: int64(1), object(4)\n",
      "memory usage: 1.3+ KB\n"
     ]
    }
   ],
   "source": [
    "df_radia_solar_jul.info()"
   ]
  },
  {
   "cell_type": "code",
   "execution_count": 251,
   "metadata": {},
   "outputs": [],
   "source": [
    "df_radia_solar_jul['Valor'] = df_radia_solar_jul['Valor'].astype(float)"
   ]
  },
  {
   "cell_type": "code",
   "execution_count": 252,
   "metadata": {},
   "outputs": [
    {
     "name": "stdout",
     "output_type": "stream",
     "text": [
      "<class 'pandas.core.frame.DataFrame'>\n",
      "RangeIndex: 31 entries, 0 to 30\n",
      "Data columns (total 5 columns):\n",
      " #   Column    Non-Null Count  Dtype         \n",
      "---  ------    --------------  -----         \n",
      " 0   Fecha     31 non-null     datetime64[ns]\n",
      " 1   Magnitud  31 non-null     object        \n",
      " 2   Zona      31 non-null     object        \n",
      " 3   Estación  31 non-null     object        \n",
      " 4   Valor     31 non-null     float64       \n",
      "dtypes: datetime64[ns](1), float64(1), object(3)\n",
      "memory usage: 1.3+ KB\n"
     ]
    }
   ],
   "source": [
    "df_radia_solar_jul[\"Fecha\"] = pd.to_datetime(df_radia_solar_jul[\"Fecha\"])\n",
    "df_radia_solar_jul.info()"
   ]
  },
  {
   "cell_type": "code",
   "execution_count": 253,
   "metadata": {},
   "outputs": [
    {
     "data": {
      "text/html": [
       "<div>\n",
       "<style scoped>\n",
       "    .dataframe tbody tr th:only-of-type {\n",
       "        vertical-align: middle;\n",
       "    }\n",
       "\n",
       "    .dataframe tbody tr th {\n",
       "        vertical-align: top;\n",
       "    }\n",
       "\n",
       "    .dataframe thead th {\n",
       "        text-align: right;\n",
       "    }\n",
       "</style>\n",
       "<table border=\"1\" class=\"dataframe\">\n",
       "  <thead>\n",
       "    <tr style=\"text-align: right;\">\n",
       "      <th></th>\n",
       "      <th>Fecha</th>\n",
       "      <th>Magnitud</th>\n",
       "      <th>Zona</th>\n",
       "      <th>Estación</th>\n",
       "      <th>Valor</th>\n",
       "    </tr>\n",
       "  </thead>\n",
       "  <tbody>\n",
       "    <tr>\n",
       "      <th>0</th>\n",
       "      <td>2023-08-01</td>\n",
       "      <td>Radiación solar</td>\n",
       "      <td>Noroeste</td>\n",
       "      <td>Casa de Campo</td>\n",
       "      <td>331</td>\n",
       "    </tr>\n",
       "    <tr>\n",
       "      <th>1</th>\n",
       "      <td>2023-08-02</td>\n",
       "      <td>Radiación solar</td>\n",
       "      <td>Noroeste</td>\n",
       "      <td>Casa de Campo</td>\n",
       "      <td>331</td>\n",
       "    </tr>\n",
       "    <tr>\n",
       "      <th>2</th>\n",
       "      <td>2023-08-03</td>\n",
       "      <td>Radiación solar</td>\n",
       "      <td>Noroeste</td>\n",
       "      <td>Casa de Campo</td>\n",
       "      <td>330</td>\n",
       "    </tr>\n",
       "    <tr>\n",
       "      <th>3</th>\n",
       "      <td>2023-08-04</td>\n",
       "      <td>Radiación solar</td>\n",
       "      <td>Noroeste</td>\n",
       "      <td>Casa de Campo</td>\n",
       "      <td>375</td>\n",
       "    </tr>\n",
       "    <tr>\n",
       "      <th>4</th>\n",
       "      <td>2023-08-05</td>\n",
       "      <td>Radiación solar</td>\n",
       "      <td>Noroeste</td>\n",
       "      <td>Casa de Campo</td>\n",
       "      <td>328</td>\n",
       "    </tr>\n",
       "  </tbody>\n",
       "</table>\n",
       "</div>"
      ],
      "text/plain": [
       "        Fecha         Magnitud      Zona       Estación  Valor\n",
       "0  2023-08-01  Radiación solar  Noroeste  Casa de Campo    331\n",
       "1  2023-08-02  Radiación solar  Noroeste  Casa de Campo    331\n",
       "2  2023-08-03  Radiación solar  Noroeste  Casa de Campo    330\n",
       "3  2023-08-04  Radiación solar  Noroeste  Casa de Campo    375\n",
       "4  2023-08-05  Radiación solar  Noroeste  Casa de Campo    328"
      ]
     },
     "execution_count": 253,
     "metadata": {},
     "output_type": "execute_result"
    }
   ],
   "source": [
    "df_radia_solar_ago= pd.read_csv('C:/Users/rfg2m/Documents/DATA_SCIENCE/Entregas/Proyectos/MACHINE LEARNING/Data/raw/Data_23/radia_solar_ago_23.csv', sep=';', encoding='utf-8')\n",
    "df_radia_solar_ago.head()"
   ]
  },
  {
   "cell_type": "code",
   "execution_count": 254,
   "metadata": {},
   "outputs": [
    {
     "name": "stdout",
     "output_type": "stream",
     "text": [
      "<class 'pandas.core.frame.DataFrame'>\n",
      "RangeIndex: 31 entries, 0 to 30\n",
      "Data columns (total 5 columns):\n",
      " #   Column    Non-Null Count  Dtype \n",
      "---  ------    --------------  ----- \n",
      " 0   Fecha     31 non-null     object\n",
      " 1   Magnitud  31 non-null     object\n",
      " 2   Zona      31 non-null     object\n",
      " 3   Estación  31 non-null     object\n",
      " 4   Valor     31 non-null     int64 \n",
      "dtypes: int64(1), object(4)\n",
      "memory usage: 1.3+ KB\n"
     ]
    }
   ],
   "source": [
    "df_radia_solar_ago.info()"
   ]
  },
  {
   "cell_type": "code",
   "execution_count": 255,
   "metadata": {},
   "outputs": [],
   "source": [
    "df_radia_solar_ago['Valor'] = df_radia_solar_ago['Valor'].astype(float)"
   ]
  },
  {
   "cell_type": "code",
   "execution_count": 256,
   "metadata": {},
   "outputs": [
    {
     "name": "stdout",
     "output_type": "stream",
     "text": [
      "<class 'pandas.core.frame.DataFrame'>\n",
      "RangeIndex: 31 entries, 0 to 30\n",
      "Data columns (total 5 columns):\n",
      " #   Column    Non-Null Count  Dtype         \n",
      "---  ------    --------------  -----         \n",
      " 0   Fecha     31 non-null     datetime64[ns]\n",
      " 1   Magnitud  31 non-null     object        \n",
      " 2   Zona      31 non-null     object        \n",
      " 3   Estación  31 non-null     object        \n",
      " 4   Valor     31 non-null     float64       \n",
      "dtypes: datetime64[ns](1), float64(1), object(3)\n",
      "memory usage: 1.3+ KB\n"
     ]
    }
   ],
   "source": [
    "df_radia_solar_ago[\"Fecha\"] = pd.to_datetime(df_radia_solar_ago[\"Fecha\"])\n",
    "df_radia_solar_ago.info()"
   ]
  },
  {
   "cell_type": "code",
   "execution_count": 257,
   "metadata": {},
   "outputs": [
    {
     "data": {
      "text/html": [
       "<div>\n",
       "<style scoped>\n",
       "    .dataframe tbody tr th:only-of-type {\n",
       "        vertical-align: middle;\n",
       "    }\n",
       "\n",
       "    .dataframe tbody tr th {\n",
       "        vertical-align: top;\n",
       "    }\n",
       "\n",
       "    .dataframe thead th {\n",
       "        text-align: right;\n",
       "    }\n",
       "</style>\n",
       "<table border=\"1\" class=\"dataframe\">\n",
       "  <thead>\n",
       "    <tr style=\"text-align: right;\">\n",
       "      <th></th>\n",
       "      <th>Fecha</th>\n",
       "      <th>Magnitud</th>\n",
       "      <th>Zona</th>\n",
       "      <th>Estación</th>\n",
       "      <th>Valor</th>\n",
       "    </tr>\n",
       "  </thead>\n",
       "  <tbody>\n",
       "    <tr>\n",
       "      <th>0</th>\n",
       "      <td>2023-09-01</td>\n",
       "      <td>Radiación solar</td>\n",
       "      <td>Noroeste</td>\n",
       "      <td>Casa de Campo</td>\n",
       "      <td>226</td>\n",
       "    </tr>\n",
       "    <tr>\n",
       "      <th>1</th>\n",
       "      <td>2023-09-02</td>\n",
       "      <td>Radiación solar</td>\n",
       "      <td>Noroeste</td>\n",
       "      <td>Casa de Campo</td>\n",
       "      <td>63</td>\n",
       "    </tr>\n",
       "    <tr>\n",
       "      <th>2</th>\n",
       "      <td>2023-09-03</td>\n",
       "      <td>Radiación solar</td>\n",
       "      <td>Noroeste</td>\n",
       "      <td>Casa de Campo</td>\n",
       "      <td>41</td>\n",
       "    </tr>\n",
       "    <tr>\n",
       "      <th>3</th>\n",
       "      <td>2023-09-04</td>\n",
       "      <td>Radiación solar</td>\n",
       "      <td>Noroeste</td>\n",
       "      <td>Casa de Campo</td>\n",
       "      <td>126</td>\n",
       "    </tr>\n",
       "    <tr>\n",
       "      <th>4</th>\n",
       "      <td>2023-09-05</td>\n",
       "      <td>Radiación solar</td>\n",
       "      <td>Noroeste</td>\n",
       "      <td>Casa de Campo</td>\n",
       "      <td>244</td>\n",
       "    </tr>\n",
       "  </tbody>\n",
       "</table>\n",
       "</div>"
      ],
      "text/plain": [
       "        Fecha         Magnitud      Zona       Estación  Valor\n",
       "0  2023-09-01  Radiación solar  Noroeste  Casa de Campo    226\n",
       "1  2023-09-02  Radiación solar  Noroeste  Casa de Campo     63\n",
       "2  2023-09-03  Radiación solar  Noroeste  Casa de Campo     41\n",
       "3  2023-09-04  Radiación solar  Noroeste  Casa de Campo    126\n",
       "4  2023-09-05  Radiación solar  Noroeste  Casa de Campo    244"
      ]
     },
     "execution_count": 257,
     "metadata": {},
     "output_type": "execute_result"
    }
   ],
   "source": [
    "df_radia_solar_sep = pd.read_csv('C:/Users/rfg2m/Documents/DATA_SCIENCE/Entregas/Proyectos/MACHINE LEARNING/Data/raw/Data_23/radia_solar_sept_23.csv', sep=';', encoding='utf-8')\n",
    "df_radia_solar_sep.head()"
   ]
  },
  {
   "cell_type": "code",
   "execution_count": 258,
   "metadata": {},
   "outputs": [
    {
     "name": "stdout",
     "output_type": "stream",
     "text": [
      "<class 'pandas.core.frame.DataFrame'>\n",
      "RangeIndex: 30 entries, 0 to 29\n",
      "Data columns (total 5 columns):\n",
      " #   Column    Non-Null Count  Dtype \n",
      "---  ------    --------------  ----- \n",
      " 0   Fecha     30 non-null     object\n",
      " 1   Magnitud  30 non-null     object\n",
      " 2   Zona      30 non-null     object\n",
      " 3   Estación  30 non-null     object\n",
      " 4   Valor     30 non-null     int64 \n",
      "dtypes: int64(1), object(4)\n",
      "memory usage: 1.3+ KB\n"
     ]
    }
   ],
   "source": [
    "df_radia_solar_sep.info()"
   ]
  },
  {
   "cell_type": "code",
   "execution_count": 259,
   "metadata": {},
   "outputs": [],
   "source": [
    "df_radia_solar_sep['Valor'] = df_radia_solar_sep['Valor'].astype(float)"
   ]
  },
  {
   "cell_type": "code",
   "execution_count": 260,
   "metadata": {},
   "outputs": [
    {
     "name": "stdout",
     "output_type": "stream",
     "text": [
      "<class 'pandas.core.frame.DataFrame'>\n",
      "RangeIndex: 30 entries, 0 to 29\n",
      "Data columns (total 5 columns):\n",
      " #   Column    Non-Null Count  Dtype         \n",
      "---  ------    --------------  -----         \n",
      " 0   Fecha     30 non-null     datetime64[ns]\n",
      " 1   Magnitud  30 non-null     object        \n",
      " 2   Zona      30 non-null     object        \n",
      " 3   Estación  30 non-null     object        \n",
      " 4   Valor     30 non-null     float64       \n",
      "dtypes: datetime64[ns](1), float64(1), object(3)\n",
      "memory usage: 1.3+ KB\n"
     ]
    }
   ],
   "source": [
    "df_radia_solar_sep[\"Fecha\"] = pd.to_datetime(df_radia_solar_sep[\"Fecha\"])\n",
    "df_radia_solar_sep.info()"
   ]
  },
  {
   "cell_type": "code",
   "execution_count": 261,
   "metadata": {},
   "outputs": [
    {
     "data": {
      "text/html": [
       "<div>\n",
       "<style scoped>\n",
       "    .dataframe tbody tr th:only-of-type {\n",
       "        vertical-align: middle;\n",
       "    }\n",
       "\n",
       "    .dataframe tbody tr th {\n",
       "        vertical-align: top;\n",
       "    }\n",
       "\n",
       "    .dataframe thead th {\n",
       "        text-align: right;\n",
       "    }\n",
       "</style>\n",
       "<table border=\"1\" class=\"dataframe\">\n",
       "  <thead>\n",
       "    <tr style=\"text-align: right;\">\n",
       "      <th></th>\n",
       "      <th>Fecha</th>\n",
       "      <th>Magnitud</th>\n",
       "      <th>Zona</th>\n",
       "      <th>Estación</th>\n",
       "      <th>Valor</th>\n",
       "    </tr>\n",
       "  </thead>\n",
       "  <tbody>\n",
       "    <tr>\n",
       "      <th>0</th>\n",
       "      <td>2023-10-01</td>\n",
       "      <td>Radiación solar</td>\n",
       "      <td>Noroeste</td>\n",
       "      <td>Casa de Campo</td>\n",
       "      <td>214</td>\n",
       "    </tr>\n",
       "    <tr>\n",
       "      <th>1</th>\n",
       "      <td>2023-10-02</td>\n",
       "      <td>Radiación solar</td>\n",
       "      <td>Noroeste</td>\n",
       "      <td>Casa de Campo</td>\n",
       "      <td>208</td>\n",
       "    </tr>\n",
       "    <tr>\n",
       "      <th>2</th>\n",
       "      <td>2023-10-03</td>\n",
       "      <td>Radiación solar</td>\n",
       "      <td>Noroeste</td>\n",
       "      <td>Casa de Campo</td>\n",
       "      <td>189</td>\n",
       "    </tr>\n",
       "    <tr>\n",
       "      <th>3</th>\n",
       "      <td>2023-10-04</td>\n",
       "      <td>Radiación solar</td>\n",
       "      <td>Noroeste</td>\n",
       "      <td>Casa de Campo</td>\n",
       "      <td>196</td>\n",
       "    </tr>\n",
       "    <tr>\n",
       "      <th>4</th>\n",
       "      <td>2023-10-05</td>\n",
       "      <td>Radiación solar</td>\n",
       "      <td>Noroeste</td>\n",
       "      <td>Casa de Campo</td>\n",
       "      <td>195</td>\n",
       "    </tr>\n",
       "  </tbody>\n",
       "</table>\n",
       "</div>"
      ],
      "text/plain": [
       "        Fecha         Magnitud      Zona       Estación  Valor\n",
       "0  2023-10-01  Radiación solar  Noroeste  Casa de Campo    214\n",
       "1  2023-10-02  Radiación solar  Noroeste  Casa de Campo    208\n",
       "2  2023-10-03  Radiación solar  Noroeste  Casa de Campo    189\n",
       "3  2023-10-04  Radiación solar  Noroeste  Casa de Campo    196\n",
       "4  2023-10-05  Radiación solar  Noroeste  Casa de Campo    195"
      ]
     },
     "execution_count": 261,
     "metadata": {},
     "output_type": "execute_result"
    }
   ],
   "source": [
    "df_radia_solar_oct = pd.read_csv('C:/Users/rfg2m/Documents/DATA_SCIENCE/Entregas/Proyectos/MACHINE LEARNING/Data/raw/Data_23/radia_solar_oct_23.csv', sep=';', encoding='utf-8')\n",
    "df_radia_solar_oct.head()"
   ]
  },
  {
   "cell_type": "code",
   "execution_count": 262,
   "metadata": {},
   "outputs": [
    {
     "name": "stdout",
     "output_type": "stream",
     "text": [
      "<class 'pandas.core.frame.DataFrame'>\n",
      "RangeIndex: 31 entries, 0 to 30\n",
      "Data columns (total 5 columns):\n",
      " #   Column    Non-Null Count  Dtype \n",
      "---  ------    --------------  ----- \n",
      " 0   Fecha     31 non-null     object\n",
      " 1   Magnitud  31 non-null     object\n",
      " 2   Zona      31 non-null     object\n",
      " 3   Estación  31 non-null     object\n",
      " 4   Valor     31 non-null     int64 \n",
      "dtypes: int64(1), object(4)\n",
      "memory usage: 1.3+ KB\n"
     ]
    }
   ],
   "source": [
    "df_radia_solar_oct.info()"
   ]
  },
  {
   "cell_type": "code",
   "execution_count": 263,
   "metadata": {},
   "outputs": [],
   "source": [
    "df_radia_solar_oct['Valor'] = df_radia_solar_oct['Valor'].astype(float)"
   ]
  },
  {
   "cell_type": "code",
   "execution_count": 264,
   "metadata": {},
   "outputs": [
    {
     "name": "stdout",
     "output_type": "stream",
     "text": [
      "<class 'pandas.core.frame.DataFrame'>\n",
      "RangeIndex: 31 entries, 0 to 30\n",
      "Data columns (total 5 columns):\n",
      " #   Column    Non-Null Count  Dtype         \n",
      "---  ------    --------------  -----         \n",
      " 0   Fecha     31 non-null     datetime64[ns]\n",
      " 1   Magnitud  31 non-null     object        \n",
      " 2   Zona      31 non-null     object        \n",
      " 3   Estación  31 non-null     object        \n",
      " 4   Valor     31 non-null     float64       \n",
      "dtypes: datetime64[ns](1), float64(1), object(3)\n",
      "memory usage: 1.3+ KB\n"
     ]
    }
   ],
   "source": [
    "df_radia_solar_oct[\"Fecha\"] = pd.to_datetime(df_radia_solar_oct[\"Fecha\"])\n",
    "df_radia_solar_oct.info()"
   ]
  },
  {
   "cell_type": "code",
   "execution_count": 265,
   "metadata": {},
   "outputs": [
    {
     "data": {
      "text/html": [
       "<div>\n",
       "<style scoped>\n",
       "    .dataframe tbody tr th:only-of-type {\n",
       "        vertical-align: middle;\n",
       "    }\n",
       "\n",
       "    .dataframe tbody tr th {\n",
       "        vertical-align: top;\n",
       "    }\n",
       "\n",
       "    .dataframe thead th {\n",
       "        text-align: right;\n",
       "    }\n",
       "</style>\n",
       "<table border=\"1\" class=\"dataframe\">\n",
       "  <thead>\n",
       "    <tr style=\"text-align: right;\">\n",
       "      <th></th>\n",
       "      <th>Fecha</th>\n",
       "      <th>Magnitud</th>\n",
       "      <th>Zona</th>\n",
       "      <th>Estación</th>\n",
       "      <th>Valor</th>\n",
       "    </tr>\n",
       "  </thead>\n",
       "  <tbody>\n",
       "    <tr>\n",
       "      <th>0</th>\n",
       "      <td>2023-11-01</td>\n",
       "      <td>Radiación solar</td>\n",
       "      <td>Noroeste</td>\n",
       "      <td>Casa de Campo</td>\n",
       "      <td>46.0</td>\n",
       "    </tr>\n",
       "    <tr>\n",
       "      <th>1</th>\n",
       "      <td>2023-11-02</td>\n",
       "      <td>Radiación solar</td>\n",
       "      <td>Noroeste</td>\n",
       "      <td>Casa de Campo</td>\n",
       "      <td>83.0</td>\n",
       "    </tr>\n",
       "    <tr>\n",
       "      <th>2</th>\n",
       "      <td>2023-11-03</td>\n",
       "      <td>Radiación solar</td>\n",
       "      <td>Noroeste</td>\n",
       "      <td>Casa de Campo</td>\n",
       "      <td>81.0</td>\n",
       "    </tr>\n",
       "    <tr>\n",
       "      <th>3</th>\n",
       "      <td>2023-11-04</td>\n",
       "      <td>Radiación solar</td>\n",
       "      <td>Noroeste</td>\n",
       "      <td>Casa de Campo</td>\n",
       "      <td>44.0</td>\n",
       "    </tr>\n",
       "    <tr>\n",
       "      <th>4</th>\n",
       "      <td>2023-11-05</td>\n",
       "      <td>Radiación solar</td>\n",
       "      <td>Noroeste</td>\n",
       "      <td>Casa de Campo</td>\n",
       "      <td>132.0</td>\n",
       "    </tr>\n",
       "  </tbody>\n",
       "</table>\n",
       "</div>"
      ],
      "text/plain": [
       "        Fecha         Magnitud      Zona       Estación  Valor\n",
       "0  2023-11-01  Radiación solar  Noroeste  Casa de Campo   46.0\n",
       "1  2023-11-02  Radiación solar  Noroeste  Casa de Campo   83.0\n",
       "2  2023-11-03  Radiación solar  Noroeste  Casa de Campo   81.0\n",
       "3  2023-11-04  Radiación solar  Noroeste  Casa de Campo   44.0\n",
       "4  2023-11-05  Radiación solar  Noroeste  Casa de Campo  132.0"
      ]
     },
     "execution_count": 265,
     "metadata": {},
     "output_type": "execute_result"
    }
   ],
   "source": [
    "df_radia_solar_nov = pd.read_csv('C:/Users/rfg2m/Documents/DATA_SCIENCE/Entregas/Proyectos/MACHINE LEARNING/Data/raw/Data_23/radia_solar_nov_23.csv', sep=';', encoding='utf-8')\n",
    "df_radia_solar_nov.head()"
   ]
  },
  {
   "cell_type": "code",
   "execution_count": 266,
   "metadata": {},
   "outputs": [
    {
     "name": "stdout",
     "output_type": "stream",
     "text": [
      "<class 'pandas.core.frame.DataFrame'>\n",
      "RangeIndex: 30 entries, 0 to 29\n",
      "Data columns (total 5 columns):\n",
      " #   Column    Non-Null Count  Dtype  \n",
      "---  ------    --------------  -----  \n",
      " 0   Fecha     30 non-null     object \n",
      " 1   Magnitud  30 non-null     object \n",
      " 2   Zona      30 non-null     object \n",
      " 3   Estación  30 non-null     object \n",
      " 4   Valor     28 non-null     float64\n",
      "dtypes: float64(1), object(4)\n",
      "memory usage: 1.3+ KB\n"
     ]
    }
   ],
   "source": [
    "df_radia_solar_nov.info()"
   ]
  },
  {
   "cell_type": "code",
   "execution_count": 267,
   "metadata": {},
   "outputs": [
    {
     "name": "stdout",
     "output_type": "stream",
     "text": [
      "<class 'pandas.core.frame.DataFrame'>\n",
      "RangeIndex: 30 entries, 0 to 29\n",
      "Data columns (total 5 columns):\n",
      " #   Column    Non-Null Count  Dtype         \n",
      "---  ------    --------------  -----         \n",
      " 0   Fecha     30 non-null     datetime64[ns]\n",
      " 1   Magnitud  30 non-null     object        \n",
      " 2   Zona      30 non-null     object        \n",
      " 3   Estación  30 non-null     object        \n",
      " 4   Valor     28 non-null     float64       \n",
      "dtypes: datetime64[ns](1), float64(1), object(3)\n",
      "memory usage: 1.3+ KB\n"
     ]
    }
   ],
   "source": [
    "df_radia_solar_nov[\"Fecha\"] = pd.to_datetime(df_radia_solar_nov[\"Fecha\"])\n",
    "df_radia_solar_nov.info()"
   ]
  },
  {
   "cell_type": "code",
   "execution_count": 268,
   "metadata": {},
   "outputs": [
    {
     "name": "stdout",
     "output_type": "stream",
     "text": [
      "        Fecha         Magnitud      Zona       Estación  Valor\n",
      "22 2023-11-23  Radiación solar  Noroeste  Casa de Campo    NaN\n",
      "23 2023-11-24  Radiación solar  Noroeste  Casa de Campo    NaN\n"
     ]
    }
   ],
   "source": [
    "df_nulos = df_radia_solar_nov[df_radia_solar_nov.isnull().any(axis=1)]\n",
    "print(df_nulos)"
   ]
  },
  {
   "cell_type": "code",
   "execution_count": 269,
   "metadata": {},
   "outputs": [
    {
     "data": {
      "text/html": [
       "<div>\n",
       "<style scoped>\n",
       "    .dataframe tbody tr th:only-of-type {\n",
       "        vertical-align: middle;\n",
       "    }\n",
       "\n",
       "    .dataframe tbody tr th {\n",
       "        vertical-align: top;\n",
       "    }\n",
       "\n",
       "    .dataframe thead th {\n",
       "        text-align: right;\n",
       "    }\n",
       "</style>\n",
       "<table border=\"1\" class=\"dataframe\">\n",
       "  <thead>\n",
       "    <tr style=\"text-align: right;\">\n",
       "      <th></th>\n",
       "      <th>Fecha</th>\n",
       "      <th>Magnitud</th>\n",
       "      <th>Zona</th>\n",
       "      <th>Estación</th>\n",
       "      <th>Valor</th>\n",
       "    </tr>\n",
       "  </thead>\n",
       "  <tbody>\n",
       "    <tr>\n",
       "      <th>0</th>\n",
       "      <td>2023-11-01</td>\n",
       "      <td>Radiación solar</td>\n",
       "      <td>Noroeste</td>\n",
       "      <td>Casa de Campo</td>\n",
       "      <td>46.0</td>\n",
       "    </tr>\n",
       "    <tr>\n",
       "      <th>1</th>\n",
       "      <td>2023-11-02</td>\n",
       "      <td>Radiación solar</td>\n",
       "      <td>Noroeste</td>\n",
       "      <td>Casa de Campo</td>\n",
       "      <td>83.0</td>\n",
       "    </tr>\n",
       "    <tr>\n",
       "      <th>2</th>\n",
       "      <td>2023-11-03</td>\n",
       "      <td>Radiación solar</td>\n",
       "      <td>Noroeste</td>\n",
       "      <td>Casa de Campo</td>\n",
       "      <td>81.0</td>\n",
       "    </tr>\n",
       "    <tr>\n",
       "      <th>3</th>\n",
       "      <td>2023-11-04</td>\n",
       "      <td>Radiación solar</td>\n",
       "      <td>Noroeste</td>\n",
       "      <td>Casa de Campo</td>\n",
       "      <td>44.0</td>\n",
       "    </tr>\n",
       "    <tr>\n",
       "      <th>4</th>\n",
       "      <td>2023-11-05</td>\n",
       "      <td>Radiación solar</td>\n",
       "      <td>Noroeste</td>\n",
       "      <td>Casa de Campo</td>\n",
       "      <td>132.0</td>\n",
       "    </tr>\n",
       "  </tbody>\n",
       "</table>\n",
       "</div>"
      ],
      "text/plain": [
       "       Fecha         Magnitud      Zona       Estación  Valor\n",
       "0 2023-11-01  Radiación solar  Noroeste  Casa de Campo   46.0\n",
       "1 2023-11-02  Radiación solar  Noroeste  Casa de Campo   83.0\n",
       "2 2023-11-03  Radiación solar  Noroeste  Casa de Campo   81.0\n",
       "3 2023-11-04  Radiación solar  Noroeste  Casa de Campo   44.0\n",
       "4 2023-11-05  Radiación solar  Noroeste  Casa de Campo  132.0"
      ]
     },
     "execution_count": 269,
     "metadata": {},
     "output_type": "execute_result"
    }
   ],
   "source": [
    "df_radia_solar_nov['Valor'] = df_radia_solar_nov['Valor'].fillna(df_radia_solar_nov['Valor'].mean())\n",
    "df_radia_solar_nov.head()"
   ]
  },
  {
   "cell_type": "code",
   "execution_count": 270,
   "metadata": {},
   "outputs": [
    {
     "name": "stdout",
     "output_type": "stream",
     "text": [
      "<class 'pandas.core.frame.DataFrame'>\n",
      "RangeIndex: 30 entries, 0 to 29\n",
      "Data columns (total 5 columns):\n",
      " #   Column    Non-Null Count  Dtype         \n",
      "---  ------    --------------  -----         \n",
      " 0   Fecha     30 non-null     datetime64[ns]\n",
      " 1   Magnitud  30 non-null     object        \n",
      " 2   Zona      30 non-null     object        \n",
      " 3   Estación  30 non-null     object        \n",
      " 4   Valor     30 non-null     float64       \n",
      "dtypes: datetime64[ns](1), float64(1), object(3)\n",
      "memory usage: 1.3+ KB\n"
     ]
    }
   ],
   "source": [
    "df_radia_solar_nov.info()"
   ]
  },
  {
   "cell_type": "code",
   "execution_count": 271,
   "metadata": {},
   "outputs": [
    {
     "data": {
      "text/html": [
       "<div>\n",
       "<style scoped>\n",
       "    .dataframe tbody tr th:only-of-type {\n",
       "        vertical-align: middle;\n",
       "    }\n",
       "\n",
       "    .dataframe tbody tr th {\n",
       "        vertical-align: top;\n",
       "    }\n",
       "\n",
       "    .dataframe thead th {\n",
       "        text-align: right;\n",
       "    }\n",
       "</style>\n",
       "<table border=\"1\" class=\"dataframe\">\n",
       "  <thead>\n",
       "    <tr style=\"text-align: right;\">\n",
       "      <th></th>\n",
       "      <th>Fecha</th>\n",
       "      <th>Magnitud</th>\n",
       "      <th>Zona</th>\n",
       "      <th>Estación</th>\n",
       "      <th>Valor</th>\n",
       "    </tr>\n",
       "  </thead>\n",
       "  <tbody>\n",
       "    <tr>\n",
       "      <th>0</th>\n",
       "      <td>2023-12-01</td>\n",
       "      <td>Radiación solar</td>\n",
       "      <td>Noroeste</td>\n",
       "      <td>Casa de Campo</td>\n",
       "      <td>94</td>\n",
       "    </tr>\n",
       "    <tr>\n",
       "      <th>1</th>\n",
       "      <td>2023-12-02</td>\n",
       "      <td>Radiación solar</td>\n",
       "      <td>Noroeste</td>\n",
       "      <td>Casa de Campo</td>\n",
       "      <td>107</td>\n",
       "    </tr>\n",
       "    <tr>\n",
       "      <th>2</th>\n",
       "      <td>2023-12-03</td>\n",
       "      <td>Radiación solar</td>\n",
       "      <td>Noroeste</td>\n",
       "      <td>Casa de Campo</td>\n",
       "      <td>92</td>\n",
       "    </tr>\n",
       "    <tr>\n",
       "      <th>3</th>\n",
       "      <td>2023-12-04</td>\n",
       "      <td>Radiación solar</td>\n",
       "      <td>Noroeste</td>\n",
       "      <td>Casa de Campo</td>\n",
       "      <td>57</td>\n",
       "    </tr>\n",
       "    <tr>\n",
       "      <th>4</th>\n",
       "      <td>2023-12-05</td>\n",
       "      <td>Radiación solar</td>\n",
       "      <td>Noroeste</td>\n",
       "      <td>Casa de Campo</td>\n",
       "      <td>54</td>\n",
       "    </tr>\n",
       "  </tbody>\n",
       "</table>\n",
       "</div>"
      ],
      "text/plain": [
       "        Fecha         Magnitud      Zona       Estación  Valor\n",
       "0  2023-12-01  Radiación solar  Noroeste  Casa de Campo     94\n",
       "1  2023-12-02  Radiación solar  Noroeste  Casa de Campo    107\n",
       "2  2023-12-03  Radiación solar  Noroeste  Casa de Campo     92\n",
       "3  2023-12-04  Radiación solar  Noroeste  Casa de Campo     57\n",
       "4  2023-12-05  Radiación solar  Noroeste  Casa de Campo     54"
      ]
     },
     "execution_count": 271,
     "metadata": {},
     "output_type": "execute_result"
    }
   ],
   "source": [
    "df_radia_solar_dic = pd.read_csv('C:/Users/rfg2m/Documents/DATA_SCIENCE/Entregas/Proyectos/MACHINE LEARNING/Data/raw/Data_23/radia_solar_dic_23.csv', sep=';', encoding='utf-8')\n",
    "df_radia_solar_dic.head()"
   ]
  },
  {
   "cell_type": "code",
   "execution_count": 272,
   "metadata": {},
   "outputs": [
    {
     "name": "stdout",
     "output_type": "stream",
     "text": [
      "<class 'pandas.core.frame.DataFrame'>\n",
      "RangeIndex: 31 entries, 0 to 30\n",
      "Data columns (total 5 columns):\n",
      " #   Column    Non-Null Count  Dtype \n",
      "---  ------    --------------  ----- \n",
      " 0   Fecha     31 non-null     object\n",
      " 1   Magnitud  31 non-null     object\n",
      " 2   Zona      31 non-null     object\n",
      " 3   Estación  31 non-null     object\n",
      " 4   Valor     31 non-null     int64 \n",
      "dtypes: int64(1), object(4)\n",
      "memory usage: 1.3+ KB\n"
     ]
    }
   ],
   "source": [
    "df_radia_solar_dic.info()"
   ]
  },
  {
   "cell_type": "code",
   "execution_count": 273,
   "metadata": {},
   "outputs": [],
   "source": [
    "df_radia_solar_dic['Valor'] = df_radia_solar_dic['Valor'].astype(float)"
   ]
  },
  {
   "cell_type": "code",
   "execution_count": 274,
   "metadata": {},
   "outputs": [
    {
     "name": "stdout",
     "output_type": "stream",
     "text": [
      "<class 'pandas.core.frame.DataFrame'>\n",
      "RangeIndex: 31 entries, 0 to 30\n",
      "Data columns (total 5 columns):\n",
      " #   Column    Non-Null Count  Dtype         \n",
      "---  ------    --------------  -----         \n",
      " 0   Fecha     31 non-null     datetime64[ns]\n",
      " 1   Magnitud  31 non-null     object        \n",
      " 2   Zona      31 non-null     object        \n",
      " 3   Estación  31 non-null     object        \n",
      " 4   Valor     31 non-null     float64       \n",
      "dtypes: datetime64[ns](1), float64(1), object(3)\n",
      "memory usage: 1.3+ KB\n"
     ]
    }
   ],
   "source": [
    "df_radia_solar_dic[\"Fecha\"] = pd.to_datetime(df_radia_solar_dic[\"Fecha\"])\n",
    "df_radia_solar_dic.info()"
   ]
  },
  {
   "cell_type": "code",
   "execution_count": 275,
   "metadata": {},
   "outputs": [
    {
     "data": {
      "text/html": [
       "<div>\n",
       "<style scoped>\n",
       "    .dataframe tbody tr th:only-of-type {\n",
       "        vertical-align: middle;\n",
       "    }\n",
       "\n",
       "    .dataframe tbody tr th {\n",
       "        vertical-align: top;\n",
       "    }\n",
       "\n",
       "    .dataframe thead th {\n",
       "        text-align: right;\n",
       "    }\n",
       "</style>\n",
       "<table border=\"1\" class=\"dataframe\">\n",
       "  <thead>\n",
       "    <tr style=\"text-align: right;\">\n",
       "      <th></th>\n",
       "      <th>Fecha</th>\n",
       "      <th>Magnitud</th>\n",
       "      <th>Zona</th>\n",
       "      <th>Estación</th>\n",
       "      <th>Valor</th>\n",
       "    </tr>\n",
       "  </thead>\n",
       "  <tbody>\n",
       "    <tr>\n",
       "      <th>0</th>\n",
       "      <td>2023-01-01</td>\n",
       "      <td>Radiación solar</td>\n",
       "      <td>Noroeste</td>\n",
       "      <td>Casa de Campo</td>\n",
       "      <td>82.0</td>\n",
       "    </tr>\n",
       "    <tr>\n",
       "      <th>1</th>\n",
       "      <td>2023-01-02</td>\n",
       "      <td>Radiación solar</td>\n",
       "      <td>Noroeste</td>\n",
       "      <td>Casa de Campo</td>\n",
       "      <td>75.0</td>\n",
       "    </tr>\n",
       "    <tr>\n",
       "      <th>2</th>\n",
       "      <td>2023-01-03</td>\n",
       "      <td>Radiación solar</td>\n",
       "      <td>Noroeste</td>\n",
       "      <td>Casa de Campo</td>\n",
       "      <td>101.0</td>\n",
       "    </tr>\n",
       "    <tr>\n",
       "      <th>3</th>\n",
       "      <td>2023-01-04</td>\n",
       "      <td>Radiación solar</td>\n",
       "      <td>Noroeste</td>\n",
       "      <td>Casa de Campo</td>\n",
       "      <td>99.0</td>\n",
       "    </tr>\n",
       "    <tr>\n",
       "      <th>4</th>\n",
       "      <td>2023-01-05</td>\n",
       "      <td>Radiación solar</td>\n",
       "      <td>Noroeste</td>\n",
       "      <td>Casa de Campo</td>\n",
       "      <td>100.0</td>\n",
       "    </tr>\n",
       "    <tr>\n",
       "      <th>5</th>\n",
       "      <td>2023-01-06</td>\n",
       "      <td>Radiación solar</td>\n",
       "      <td>Noroeste</td>\n",
       "      <td>Casa de Campo</td>\n",
       "      <td>101.0</td>\n",
       "    </tr>\n",
       "    <tr>\n",
       "      <th>6</th>\n",
       "      <td>2023-01-07</td>\n",
       "      <td>Radiación solar</td>\n",
       "      <td>Noroeste</td>\n",
       "      <td>Casa de Campo</td>\n",
       "      <td>22.0</td>\n",
       "    </tr>\n",
       "    <tr>\n",
       "      <th>7</th>\n",
       "      <td>2023-01-08</td>\n",
       "      <td>Radiación solar</td>\n",
       "      <td>Noroeste</td>\n",
       "      <td>Casa de Campo</td>\n",
       "      <td>43.0</td>\n",
       "    </tr>\n",
       "    <tr>\n",
       "      <th>8</th>\n",
       "      <td>2023-01-09</td>\n",
       "      <td>Radiación solar</td>\n",
       "      <td>Noroeste</td>\n",
       "      <td>Casa de Campo</td>\n",
       "      <td>101.0</td>\n",
       "    </tr>\n",
       "    <tr>\n",
       "      <th>9</th>\n",
       "      <td>2023-01-10</td>\n",
       "      <td>Radiación solar</td>\n",
       "      <td>Noroeste</td>\n",
       "      <td>Casa de Campo</td>\n",
       "      <td>101.0</td>\n",
       "    </tr>\n",
       "    <tr>\n",
       "      <th>10</th>\n",
       "      <td>2023-01-11</td>\n",
       "      <td>Radiación solar</td>\n",
       "      <td>Noroeste</td>\n",
       "      <td>Casa de Campo</td>\n",
       "      <td>38.0</td>\n",
       "    </tr>\n",
       "    <tr>\n",
       "      <th>11</th>\n",
       "      <td>2023-01-12</td>\n",
       "      <td>Radiación solar</td>\n",
       "      <td>Noroeste</td>\n",
       "      <td>Casa de Campo</td>\n",
       "      <td>109.0</td>\n",
       "    </tr>\n",
       "    <tr>\n",
       "      <th>12</th>\n",
       "      <td>2023-01-13</td>\n",
       "      <td>Radiación solar</td>\n",
       "      <td>Noroeste</td>\n",
       "      <td>Casa de Campo</td>\n",
       "      <td>95.0</td>\n",
       "    </tr>\n",
       "  </tbody>\n",
       "</table>\n",
       "</div>"
      ],
      "text/plain": [
       "        Fecha         Magnitud      Zona       Estación  Valor\n",
       "0  2023-01-01  Radiación solar  Noroeste  Casa de Campo   82.0\n",
       "1  2023-01-02  Radiación solar  Noroeste  Casa de Campo   75.0\n",
       "2  2023-01-03  Radiación solar  Noroeste  Casa de Campo  101.0\n",
       "3  2023-01-04  Radiación solar  Noroeste  Casa de Campo   99.0\n",
       "4  2023-01-05  Radiación solar  Noroeste  Casa de Campo  100.0\n",
       "5  2023-01-06  Radiación solar  Noroeste  Casa de Campo  101.0\n",
       "6  2023-01-07  Radiación solar  Noroeste  Casa de Campo   22.0\n",
       "7  2023-01-08  Radiación solar  Noroeste  Casa de Campo   43.0\n",
       "8  2023-01-09  Radiación solar  Noroeste  Casa de Campo  101.0\n",
       "9  2023-01-10  Radiación solar  Noroeste  Casa de Campo  101.0\n",
       "10 2023-01-11  Radiación solar  Noroeste  Casa de Campo   38.0\n",
       "11 2023-01-12  Radiación solar  Noroeste  Casa de Campo  109.0\n",
       "12 2023-01-13  Radiación solar  Noroeste  Casa de Campo   95.0"
      ]
     },
     "execution_count": 275,
     "metadata": {},
     "output_type": "execute_result"
    }
   ],
   "source": [
    "df_radia_solar = pd.concat([df_radia_solar_ene, df_radia_solar_feb, df_radia_solar_mar, df_radia_solar_abr, df_radia_solar_may, df_radia_solar_jun, df_radia_solar_jul, df_radia_solar_ago, df_radia_solar_sep, df_radia_solar_oct, df_radia_solar_nov, df_radia_solar_dic ],axis=0, ignore_index=True)\n",
    "df_radia_solar.head(13)"
   ]
  },
  {
   "cell_type": "code",
   "execution_count": 276,
   "metadata": {},
   "outputs": [],
   "source": [
    "df_radia_solar.drop(columns=['Magnitud', 'Zona', 'Estación'], inplace=True)"
   ]
  },
  {
   "cell_type": "code",
   "execution_count": 277,
   "metadata": {},
   "outputs": [
    {
     "data": {
      "text/html": [
       "<div>\n",
       "<style scoped>\n",
       "    .dataframe tbody tr th:only-of-type {\n",
       "        vertical-align: middle;\n",
       "    }\n",
       "\n",
       "    .dataframe tbody tr th {\n",
       "        vertical-align: top;\n",
       "    }\n",
       "\n",
       "    .dataframe thead th {\n",
       "        text-align: right;\n",
       "    }\n",
       "</style>\n",
       "<table border=\"1\" class=\"dataframe\">\n",
       "  <thead>\n",
       "    <tr style=\"text-align: right;\">\n",
       "      <th></th>\n",
       "      <th>Fecha</th>\n",
       "      <th>Radiación_Solar</th>\n",
       "    </tr>\n",
       "  </thead>\n",
       "  <tbody>\n",
       "    <tr>\n",
       "      <th>0</th>\n",
       "      <td>2023-01-01</td>\n",
       "      <td>82.0</td>\n",
       "    </tr>\n",
       "    <tr>\n",
       "      <th>1</th>\n",
       "      <td>2023-01-02</td>\n",
       "      <td>75.0</td>\n",
       "    </tr>\n",
       "    <tr>\n",
       "      <th>2</th>\n",
       "      <td>2023-01-03</td>\n",
       "      <td>101.0</td>\n",
       "    </tr>\n",
       "    <tr>\n",
       "      <th>3</th>\n",
       "      <td>2023-01-04</td>\n",
       "      <td>99.0</td>\n",
       "    </tr>\n",
       "    <tr>\n",
       "      <th>4</th>\n",
       "      <td>2023-01-05</td>\n",
       "      <td>100.0</td>\n",
       "    </tr>\n",
       "    <tr>\n",
       "      <th>...</th>\n",
       "      <td>...</td>\n",
       "      <td>...</td>\n",
       "    </tr>\n",
       "    <tr>\n",
       "      <th>360</th>\n",
       "      <td>2023-12-27</td>\n",
       "      <td>101.0</td>\n",
       "    </tr>\n",
       "    <tr>\n",
       "      <th>361</th>\n",
       "      <td>2023-12-28</td>\n",
       "      <td>54.0</td>\n",
       "    </tr>\n",
       "    <tr>\n",
       "      <th>362</th>\n",
       "      <td>2023-12-29</td>\n",
       "      <td>38.0</td>\n",
       "    </tr>\n",
       "    <tr>\n",
       "      <th>363</th>\n",
       "      <td>2023-12-30</td>\n",
       "      <td>95.0</td>\n",
       "    </tr>\n",
       "    <tr>\n",
       "      <th>364</th>\n",
       "      <td>2023-12-31</td>\n",
       "      <td>56.0</td>\n",
       "    </tr>\n",
       "  </tbody>\n",
       "</table>\n",
       "<p>365 rows × 2 columns</p>\n",
       "</div>"
      ],
      "text/plain": [
       "         Fecha  Radiación_Solar\n",
       "0   2023-01-01             82.0\n",
       "1   2023-01-02             75.0\n",
       "2   2023-01-03            101.0\n",
       "3   2023-01-04             99.0\n",
       "4   2023-01-05            100.0\n",
       "..         ...              ...\n",
       "360 2023-12-27            101.0\n",
       "361 2023-12-28             54.0\n",
       "362 2023-12-29             38.0\n",
       "363 2023-12-30             95.0\n",
       "364 2023-12-31             56.0\n",
       "\n",
       "[365 rows x 2 columns]"
      ]
     },
     "execution_count": 277,
     "metadata": {},
     "output_type": "execute_result"
    }
   ],
   "source": [
    "df_radia_solar.rename(columns={'Valor': 'Radiación_Solar'}, inplace=True)\n",
    "df_radia_solar"
   ]
  },
  {
   "cell_type": "code",
   "execution_count": 278,
   "metadata": {},
   "outputs": [
    {
     "name": "stdout",
     "output_type": "stream",
     "text": [
      "<class 'pandas.core.frame.DataFrame'>\n",
      "RangeIndex: 365 entries, 0 to 364\n",
      "Data columns (total 2 columns):\n",
      " #   Column           Non-Null Count  Dtype         \n",
      "---  ------           --------------  -----         \n",
      " 0   Fecha            365 non-null    datetime64[ns]\n",
      " 1   Radiación_Solar  365 non-null    float64       \n",
      "dtypes: datetime64[ns](1), float64(1)\n",
      "memory usage: 5.8 KB\n"
     ]
    }
   ],
   "source": [
    "df_radia_solar.info()"
   ]
  },
  {
   "cell_type": "markdown",
   "metadata": {},
   "source": [
    "## Datasets de humedad relativa diaria año 2023"
   ]
  },
  {
   "cell_type": "code",
   "execution_count": 279,
   "metadata": {},
   "outputs": [
    {
     "data": {
      "text/html": [
       "<div>\n",
       "<style scoped>\n",
       "    .dataframe tbody tr th:only-of-type {\n",
       "        vertical-align: middle;\n",
       "    }\n",
       "\n",
       "    .dataframe tbody tr th {\n",
       "        vertical-align: top;\n",
       "    }\n",
       "\n",
       "    .dataframe thead th {\n",
       "        text-align: right;\n",
       "    }\n",
       "</style>\n",
       "<table border=\"1\" class=\"dataframe\">\n",
       "  <thead>\n",
       "    <tr style=\"text-align: right;\">\n",
       "      <th></th>\n",
       "      <th>Fecha</th>\n",
       "      <th>Magnitud</th>\n",
       "      <th>Zona</th>\n",
       "      <th>Estación</th>\n",
       "      <th>Valor</th>\n",
       "    </tr>\n",
       "  </thead>\n",
       "  <tbody>\n",
       "    <tr>\n",
       "      <th>0</th>\n",
       "      <td>2023-01-01</td>\n",
       "      <td>Humedad relativa</td>\n",
       "      <td>Noroeste</td>\n",
       "      <td>Casa de Campo</td>\n",
       "      <td>66</td>\n",
       "    </tr>\n",
       "    <tr>\n",
       "      <th>1</th>\n",
       "      <td>2023-01-02</td>\n",
       "      <td>Humedad relativa</td>\n",
       "      <td>Noroeste</td>\n",
       "      <td>Casa de Campo</td>\n",
       "      <td>80</td>\n",
       "    </tr>\n",
       "    <tr>\n",
       "      <th>2</th>\n",
       "      <td>2023-01-03</td>\n",
       "      <td>Humedad relativa</td>\n",
       "      <td>Noroeste</td>\n",
       "      <td>Casa de Campo</td>\n",
       "      <td>83</td>\n",
       "    </tr>\n",
       "    <tr>\n",
       "      <th>3</th>\n",
       "      <td>2023-01-04</td>\n",
       "      <td>Humedad relativa</td>\n",
       "      <td>Noroeste</td>\n",
       "      <td>Casa de Campo</td>\n",
       "      <td>79</td>\n",
       "    </tr>\n",
       "    <tr>\n",
       "      <th>4</th>\n",
       "      <td>2023-01-05</td>\n",
       "      <td>Humedad relativa</td>\n",
       "      <td>Noroeste</td>\n",
       "      <td>Casa de Campo</td>\n",
       "      <td>77</td>\n",
       "    </tr>\n",
       "  </tbody>\n",
       "</table>\n",
       "</div>"
      ],
      "text/plain": [
       "        Fecha          Magnitud      Zona       Estación  Valor\n",
       "0  2023-01-01  Humedad relativa  Noroeste  Casa de Campo     66\n",
       "1  2023-01-02  Humedad relativa  Noroeste  Casa de Campo     80\n",
       "2  2023-01-03  Humedad relativa  Noroeste  Casa de Campo     83\n",
       "3  2023-01-04  Humedad relativa  Noroeste  Casa de Campo     79\n",
       "4  2023-01-05  Humedad relativa  Noroeste  Casa de Campo     77"
      ]
     },
     "execution_count": 279,
     "metadata": {},
     "output_type": "execute_result"
    }
   ],
   "source": [
    "df_hum_rel_ene = pd.read_csv('C:/Users/rfg2m/Documents/DATA_SCIENCE/Entregas/Proyectos/MACHINE LEARNING/Data/raw/Data_23/hum_rel_ene_23.csv', sep=';', encoding='utf-8')\n",
    "df_hum_rel_ene.head()"
   ]
  },
  {
   "cell_type": "code",
   "execution_count": 280,
   "metadata": {},
   "outputs": [
    {
     "name": "stdout",
     "output_type": "stream",
     "text": [
      "<class 'pandas.core.frame.DataFrame'>\n",
      "RangeIndex: 31 entries, 0 to 30\n",
      "Data columns (total 5 columns):\n",
      " #   Column    Non-Null Count  Dtype \n",
      "---  ------    --------------  ----- \n",
      " 0   Fecha     31 non-null     object\n",
      " 1   Magnitud  31 non-null     object\n",
      " 2   Zona      31 non-null     object\n",
      " 3   Estación  31 non-null     object\n",
      " 4   Valor     31 non-null     int64 \n",
      "dtypes: int64(1), object(4)\n",
      "memory usage: 1.3+ KB\n"
     ]
    }
   ],
   "source": [
    "df_hum_rel_ene.info()"
   ]
  },
  {
   "cell_type": "code",
   "execution_count": 281,
   "metadata": {},
   "outputs": [
    {
     "name": "stdout",
     "output_type": "stream",
     "text": [
      "<class 'pandas.core.frame.DataFrame'>\n",
      "RangeIndex: 31 entries, 0 to 30\n",
      "Data columns (total 5 columns):\n",
      " #   Column    Non-Null Count  Dtype         \n",
      "---  ------    --------------  -----         \n",
      " 0   Fecha     31 non-null     datetime64[ns]\n",
      " 1   Magnitud  31 non-null     object        \n",
      " 2   Zona      31 non-null     object        \n",
      " 3   Estación  31 non-null     object        \n",
      " 4   Valor     31 non-null     float64       \n",
      "dtypes: datetime64[ns](1), float64(1), object(3)\n",
      "memory usage: 1.3+ KB\n"
     ]
    }
   ],
   "source": [
    "df_hum_rel_ene[\"Fecha\"] = pd.to_datetime(df_radia_solar_dic[\"Fecha\"])\n",
    "df_radia_solar_ene.info()"
   ]
  },
  {
   "cell_type": "code",
   "execution_count": 282,
   "metadata": {},
   "outputs": [
    {
     "data": {
      "text/html": [
       "<div>\n",
       "<style scoped>\n",
       "    .dataframe tbody tr th:only-of-type {\n",
       "        vertical-align: middle;\n",
       "    }\n",
       "\n",
       "    .dataframe tbody tr th {\n",
       "        vertical-align: top;\n",
       "    }\n",
       "\n",
       "    .dataframe thead th {\n",
       "        text-align: right;\n",
       "    }\n",
       "</style>\n",
       "<table border=\"1\" class=\"dataframe\">\n",
       "  <thead>\n",
       "    <tr style=\"text-align: right;\">\n",
       "      <th></th>\n",
       "      <th>Fecha</th>\n",
       "      <th>Magnitud</th>\n",
       "      <th>Zona</th>\n",
       "      <th>Estación</th>\n",
       "      <th>Valor</th>\n",
       "    </tr>\n",
       "  </thead>\n",
       "  <tbody>\n",
       "    <tr>\n",
       "      <th>0</th>\n",
       "      <td>2023-02-01</td>\n",
       "      <td>Humedad relativa</td>\n",
       "      <td>Noroeste</td>\n",
       "      <td>Casa de Campo</td>\n",
       "      <td>67</td>\n",
       "    </tr>\n",
       "    <tr>\n",
       "      <th>1</th>\n",
       "      <td>2023-02-02</td>\n",
       "      <td>Humedad relativa</td>\n",
       "      <td>Noroeste</td>\n",
       "      <td>Casa de Campo</td>\n",
       "      <td>64</td>\n",
       "    </tr>\n",
       "    <tr>\n",
       "      <th>2</th>\n",
       "      <td>2023-02-03</td>\n",
       "      <td>Humedad relativa</td>\n",
       "      <td>Noroeste</td>\n",
       "      <td>Casa de Campo</td>\n",
       "      <td>60</td>\n",
       "    </tr>\n",
       "    <tr>\n",
       "      <th>3</th>\n",
       "      <td>2023-02-04</td>\n",
       "      <td>Humedad relativa</td>\n",
       "      <td>Noroeste</td>\n",
       "      <td>Casa de Campo</td>\n",
       "      <td>56</td>\n",
       "    </tr>\n",
       "    <tr>\n",
       "      <th>4</th>\n",
       "      <td>2023-02-05</td>\n",
       "      <td>Humedad relativa</td>\n",
       "      <td>Noroeste</td>\n",
       "      <td>Casa de Campo</td>\n",
       "      <td>47</td>\n",
       "    </tr>\n",
       "  </tbody>\n",
       "</table>\n",
       "</div>"
      ],
      "text/plain": [
       "        Fecha          Magnitud      Zona       Estación  Valor\n",
       "0  2023-02-01  Humedad relativa  Noroeste  Casa de Campo     67\n",
       "1  2023-02-02  Humedad relativa  Noroeste  Casa de Campo     64\n",
       "2  2023-02-03  Humedad relativa  Noroeste  Casa de Campo     60\n",
       "3  2023-02-04  Humedad relativa  Noroeste  Casa de Campo     56\n",
       "4  2023-02-05  Humedad relativa  Noroeste  Casa de Campo     47"
      ]
     },
     "execution_count": 282,
     "metadata": {},
     "output_type": "execute_result"
    }
   ],
   "source": [
    "df_hum_rel_feb = pd.read_csv('C:/Users/rfg2m/Documents/DATA_SCIENCE/Entregas/Proyectos/MACHINE LEARNING/Data/raw/Data_23/hum_rel_feb_23.csv', sep=';', encoding='utf-8')\n",
    "df_hum_rel_feb.head()"
   ]
  },
  {
   "cell_type": "code",
   "execution_count": 283,
   "metadata": {},
   "outputs": [
    {
     "name": "stdout",
     "output_type": "stream",
     "text": [
      "<class 'pandas.core.frame.DataFrame'>\n",
      "RangeIndex: 28 entries, 0 to 27\n",
      "Data columns (total 5 columns):\n",
      " #   Column    Non-Null Count  Dtype \n",
      "---  ------    --------------  ----- \n",
      " 0   Fecha     28 non-null     object\n",
      " 1   Magnitud  28 non-null     object\n",
      " 2   Zona      28 non-null     object\n",
      " 3   Estación  28 non-null     object\n",
      " 4   Valor     28 non-null     int64 \n",
      "dtypes: int64(1), object(4)\n",
      "memory usage: 1.2+ KB\n"
     ]
    }
   ],
   "source": [
    "df_hum_rel_feb.info()"
   ]
  },
  {
   "cell_type": "code",
   "execution_count": 284,
   "metadata": {},
   "outputs": [
    {
     "data": {
      "text/html": [
       "<div>\n",
       "<style scoped>\n",
       "    .dataframe tbody tr th:only-of-type {\n",
       "        vertical-align: middle;\n",
       "    }\n",
       "\n",
       "    .dataframe tbody tr th {\n",
       "        vertical-align: top;\n",
       "    }\n",
       "\n",
       "    .dataframe thead th {\n",
       "        text-align: right;\n",
       "    }\n",
       "</style>\n",
       "<table border=\"1\" class=\"dataframe\">\n",
       "  <thead>\n",
       "    <tr style=\"text-align: right;\">\n",
       "      <th></th>\n",
       "      <th>Fecha</th>\n",
       "      <th>Magnitud</th>\n",
       "      <th>Zona</th>\n",
       "      <th>Estación</th>\n",
       "      <th>Valor</th>\n",
       "    </tr>\n",
       "  </thead>\n",
       "  <tbody>\n",
       "    <tr>\n",
       "      <th>0</th>\n",
       "      <td>2023-03-01</td>\n",
       "      <td>Humedad relativa</td>\n",
       "      <td>Noroeste</td>\n",
       "      <td>Casa de Campo</td>\n",
       "      <td>53</td>\n",
       "    </tr>\n",
       "    <tr>\n",
       "      <th>1</th>\n",
       "      <td>2023-03-02</td>\n",
       "      <td>Humedad relativa</td>\n",
       "      <td>Noroeste</td>\n",
       "      <td>Casa de Campo</td>\n",
       "      <td>56</td>\n",
       "    </tr>\n",
       "    <tr>\n",
       "      <th>2</th>\n",
       "      <td>2023-03-03</td>\n",
       "      <td>Humedad relativa</td>\n",
       "      <td>Noroeste</td>\n",
       "      <td>Casa de Campo</td>\n",
       "      <td>57</td>\n",
       "    </tr>\n",
       "    <tr>\n",
       "      <th>3</th>\n",
       "      <td>2023-03-04</td>\n",
       "      <td>Humedad relativa</td>\n",
       "      <td>Noroeste</td>\n",
       "      <td>Casa de Campo</td>\n",
       "      <td>59</td>\n",
       "    </tr>\n",
       "    <tr>\n",
       "      <th>4</th>\n",
       "      <td>2023-03-05</td>\n",
       "      <td>Humedad relativa</td>\n",
       "      <td>Noroeste</td>\n",
       "      <td>Casa de Campo</td>\n",
       "      <td>79</td>\n",
       "    </tr>\n",
       "  </tbody>\n",
       "</table>\n",
       "</div>"
      ],
      "text/plain": [
       "        Fecha          Magnitud      Zona       Estación  Valor\n",
       "0  2023-03-01  Humedad relativa  Noroeste  Casa de Campo     53\n",
       "1  2023-03-02  Humedad relativa  Noroeste  Casa de Campo     56\n",
       "2  2023-03-03  Humedad relativa  Noroeste  Casa de Campo     57\n",
       "3  2023-03-04  Humedad relativa  Noroeste  Casa de Campo     59\n",
       "4  2023-03-05  Humedad relativa  Noroeste  Casa de Campo     79"
      ]
     },
     "execution_count": 284,
     "metadata": {},
     "output_type": "execute_result"
    }
   ],
   "source": [
    "df_hum_rel_mar = pd.read_csv('C:/Users/rfg2m/Documents/DATA_SCIENCE/Entregas/Proyectos/MACHINE LEARNING/Data/raw/Data_23/hum_rel_mar_23.csv', sep=';', encoding='utf-8')\n",
    "df_hum_rel_mar.head()"
   ]
  },
  {
   "cell_type": "code",
   "execution_count": 285,
   "metadata": {},
   "outputs": [
    {
     "name": "stdout",
     "output_type": "stream",
     "text": [
      "<class 'pandas.core.frame.DataFrame'>\n",
      "RangeIndex: 31 entries, 0 to 30\n",
      "Data columns (total 5 columns):\n",
      " #   Column    Non-Null Count  Dtype \n",
      "---  ------    --------------  ----- \n",
      " 0   Fecha     31 non-null     object\n",
      " 1   Magnitud  31 non-null     object\n",
      " 2   Zona      31 non-null     object\n",
      " 3   Estación  31 non-null     object\n",
      " 4   Valor     31 non-null     int64 \n",
      "dtypes: int64(1), object(4)\n",
      "memory usage: 1.3+ KB\n"
     ]
    }
   ],
   "source": [
    "df_hum_rel_mar.info()"
   ]
  },
  {
   "cell_type": "code",
   "execution_count": 286,
   "metadata": {},
   "outputs": [
    {
     "name": "stdout",
     "output_type": "stream",
     "text": [
      "<class 'pandas.core.frame.DataFrame'>\n",
      "RangeIndex: 31 entries, 0 to 30\n",
      "Data columns (total 5 columns):\n",
      " #   Column    Non-Null Count  Dtype         \n",
      "---  ------    --------------  -----         \n",
      " 0   Fecha     31 non-null     datetime64[ns]\n",
      " 1   Magnitud  31 non-null     object        \n",
      " 2   Zona      31 non-null     object        \n",
      " 3   Estación  31 non-null     object        \n",
      " 4   Valor     31 non-null     int64         \n",
      "dtypes: datetime64[ns](1), int64(1), object(3)\n",
      "memory usage: 1.3+ KB\n"
     ]
    }
   ],
   "source": [
    "df_hum_rel_mar[\"Fecha\"] = pd.to_datetime(df_hum_rel_mar[\"Fecha\"])\n",
    "df_hum_rel_mar.info()"
   ]
  },
  {
   "cell_type": "code",
   "execution_count": 287,
   "metadata": {},
   "outputs": [
    {
     "data": {
      "text/html": [
       "<div>\n",
       "<style scoped>\n",
       "    .dataframe tbody tr th:only-of-type {\n",
       "        vertical-align: middle;\n",
       "    }\n",
       "\n",
       "    .dataframe tbody tr th {\n",
       "        vertical-align: top;\n",
       "    }\n",
       "\n",
       "    .dataframe thead th {\n",
       "        text-align: right;\n",
       "    }\n",
       "</style>\n",
       "<table border=\"1\" class=\"dataframe\">\n",
       "  <thead>\n",
       "    <tr style=\"text-align: right;\">\n",
       "      <th></th>\n",
       "      <th>Fecha</th>\n",
       "      <th>Magnitud</th>\n",
       "      <th>Zona</th>\n",
       "      <th>Estación</th>\n",
       "      <th>Valor</th>\n",
       "    </tr>\n",
       "  </thead>\n",
       "  <tbody>\n",
       "    <tr>\n",
       "      <th>0</th>\n",
       "      <td>2023-04-01</td>\n",
       "      <td>Humedad relativa</td>\n",
       "      <td>Noroeste</td>\n",
       "      <td>Casa de Campo</td>\n",
       "      <td>51</td>\n",
       "    </tr>\n",
       "    <tr>\n",
       "      <th>1</th>\n",
       "      <td>2023-04-02</td>\n",
       "      <td>Humedad relativa</td>\n",
       "      <td>Noroeste</td>\n",
       "      <td>Casa de Campo</td>\n",
       "      <td>41</td>\n",
       "    </tr>\n",
       "    <tr>\n",
       "      <th>2</th>\n",
       "      <td>2023-04-03</td>\n",
       "      <td>Humedad relativa</td>\n",
       "      <td>Noroeste</td>\n",
       "      <td>Casa de Campo</td>\n",
       "      <td>39</td>\n",
       "    </tr>\n",
       "    <tr>\n",
       "      <th>3</th>\n",
       "      <td>2023-04-04</td>\n",
       "      <td>Humedad relativa</td>\n",
       "      <td>Noroeste</td>\n",
       "      <td>Casa de Campo</td>\n",
       "      <td>28</td>\n",
       "    </tr>\n",
       "    <tr>\n",
       "      <th>4</th>\n",
       "      <td>2023-04-05</td>\n",
       "      <td>Humedad relativa</td>\n",
       "      <td>Noroeste</td>\n",
       "      <td>Casa de Campo</td>\n",
       "      <td>21</td>\n",
       "    </tr>\n",
       "  </tbody>\n",
       "</table>\n",
       "</div>"
      ],
      "text/plain": [
       "        Fecha          Magnitud      Zona       Estación  Valor\n",
       "0  2023-04-01  Humedad relativa  Noroeste  Casa de Campo     51\n",
       "1  2023-04-02  Humedad relativa  Noroeste  Casa de Campo     41\n",
       "2  2023-04-03  Humedad relativa  Noroeste  Casa de Campo     39\n",
       "3  2023-04-04  Humedad relativa  Noroeste  Casa de Campo     28\n",
       "4  2023-04-05  Humedad relativa  Noroeste  Casa de Campo     21"
      ]
     },
     "execution_count": 287,
     "metadata": {},
     "output_type": "execute_result"
    }
   ],
   "source": [
    "df_hum_rel_abr = pd.read_csv('C:/Users/rfg2m/Documents/DATA_SCIENCE/Entregas/Proyectos/MACHINE LEARNING/Data/raw/Data_23/hum_rel_abr_23.csv', sep=';', encoding='utf-8')\n",
    "df_hum_rel_abr.head()"
   ]
  },
  {
   "cell_type": "code",
   "execution_count": 288,
   "metadata": {},
   "outputs": [
    {
     "name": "stdout",
     "output_type": "stream",
     "text": [
      "<class 'pandas.core.frame.DataFrame'>\n",
      "RangeIndex: 30 entries, 0 to 29\n",
      "Data columns (total 5 columns):\n",
      " #   Column    Non-Null Count  Dtype \n",
      "---  ------    --------------  ----- \n",
      " 0   Fecha     30 non-null     object\n",
      " 1   Magnitud  30 non-null     object\n",
      " 2   Zona      30 non-null     object\n",
      " 3   Estación  30 non-null     object\n",
      " 4   Valor     30 non-null     int64 \n",
      "dtypes: int64(1), object(4)\n",
      "memory usage: 1.3+ KB\n"
     ]
    }
   ],
   "source": [
    "df_hum_rel_abr.info()"
   ]
  },
  {
   "cell_type": "code",
   "execution_count": 289,
   "metadata": {},
   "outputs": [
    {
     "name": "stdout",
     "output_type": "stream",
     "text": [
      "<class 'pandas.core.frame.DataFrame'>\n",
      "RangeIndex: 30 entries, 0 to 29\n",
      "Data columns (total 5 columns):\n",
      " #   Column    Non-Null Count  Dtype         \n",
      "---  ------    --------------  -----         \n",
      " 0   Fecha     30 non-null     datetime64[ns]\n",
      " 1   Magnitud  30 non-null     object        \n",
      " 2   Zona      30 non-null     object        \n",
      " 3   Estación  30 non-null     object        \n",
      " 4   Valor     30 non-null     int64         \n",
      "dtypes: datetime64[ns](1), int64(1), object(3)\n",
      "memory usage: 1.3+ KB\n"
     ]
    }
   ],
   "source": [
    "df_hum_rel_abr[\"Fecha\"] = pd.to_datetime(df_hum_rel_abr[\"Fecha\"])\n",
    "df_hum_rel_abr.info()"
   ]
  },
  {
   "cell_type": "code",
   "execution_count": 290,
   "metadata": {},
   "outputs": [
    {
     "data": {
      "text/html": [
       "<div>\n",
       "<style scoped>\n",
       "    .dataframe tbody tr th:only-of-type {\n",
       "        vertical-align: middle;\n",
       "    }\n",
       "\n",
       "    .dataframe tbody tr th {\n",
       "        vertical-align: top;\n",
       "    }\n",
       "\n",
       "    .dataframe thead th {\n",
       "        text-align: right;\n",
       "    }\n",
       "</style>\n",
       "<table border=\"1\" class=\"dataframe\">\n",
       "  <thead>\n",
       "    <tr style=\"text-align: right;\">\n",
       "      <th></th>\n",
       "      <th>Fecha</th>\n",
       "      <th>Magnitud</th>\n",
       "      <th>Zona</th>\n",
       "      <th>Estación</th>\n",
       "      <th>Valor</th>\n",
       "    </tr>\n",
       "  </thead>\n",
       "  <tbody>\n",
       "    <tr>\n",
       "      <th>0</th>\n",
       "      <td>2023-05-01</td>\n",
       "      <td>Humedad relativa</td>\n",
       "      <td>Noroeste</td>\n",
       "      <td>Casa de Campo</td>\n",
       "      <td>38</td>\n",
       "    </tr>\n",
       "    <tr>\n",
       "      <th>1</th>\n",
       "      <td>2023-05-02</td>\n",
       "      <td>Humedad relativa</td>\n",
       "      <td>Noroeste</td>\n",
       "      <td>Casa de Campo</td>\n",
       "      <td>29</td>\n",
       "    </tr>\n",
       "    <tr>\n",
       "      <th>2</th>\n",
       "      <td>2023-05-03</td>\n",
       "      <td>Humedad relativa</td>\n",
       "      <td>Noroeste</td>\n",
       "      <td>Casa de Campo</td>\n",
       "      <td>32</td>\n",
       "    </tr>\n",
       "    <tr>\n",
       "      <th>3</th>\n",
       "      <td>2023-05-04</td>\n",
       "      <td>Humedad relativa</td>\n",
       "      <td>Noroeste</td>\n",
       "      <td>Casa de Campo</td>\n",
       "      <td>41</td>\n",
       "    </tr>\n",
       "    <tr>\n",
       "      <th>4</th>\n",
       "      <td>2023-05-05</td>\n",
       "      <td>Humedad relativa</td>\n",
       "      <td>Noroeste</td>\n",
       "      <td>Casa de Campo</td>\n",
       "      <td>37</td>\n",
       "    </tr>\n",
       "  </tbody>\n",
       "</table>\n",
       "</div>"
      ],
      "text/plain": [
       "        Fecha          Magnitud      Zona       Estación  Valor\n",
       "0  2023-05-01  Humedad relativa  Noroeste  Casa de Campo     38\n",
       "1  2023-05-02  Humedad relativa  Noroeste  Casa de Campo     29\n",
       "2  2023-05-03  Humedad relativa  Noroeste  Casa de Campo     32\n",
       "3  2023-05-04  Humedad relativa  Noroeste  Casa de Campo     41\n",
       "4  2023-05-05  Humedad relativa  Noroeste  Casa de Campo     37"
      ]
     },
     "execution_count": 290,
     "metadata": {},
     "output_type": "execute_result"
    }
   ],
   "source": [
    "df_hum_rel_may = pd.read_csv('C:/Users/rfg2m/Documents/DATA_SCIENCE/Entregas/Proyectos/MACHINE LEARNING/Data/raw/Data_23/hum_rel_may_23.csv', sep=';', encoding='utf-8')\n",
    "df_hum_rel_may.head()"
   ]
  },
  {
   "cell_type": "code",
   "execution_count": 291,
   "metadata": {},
   "outputs": [
    {
     "name": "stdout",
     "output_type": "stream",
     "text": [
      "<class 'pandas.core.frame.DataFrame'>\n",
      "RangeIndex: 31 entries, 0 to 30\n",
      "Data columns (total 5 columns):\n",
      " #   Column    Non-Null Count  Dtype \n",
      "---  ------    --------------  ----- \n",
      " 0   Fecha     31 non-null     object\n",
      " 1   Magnitud  31 non-null     object\n",
      " 2   Zona      31 non-null     object\n",
      " 3   Estación  31 non-null     object\n",
      " 4   Valor     31 non-null     int64 \n",
      "dtypes: int64(1), object(4)\n",
      "memory usage: 1.3+ KB\n"
     ]
    }
   ],
   "source": [
    "df_hum_rel_may.info()"
   ]
  },
  {
   "cell_type": "code",
   "execution_count": 292,
   "metadata": {},
   "outputs": [
    {
     "name": "stdout",
     "output_type": "stream",
     "text": [
      "<class 'pandas.core.frame.DataFrame'>\n",
      "RangeIndex: 31 entries, 0 to 30\n",
      "Data columns (total 5 columns):\n",
      " #   Column    Non-Null Count  Dtype         \n",
      "---  ------    --------------  -----         \n",
      " 0   Fecha     31 non-null     datetime64[ns]\n",
      " 1   Magnitud  31 non-null     object        \n",
      " 2   Zona      31 non-null     object        \n",
      " 3   Estación  31 non-null     object        \n",
      " 4   Valor     31 non-null     int64         \n",
      "dtypes: datetime64[ns](1), int64(1), object(3)\n",
      "memory usage: 1.3+ KB\n"
     ]
    }
   ],
   "source": [
    "df_hum_rel_may[\"Fecha\"] = pd.to_datetime(df_hum_rel_may[\"Fecha\"])\n",
    "df_hum_rel_may.info()"
   ]
  },
  {
   "cell_type": "code",
   "execution_count": 293,
   "metadata": {},
   "outputs": [
    {
     "data": {
      "text/html": [
       "<div>\n",
       "<style scoped>\n",
       "    .dataframe tbody tr th:only-of-type {\n",
       "        vertical-align: middle;\n",
       "    }\n",
       "\n",
       "    .dataframe tbody tr th {\n",
       "        vertical-align: top;\n",
       "    }\n",
       "\n",
       "    .dataframe thead th {\n",
       "        text-align: right;\n",
       "    }\n",
       "</style>\n",
       "<table border=\"1\" class=\"dataframe\">\n",
       "  <thead>\n",
       "    <tr style=\"text-align: right;\">\n",
       "      <th></th>\n",
       "      <th>Fecha</th>\n",
       "      <th>Magnitud</th>\n",
       "      <th>Zona</th>\n",
       "      <th>Estación</th>\n",
       "      <th>Valor</th>\n",
       "    </tr>\n",
       "  </thead>\n",
       "  <tbody>\n",
       "    <tr>\n",
       "      <th>0</th>\n",
       "      <td>2023-06-01</td>\n",
       "      <td>Humedad relativa</td>\n",
       "      <td>Noroeste</td>\n",
       "      <td>Casa de Campo</td>\n",
       "      <td>70</td>\n",
       "    </tr>\n",
       "    <tr>\n",
       "      <th>1</th>\n",
       "      <td>2023-06-02</td>\n",
       "      <td>Humedad relativa</td>\n",
       "      <td>Noroeste</td>\n",
       "      <td>Casa de Campo</td>\n",
       "      <td>73</td>\n",
       "    </tr>\n",
       "    <tr>\n",
       "      <th>2</th>\n",
       "      <td>2023-06-03</td>\n",
       "      <td>Humedad relativa</td>\n",
       "      <td>Noroeste</td>\n",
       "      <td>Casa de Campo</td>\n",
       "      <td>70</td>\n",
       "    </tr>\n",
       "    <tr>\n",
       "      <th>3</th>\n",
       "      <td>2023-06-04</td>\n",
       "      <td>Humedad relativa</td>\n",
       "      <td>Noroeste</td>\n",
       "      <td>Casa de Campo</td>\n",
       "      <td>63</td>\n",
       "    </tr>\n",
       "    <tr>\n",
       "      <th>4</th>\n",
       "      <td>2023-06-05</td>\n",
       "      <td>Humedad relativa</td>\n",
       "      <td>Noroeste</td>\n",
       "      <td>Casa de Campo</td>\n",
       "      <td>65</td>\n",
       "    </tr>\n",
       "  </tbody>\n",
       "</table>\n",
       "</div>"
      ],
      "text/plain": [
       "        Fecha          Magnitud      Zona       Estación  Valor\n",
       "0  2023-06-01  Humedad relativa  Noroeste  Casa de Campo     70\n",
       "1  2023-06-02  Humedad relativa  Noroeste  Casa de Campo     73\n",
       "2  2023-06-03  Humedad relativa  Noroeste  Casa de Campo     70\n",
       "3  2023-06-04  Humedad relativa  Noroeste  Casa de Campo     63\n",
       "4  2023-06-05  Humedad relativa  Noroeste  Casa de Campo     65"
      ]
     },
     "execution_count": 293,
     "metadata": {},
     "output_type": "execute_result"
    }
   ],
   "source": [
    "df_hum_rel_jun = pd.read_csv('C:/Users/rfg2m/Documents/DATA_SCIENCE/Entregas/Proyectos/MACHINE LEARNING/Data/raw/Data_23/hum_rel_jun_23.csv', sep=';', encoding='utf-8')\n",
    "df_hum_rel_jun.head()"
   ]
  },
  {
   "cell_type": "code",
   "execution_count": 294,
   "metadata": {},
   "outputs": [
    {
     "name": "stdout",
     "output_type": "stream",
     "text": [
      "<class 'pandas.core.frame.DataFrame'>\n",
      "RangeIndex: 30 entries, 0 to 29\n",
      "Data columns (total 5 columns):\n",
      " #   Column    Non-Null Count  Dtype \n",
      "---  ------    --------------  ----- \n",
      " 0   Fecha     30 non-null     object\n",
      " 1   Magnitud  30 non-null     object\n",
      " 2   Zona      30 non-null     object\n",
      " 3   Estación  30 non-null     object\n",
      " 4   Valor     30 non-null     int64 \n",
      "dtypes: int64(1), object(4)\n",
      "memory usage: 1.3+ KB\n"
     ]
    }
   ],
   "source": [
    "df_hum_rel_jun.info()"
   ]
  },
  {
   "cell_type": "code",
   "execution_count": 295,
   "metadata": {},
   "outputs": [
    {
     "name": "stdout",
     "output_type": "stream",
     "text": [
      "<class 'pandas.core.frame.DataFrame'>\n",
      "RangeIndex: 30 entries, 0 to 29\n",
      "Data columns (total 5 columns):\n",
      " #   Column    Non-Null Count  Dtype         \n",
      "---  ------    --------------  -----         \n",
      " 0   Fecha     30 non-null     datetime64[ns]\n",
      " 1   Magnitud  30 non-null     object        \n",
      " 2   Zona      30 non-null     object        \n",
      " 3   Estación  30 non-null     object        \n",
      " 4   Valor     30 non-null     int64         \n",
      "dtypes: datetime64[ns](1), int64(1), object(3)\n",
      "memory usage: 1.3+ KB\n"
     ]
    }
   ],
   "source": [
    "df_hum_rel_jun[\"Fecha\"] = pd.to_datetime(df_hum_rel_jun[\"Fecha\"])\n",
    "df_hum_rel_jun.info()"
   ]
  },
  {
   "cell_type": "code",
   "execution_count": 296,
   "metadata": {},
   "outputs": [
    {
     "data": {
      "text/html": [
       "<div>\n",
       "<style scoped>\n",
       "    .dataframe tbody tr th:only-of-type {\n",
       "        vertical-align: middle;\n",
       "    }\n",
       "\n",
       "    .dataframe tbody tr th {\n",
       "        vertical-align: top;\n",
       "    }\n",
       "\n",
       "    .dataframe thead th {\n",
       "        text-align: right;\n",
       "    }\n",
       "</style>\n",
       "<table border=\"1\" class=\"dataframe\">\n",
       "  <thead>\n",
       "    <tr style=\"text-align: right;\">\n",
       "      <th></th>\n",
       "      <th>Fecha</th>\n",
       "      <th>Magnitud</th>\n",
       "      <th>Zona</th>\n",
       "      <th>Estación</th>\n",
       "      <th>Valor</th>\n",
       "    </tr>\n",
       "  </thead>\n",
       "  <tbody>\n",
       "    <tr>\n",
       "      <th>0</th>\n",
       "      <td>2023-07-01</td>\n",
       "      <td>Humedad relativa</td>\n",
       "      <td>Noroeste</td>\n",
       "      <td>Casa de Campo</td>\n",
       "      <td>40</td>\n",
       "    </tr>\n",
       "    <tr>\n",
       "      <th>1</th>\n",
       "      <td>2023-07-02</td>\n",
       "      <td>Humedad relativa</td>\n",
       "      <td>Noroeste</td>\n",
       "      <td>Casa de Campo</td>\n",
       "      <td>43</td>\n",
       "    </tr>\n",
       "    <tr>\n",
       "      <th>2</th>\n",
       "      <td>2023-07-03</td>\n",
       "      <td>Humedad relativa</td>\n",
       "      <td>Noroeste</td>\n",
       "      <td>Casa de Campo</td>\n",
       "      <td>40</td>\n",
       "    </tr>\n",
       "    <tr>\n",
       "      <th>3</th>\n",
       "      <td>2023-07-04</td>\n",
       "      <td>Humedad relativa</td>\n",
       "      <td>Noroeste</td>\n",
       "      <td>Casa de Campo</td>\n",
       "      <td>37</td>\n",
       "    </tr>\n",
       "    <tr>\n",
       "      <th>4</th>\n",
       "      <td>2023-07-05</td>\n",
       "      <td>Humedad relativa</td>\n",
       "      <td>Noroeste</td>\n",
       "      <td>Casa de Campo</td>\n",
       "      <td>30</td>\n",
       "    </tr>\n",
       "  </tbody>\n",
       "</table>\n",
       "</div>"
      ],
      "text/plain": [
       "        Fecha          Magnitud      Zona       Estación  Valor\n",
       "0  2023-07-01  Humedad relativa  Noroeste  Casa de Campo     40\n",
       "1  2023-07-02  Humedad relativa  Noroeste  Casa de Campo     43\n",
       "2  2023-07-03  Humedad relativa  Noroeste  Casa de Campo     40\n",
       "3  2023-07-04  Humedad relativa  Noroeste  Casa de Campo     37\n",
       "4  2023-07-05  Humedad relativa  Noroeste  Casa de Campo     30"
      ]
     },
     "execution_count": 296,
     "metadata": {},
     "output_type": "execute_result"
    }
   ],
   "source": [
    "df_hum_rel_jul = pd.read_csv('C:/Users/rfg2m/Documents/DATA_SCIENCE/Entregas/Proyectos/MACHINE LEARNING/Data/raw/Data_23/hum_rel_jul_23.csv', sep=';', encoding='utf-8')\n",
    "df_hum_rel_jul.head()"
   ]
  },
  {
   "cell_type": "code",
   "execution_count": 297,
   "metadata": {},
   "outputs": [
    {
     "name": "stdout",
     "output_type": "stream",
     "text": [
      "<class 'pandas.core.frame.DataFrame'>\n",
      "RangeIndex: 31 entries, 0 to 30\n",
      "Data columns (total 5 columns):\n",
      " #   Column    Non-Null Count  Dtype \n",
      "---  ------    --------------  ----- \n",
      " 0   Fecha     31 non-null     object\n",
      " 1   Magnitud  31 non-null     object\n",
      " 2   Zona      31 non-null     object\n",
      " 3   Estación  31 non-null     object\n",
      " 4   Valor     31 non-null     int64 \n",
      "dtypes: int64(1), object(4)\n",
      "memory usage: 1.3+ KB\n"
     ]
    }
   ],
   "source": [
    "df_hum_rel_jul.info()"
   ]
  },
  {
   "cell_type": "code",
   "execution_count": 298,
   "metadata": {},
   "outputs": [
    {
     "name": "stdout",
     "output_type": "stream",
     "text": [
      "<class 'pandas.core.frame.DataFrame'>\n",
      "RangeIndex: 31 entries, 0 to 30\n",
      "Data columns (total 5 columns):\n",
      " #   Column    Non-Null Count  Dtype         \n",
      "---  ------    --------------  -----         \n",
      " 0   Fecha     31 non-null     datetime64[ns]\n",
      " 1   Magnitud  31 non-null     object        \n",
      " 2   Zona      31 non-null     object        \n",
      " 3   Estación  31 non-null     object        \n",
      " 4   Valor     31 non-null     int64         \n",
      "dtypes: datetime64[ns](1), int64(1), object(3)\n",
      "memory usage: 1.3+ KB\n"
     ]
    }
   ],
   "source": [
    "df_hum_rel_jul[\"Fecha\"] = pd.to_datetime(df_hum_rel_jul[\"Fecha\"])\n",
    "df_hum_rel_jul.info()"
   ]
  },
  {
   "cell_type": "code",
   "execution_count": 299,
   "metadata": {},
   "outputs": [
    {
     "data": {
      "text/html": [
       "<div>\n",
       "<style scoped>\n",
       "    .dataframe tbody tr th:only-of-type {\n",
       "        vertical-align: middle;\n",
       "    }\n",
       "\n",
       "    .dataframe tbody tr th {\n",
       "        vertical-align: top;\n",
       "    }\n",
       "\n",
       "    .dataframe thead th {\n",
       "        text-align: right;\n",
       "    }\n",
       "</style>\n",
       "<table border=\"1\" class=\"dataframe\">\n",
       "  <thead>\n",
       "    <tr style=\"text-align: right;\">\n",
       "      <th></th>\n",
       "      <th>Fecha</th>\n",
       "      <th>Magnitud</th>\n",
       "      <th>Zona</th>\n",
       "      <th>Estación</th>\n",
       "      <th>Valor</th>\n",
       "    </tr>\n",
       "  </thead>\n",
       "  <tbody>\n",
       "    <tr>\n",
       "      <th>0</th>\n",
       "      <td>2023-08-01</td>\n",
       "      <td>Humedad relativa</td>\n",
       "      <td>Noroeste</td>\n",
       "      <td>Casa de Campo</td>\n",
       "      <td>26</td>\n",
       "    </tr>\n",
       "    <tr>\n",
       "      <th>1</th>\n",
       "      <td>2023-08-02</td>\n",
       "      <td>Humedad relativa</td>\n",
       "      <td>Noroeste</td>\n",
       "      <td>Casa de Campo</td>\n",
       "      <td>34</td>\n",
       "    </tr>\n",
       "    <tr>\n",
       "      <th>2</th>\n",
       "      <td>2023-08-03</td>\n",
       "      <td>Humedad relativa</td>\n",
       "      <td>Noroeste</td>\n",
       "      <td>Casa de Campo</td>\n",
       "      <td>38</td>\n",
       "    </tr>\n",
       "    <tr>\n",
       "      <th>3</th>\n",
       "      <td>2023-08-04</td>\n",
       "      <td>Humedad relativa</td>\n",
       "      <td>Noroeste</td>\n",
       "      <td>Casa de Campo</td>\n",
       "      <td>24</td>\n",
       "    </tr>\n",
       "    <tr>\n",
       "      <th>4</th>\n",
       "      <td>2023-08-05</td>\n",
       "      <td>Humedad relativa</td>\n",
       "      <td>Noroeste</td>\n",
       "      <td>Casa de Campo</td>\n",
       "      <td>34</td>\n",
       "    </tr>\n",
       "  </tbody>\n",
       "</table>\n",
       "</div>"
      ],
      "text/plain": [
       "        Fecha          Magnitud      Zona       Estación  Valor\n",
       "0  2023-08-01  Humedad relativa  Noroeste  Casa de Campo     26\n",
       "1  2023-08-02  Humedad relativa  Noroeste  Casa de Campo     34\n",
       "2  2023-08-03  Humedad relativa  Noroeste  Casa de Campo     38\n",
       "3  2023-08-04  Humedad relativa  Noroeste  Casa de Campo     24\n",
       "4  2023-08-05  Humedad relativa  Noroeste  Casa de Campo     34"
      ]
     },
     "execution_count": 299,
     "metadata": {},
     "output_type": "execute_result"
    }
   ],
   "source": [
    "df_hum_rel_ago = pd.read_csv('C:/Users/rfg2m/Documents/DATA_SCIENCE/Entregas/Proyectos/MACHINE LEARNING/Data/raw/Data_23/hum_rel_ago_23.csv', sep=';', encoding='utf-8')\n",
    "df_hum_rel_ago.head()"
   ]
  },
  {
   "cell_type": "code",
   "execution_count": 300,
   "metadata": {},
   "outputs": [
    {
     "name": "stdout",
     "output_type": "stream",
     "text": [
      "<class 'pandas.core.frame.DataFrame'>\n",
      "RangeIndex: 31 entries, 0 to 30\n",
      "Data columns (total 5 columns):\n",
      " #   Column    Non-Null Count  Dtype \n",
      "---  ------    --------------  ----- \n",
      " 0   Fecha     31 non-null     object\n",
      " 1   Magnitud  31 non-null     object\n",
      " 2   Zona      31 non-null     object\n",
      " 3   Estación  31 non-null     object\n",
      " 4   Valor     31 non-null     int64 \n",
      "dtypes: int64(1), object(4)\n",
      "memory usage: 1.3+ KB\n"
     ]
    }
   ],
   "source": [
    "df_hum_rel_ago.info()"
   ]
  },
  {
   "cell_type": "code",
   "execution_count": 301,
   "metadata": {},
   "outputs": [
    {
     "name": "stdout",
     "output_type": "stream",
     "text": [
      "<class 'pandas.core.frame.DataFrame'>\n",
      "RangeIndex: 31 entries, 0 to 30\n",
      "Data columns (total 5 columns):\n",
      " #   Column    Non-Null Count  Dtype         \n",
      "---  ------    --------------  -----         \n",
      " 0   Fecha     31 non-null     datetime64[ns]\n",
      " 1   Magnitud  31 non-null     object        \n",
      " 2   Zona      31 non-null     object        \n",
      " 3   Estación  31 non-null     object        \n",
      " 4   Valor     31 non-null     int64         \n",
      "dtypes: datetime64[ns](1), int64(1), object(3)\n",
      "memory usage: 1.3+ KB\n"
     ]
    }
   ],
   "source": [
    "df_hum_rel_ago[\"Fecha\"] = pd.to_datetime(df_hum_rel_ago[\"Fecha\"])\n",
    "df_hum_rel_ago.info()"
   ]
  },
  {
   "cell_type": "code",
   "execution_count": 302,
   "metadata": {},
   "outputs": [
    {
     "data": {
      "text/html": [
       "<div>\n",
       "<style scoped>\n",
       "    .dataframe tbody tr th:only-of-type {\n",
       "        vertical-align: middle;\n",
       "    }\n",
       "\n",
       "    .dataframe tbody tr th {\n",
       "        vertical-align: top;\n",
       "    }\n",
       "\n",
       "    .dataframe thead th {\n",
       "        text-align: right;\n",
       "    }\n",
       "</style>\n",
       "<table border=\"1\" class=\"dataframe\">\n",
       "  <thead>\n",
       "    <tr style=\"text-align: right;\">\n",
       "      <th></th>\n",
       "      <th>Fecha</th>\n",
       "      <th>Magnitud</th>\n",
       "      <th>Zona</th>\n",
       "      <th>Estación</th>\n",
       "      <th>Valor</th>\n",
       "    </tr>\n",
       "  </thead>\n",
       "  <tbody>\n",
       "    <tr>\n",
       "      <th>0</th>\n",
       "      <td>2023-09-01</td>\n",
       "      <td>Humedad relativa</td>\n",
       "      <td>Noroeste</td>\n",
       "      <td>Casa de Campo</td>\n",
       "      <td>37</td>\n",
       "    </tr>\n",
       "    <tr>\n",
       "      <th>1</th>\n",
       "      <td>2023-09-02</td>\n",
       "      <td>Humedad relativa</td>\n",
       "      <td>Noroeste</td>\n",
       "      <td>Casa de Campo</td>\n",
       "      <td>72</td>\n",
       "    </tr>\n",
       "    <tr>\n",
       "      <th>2</th>\n",
       "      <td>2023-09-03</td>\n",
       "      <td>Humedad relativa</td>\n",
       "      <td>Noroeste</td>\n",
       "      <td>Casa de Campo</td>\n",
       "      <td>93</td>\n",
       "    </tr>\n",
       "    <tr>\n",
       "      <th>3</th>\n",
       "      <td>2023-09-04</td>\n",
       "      <td>Humedad relativa</td>\n",
       "      <td>Noroeste</td>\n",
       "      <td>Casa de Campo</td>\n",
       "      <td>86</td>\n",
       "    </tr>\n",
       "    <tr>\n",
       "      <th>4</th>\n",
       "      <td>2023-09-05</td>\n",
       "      <td>Humedad relativa</td>\n",
       "      <td>Noroeste</td>\n",
       "      <td>Casa de Campo</td>\n",
       "      <td>69</td>\n",
       "    </tr>\n",
       "  </tbody>\n",
       "</table>\n",
       "</div>"
      ],
      "text/plain": [
       "        Fecha          Magnitud      Zona       Estación  Valor\n",
       "0  2023-09-01  Humedad relativa  Noroeste  Casa de Campo     37\n",
       "1  2023-09-02  Humedad relativa  Noroeste  Casa de Campo     72\n",
       "2  2023-09-03  Humedad relativa  Noroeste  Casa de Campo     93\n",
       "3  2023-09-04  Humedad relativa  Noroeste  Casa de Campo     86\n",
       "4  2023-09-05  Humedad relativa  Noroeste  Casa de Campo     69"
      ]
     },
     "execution_count": 302,
     "metadata": {},
     "output_type": "execute_result"
    }
   ],
   "source": [
    "df_hum_rel_sep = pd.read_csv('C:/Users/rfg2m/Documents/DATA_SCIENCE/Entregas/Proyectos/MACHINE LEARNING/Data/raw/Data_23/hum_rel_sep_23.csv', sep=';', encoding='utf-8')\n",
    "df_hum_rel_sep.head()"
   ]
  },
  {
   "cell_type": "code",
   "execution_count": 303,
   "metadata": {},
   "outputs": [
    {
     "name": "stdout",
     "output_type": "stream",
     "text": [
      "<class 'pandas.core.frame.DataFrame'>\n",
      "RangeIndex: 30 entries, 0 to 29\n",
      "Data columns (total 5 columns):\n",
      " #   Column    Non-Null Count  Dtype \n",
      "---  ------    --------------  ----- \n",
      " 0   Fecha     30 non-null     object\n",
      " 1   Magnitud  30 non-null     object\n",
      " 2   Zona      30 non-null     object\n",
      " 3   Estación  30 non-null     object\n",
      " 4   Valor     30 non-null     int64 \n",
      "dtypes: int64(1), object(4)\n",
      "memory usage: 1.3+ KB\n"
     ]
    }
   ],
   "source": [
    "df_hum_rel_sep.info()"
   ]
  },
  {
   "cell_type": "code",
   "execution_count": 304,
   "metadata": {},
   "outputs": [
    {
     "name": "stdout",
     "output_type": "stream",
     "text": [
      "<class 'pandas.core.frame.DataFrame'>\n",
      "RangeIndex: 30 entries, 0 to 29\n",
      "Data columns (total 5 columns):\n",
      " #   Column    Non-Null Count  Dtype         \n",
      "---  ------    --------------  -----         \n",
      " 0   Fecha     30 non-null     datetime64[ns]\n",
      " 1   Magnitud  30 non-null     object        \n",
      " 2   Zona      30 non-null     object        \n",
      " 3   Estación  30 non-null     object        \n",
      " 4   Valor     30 non-null     int64         \n",
      "dtypes: datetime64[ns](1), int64(1), object(3)\n",
      "memory usage: 1.3+ KB\n"
     ]
    }
   ],
   "source": [
    "df_hum_rel_sep[\"Fecha\"] = pd.to_datetime(df_hum_rel_sep[\"Fecha\"])\n",
    "df_hum_rel_sep.info()"
   ]
  },
  {
   "cell_type": "code",
   "execution_count": 305,
   "metadata": {},
   "outputs": [
    {
     "data": {
      "text/html": [
       "<div>\n",
       "<style scoped>\n",
       "    .dataframe tbody tr th:only-of-type {\n",
       "        vertical-align: middle;\n",
       "    }\n",
       "\n",
       "    .dataframe tbody tr th {\n",
       "        vertical-align: top;\n",
       "    }\n",
       "\n",
       "    .dataframe thead th {\n",
       "        text-align: right;\n",
       "    }\n",
       "</style>\n",
       "<table border=\"1\" class=\"dataframe\">\n",
       "  <thead>\n",
       "    <tr style=\"text-align: right;\">\n",
       "      <th></th>\n",
       "      <th>Fecha</th>\n",
       "      <th>Magnitud</th>\n",
       "      <th>Zona</th>\n",
       "      <th>Estación</th>\n",
       "      <th>Valor</th>\n",
       "    </tr>\n",
       "  </thead>\n",
       "  <tbody>\n",
       "    <tr>\n",
       "      <th>0</th>\n",
       "      <td>2023-10-01</td>\n",
       "      <td>Humedad relativa</td>\n",
       "      <td>Noroeste</td>\n",
       "      <td>Casa de Campo</td>\n",
       "      <td>56</td>\n",
       "    </tr>\n",
       "    <tr>\n",
       "      <th>1</th>\n",
       "      <td>2023-10-02</td>\n",
       "      <td>Humedad relativa</td>\n",
       "      <td>Noroeste</td>\n",
       "      <td>Casa de Campo</td>\n",
       "      <td>51</td>\n",
       "    </tr>\n",
       "    <tr>\n",
       "      <th>2</th>\n",
       "      <td>2023-10-03</td>\n",
       "      <td>Humedad relativa</td>\n",
       "      <td>Noroeste</td>\n",
       "      <td>Casa de Campo</td>\n",
       "      <td>56</td>\n",
       "    </tr>\n",
       "    <tr>\n",
       "      <th>3</th>\n",
       "      <td>2023-10-04</td>\n",
       "      <td>Humedad relativa</td>\n",
       "      <td>Noroeste</td>\n",
       "      <td>Casa de Campo</td>\n",
       "      <td>60</td>\n",
       "    </tr>\n",
       "    <tr>\n",
       "      <th>4</th>\n",
       "      <td>2023-10-05</td>\n",
       "      <td>Humedad relativa</td>\n",
       "      <td>Noroeste</td>\n",
       "      <td>Casa de Campo</td>\n",
       "      <td>60</td>\n",
       "    </tr>\n",
       "  </tbody>\n",
       "</table>\n",
       "</div>"
      ],
      "text/plain": [
       "        Fecha          Magnitud      Zona       Estación  Valor\n",
       "0  2023-10-01  Humedad relativa  Noroeste  Casa de Campo     56\n",
       "1  2023-10-02  Humedad relativa  Noroeste  Casa de Campo     51\n",
       "2  2023-10-03  Humedad relativa  Noroeste  Casa de Campo     56\n",
       "3  2023-10-04  Humedad relativa  Noroeste  Casa de Campo     60\n",
       "4  2023-10-05  Humedad relativa  Noroeste  Casa de Campo     60"
      ]
     },
     "execution_count": 305,
     "metadata": {},
     "output_type": "execute_result"
    }
   ],
   "source": [
    "df_hum_rel_oct = pd.read_csv('C:/Users/rfg2m/Documents/DATA_SCIENCE/Entregas/Proyectos/MACHINE LEARNING/Data/raw/Data_23/hum_rel_oct_23.csv', sep=';', encoding='utf-8')\n",
    "df_hum_rel_oct.head()"
   ]
  },
  {
   "cell_type": "code",
   "execution_count": 306,
   "metadata": {},
   "outputs": [
    {
     "name": "stdout",
     "output_type": "stream",
     "text": [
      "<class 'pandas.core.frame.DataFrame'>\n",
      "RangeIndex: 31 entries, 0 to 30\n",
      "Data columns (total 5 columns):\n",
      " #   Column    Non-Null Count  Dtype \n",
      "---  ------    --------------  ----- \n",
      " 0   Fecha     31 non-null     object\n",
      " 1   Magnitud  31 non-null     object\n",
      " 2   Zona      31 non-null     object\n",
      " 3   Estación  31 non-null     object\n",
      " 4   Valor     31 non-null     int64 \n",
      "dtypes: int64(1), object(4)\n",
      "memory usage: 1.3+ KB\n"
     ]
    }
   ],
   "source": [
    "df_hum_rel_oct.info()"
   ]
  },
  {
   "cell_type": "code",
   "execution_count": 307,
   "metadata": {},
   "outputs": [
    {
     "name": "stdout",
     "output_type": "stream",
     "text": [
      "<class 'pandas.core.frame.DataFrame'>\n",
      "RangeIndex: 31 entries, 0 to 30\n",
      "Data columns (total 5 columns):\n",
      " #   Column    Non-Null Count  Dtype         \n",
      "---  ------    --------------  -----         \n",
      " 0   Fecha     31 non-null     datetime64[ns]\n",
      " 1   Magnitud  31 non-null     object        \n",
      " 2   Zona      31 non-null     object        \n",
      " 3   Estación  31 non-null     object        \n",
      " 4   Valor     31 non-null     int64         \n",
      "dtypes: datetime64[ns](1), int64(1), object(3)\n",
      "memory usage: 1.3+ KB\n"
     ]
    }
   ],
   "source": [
    "df_hum_rel_oct[\"Fecha\"] = pd.to_datetime(df_hum_rel_oct[\"Fecha\"])\n",
    "df_hum_rel_oct.info()"
   ]
  },
  {
   "cell_type": "code",
   "execution_count": 308,
   "metadata": {},
   "outputs": [
    {
     "data": {
      "text/html": [
       "<div>\n",
       "<style scoped>\n",
       "    .dataframe tbody tr th:only-of-type {\n",
       "        vertical-align: middle;\n",
       "    }\n",
       "\n",
       "    .dataframe tbody tr th {\n",
       "        vertical-align: top;\n",
       "    }\n",
       "\n",
       "    .dataframe thead th {\n",
       "        text-align: right;\n",
       "    }\n",
       "</style>\n",
       "<table border=\"1\" class=\"dataframe\">\n",
       "  <thead>\n",
       "    <tr style=\"text-align: right;\">\n",
       "      <th></th>\n",
       "      <th>Fecha</th>\n",
       "      <th>Magnitud</th>\n",
       "      <th>Zona</th>\n",
       "      <th>Estación</th>\n",
       "      <th>Valor</th>\n",
       "    </tr>\n",
       "  </thead>\n",
       "  <tbody>\n",
       "    <tr>\n",
       "      <th>0</th>\n",
       "      <td>2023-11-01</td>\n",
       "      <td>Humedad relativa</td>\n",
       "      <td>Noroeste</td>\n",
       "      <td>Casa de Campo</td>\n",
       "      <td>96.0</td>\n",
       "    </tr>\n",
       "    <tr>\n",
       "      <th>1</th>\n",
       "      <td>2023-11-02</td>\n",
       "      <td>Humedad relativa</td>\n",
       "      <td>Noroeste</td>\n",
       "      <td>Casa de Campo</td>\n",
       "      <td>82.0</td>\n",
       "    </tr>\n",
       "    <tr>\n",
       "      <th>2</th>\n",
       "      <td>2023-11-03</td>\n",
       "      <td>Humedad relativa</td>\n",
       "      <td>Noroeste</td>\n",
       "      <td>Casa de Campo</td>\n",
       "      <td>85.0</td>\n",
       "    </tr>\n",
       "    <tr>\n",
       "      <th>3</th>\n",
       "      <td>2023-11-04</td>\n",
       "      <td>Humedad relativa</td>\n",
       "      <td>Noroeste</td>\n",
       "      <td>Casa de Campo</td>\n",
       "      <td>92.0</td>\n",
       "    </tr>\n",
       "    <tr>\n",
       "      <th>4</th>\n",
       "      <td>2023-11-05</td>\n",
       "      <td>Humedad relativa</td>\n",
       "      <td>Noroeste</td>\n",
       "      <td>Casa de Campo</td>\n",
       "      <td>81.0</td>\n",
       "    </tr>\n",
       "  </tbody>\n",
       "</table>\n",
       "</div>"
      ],
      "text/plain": [
       "        Fecha          Magnitud      Zona       Estación  Valor\n",
       "0  2023-11-01  Humedad relativa  Noroeste  Casa de Campo   96.0\n",
       "1  2023-11-02  Humedad relativa  Noroeste  Casa de Campo   82.0\n",
       "2  2023-11-03  Humedad relativa  Noroeste  Casa de Campo   85.0\n",
       "3  2023-11-04  Humedad relativa  Noroeste  Casa de Campo   92.0\n",
       "4  2023-11-05  Humedad relativa  Noroeste  Casa de Campo   81.0"
      ]
     },
     "execution_count": 308,
     "metadata": {},
     "output_type": "execute_result"
    }
   ],
   "source": [
    "df_hum_rel_nov = pd.read_csv('C:/Users/rfg2m/Documents/DATA_SCIENCE/Entregas/Proyectos/MACHINE LEARNING/Data/raw/Data_23/hum_rel_nov_23.csv', sep=';', encoding='utf-8')\n",
    "df_hum_rel_nov.head()"
   ]
  },
  {
   "cell_type": "code",
   "execution_count": 309,
   "metadata": {},
   "outputs": [
    {
     "name": "stdout",
     "output_type": "stream",
     "text": [
      "<class 'pandas.core.frame.DataFrame'>\n",
      "RangeIndex: 30 entries, 0 to 29\n",
      "Data columns (total 5 columns):\n",
      " #   Column    Non-Null Count  Dtype  \n",
      "---  ------    --------------  -----  \n",
      " 0   Fecha     30 non-null     object \n",
      " 1   Magnitud  30 non-null     object \n",
      " 2   Zona      30 non-null     object \n",
      " 3   Estación  30 non-null     object \n",
      " 4   Valor     28 non-null     float64\n",
      "dtypes: float64(1), object(4)\n",
      "memory usage: 1.3+ KB\n"
     ]
    }
   ],
   "source": [
    "df_hum_rel_nov.info()"
   ]
  },
  {
   "cell_type": "code",
   "execution_count": 310,
   "metadata": {},
   "outputs": [
    {
     "name": "stdout",
     "output_type": "stream",
     "text": [
      "         Fecha          Magnitud      Zona       Estación  Valor\n",
      "22  2023-11-23  Humedad relativa  Noroeste  Casa de Campo    NaN\n",
      "23  2023-11-24  Humedad relativa  Noroeste  Casa de Campo    NaN\n"
     ]
    }
   ],
   "source": [
    "df_nulos = df_hum_rel_nov[df_hum_rel_nov.isnull().any(axis=1)]\n",
    "print(df_nulos)"
   ]
  },
  {
   "cell_type": "code",
   "execution_count": 311,
   "metadata": {},
   "outputs": [
    {
     "data": {
      "text/html": [
       "<div>\n",
       "<style scoped>\n",
       "    .dataframe tbody tr th:only-of-type {\n",
       "        vertical-align: middle;\n",
       "    }\n",
       "\n",
       "    .dataframe tbody tr th {\n",
       "        vertical-align: top;\n",
       "    }\n",
       "\n",
       "    .dataframe thead th {\n",
       "        text-align: right;\n",
       "    }\n",
       "</style>\n",
       "<table border=\"1\" class=\"dataframe\">\n",
       "  <thead>\n",
       "    <tr style=\"text-align: right;\">\n",
       "      <th></th>\n",
       "      <th>Fecha</th>\n",
       "      <th>Magnitud</th>\n",
       "      <th>Zona</th>\n",
       "      <th>Estación</th>\n",
       "      <th>Valor</th>\n",
       "    </tr>\n",
       "  </thead>\n",
       "  <tbody>\n",
       "    <tr>\n",
       "      <th>0</th>\n",
       "      <td>2023-11-01</td>\n",
       "      <td>Humedad relativa</td>\n",
       "      <td>Noroeste</td>\n",
       "      <td>Casa de Campo</td>\n",
       "      <td>96.0</td>\n",
       "    </tr>\n",
       "    <tr>\n",
       "      <th>1</th>\n",
       "      <td>2023-11-02</td>\n",
       "      <td>Humedad relativa</td>\n",
       "      <td>Noroeste</td>\n",
       "      <td>Casa de Campo</td>\n",
       "      <td>82.0</td>\n",
       "    </tr>\n",
       "    <tr>\n",
       "      <th>2</th>\n",
       "      <td>2023-11-03</td>\n",
       "      <td>Humedad relativa</td>\n",
       "      <td>Noroeste</td>\n",
       "      <td>Casa de Campo</td>\n",
       "      <td>85.0</td>\n",
       "    </tr>\n",
       "    <tr>\n",
       "      <th>3</th>\n",
       "      <td>2023-11-04</td>\n",
       "      <td>Humedad relativa</td>\n",
       "      <td>Noroeste</td>\n",
       "      <td>Casa de Campo</td>\n",
       "      <td>92.0</td>\n",
       "    </tr>\n",
       "    <tr>\n",
       "      <th>4</th>\n",
       "      <td>2023-11-05</td>\n",
       "      <td>Humedad relativa</td>\n",
       "      <td>Noroeste</td>\n",
       "      <td>Casa de Campo</td>\n",
       "      <td>81.0</td>\n",
       "    </tr>\n",
       "  </tbody>\n",
       "</table>\n",
       "</div>"
      ],
      "text/plain": [
       "        Fecha          Magnitud      Zona       Estación  Valor\n",
       "0  2023-11-01  Humedad relativa  Noroeste  Casa de Campo   96.0\n",
       "1  2023-11-02  Humedad relativa  Noroeste  Casa de Campo   82.0\n",
       "2  2023-11-03  Humedad relativa  Noroeste  Casa de Campo   85.0\n",
       "3  2023-11-04  Humedad relativa  Noroeste  Casa de Campo   92.0\n",
       "4  2023-11-05  Humedad relativa  Noroeste  Casa de Campo   81.0"
      ]
     },
     "execution_count": 311,
     "metadata": {},
     "output_type": "execute_result"
    }
   ],
   "source": [
    "df_hum_rel_nov['Valor'] = df_hum_rel_nov['Valor'].fillna(df_hum_rel_nov['Valor'].mean())\n",
    "df_hum_rel_nov.head()"
   ]
  },
  {
   "cell_type": "code",
   "execution_count": 312,
   "metadata": {},
   "outputs": [
    {
     "name": "stdout",
     "output_type": "stream",
     "text": [
      "<class 'pandas.core.frame.DataFrame'>\n",
      "RangeIndex: 30 entries, 0 to 29\n",
      "Data columns (total 5 columns):\n",
      " #   Column    Non-Null Count  Dtype         \n",
      "---  ------    --------------  -----         \n",
      " 0   Fecha     30 non-null     datetime64[ns]\n",
      " 1   Magnitud  30 non-null     object        \n",
      " 2   Zona      30 non-null     object        \n",
      " 3   Estación  30 non-null     object        \n",
      " 4   Valor     30 non-null     float64       \n",
      "dtypes: datetime64[ns](1), float64(1), object(3)\n",
      "memory usage: 1.3+ KB\n"
     ]
    }
   ],
   "source": [
    "df_hum_rel_nov[\"Fecha\"] = pd.to_datetime(df_hum_rel_nov[\"Fecha\"])\n",
    "df_hum_rel_nov.info()"
   ]
  },
  {
   "cell_type": "code",
   "execution_count": 313,
   "metadata": {},
   "outputs": [
    {
     "data": {
      "text/html": [
       "<div>\n",
       "<style scoped>\n",
       "    .dataframe tbody tr th:only-of-type {\n",
       "        vertical-align: middle;\n",
       "    }\n",
       "\n",
       "    .dataframe tbody tr th {\n",
       "        vertical-align: top;\n",
       "    }\n",
       "\n",
       "    .dataframe thead th {\n",
       "        text-align: right;\n",
       "    }\n",
       "</style>\n",
       "<table border=\"1\" class=\"dataframe\">\n",
       "  <thead>\n",
       "    <tr style=\"text-align: right;\">\n",
       "      <th></th>\n",
       "      <th>Fecha</th>\n",
       "      <th>Magnitud</th>\n",
       "      <th>Zona</th>\n",
       "      <th>Estación</th>\n",
       "      <th>Valor</th>\n",
       "    </tr>\n",
       "  </thead>\n",
       "  <tbody>\n",
       "    <tr>\n",
       "      <th>0</th>\n",
       "      <td>2023-12-01</td>\n",
       "      <td>Humedad relativa</td>\n",
       "      <td>Noroeste</td>\n",
       "      <td>Casa de Campo</td>\n",
       "      <td>77</td>\n",
       "    </tr>\n",
       "    <tr>\n",
       "      <th>1</th>\n",
       "      <td>2023-12-02</td>\n",
       "      <td>Humedad relativa</td>\n",
       "      <td>Noroeste</td>\n",
       "      <td>Casa de Campo</td>\n",
       "      <td>68</td>\n",
       "    </tr>\n",
       "    <tr>\n",
       "      <th>2</th>\n",
       "      <td>2023-12-03</td>\n",
       "      <td>Humedad relativa</td>\n",
       "      <td>Noroeste</td>\n",
       "      <td>Casa de Campo</td>\n",
       "      <td>86</td>\n",
       "    </tr>\n",
       "    <tr>\n",
       "      <th>3</th>\n",
       "      <td>2023-12-04</td>\n",
       "      <td>Humedad relativa</td>\n",
       "      <td>Noroeste</td>\n",
       "      <td>Casa de Campo</td>\n",
       "      <td>91</td>\n",
       "    </tr>\n",
       "    <tr>\n",
       "      <th>4</th>\n",
       "      <td>2023-12-05</td>\n",
       "      <td>Humedad relativa</td>\n",
       "      <td>Noroeste</td>\n",
       "      <td>Casa de Campo</td>\n",
       "      <td>74</td>\n",
       "    </tr>\n",
       "  </tbody>\n",
       "</table>\n",
       "</div>"
      ],
      "text/plain": [
       "        Fecha          Magnitud      Zona       Estación  Valor\n",
       "0  2023-12-01  Humedad relativa  Noroeste  Casa de Campo     77\n",
       "1  2023-12-02  Humedad relativa  Noroeste  Casa de Campo     68\n",
       "2  2023-12-03  Humedad relativa  Noroeste  Casa de Campo     86\n",
       "3  2023-12-04  Humedad relativa  Noroeste  Casa de Campo     91\n",
       "4  2023-12-05  Humedad relativa  Noroeste  Casa de Campo     74"
      ]
     },
     "execution_count": 313,
     "metadata": {},
     "output_type": "execute_result"
    }
   ],
   "source": [
    "df_hum_rel_dic = pd.read_csv('C:/Users/rfg2m/Documents/DATA_SCIENCE/Entregas/Proyectos/MACHINE LEARNING/Data/raw/Data_23/hum_rel_dic_23.csv', sep=';', encoding='utf-8')\n",
    "df_hum_rel_dic.head()"
   ]
  },
  {
   "cell_type": "code",
   "execution_count": 314,
   "metadata": {},
   "outputs": [
    {
     "name": "stdout",
     "output_type": "stream",
     "text": [
      "<class 'pandas.core.frame.DataFrame'>\n",
      "RangeIndex: 31 entries, 0 to 30\n",
      "Data columns (total 5 columns):\n",
      " #   Column    Non-Null Count  Dtype \n",
      "---  ------    --------------  ----- \n",
      " 0   Fecha     31 non-null     object\n",
      " 1   Magnitud  31 non-null     object\n",
      " 2   Zona      31 non-null     object\n",
      " 3   Estación  31 non-null     object\n",
      " 4   Valor     31 non-null     int64 \n",
      "dtypes: int64(1), object(4)\n",
      "memory usage: 1.3+ KB\n"
     ]
    }
   ],
   "source": [
    "df_hum_rel_dic.info()"
   ]
  },
  {
   "cell_type": "code",
   "execution_count": 315,
   "metadata": {},
   "outputs": [
    {
     "name": "stdout",
     "output_type": "stream",
     "text": [
      "<class 'pandas.core.frame.DataFrame'>\n",
      "RangeIndex: 31 entries, 0 to 30\n",
      "Data columns (total 5 columns):\n",
      " #   Column    Non-Null Count  Dtype         \n",
      "---  ------    --------------  -----         \n",
      " 0   Fecha     31 non-null     datetime64[ns]\n",
      " 1   Magnitud  31 non-null     object        \n",
      " 2   Zona      31 non-null     object        \n",
      " 3   Estación  31 non-null     object        \n",
      " 4   Valor     31 non-null     int64         \n",
      "dtypes: datetime64[ns](1), int64(1), object(3)\n",
      "memory usage: 1.3+ KB\n"
     ]
    }
   ],
   "source": [
    "df_hum_rel_dic[\"Fecha\"] = pd.to_datetime(df_hum_rel_dic[\"Fecha\"])\n",
    "df_hum_rel_dic.info()"
   ]
  },
  {
   "cell_type": "code",
   "execution_count": 316,
   "metadata": {},
   "outputs": [
    {
     "data": {
      "text/html": [
       "<div>\n",
       "<style scoped>\n",
       "    .dataframe tbody tr th:only-of-type {\n",
       "        vertical-align: middle;\n",
       "    }\n",
       "\n",
       "    .dataframe tbody tr th {\n",
       "        vertical-align: top;\n",
       "    }\n",
       "\n",
       "    .dataframe thead th {\n",
       "        text-align: right;\n",
       "    }\n",
       "</style>\n",
       "<table border=\"1\" class=\"dataframe\">\n",
       "  <thead>\n",
       "    <tr style=\"text-align: right;\">\n",
       "      <th></th>\n",
       "      <th>Fecha</th>\n",
       "      <th>Magnitud</th>\n",
       "      <th>Zona</th>\n",
       "      <th>Estación</th>\n",
       "      <th>Valor</th>\n",
       "    </tr>\n",
       "  </thead>\n",
       "  <tbody>\n",
       "    <tr>\n",
       "      <th>0</th>\n",
       "      <td>2023-12-01 00:00:00</td>\n",
       "      <td>Humedad relativa</td>\n",
       "      <td>Noroeste</td>\n",
       "      <td>Casa de Campo</td>\n",
       "      <td>66.0</td>\n",
       "    </tr>\n",
       "    <tr>\n",
       "      <th>1</th>\n",
       "      <td>2023-12-02 00:00:00</td>\n",
       "      <td>Humedad relativa</td>\n",
       "      <td>Noroeste</td>\n",
       "      <td>Casa de Campo</td>\n",
       "      <td>80.0</td>\n",
       "    </tr>\n",
       "    <tr>\n",
       "      <th>2</th>\n",
       "      <td>2023-12-03 00:00:00</td>\n",
       "      <td>Humedad relativa</td>\n",
       "      <td>Noroeste</td>\n",
       "      <td>Casa de Campo</td>\n",
       "      <td>83.0</td>\n",
       "    </tr>\n",
       "    <tr>\n",
       "      <th>3</th>\n",
       "      <td>2023-12-04 00:00:00</td>\n",
       "      <td>Humedad relativa</td>\n",
       "      <td>Noroeste</td>\n",
       "      <td>Casa de Campo</td>\n",
       "      <td>79.0</td>\n",
       "    </tr>\n",
       "    <tr>\n",
       "      <th>4</th>\n",
       "      <td>2023-12-05 00:00:00</td>\n",
       "      <td>Humedad relativa</td>\n",
       "      <td>Noroeste</td>\n",
       "      <td>Casa de Campo</td>\n",
       "      <td>77.0</td>\n",
       "    </tr>\n",
       "    <tr>\n",
       "      <th>...</th>\n",
       "      <td>...</td>\n",
       "      <td>...</td>\n",
       "      <td>...</td>\n",
       "      <td>...</td>\n",
       "      <td>...</td>\n",
       "    </tr>\n",
       "    <tr>\n",
       "      <th>360</th>\n",
       "      <td>2023-12-27 00:00:00</td>\n",
       "      <td>Humedad relativa</td>\n",
       "      <td>Noroeste</td>\n",
       "      <td>Casa de Campo</td>\n",
       "      <td>82.0</td>\n",
       "    </tr>\n",
       "    <tr>\n",
       "      <th>361</th>\n",
       "      <td>2023-12-28 00:00:00</td>\n",
       "      <td>Humedad relativa</td>\n",
       "      <td>Noroeste</td>\n",
       "      <td>Casa de Campo</td>\n",
       "      <td>86.0</td>\n",
       "    </tr>\n",
       "    <tr>\n",
       "      <th>362</th>\n",
       "      <td>2023-12-29 00:00:00</td>\n",
       "      <td>Humedad relativa</td>\n",
       "      <td>Noroeste</td>\n",
       "      <td>Casa de Campo</td>\n",
       "      <td>88.0</td>\n",
       "    </tr>\n",
       "    <tr>\n",
       "      <th>363</th>\n",
       "      <td>2023-12-30 00:00:00</td>\n",
       "      <td>Humedad relativa</td>\n",
       "      <td>Noroeste</td>\n",
       "      <td>Casa de Campo</td>\n",
       "      <td>82.0</td>\n",
       "    </tr>\n",
       "    <tr>\n",
       "      <th>364</th>\n",
       "      <td>2023-12-31 00:00:00</td>\n",
       "      <td>Humedad relativa</td>\n",
       "      <td>Noroeste</td>\n",
       "      <td>Casa de Campo</td>\n",
       "      <td>91.0</td>\n",
       "    </tr>\n",
       "  </tbody>\n",
       "</table>\n",
       "<p>365 rows × 5 columns</p>\n",
       "</div>"
      ],
      "text/plain": [
       "                   Fecha          Magnitud      Zona       Estación  Valor\n",
       "0    2023-12-01 00:00:00  Humedad relativa  Noroeste  Casa de Campo   66.0\n",
       "1    2023-12-02 00:00:00  Humedad relativa  Noroeste  Casa de Campo   80.0\n",
       "2    2023-12-03 00:00:00  Humedad relativa  Noroeste  Casa de Campo   83.0\n",
       "3    2023-12-04 00:00:00  Humedad relativa  Noroeste  Casa de Campo   79.0\n",
       "4    2023-12-05 00:00:00  Humedad relativa  Noroeste  Casa de Campo   77.0\n",
       "..                   ...               ...       ...            ...    ...\n",
       "360  2023-12-27 00:00:00  Humedad relativa  Noroeste  Casa de Campo   82.0\n",
       "361  2023-12-28 00:00:00  Humedad relativa  Noroeste  Casa de Campo   86.0\n",
       "362  2023-12-29 00:00:00  Humedad relativa  Noroeste  Casa de Campo   88.0\n",
       "363  2023-12-30 00:00:00  Humedad relativa  Noroeste  Casa de Campo   82.0\n",
       "364  2023-12-31 00:00:00  Humedad relativa  Noroeste  Casa de Campo   91.0\n",
       "\n",
       "[365 rows x 5 columns]"
      ]
     },
     "execution_count": 316,
     "metadata": {},
     "output_type": "execute_result"
    }
   ],
   "source": [
    "df_hum_rel = pd.concat([df_hum_rel_ene, df_hum_rel_feb, df_hum_rel_mar, df_hum_rel_abr, df_hum_rel_may, df_hum_rel_jun, df_hum_rel_jul, df_hum_rel_ago, df_hum_rel_sep, df_hum_rel_oct, df_hum_rel_nov, df_hum_rel_dic ],axis=0, ignore_index=True)\n",
    "df_hum_rel"
   ]
  },
  {
   "cell_type": "code",
   "execution_count": 317,
   "metadata": {},
   "outputs": [],
   "source": [
    "df_hum_rel.drop(columns=['Magnitud', 'Zona', 'Estación'], inplace=True)"
   ]
  },
  {
   "cell_type": "code",
   "execution_count": 318,
   "metadata": {},
   "outputs": [
    {
     "data": {
      "text/html": [
       "<div>\n",
       "<style scoped>\n",
       "    .dataframe tbody tr th:only-of-type {\n",
       "        vertical-align: middle;\n",
       "    }\n",
       "\n",
       "    .dataframe tbody tr th {\n",
       "        vertical-align: top;\n",
       "    }\n",
       "\n",
       "    .dataframe thead th {\n",
       "        text-align: right;\n",
       "    }\n",
       "</style>\n",
       "<table border=\"1\" class=\"dataframe\">\n",
       "  <thead>\n",
       "    <tr style=\"text-align: right;\">\n",
       "      <th></th>\n",
       "      <th>Fecha</th>\n",
       "      <th>Humedad_Relativa</th>\n",
       "    </tr>\n",
       "  </thead>\n",
       "  <tbody>\n",
       "    <tr>\n",
       "      <th>0</th>\n",
       "      <td>2023-12-01 00:00:00</td>\n",
       "      <td>66.0</td>\n",
       "    </tr>\n",
       "    <tr>\n",
       "      <th>1</th>\n",
       "      <td>2023-12-02 00:00:00</td>\n",
       "      <td>80.0</td>\n",
       "    </tr>\n",
       "    <tr>\n",
       "      <th>2</th>\n",
       "      <td>2023-12-03 00:00:00</td>\n",
       "      <td>83.0</td>\n",
       "    </tr>\n",
       "    <tr>\n",
       "      <th>3</th>\n",
       "      <td>2023-12-04 00:00:00</td>\n",
       "      <td>79.0</td>\n",
       "    </tr>\n",
       "    <tr>\n",
       "      <th>4</th>\n",
       "      <td>2023-12-05 00:00:00</td>\n",
       "      <td>77.0</td>\n",
       "    </tr>\n",
       "  </tbody>\n",
       "</table>\n",
       "</div>"
      ],
      "text/plain": [
       "                 Fecha  Humedad_Relativa\n",
       "0  2023-12-01 00:00:00              66.0\n",
       "1  2023-12-02 00:00:00              80.0\n",
       "2  2023-12-03 00:00:00              83.0\n",
       "3  2023-12-04 00:00:00              79.0\n",
       "4  2023-12-05 00:00:00              77.0"
      ]
     },
     "execution_count": 318,
     "metadata": {},
     "output_type": "execute_result"
    }
   ],
   "source": [
    "df_hum_rel.rename(columns={'Valor': 'Humedad_Relativa'}, inplace=True)\n",
    "df_hum_rel.head()"
   ]
  },
  {
   "cell_type": "code",
   "execution_count": 319,
   "metadata": {},
   "outputs": [
    {
     "name": "stdout",
     "output_type": "stream",
     "text": [
      "<class 'pandas.core.frame.DataFrame'>\n",
      "RangeIndex: 365 entries, 0 to 364\n",
      "Data columns (total 2 columns):\n",
      " #   Column            Non-Null Count  Dtype  \n",
      "---  ------            --------------  -----  \n",
      " 0   Fecha             365 non-null    object \n",
      " 1   Humedad_Relativa  365 non-null    float64\n",
      "dtypes: float64(1), object(1)\n",
      "memory usage: 5.8+ KB\n"
     ]
    }
   ],
   "source": [
    "df_hum_rel.info()"
   ]
  },
  {
   "cell_type": "markdown",
   "metadata": {},
   "source": [
    "## Datasets de la velocidad del viento diaria año 2023"
   ]
  },
  {
   "cell_type": "code",
   "execution_count": 320,
   "metadata": {},
   "outputs": [
    {
     "data": {
      "text/html": [
       "<div>\n",
       "<style scoped>\n",
       "    .dataframe tbody tr th:only-of-type {\n",
       "        vertical-align: middle;\n",
       "    }\n",
       "\n",
       "    .dataframe tbody tr th {\n",
       "        vertical-align: top;\n",
       "    }\n",
       "\n",
       "    .dataframe thead th {\n",
       "        text-align: right;\n",
       "    }\n",
       "</style>\n",
       "<table border=\"1\" class=\"dataframe\">\n",
       "  <thead>\n",
       "    <tr style=\"text-align: right;\">\n",
       "      <th></th>\n",
       "      <th>Fecha</th>\n",
       "      <th>Magnitud</th>\n",
       "      <th>Zona</th>\n",
       "      <th>Estación</th>\n",
       "      <th>Valor</th>\n",
       "    </tr>\n",
       "  </thead>\n",
       "  <tbody>\n",
       "    <tr>\n",
       "      <th>0</th>\n",
       "      <td>2023-01-01</td>\n",
       "      <td>Velocidad del viento</td>\n",
       "      <td>Noroeste</td>\n",
       "      <td>Casa de Campo</td>\n",
       "      <td>0,8</td>\n",
       "    </tr>\n",
       "    <tr>\n",
       "      <th>1</th>\n",
       "      <td>2023-01-02</td>\n",
       "      <td>Velocidad del viento</td>\n",
       "      <td>Noroeste</td>\n",
       "      <td>Casa de Campo</td>\n",
       "      <td>1,0</td>\n",
       "    </tr>\n",
       "    <tr>\n",
       "      <th>2</th>\n",
       "      <td>2023-01-03</td>\n",
       "      <td>Velocidad del viento</td>\n",
       "      <td>Noroeste</td>\n",
       "      <td>Casa de Campo</td>\n",
       "      <td>0,7</td>\n",
       "    </tr>\n",
       "    <tr>\n",
       "      <th>3</th>\n",
       "      <td>2023-01-04</td>\n",
       "      <td>Velocidad del viento</td>\n",
       "      <td>Noroeste</td>\n",
       "      <td>Casa de Campo</td>\n",
       "      <td>0,6</td>\n",
       "    </tr>\n",
       "    <tr>\n",
       "      <th>4</th>\n",
       "      <td>2023-01-05</td>\n",
       "      <td>Velocidad del viento</td>\n",
       "      <td>Noroeste</td>\n",
       "      <td>Casa de Campo</td>\n",
       "      <td>0,7</td>\n",
       "    </tr>\n",
       "  </tbody>\n",
       "</table>\n",
       "</div>"
      ],
      "text/plain": [
       "        Fecha              Magnitud      Zona       Estación Valor\n",
       "0  2023-01-01  Velocidad del viento  Noroeste  Casa de Campo   0,8\n",
       "1  2023-01-02  Velocidad del viento  Noroeste  Casa de Campo   1,0\n",
       "2  2023-01-03  Velocidad del viento  Noroeste  Casa de Campo   0,7\n",
       "3  2023-01-04  Velocidad del viento  Noroeste  Casa de Campo   0,6\n",
       "4  2023-01-05  Velocidad del viento  Noroeste  Casa de Campo   0,7"
      ]
     },
     "execution_count": 320,
     "metadata": {},
     "output_type": "execute_result"
    }
   ],
   "source": [
    "df_velc_v_ene = pd.read_csv('C:/Users/rfg2m/Documents/DATA_SCIENCE/Entregas/Proyectos/MACHINE LEARNING/Data/raw/Data_23/velocidad_viento_ene_23.csv', sep=';', encoding='utf-8')\n",
    "df_velc_v_ene.head()"
   ]
  },
  {
   "cell_type": "code",
   "execution_count": 321,
   "metadata": {},
   "outputs": [
    {
     "name": "stdout",
     "output_type": "stream",
     "text": [
      "<class 'pandas.core.frame.DataFrame'>\n",
      "RangeIndex: 31 entries, 0 to 30\n",
      "Data columns (total 5 columns):\n",
      " #   Column    Non-Null Count  Dtype \n",
      "---  ------    --------------  ----- \n",
      " 0   Fecha     31 non-null     object\n",
      " 1   Magnitud  31 non-null     object\n",
      " 2   Zona      31 non-null     object\n",
      " 3   Estación  31 non-null     object\n",
      " 4   Valor     31 non-null     object\n",
      "dtypes: object(5)\n",
      "memory usage: 1.3+ KB\n"
     ]
    }
   ],
   "source": [
    "df_velc_v_ene.info()"
   ]
  },
  {
   "cell_type": "code",
   "execution_count": 322,
   "metadata": {},
   "outputs": [
    {
     "name": "stdout",
     "output_type": "stream",
     "text": [
      "<class 'pandas.core.frame.DataFrame'>\n",
      "RangeIndex: 31 entries, 0 to 30\n",
      "Data columns (total 5 columns):\n",
      " #   Column    Non-Null Count  Dtype         \n",
      "---  ------    --------------  -----         \n",
      " 0   Fecha     31 non-null     datetime64[ns]\n",
      " 1   Magnitud  31 non-null     object        \n",
      " 2   Zona      31 non-null     object        \n",
      " 3   Estación  31 non-null     object        \n",
      " 4   Valor     31 non-null     object        \n",
      "dtypes: datetime64[ns](1), object(4)\n",
      "memory usage: 1.3+ KB\n"
     ]
    }
   ],
   "source": [
    "df_velc_v_ene[\"Fecha\"] = pd.to_datetime(df_velc_v_ene[\"Fecha\"])\n",
    "df_velc_v_ene.info()"
   ]
  },
  {
   "cell_type": "code",
   "execution_count": 323,
   "metadata": {},
   "outputs": [
    {
     "data": {
      "text/html": [
       "<div>\n",
       "<style scoped>\n",
       "    .dataframe tbody tr th:only-of-type {\n",
       "        vertical-align: middle;\n",
       "    }\n",
       "\n",
       "    .dataframe tbody tr th {\n",
       "        vertical-align: top;\n",
       "    }\n",
       "\n",
       "    .dataframe thead th {\n",
       "        text-align: right;\n",
       "    }\n",
       "</style>\n",
       "<table border=\"1\" class=\"dataframe\">\n",
       "  <thead>\n",
       "    <tr style=\"text-align: right;\">\n",
       "      <th></th>\n",
       "      <th>Fecha</th>\n",
       "      <th>Magnitud</th>\n",
       "      <th>Zona</th>\n",
       "      <th>Estación</th>\n",
       "      <th>Valor</th>\n",
       "    </tr>\n",
       "  </thead>\n",
       "  <tbody>\n",
       "    <tr>\n",
       "      <th>0</th>\n",
       "      <td>2023-01-01</td>\n",
       "      <td>Velocidad del viento</td>\n",
       "      <td>Noroeste</td>\n",
       "      <td>Casa de Campo</td>\n",
       "      <td>0.8</td>\n",
       "    </tr>\n",
       "    <tr>\n",
       "      <th>1</th>\n",
       "      <td>2023-01-02</td>\n",
       "      <td>Velocidad del viento</td>\n",
       "      <td>Noroeste</td>\n",
       "      <td>Casa de Campo</td>\n",
       "      <td>1.0</td>\n",
       "    </tr>\n",
       "    <tr>\n",
       "      <th>2</th>\n",
       "      <td>2023-01-03</td>\n",
       "      <td>Velocidad del viento</td>\n",
       "      <td>Noroeste</td>\n",
       "      <td>Casa de Campo</td>\n",
       "      <td>0.7</td>\n",
       "    </tr>\n",
       "    <tr>\n",
       "      <th>3</th>\n",
       "      <td>2023-01-04</td>\n",
       "      <td>Velocidad del viento</td>\n",
       "      <td>Noroeste</td>\n",
       "      <td>Casa de Campo</td>\n",
       "      <td>0.6</td>\n",
       "    </tr>\n",
       "    <tr>\n",
       "      <th>4</th>\n",
       "      <td>2023-01-05</td>\n",
       "      <td>Velocidad del viento</td>\n",
       "      <td>Noroeste</td>\n",
       "      <td>Casa de Campo</td>\n",
       "      <td>0.7</td>\n",
       "    </tr>\n",
       "  </tbody>\n",
       "</table>\n",
       "</div>"
      ],
      "text/plain": [
       "       Fecha              Magnitud      Zona       Estación Valor\n",
       "0 2023-01-01  Velocidad del viento  Noroeste  Casa de Campo   0.8\n",
       "1 2023-01-02  Velocidad del viento  Noroeste  Casa de Campo   1.0\n",
       "2 2023-01-03  Velocidad del viento  Noroeste  Casa de Campo   0.7\n",
       "3 2023-01-04  Velocidad del viento  Noroeste  Casa de Campo   0.6\n",
       "4 2023-01-05  Velocidad del viento  Noroeste  Casa de Campo   0.7"
      ]
     },
     "execution_count": 323,
     "metadata": {},
     "output_type": "execute_result"
    }
   ],
   "source": [
    "df_velc_v_ene['Valor'] = df_velc_v_ene['Valor'].str.replace(',', '.') #Reemplazar comas por puntos\n",
    "df_velc_v_ene['Valor'] = df_velc_v_ene['Valor'].str.replace(r'[^\\d\\.]', '', regex=True) #Eliminar caracteres no numéricos, exepto el punto \n",
    "df_velc_v_ene.head()"
   ]
  },
  {
   "cell_type": "code",
   "execution_count": 324,
   "metadata": {},
   "outputs": [],
   "source": [
    "df_velc_v_ene['Valor'] = pd.to_numeric(df_velc_v_ene['Valor'], errors='coerce')"
   ]
  },
  {
   "cell_type": "code",
   "execution_count": 325,
   "metadata": {},
   "outputs": [
    {
     "name": "stdout",
     "output_type": "stream",
     "text": [
      "<class 'pandas.core.frame.DataFrame'>\n",
      "RangeIndex: 31 entries, 0 to 30\n",
      "Data columns (total 5 columns):\n",
      " #   Column    Non-Null Count  Dtype         \n",
      "---  ------    --------------  -----         \n",
      " 0   Fecha     31 non-null     datetime64[ns]\n",
      " 1   Magnitud  31 non-null     object        \n",
      " 2   Zona      31 non-null     object        \n",
      " 3   Estación  31 non-null     object        \n",
      " 4   Valor     31 non-null     float64       \n",
      "dtypes: datetime64[ns](1), float64(1), object(3)\n",
      "memory usage: 1.3+ KB\n"
     ]
    }
   ],
   "source": [
    "df_velc_v_ene.info()"
   ]
  },
  {
   "cell_type": "code",
   "execution_count": 326,
   "metadata": {},
   "outputs": [
    {
     "data": {
      "text/html": [
       "<div>\n",
       "<style scoped>\n",
       "    .dataframe tbody tr th:only-of-type {\n",
       "        vertical-align: middle;\n",
       "    }\n",
       "\n",
       "    .dataframe tbody tr th {\n",
       "        vertical-align: top;\n",
       "    }\n",
       "\n",
       "    .dataframe thead th {\n",
       "        text-align: right;\n",
       "    }\n",
       "</style>\n",
       "<table border=\"1\" class=\"dataframe\">\n",
       "  <thead>\n",
       "    <tr style=\"text-align: right;\">\n",
       "      <th></th>\n",
       "      <th>Fecha</th>\n",
       "      <th>Magnitud</th>\n",
       "      <th>Zona</th>\n",
       "      <th>Estación</th>\n",
       "      <th>Valor</th>\n",
       "    </tr>\n",
       "  </thead>\n",
       "  <tbody>\n",
       "    <tr>\n",
       "      <th>0</th>\n",
       "      <td>2023-02-01</td>\n",
       "      <td>Velocidad del viento</td>\n",
       "      <td>Noroeste</td>\n",
       "      <td>Casa de Campo</td>\n",
       "      <td>0,9</td>\n",
       "    </tr>\n",
       "    <tr>\n",
       "      <th>1</th>\n",
       "      <td>2023-02-02</td>\n",
       "      <td>Velocidad del viento</td>\n",
       "      <td>Noroeste</td>\n",
       "      <td>Casa de Campo</td>\n",
       "      <td>0,7</td>\n",
       "    </tr>\n",
       "    <tr>\n",
       "      <th>2</th>\n",
       "      <td>2023-02-03</td>\n",
       "      <td>Velocidad del viento</td>\n",
       "      <td>Noroeste</td>\n",
       "      <td>Casa de Campo</td>\n",
       "      <td>0,7</td>\n",
       "    </tr>\n",
       "    <tr>\n",
       "      <th>3</th>\n",
       "      <td>2023-02-04</td>\n",
       "      <td>Velocidad del viento</td>\n",
       "      <td>Noroeste</td>\n",
       "      <td>Casa de Campo</td>\n",
       "      <td>0,7</td>\n",
       "    </tr>\n",
       "    <tr>\n",
       "      <th>4</th>\n",
       "      <td>2023-02-05</td>\n",
       "      <td>Velocidad del viento</td>\n",
       "      <td>Noroeste</td>\n",
       "      <td>Casa de Campo</td>\n",
       "      <td>0,8</td>\n",
       "    </tr>\n",
       "  </tbody>\n",
       "</table>\n",
       "</div>"
      ],
      "text/plain": [
       "        Fecha              Magnitud      Zona       Estación Valor\n",
       "0  2023-02-01  Velocidad del viento  Noroeste  Casa de Campo   0,9\n",
       "1  2023-02-02  Velocidad del viento  Noroeste  Casa de Campo   0,7\n",
       "2  2023-02-03  Velocidad del viento  Noroeste  Casa de Campo   0,7\n",
       "3  2023-02-04  Velocidad del viento  Noroeste  Casa de Campo   0,7\n",
       "4  2023-02-05  Velocidad del viento  Noroeste  Casa de Campo   0,8"
      ]
     },
     "execution_count": 326,
     "metadata": {},
     "output_type": "execute_result"
    }
   ],
   "source": [
    "df_velc_v_feb = pd.read_csv('C:/Users/rfg2m/Documents/DATA_SCIENCE/Entregas/Proyectos/MACHINE LEARNING/Data/raw/Data_23/velocidad_viento_feb_23.csv', sep=';', encoding='utf-8')\n",
    "df_velc_v_feb.head()"
   ]
  },
  {
   "cell_type": "code",
   "execution_count": 327,
   "metadata": {},
   "outputs": [
    {
     "name": "stdout",
     "output_type": "stream",
     "text": [
      "<class 'pandas.core.frame.DataFrame'>\n",
      "RangeIndex: 28 entries, 0 to 27\n",
      "Data columns (total 5 columns):\n",
      " #   Column    Non-Null Count  Dtype \n",
      "---  ------    --------------  ----- \n",
      " 0   Fecha     28 non-null     object\n",
      " 1   Magnitud  28 non-null     object\n",
      " 2   Zona      28 non-null     object\n",
      " 3   Estación  28 non-null     object\n",
      " 4   Valor     28 non-null     object\n",
      "dtypes: object(5)\n",
      "memory usage: 1.2+ KB\n"
     ]
    }
   ],
   "source": [
    "df_velc_v_feb.info()"
   ]
  },
  {
   "cell_type": "code",
   "execution_count": 328,
   "metadata": {},
   "outputs": [
    {
     "name": "stdout",
     "output_type": "stream",
     "text": [
      "<class 'pandas.core.frame.DataFrame'>\n",
      "RangeIndex: 28 entries, 0 to 27\n",
      "Data columns (total 5 columns):\n",
      " #   Column    Non-Null Count  Dtype         \n",
      "---  ------    --------------  -----         \n",
      " 0   Fecha     28 non-null     datetime64[ns]\n",
      " 1   Magnitud  28 non-null     object        \n",
      " 2   Zona      28 non-null     object        \n",
      " 3   Estación  28 non-null     object        \n",
      " 4   Valor     28 non-null     object        \n",
      "dtypes: datetime64[ns](1), object(4)\n",
      "memory usage: 1.2+ KB\n"
     ]
    }
   ],
   "source": [
    "df_velc_v_feb[\"Fecha\"] = pd.to_datetime(df_velc_v_feb[\"Fecha\"])\n",
    "df_velc_v_feb.info()"
   ]
  },
  {
   "cell_type": "code",
   "execution_count": 329,
   "metadata": {},
   "outputs": [
    {
     "data": {
      "text/html": [
       "<div>\n",
       "<style scoped>\n",
       "    .dataframe tbody tr th:only-of-type {\n",
       "        vertical-align: middle;\n",
       "    }\n",
       "\n",
       "    .dataframe tbody tr th {\n",
       "        vertical-align: top;\n",
       "    }\n",
       "\n",
       "    .dataframe thead th {\n",
       "        text-align: right;\n",
       "    }\n",
       "</style>\n",
       "<table border=\"1\" class=\"dataframe\">\n",
       "  <thead>\n",
       "    <tr style=\"text-align: right;\">\n",
       "      <th></th>\n",
       "      <th>Fecha</th>\n",
       "      <th>Magnitud</th>\n",
       "      <th>Zona</th>\n",
       "      <th>Estación</th>\n",
       "      <th>Valor</th>\n",
       "    </tr>\n",
       "  </thead>\n",
       "  <tbody>\n",
       "    <tr>\n",
       "      <th>0</th>\n",
       "      <td>2023-02-01</td>\n",
       "      <td>Velocidad del viento</td>\n",
       "      <td>Noroeste</td>\n",
       "      <td>Casa de Campo</td>\n",
       "      <td>0.9</td>\n",
       "    </tr>\n",
       "    <tr>\n",
       "      <th>1</th>\n",
       "      <td>2023-02-02</td>\n",
       "      <td>Velocidad del viento</td>\n",
       "      <td>Noroeste</td>\n",
       "      <td>Casa de Campo</td>\n",
       "      <td>0.7</td>\n",
       "    </tr>\n",
       "    <tr>\n",
       "      <th>2</th>\n",
       "      <td>2023-02-03</td>\n",
       "      <td>Velocidad del viento</td>\n",
       "      <td>Noroeste</td>\n",
       "      <td>Casa de Campo</td>\n",
       "      <td>0.7</td>\n",
       "    </tr>\n",
       "    <tr>\n",
       "      <th>3</th>\n",
       "      <td>2023-02-04</td>\n",
       "      <td>Velocidad del viento</td>\n",
       "      <td>Noroeste</td>\n",
       "      <td>Casa de Campo</td>\n",
       "      <td>0.7</td>\n",
       "    </tr>\n",
       "    <tr>\n",
       "      <th>4</th>\n",
       "      <td>2023-02-05</td>\n",
       "      <td>Velocidad del viento</td>\n",
       "      <td>Noroeste</td>\n",
       "      <td>Casa de Campo</td>\n",
       "      <td>0.8</td>\n",
       "    </tr>\n",
       "  </tbody>\n",
       "</table>\n",
       "</div>"
      ],
      "text/plain": [
       "       Fecha              Magnitud      Zona       Estación Valor\n",
       "0 2023-02-01  Velocidad del viento  Noroeste  Casa de Campo   0.9\n",
       "1 2023-02-02  Velocidad del viento  Noroeste  Casa de Campo   0.7\n",
       "2 2023-02-03  Velocidad del viento  Noroeste  Casa de Campo   0.7\n",
       "3 2023-02-04  Velocidad del viento  Noroeste  Casa de Campo   0.7\n",
       "4 2023-02-05  Velocidad del viento  Noroeste  Casa de Campo   0.8"
      ]
     },
     "execution_count": 329,
     "metadata": {},
     "output_type": "execute_result"
    }
   ],
   "source": [
    "df_velc_v_feb['Valor'] = df_velc_v_feb['Valor'].str.replace(',', '.') #Reemplazar comas por puntos\n",
    "df_velc_v_feb['Valor'] = df_velc_v_feb['Valor'].str.replace(r'[^\\d\\.]', '', regex=True) #Eliminar caracteres no numéricos, exepto el punto \n",
    "df_velc_v_feb.head()"
   ]
  },
  {
   "cell_type": "code",
   "execution_count": 330,
   "metadata": {},
   "outputs": [],
   "source": [
    "df_velc_v_feb['Valor'] = pd.to_numeric(df_velc_v_feb['Valor'], errors='coerce')"
   ]
  },
  {
   "cell_type": "code",
   "execution_count": 331,
   "metadata": {},
   "outputs": [
    {
     "name": "stdout",
     "output_type": "stream",
     "text": [
      "<class 'pandas.core.frame.DataFrame'>\n",
      "RangeIndex: 28 entries, 0 to 27\n",
      "Data columns (total 5 columns):\n",
      " #   Column    Non-Null Count  Dtype         \n",
      "---  ------    --------------  -----         \n",
      " 0   Fecha     28 non-null     datetime64[ns]\n",
      " 1   Magnitud  28 non-null     object        \n",
      " 2   Zona      28 non-null     object        \n",
      " 3   Estación  28 non-null     object        \n",
      " 4   Valor     28 non-null     float64       \n",
      "dtypes: datetime64[ns](1), float64(1), object(3)\n",
      "memory usage: 1.2+ KB\n"
     ]
    }
   ],
   "source": [
    "df_velc_v_feb.info()"
   ]
  },
  {
   "cell_type": "code",
   "execution_count": 332,
   "metadata": {},
   "outputs": [
    {
     "data": {
      "text/html": [
       "<div>\n",
       "<style scoped>\n",
       "    .dataframe tbody tr th:only-of-type {\n",
       "        vertical-align: middle;\n",
       "    }\n",
       "\n",
       "    .dataframe tbody tr th {\n",
       "        vertical-align: top;\n",
       "    }\n",
       "\n",
       "    .dataframe thead th {\n",
       "        text-align: right;\n",
       "    }\n",
       "</style>\n",
       "<table border=\"1\" class=\"dataframe\">\n",
       "  <thead>\n",
       "    <tr style=\"text-align: right;\">\n",
       "      <th></th>\n",
       "      <th>Fecha</th>\n",
       "      <th>Magnitud</th>\n",
       "      <th>Zona</th>\n",
       "      <th>Estación</th>\n",
       "      <th>Valor</th>\n",
       "    </tr>\n",
       "  </thead>\n",
       "  <tbody>\n",
       "    <tr>\n",
       "      <th>0</th>\n",
       "      <td>2023-03-01</td>\n",
       "      <td>Velocidad del viento</td>\n",
       "      <td>Noroeste</td>\n",
       "      <td>Casa de Campo</td>\n",
       "      <td>0,9</td>\n",
       "    </tr>\n",
       "    <tr>\n",
       "      <th>1</th>\n",
       "      <td>2023-03-02</td>\n",
       "      <td>Velocidad del viento</td>\n",
       "      <td>Noroeste</td>\n",
       "      <td>Casa de Campo</td>\n",
       "      <td>0,9</td>\n",
       "    </tr>\n",
       "    <tr>\n",
       "      <th>2</th>\n",
       "      <td>2023-03-03</td>\n",
       "      <td>Velocidad del viento</td>\n",
       "      <td>Noroeste</td>\n",
       "      <td>Casa de Campo</td>\n",
       "      <td>1,1</td>\n",
       "    </tr>\n",
       "    <tr>\n",
       "      <th>3</th>\n",
       "      <td>2023-03-04</td>\n",
       "      <td>Velocidad del viento</td>\n",
       "      <td>Noroeste</td>\n",
       "      <td>Casa de Campo</td>\n",
       "      <td>0,8</td>\n",
       "    </tr>\n",
       "    <tr>\n",
       "      <th>4</th>\n",
       "      <td>2023-03-05</td>\n",
       "      <td>Velocidad del viento</td>\n",
       "      <td>Noroeste</td>\n",
       "      <td>Casa de Campo</td>\n",
       "      <td>0,8</td>\n",
       "    </tr>\n",
       "  </tbody>\n",
       "</table>\n",
       "</div>"
      ],
      "text/plain": [
       "        Fecha              Magnitud      Zona       Estación Valor\n",
       "0  2023-03-01  Velocidad del viento  Noroeste  Casa de Campo   0,9\n",
       "1  2023-03-02  Velocidad del viento  Noroeste  Casa de Campo   0,9\n",
       "2  2023-03-03  Velocidad del viento  Noroeste  Casa de Campo   1,1\n",
       "3  2023-03-04  Velocidad del viento  Noroeste  Casa de Campo   0,8\n",
       "4  2023-03-05  Velocidad del viento  Noroeste  Casa de Campo   0,8"
      ]
     },
     "execution_count": 332,
     "metadata": {},
     "output_type": "execute_result"
    }
   ],
   "source": [
    "df_velc_v_mar = pd.read_csv('C:/Users/rfg2m/Documents/DATA_SCIENCE/Entregas/Proyectos/MACHINE LEARNING/Data/raw/Data_23/velocidad_viento_mar_23.csv', sep=';', encoding='utf-8')\n",
    "df_velc_v_mar.head()"
   ]
  },
  {
   "cell_type": "code",
   "execution_count": 333,
   "metadata": {},
   "outputs": [
    {
     "name": "stdout",
     "output_type": "stream",
     "text": [
      "<class 'pandas.core.frame.DataFrame'>\n",
      "RangeIndex: 31 entries, 0 to 30\n",
      "Data columns (total 5 columns):\n",
      " #   Column    Non-Null Count  Dtype \n",
      "---  ------    --------------  ----- \n",
      " 0   Fecha     31 non-null     object\n",
      " 1   Magnitud  31 non-null     object\n",
      " 2   Zona      31 non-null     object\n",
      " 3   Estación  31 non-null     object\n",
      " 4   Valor     31 non-null     object\n",
      "dtypes: object(5)\n",
      "memory usage: 1.3+ KB\n"
     ]
    }
   ],
   "source": [
    "df_velc_v_mar.info()"
   ]
  },
  {
   "cell_type": "code",
   "execution_count": 334,
   "metadata": {},
   "outputs": [
    {
     "name": "stdout",
     "output_type": "stream",
     "text": [
      "<class 'pandas.core.frame.DataFrame'>\n",
      "RangeIndex: 31 entries, 0 to 30\n",
      "Data columns (total 5 columns):\n",
      " #   Column    Non-Null Count  Dtype         \n",
      "---  ------    --------------  -----         \n",
      " 0   Fecha     31 non-null     datetime64[ns]\n",
      " 1   Magnitud  31 non-null     object        \n",
      " 2   Zona      31 non-null     object        \n",
      " 3   Estación  31 non-null     object        \n",
      " 4   Valor     31 non-null     object        \n",
      "dtypes: datetime64[ns](1), object(4)\n",
      "memory usage: 1.3+ KB\n"
     ]
    }
   ],
   "source": [
    "df_velc_v_mar[\"Fecha\"] = pd.to_datetime(df_velc_v_mar[\"Fecha\"])\n",
    "df_velc_v_mar.info()"
   ]
  },
  {
   "cell_type": "code",
   "execution_count": 335,
   "metadata": {},
   "outputs": [
    {
     "data": {
      "text/html": [
       "<div>\n",
       "<style scoped>\n",
       "    .dataframe tbody tr th:only-of-type {\n",
       "        vertical-align: middle;\n",
       "    }\n",
       "\n",
       "    .dataframe tbody tr th {\n",
       "        vertical-align: top;\n",
       "    }\n",
       "\n",
       "    .dataframe thead th {\n",
       "        text-align: right;\n",
       "    }\n",
       "</style>\n",
       "<table border=\"1\" class=\"dataframe\">\n",
       "  <thead>\n",
       "    <tr style=\"text-align: right;\">\n",
       "      <th></th>\n",
       "      <th>Fecha</th>\n",
       "      <th>Magnitud</th>\n",
       "      <th>Zona</th>\n",
       "      <th>Estación</th>\n",
       "      <th>Valor</th>\n",
       "    </tr>\n",
       "  </thead>\n",
       "  <tbody>\n",
       "    <tr>\n",
       "      <th>0</th>\n",
       "      <td>2023-03-01</td>\n",
       "      <td>Velocidad del viento</td>\n",
       "      <td>Noroeste</td>\n",
       "      <td>Casa de Campo</td>\n",
       "      <td>0.9</td>\n",
       "    </tr>\n",
       "    <tr>\n",
       "      <th>1</th>\n",
       "      <td>2023-03-02</td>\n",
       "      <td>Velocidad del viento</td>\n",
       "      <td>Noroeste</td>\n",
       "      <td>Casa de Campo</td>\n",
       "      <td>0.9</td>\n",
       "    </tr>\n",
       "    <tr>\n",
       "      <th>2</th>\n",
       "      <td>2023-03-03</td>\n",
       "      <td>Velocidad del viento</td>\n",
       "      <td>Noroeste</td>\n",
       "      <td>Casa de Campo</td>\n",
       "      <td>1.1</td>\n",
       "    </tr>\n",
       "    <tr>\n",
       "      <th>3</th>\n",
       "      <td>2023-03-04</td>\n",
       "      <td>Velocidad del viento</td>\n",
       "      <td>Noroeste</td>\n",
       "      <td>Casa de Campo</td>\n",
       "      <td>0.8</td>\n",
       "    </tr>\n",
       "    <tr>\n",
       "      <th>4</th>\n",
       "      <td>2023-03-05</td>\n",
       "      <td>Velocidad del viento</td>\n",
       "      <td>Noroeste</td>\n",
       "      <td>Casa de Campo</td>\n",
       "      <td>0.8</td>\n",
       "    </tr>\n",
       "  </tbody>\n",
       "</table>\n",
       "</div>"
      ],
      "text/plain": [
       "       Fecha              Magnitud      Zona       Estación Valor\n",
       "0 2023-03-01  Velocidad del viento  Noroeste  Casa de Campo   0.9\n",
       "1 2023-03-02  Velocidad del viento  Noroeste  Casa de Campo   0.9\n",
       "2 2023-03-03  Velocidad del viento  Noroeste  Casa de Campo   1.1\n",
       "3 2023-03-04  Velocidad del viento  Noroeste  Casa de Campo   0.8\n",
       "4 2023-03-05  Velocidad del viento  Noroeste  Casa de Campo   0.8"
      ]
     },
     "execution_count": 335,
     "metadata": {},
     "output_type": "execute_result"
    }
   ],
   "source": [
    "df_velc_v_mar['Valor'] = df_velc_v_mar['Valor'].str.replace(',', '.') #Reemplazar comas por puntos\n",
    "df_velc_v_mar['Valor'] = df_velc_v_mar['Valor'].str.replace(r'[^\\d\\.]', '', regex=True) #Eliminar caracteres no numéricos, exepto el punto \n",
    "df_velc_v_mar.head()"
   ]
  },
  {
   "cell_type": "code",
   "execution_count": 336,
   "metadata": {},
   "outputs": [],
   "source": [
    "df_velc_v_mar['Valor'] = pd.to_numeric(df_velc_v_mar['Valor'], errors='coerce')"
   ]
  },
  {
   "cell_type": "code",
   "execution_count": 337,
   "metadata": {},
   "outputs": [
    {
     "name": "stdout",
     "output_type": "stream",
     "text": [
      "<class 'pandas.core.frame.DataFrame'>\n",
      "RangeIndex: 31 entries, 0 to 30\n",
      "Data columns (total 5 columns):\n",
      " #   Column    Non-Null Count  Dtype         \n",
      "---  ------    --------------  -----         \n",
      " 0   Fecha     31 non-null     datetime64[ns]\n",
      " 1   Magnitud  31 non-null     object        \n",
      " 2   Zona      31 non-null     object        \n",
      " 3   Estación  31 non-null     object        \n",
      " 4   Valor     31 non-null     float64       \n",
      "dtypes: datetime64[ns](1), float64(1), object(3)\n",
      "memory usage: 1.3+ KB\n"
     ]
    }
   ],
   "source": [
    "df_velc_v_mar.info()"
   ]
  },
  {
   "cell_type": "code",
   "execution_count": 338,
   "metadata": {},
   "outputs": [
    {
     "data": {
      "text/html": [
       "<div>\n",
       "<style scoped>\n",
       "    .dataframe tbody tr th:only-of-type {\n",
       "        vertical-align: middle;\n",
       "    }\n",
       "\n",
       "    .dataframe tbody tr th {\n",
       "        vertical-align: top;\n",
       "    }\n",
       "\n",
       "    .dataframe thead th {\n",
       "        text-align: right;\n",
       "    }\n",
       "</style>\n",
       "<table border=\"1\" class=\"dataframe\">\n",
       "  <thead>\n",
       "    <tr style=\"text-align: right;\">\n",
       "      <th></th>\n",
       "      <th>Fecha</th>\n",
       "      <th>Magnitud</th>\n",
       "      <th>Zona</th>\n",
       "      <th>Estación</th>\n",
       "      <th>Valor</th>\n",
       "    </tr>\n",
       "  </thead>\n",
       "  <tbody>\n",
       "    <tr>\n",
       "      <th>0</th>\n",
       "      <td>2023-04-01</td>\n",
       "      <td>Velocidad del viento</td>\n",
       "      <td>Noroeste</td>\n",
       "      <td>Casa de Campo</td>\n",
       "      <td>2,4</td>\n",
       "    </tr>\n",
       "    <tr>\n",
       "      <th>1</th>\n",
       "      <td>2023-04-02</td>\n",
       "      <td>Velocidad del viento</td>\n",
       "      <td>Noroeste</td>\n",
       "      <td>Casa de Campo</td>\n",
       "      <td>1,2</td>\n",
       "    </tr>\n",
       "    <tr>\n",
       "      <th>2</th>\n",
       "      <td>2023-04-03</td>\n",
       "      <td>Velocidad del viento</td>\n",
       "      <td>Noroeste</td>\n",
       "      <td>Casa de Campo</td>\n",
       "      <td>1,0</td>\n",
       "    </tr>\n",
       "    <tr>\n",
       "      <th>3</th>\n",
       "      <td>2023-04-04</td>\n",
       "      <td>Velocidad del viento</td>\n",
       "      <td>Noroeste</td>\n",
       "      <td>Casa de Campo</td>\n",
       "      <td>2,0</td>\n",
       "    </tr>\n",
       "    <tr>\n",
       "      <th>4</th>\n",
       "      <td>2023-04-05</td>\n",
       "      <td>Velocidad del viento</td>\n",
       "      <td>Noroeste</td>\n",
       "      <td>Casa de Campo</td>\n",
       "      <td>1,2</td>\n",
       "    </tr>\n",
       "  </tbody>\n",
       "</table>\n",
       "</div>"
      ],
      "text/plain": [
       "        Fecha              Magnitud      Zona       Estación Valor\n",
       "0  2023-04-01  Velocidad del viento  Noroeste  Casa de Campo   2,4\n",
       "1  2023-04-02  Velocidad del viento  Noroeste  Casa de Campo   1,2\n",
       "2  2023-04-03  Velocidad del viento  Noroeste  Casa de Campo   1,0\n",
       "3  2023-04-04  Velocidad del viento  Noroeste  Casa de Campo   2,0\n",
       "4  2023-04-05  Velocidad del viento  Noroeste  Casa de Campo   1,2"
      ]
     },
     "execution_count": 338,
     "metadata": {},
     "output_type": "execute_result"
    }
   ],
   "source": [
    "df_velc_v_abr = pd.read_csv('C:/Users/rfg2m/Documents/DATA_SCIENCE/Entregas/Proyectos/MACHINE LEARNING/Data/raw/Data_23/velocidad_viento_abr_23.csv', sep=';', encoding='utf-8')\n",
    "df_velc_v_abr.head()"
   ]
  },
  {
   "cell_type": "code",
   "execution_count": 339,
   "metadata": {},
   "outputs": [
    {
     "name": "stdout",
     "output_type": "stream",
     "text": [
      "<class 'pandas.core.frame.DataFrame'>\n",
      "RangeIndex: 30 entries, 0 to 29\n",
      "Data columns (total 5 columns):\n",
      " #   Column    Non-Null Count  Dtype \n",
      "---  ------    --------------  ----- \n",
      " 0   Fecha     30 non-null     object\n",
      " 1   Magnitud  30 non-null     object\n",
      " 2   Zona      30 non-null     object\n",
      " 3   Estación  30 non-null     object\n",
      " 4   Valor     30 non-null     object\n",
      "dtypes: object(5)\n",
      "memory usage: 1.3+ KB\n"
     ]
    }
   ],
   "source": [
    "df_velc_v_abr.info()"
   ]
  },
  {
   "cell_type": "code",
   "execution_count": 340,
   "metadata": {},
   "outputs": [
    {
     "name": "stdout",
     "output_type": "stream",
     "text": [
      "<class 'pandas.core.frame.DataFrame'>\n",
      "RangeIndex: 30 entries, 0 to 29\n",
      "Data columns (total 5 columns):\n",
      " #   Column    Non-Null Count  Dtype         \n",
      "---  ------    --------------  -----         \n",
      " 0   Fecha     30 non-null     datetime64[ns]\n",
      " 1   Magnitud  30 non-null     object        \n",
      " 2   Zona      30 non-null     object        \n",
      " 3   Estación  30 non-null     object        \n",
      " 4   Valor     30 non-null     object        \n",
      "dtypes: datetime64[ns](1), object(4)\n",
      "memory usage: 1.3+ KB\n"
     ]
    }
   ],
   "source": [
    "df_velc_v_abr[\"Fecha\"] = pd.to_datetime(df_velc_v_abr[\"Fecha\"])\n",
    "df_velc_v_abr.info()"
   ]
  },
  {
   "cell_type": "code",
   "execution_count": 341,
   "metadata": {},
   "outputs": [
    {
     "data": {
      "text/html": [
       "<div>\n",
       "<style scoped>\n",
       "    .dataframe tbody tr th:only-of-type {\n",
       "        vertical-align: middle;\n",
       "    }\n",
       "\n",
       "    .dataframe tbody tr th {\n",
       "        vertical-align: top;\n",
       "    }\n",
       "\n",
       "    .dataframe thead th {\n",
       "        text-align: right;\n",
       "    }\n",
       "</style>\n",
       "<table border=\"1\" class=\"dataframe\">\n",
       "  <thead>\n",
       "    <tr style=\"text-align: right;\">\n",
       "      <th></th>\n",
       "      <th>Fecha</th>\n",
       "      <th>Magnitud</th>\n",
       "      <th>Zona</th>\n",
       "      <th>Estación</th>\n",
       "      <th>Valor</th>\n",
       "    </tr>\n",
       "  </thead>\n",
       "  <tbody>\n",
       "    <tr>\n",
       "      <th>0</th>\n",
       "      <td>2023-04-01</td>\n",
       "      <td>Velocidad del viento</td>\n",
       "      <td>Noroeste</td>\n",
       "      <td>Casa de Campo</td>\n",
       "      <td>2.4</td>\n",
       "    </tr>\n",
       "    <tr>\n",
       "      <th>1</th>\n",
       "      <td>2023-04-02</td>\n",
       "      <td>Velocidad del viento</td>\n",
       "      <td>Noroeste</td>\n",
       "      <td>Casa de Campo</td>\n",
       "      <td>1.2</td>\n",
       "    </tr>\n",
       "    <tr>\n",
       "      <th>2</th>\n",
       "      <td>2023-04-03</td>\n",
       "      <td>Velocidad del viento</td>\n",
       "      <td>Noroeste</td>\n",
       "      <td>Casa de Campo</td>\n",
       "      <td>1.0</td>\n",
       "    </tr>\n",
       "    <tr>\n",
       "      <th>3</th>\n",
       "      <td>2023-04-04</td>\n",
       "      <td>Velocidad del viento</td>\n",
       "      <td>Noroeste</td>\n",
       "      <td>Casa de Campo</td>\n",
       "      <td>2.0</td>\n",
       "    </tr>\n",
       "    <tr>\n",
       "      <th>4</th>\n",
       "      <td>2023-04-05</td>\n",
       "      <td>Velocidad del viento</td>\n",
       "      <td>Noroeste</td>\n",
       "      <td>Casa de Campo</td>\n",
       "      <td>1.2</td>\n",
       "    </tr>\n",
       "  </tbody>\n",
       "</table>\n",
       "</div>"
      ],
      "text/plain": [
       "       Fecha              Magnitud      Zona       Estación Valor\n",
       "0 2023-04-01  Velocidad del viento  Noroeste  Casa de Campo   2.4\n",
       "1 2023-04-02  Velocidad del viento  Noroeste  Casa de Campo   1.2\n",
       "2 2023-04-03  Velocidad del viento  Noroeste  Casa de Campo   1.0\n",
       "3 2023-04-04  Velocidad del viento  Noroeste  Casa de Campo   2.0\n",
       "4 2023-04-05  Velocidad del viento  Noroeste  Casa de Campo   1.2"
      ]
     },
     "execution_count": 341,
     "metadata": {},
     "output_type": "execute_result"
    }
   ],
   "source": [
    "df_velc_v_abr['Valor'] = df_velc_v_abr['Valor'].str.replace(',', '.') #Reemplazar comas por puntos\n",
    "df_velc_v_abr['Valor'] = df_velc_v_abr['Valor'].str.replace(r'[^\\d\\.]', '', regex=True) #Eliminar caracteres no numéricos, exepto el punto \n",
    "df_velc_v_abr.head()"
   ]
  },
  {
   "cell_type": "code",
   "execution_count": 342,
   "metadata": {},
   "outputs": [],
   "source": [
    "df_velc_v_abr['Valor'] = pd.to_numeric(df_velc_v_abr['Valor'], errors='coerce')"
   ]
  },
  {
   "cell_type": "code",
   "execution_count": 343,
   "metadata": {},
   "outputs": [
    {
     "name": "stdout",
     "output_type": "stream",
     "text": [
      "<class 'pandas.core.frame.DataFrame'>\n",
      "RangeIndex: 30 entries, 0 to 29\n",
      "Data columns (total 5 columns):\n",
      " #   Column    Non-Null Count  Dtype         \n",
      "---  ------    --------------  -----         \n",
      " 0   Fecha     30 non-null     datetime64[ns]\n",
      " 1   Magnitud  30 non-null     object        \n",
      " 2   Zona      30 non-null     object        \n",
      " 3   Estación  30 non-null     object        \n",
      " 4   Valor     30 non-null     float64       \n",
      "dtypes: datetime64[ns](1), float64(1), object(3)\n",
      "memory usage: 1.3+ KB\n"
     ]
    }
   ],
   "source": [
    "df_velc_v_abr.info()"
   ]
  },
  {
   "cell_type": "code",
   "execution_count": 344,
   "metadata": {},
   "outputs": [
    {
     "data": {
      "text/html": [
       "<div>\n",
       "<style scoped>\n",
       "    .dataframe tbody tr th:only-of-type {\n",
       "        vertical-align: middle;\n",
       "    }\n",
       "\n",
       "    .dataframe tbody tr th {\n",
       "        vertical-align: top;\n",
       "    }\n",
       "\n",
       "    .dataframe thead th {\n",
       "        text-align: right;\n",
       "    }\n",
       "</style>\n",
       "<table border=\"1\" class=\"dataframe\">\n",
       "  <thead>\n",
       "    <tr style=\"text-align: right;\">\n",
       "      <th></th>\n",
       "      <th>Fecha</th>\n",
       "      <th>Magnitud</th>\n",
       "      <th>Zona</th>\n",
       "      <th>Estación</th>\n",
       "      <th>Valor</th>\n",
       "    </tr>\n",
       "  </thead>\n",
       "  <tbody>\n",
       "    <tr>\n",
       "      <th>0</th>\n",
       "      <td>2023-05-01</td>\n",
       "      <td>Velocidad del viento</td>\n",
       "      <td>Noroeste</td>\n",
       "      <td>Casa de Campo</td>\n",
       "      <td>1,1</td>\n",
       "    </tr>\n",
       "    <tr>\n",
       "      <th>1</th>\n",
       "      <td>2023-05-02</td>\n",
       "      <td>Velocidad del viento</td>\n",
       "      <td>Noroeste</td>\n",
       "      <td>Casa de Campo</td>\n",
       "      <td>1,0</td>\n",
       "    </tr>\n",
       "    <tr>\n",
       "      <th>2</th>\n",
       "      <td>2023-05-03</td>\n",
       "      <td>Velocidad del viento</td>\n",
       "      <td>Noroeste</td>\n",
       "      <td>Casa de Campo</td>\n",
       "      <td>1,6</td>\n",
       "    </tr>\n",
       "    <tr>\n",
       "      <th>3</th>\n",
       "      <td>2023-05-04</td>\n",
       "      <td>Velocidad del viento</td>\n",
       "      <td>Noroeste</td>\n",
       "      <td>Casa de Campo</td>\n",
       "      <td>3,1</td>\n",
       "    </tr>\n",
       "    <tr>\n",
       "      <th>4</th>\n",
       "      <td>2023-05-05</td>\n",
       "      <td>Velocidad del viento</td>\n",
       "      <td>Noroeste</td>\n",
       "      <td>Casa de Campo</td>\n",
       "      <td>1,6</td>\n",
       "    </tr>\n",
       "  </tbody>\n",
       "</table>\n",
       "</div>"
      ],
      "text/plain": [
       "        Fecha              Magnitud      Zona       Estación Valor\n",
       "0  2023-05-01  Velocidad del viento  Noroeste  Casa de Campo   1,1\n",
       "1  2023-05-02  Velocidad del viento  Noroeste  Casa de Campo   1,0\n",
       "2  2023-05-03  Velocidad del viento  Noroeste  Casa de Campo   1,6\n",
       "3  2023-05-04  Velocidad del viento  Noroeste  Casa de Campo   3,1\n",
       "4  2023-05-05  Velocidad del viento  Noroeste  Casa de Campo   1,6"
      ]
     },
     "execution_count": 344,
     "metadata": {},
     "output_type": "execute_result"
    }
   ],
   "source": [
    "df_velc_v_may = pd.read_csv('C:/Users/rfg2m/Documents/DATA_SCIENCE/Entregas/Proyectos/MACHINE LEARNING/Data/raw/Data_23/velocidad_viento_may_23.csv', sep=';', encoding='utf-8')\n",
    "df_velc_v_may.head()"
   ]
  },
  {
   "cell_type": "code",
   "execution_count": 345,
   "metadata": {},
   "outputs": [
    {
     "name": "stdout",
     "output_type": "stream",
     "text": [
      "<class 'pandas.core.frame.DataFrame'>\n",
      "RangeIndex: 31 entries, 0 to 30\n",
      "Data columns (total 5 columns):\n",
      " #   Column    Non-Null Count  Dtype \n",
      "---  ------    --------------  ----- \n",
      " 0   Fecha     31 non-null     object\n",
      " 1   Magnitud  31 non-null     object\n",
      " 2   Zona      31 non-null     object\n",
      " 3   Estación  31 non-null     object\n",
      " 4   Valor     31 non-null     object\n",
      "dtypes: object(5)\n",
      "memory usage: 1.3+ KB\n"
     ]
    }
   ],
   "source": [
    "df_velc_v_may.info()"
   ]
  },
  {
   "cell_type": "code",
   "execution_count": 346,
   "metadata": {},
   "outputs": [
    {
     "name": "stdout",
     "output_type": "stream",
     "text": [
      "<class 'pandas.core.frame.DataFrame'>\n",
      "RangeIndex: 31 entries, 0 to 30\n",
      "Data columns (total 5 columns):\n",
      " #   Column    Non-Null Count  Dtype         \n",
      "---  ------    --------------  -----         \n",
      " 0   Fecha     31 non-null     datetime64[ns]\n",
      " 1   Magnitud  31 non-null     object        \n",
      " 2   Zona      31 non-null     object        \n",
      " 3   Estación  31 non-null     object        \n",
      " 4   Valor     31 non-null     object        \n",
      "dtypes: datetime64[ns](1), object(4)\n",
      "memory usage: 1.3+ KB\n"
     ]
    }
   ],
   "source": [
    "df_velc_v_may[\"Fecha\"] = pd.to_datetime(df_velc_v_may[\"Fecha\"])\n",
    "df_velc_v_may.info()"
   ]
  },
  {
   "cell_type": "code",
   "execution_count": 347,
   "metadata": {},
   "outputs": [
    {
     "data": {
      "text/html": [
       "<div>\n",
       "<style scoped>\n",
       "    .dataframe tbody tr th:only-of-type {\n",
       "        vertical-align: middle;\n",
       "    }\n",
       "\n",
       "    .dataframe tbody tr th {\n",
       "        vertical-align: top;\n",
       "    }\n",
       "\n",
       "    .dataframe thead th {\n",
       "        text-align: right;\n",
       "    }\n",
       "</style>\n",
       "<table border=\"1\" class=\"dataframe\">\n",
       "  <thead>\n",
       "    <tr style=\"text-align: right;\">\n",
       "      <th></th>\n",
       "      <th>Fecha</th>\n",
       "      <th>Magnitud</th>\n",
       "      <th>Zona</th>\n",
       "      <th>Estación</th>\n",
       "      <th>Valor</th>\n",
       "    </tr>\n",
       "  </thead>\n",
       "  <tbody>\n",
       "    <tr>\n",
       "      <th>0</th>\n",
       "      <td>2023-05-01</td>\n",
       "      <td>Velocidad del viento</td>\n",
       "      <td>Noroeste</td>\n",
       "      <td>Casa de Campo</td>\n",
       "      <td>1.1</td>\n",
       "    </tr>\n",
       "    <tr>\n",
       "      <th>1</th>\n",
       "      <td>2023-05-02</td>\n",
       "      <td>Velocidad del viento</td>\n",
       "      <td>Noroeste</td>\n",
       "      <td>Casa de Campo</td>\n",
       "      <td>1.0</td>\n",
       "    </tr>\n",
       "    <tr>\n",
       "      <th>2</th>\n",
       "      <td>2023-05-03</td>\n",
       "      <td>Velocidad del viento</td>\n",
       "      <td>Noroeste</td>\n",
       "      <td>Casa de Campo</td>\n",
       "      <td>1.6</td>\n",
       "    </tr>\n",
       "    <tr>\n",
       "      <th>3</th>\n",
       "      <td>2023-05-04</td>\n",
       "      <td>Velocidad del viento</td>\n",
       "      <td>Noroeste</td>\n",
       "      <td>Casa de Campo</td>\n",
       "      <td>3.1</td>\n",
       "    </tr>\n",
       "    <tr>\n",
       "      <th>4</th>\n",
       "      <td>2023-05-05</td>\n",
       "      <td>Velocidad del viento</td>\n",
       "      <td>Noroeste</td>\n",
       "      <td>Casa de Campo</td>\n",
       "      <td>1.6</td>\n",
       "    </tr>\n",
       "  </tbody>\n",
       "</table>\n",
       "</div>"
      ],
      "text/plain": [
       "       Fecha              Magnitud      Zona       Estación Valor\n",
       "0 2023-05-01  Velocidad del viento  Noroeste  Casa de Campo   1.1\n",
       "1 2023-05-02  Velocidad del viento  Noroeste  Casa de Campo   1.0\n",
       "2 2023-05-03  Velocidad del viento  Noroeste  Casa de Campo   1.6\n",
       "3 2023-05-04  Velocidad del viento  Noroeste  Casa de Campo   3.1\n",
       "4 2023-05-05  Velocidad del viento  Noroeste  Casa de Campo   1.6"
      ]
     },
     "execution_count": 347,
     "metadata": {},
     "output_type": "execute_result"
    }
   ],
   "source": [
    "df_velc_v_may['Valor'] = df_velc_v_may['Valor'].str.replace(',', '.') #Reemplazar comas por puntos\n",
    "df_velc_v_may['Valor'] = df_velc_v_may['Valor'].str.replace(r'[^\\d\\.]', '', regex=True) #Eliminar caracteres no numéricos, exepto el punto \n",
    "df_velc_v_may.head()"
   ]
  },
  {
   "cell_type": "code",
   "execution_count": 348,
   "metadata": {},
   "outputs": [],
   "source": [
    "df_velc_v_may['Valor'] = pd.to_numeric(df_velc_v_may['Valor'], errors='coerce')"
   ]
  },
  {
   "cell_type": "code",
   "execution_count": 349,
   "metadata": {},
   "outputs": [
    {
     "name": "stdout",
     "output_type": "stream",
     "text": [
      "<class 'pandas.core.frame.DataFrame'>\n",
      "RangeIndex: 31 entries, 0 to 30\n",
      "Data columns (total 5 columns):\n",
      " #   Column    Non-Null Count  Dtype         \n",
      "---  ------    --------------  -----         \n",
      " 0   Fecha     31 non-null     datetime64[ns]\n",
      " 1   Magnitud  31 non-null     object        \n",
      " 2   Zona      31 non-null     object        \n",
      " 3   Estación  31 non-null     object        \n",
      " 4   Valor     31 non-null     float64       \n",
      "dtypes: datetime64[ns](1), float64(1), object(3)\n",
      "memory usage: 1.3+ KB\n"
     ]
    }
   ],
   "source": [
    "df_velc_v_may.info()"
   ]
  },
  {
   "cell_type": "code",
   "execution_count": 350,
   "metadata": {},
   "outputs": [
    {
     "data": {
      "text/html": [
       "<div>\n",
       "<style scoped>\n",
       "    .dataframe tbody tr th:only-of-type {\n",
       "        vertical-align: middle;\n",
       "    }\n",
       "\n",
       "    .dataframe tbody tr th {\n",
       "        vertical-align: top;\n",
       "    }\n",
       "\n",
       "    .dataframe thead th {\n",
       "        text-align: right;\n",
       "    }\n",
       "</style>\n",
       "<table border=\"1\" class=\"dataframe\">\n",
       "  <thead>\n",
       "    <tr style=\"text-align: right;\">\n",
       "      <th></th>\n",
       "      <th>Fecha</th>\n",
       "      <th>Magnitud</th>\n",
       "      <th>Zona</th>\n",
       "      <th>Estación</th>\n",
       "      <th>Valor</th>\n",
       "    </tr>\n",
       "  </thead>\n",
       "  <tbody>\n",
       "    <tr>\n",
       "      <th>0</th>\n",
       "      <td>2023-06-01</td>\n",
       "      <td>Velocidad del viento</td>\n",
       "      <td>Noroeste</td>\n",
       "      <td>Casa de Campo</td>\n",
       "      <td>1,2</td>\n",
       "    </tr>\n",
       "    <tr>\n",
       "      <th>1</th>\n",
       "      <td>2023-06-02</td>\n",
       "      <td>Velocidad del viento</td>\n",
       "      <td>Noroeste</td>\n",
       "      <td>Casa de Campo</td>\n",
       "      <td>1,2</td>\n",
       "    </tr>\n",
       "    <tr>\n",
       "      <th>2</th>\n",
       "      <td>2023-06-03</td>\n",
       "      <td>Velocidad del viento</td>\n",
       "      <td>Noroeste</td>\n",
       "      <td>Casa de Campo</td>\n",
       "      <td>1,3</td>\n",
       "    </tr>\n",
       "    <tr>\n",
       "      <th>3</th>\n",
       "      <td>2023-06-04</td>\n",
       "      <td>Velocidad del viento</td>\n",
       "      <td>Noroeste</td>\n",
       "      <td>Casa de Campo</td>\n",
       "      <td>1,1</td>\n",
       "    </tr>\n",
       "    <tr>\n",
       "      <th>4</th>\n",
       "      <td>2023-06-05</td>\n",
       "      <td>Velocidad del viento</td>\n",
       "      <td>Noroeste</td>\n",
       "      <td>Casa de Campo</td>\n",
       "      <td>1,4</td>\n",
       "    </tr>\n",
       "  </tbody>\n",
       "</table>\n",
       "</div>"
      ],
      "text/plain": [
       "        Fecha              Magnitud      Zona       Estación Valor\n",
       "0  2023-06-01  Velocidad del viento  Noroeste  Casa de Campo   1,2\n",
       "1  2023-06-02  Velocidad del viento  Noroeste  Casa de Campo   1,2\n",
       "2  2023-06-03  Velocidad del viento  Noroeste  Casa de Campo   1,3\n",
       "3  2023-06-04  Velocidad del viento  Noroeste  Casa de Campo   1,1\n",
       "4  2023-06-05  Velocidad del viento  Noroeste  Casa de Campo   1,4"
      ]
     },
     "execution_count": 350,
     "metadata": {},
     "output_type": "execute_result"
    }
   ],
   "source": [
    "df_velc_v_jun = pd.read_csv('C:/Users/rfg2m/Documents/DATA_SCIENCE/Entregas/Proyectos/MACHINE LEARNING/Data/raw/Data_23/velocidad_viento_jun_23.csv', sep=';', encoding='utf-8')\n",
    "df_velc_v_jun.head()"
   ]
  },
  {
   "cell_type": "code",
   "execution_count": 351,
   "metadata": {},
   "outputs": [
    {
     "name": "stdout",
     "output_type": "stream",
     "text": [
      "<class 'pandas.core.frame.DataFrame'>\n",
      "RangeIndex: 30 entries, 0 to 29\n",
      "Data columns (total 5 columns):\n",
      " #   Column    Non-Null Count  Dtype \n",
      "---  ------    --------------  ----- \n",
      " 0   Fecha     30 non-null     object\n",
      " 1   Magnitud  30 non-null     object\n",
      " 2   Zona      30 non-null     object\n",
      " 3   Estación  30 non-null     object\n",
      " 4   Valor     30 non-null     object\n",
      "dtypes: object(5)\n",
      "memory usage: 1.3+ KB\n"
     ]
    }
   ],
   "source": [
    "df_velc_v_jun.info()"
   ]
  },
  {
   "cell_type": "code",
   "execution_count": 352,
   "metadata": {},
   "outputs": [
    {
     "name": "stdout",
     "output_type": "stream",
     "text": [
      "<class 'pandas.core.frame.DataFrame'>\n",
      "RangeIndex: 30 entries, 0 to 29\n",
      "Data columns (total 5 columns):\n",
      " #   Column    Non-Null Count  Dtype         \n",
      "---  ------    --------------  -----         \n",
      " 0   Fecha     30 non-null     datetime64[ns]\n",
      " 1   Magnitud  30 non-null     object        \n",
      " 2   Zona      30 non-null     object        \n",
      " 3   Estación  30 non-null     object        \n",
      " 4   Valor     30 non-null     object        \n",
      "dtypes: datetime64[ns](1), object(4)\n",
      "memory usage: 1.3+ KB\n"
     ]
    }
   ],
   "source": [
    "df_velc_v_jun[\"Fecha\"] = pd.to_datetime(df_velc_v_jun[\"Fecha\"])\n",
    "df_velc_v_jun.info()"
   ]
  },
  {
   "cell_type": "code",
   "execution_count": 353,
   "metadata": {},
   "outputs": [
    {
     "data": {
      "text/html": [
       "<div>\n",
       "<style scoped>\n",
       "    .dataframe tbody tr th:only-of-type {\n",
       "        vertical-align: middle;\n",
       "    }\n",
       "\n",
       "    .dataframe tbody tr th {\n",
       "        vertical-align: top;\n",
       "    }\n",
       "\n",
       "    .dataframe thead th {\n",
       "        text-align: right;\n",
       "    }\n",
       "</style>\n",
       "<table border=\"1\" class=\"dataframe\">\n",
       "  <thead>\n",
       "    <tr style=\"text-align: right;\">\n",
       "      <th></th>\n",
       "      <th>Fecha</th>\n",
       "      <th>Magnitud</th>\n",
       "      <th>Zona</th>\n",
       "      <th>Estación</th>\n",
       "      <th>Valor</th>\n",
       "    </tr>\n",
       "  </thead>\n",
       "  <tbody>\n",
       "    <tr>\n",
       "      <th>0</th>\n",
       "      <td>2023-06-01</td>\n",
       "      <td>Velocidad del viento</td>\n",
       "      <td>Noroeste</td>\n",
       "      <td>Casa de Campo</td>\n",
       "      <td>1.2</td>\n",
       "    </tr>\n",
       "    <tr>\n",
       "      <th>1</th>\n",
       "      <td>2023-06-02</td>\n",
       "      <td>Velocidad del viento</td>\n",
       "      <td>Noroeste</td>\n",
       "      <td>Casa de Campo</td>\n",
       "      <td>1.2</td>\n",
       "    </tr>\n",
       "    <tr>\n",
       "      <th>2</th>\n",
       "      <td>2023-06-03</td>\n",
       "      <td>Velocidad del viento</td>\n",
       "      <td>Noroeste</td>\n",
       "      <td>Casa de Campo</td>\n",
       "      <td>1.3</td>\n",
       "    </tr>\n",
       "    <tr>\n",
       "      <th>3</th>\n",
       "      <td>2023-06-04</td>\n",
       "      <td>Velocidad del viento</td>\n",
       "      <td>Noroeste</td>\n",
       "      <td>Casa de Campo</td>\n",
       "      <td>1.1</td>\n",
       "    </tr>\n",
       "    <tr>\n",
       "      <th>4</th>\n",
       "      <td>2023-06-05</td>\n",
       "      <td>Velocidad del viento</td>\n",
       "      <td>Noroeste</td>\n",
       "      <td>Casa de Campo</td>\n",
       "      <td>1.4</td>\n",
       "    </tr>\n",
       "  </tbody>\n",
       "</table>\n",
       "</div>"
      ],
      "text/plain": [
       "       Fecha              Magnitud      Zona       Estación Valor\n",
       "0 2023-06-01  Velocidad del viento  Noroeste  Casa de Campo   1.2\n",
       "1 2023-06-02  Velocidad del viento  Noroeste  Casa de Campo   1.2\n",
       "2 2023-06-03  Velocidad del viento  Noroeste  Casa de Campo   1.3\n",
       "3 2023-06-04  Velocidad del viento  Noroeste  Casa de Campo   1.1\n",
       "4 2023-06-05  Velocidad del viento  Noroeste  Casa de Campo   1.4"
      ]
     },
     "execution_count": 353,
     "metadata": {},
     "output_type": "execute_result"
    }
   ],
   "source": [
    "df_velc_v_jun['Valor'] = df_velc_v_jun['Valor'].str.replace(',', '.') #Reemplazar comas por puntos\n",
    "df_velc_v_jun['Valor'] = df_velc_v_jun['Valor'].str.replace(r'[^\\d\\.]', '', regex=True) #Eliminar caracteres no numéricos, exepto el punto \n",
    "df_velc_v_jun.head()"
   ]
  },
  {
   "cell_type": "code",
   "execution_count": 354,
   "metadata": {},
   "outputs": [],
   "source": [
    "df_velc_v_jun['Valor'] = pd.to_numeric(df_velc_v_jun['Valor'], errors='coerce')"
   ]
  },
  {
   "cell_type": "code",
   "execution_count": 355,
   "metadata": {},
   "outputs": [
    {
     "name": "stdout",
     "output_type": "stream",
     "text": [
      "<class 'pandas.core.frame.DataFrame'>\n",
      "RangeIndex: 30 entries, 0 to 29\n",
      "Data columns (total 5 columns):\n",
      " #   Column    Non-Null Count  Dtype         \n",
      "---  ------    --------------  -----         \n",
      " 0   Fecha     30 non-null     datetime64[ns]\n",
      " 1   Magnitud  30 non-null     object        \n",
      " 2   Zona      30 non-null     object        \n",
      " 3   Estación  30 non-null     object        \n",
      " 4   Valor     30 non-null     float64       \n",
      "dtypes: datetime64[ns](1), float64(1), object(3)\n",
      "memory usage: 1.3+ KB\n"
     ]
    }
   ],
   "source": [
    "df_velc_v_jun.info()"
   ]
  },
  {
   "cell_type": "code",
   "execution_count": 356,
   "metadata": {},
   "outputs": [
    {
     "data": {
      "text/html": [
       "<div>\n",
       "<style scoped>\n",
       "    .dataframe tbody tr th:only-of-type {\n",
       "        vertical-align: middle;\n",
       "    }\n",
       "\n",
       "    .dataframe tbody tr th {\n",
       "        vertical-align: top;\n",
       "    }\n",
       "\n",
       "    .dataframe thead th {\n",
       "        text-align: right;\n",
       "    }\n",
       "</style>\n",
       "<table border=\"1\" class=\"dataframe\">\n",
       "  <thead>\n",
       "    <tr style=\"text-align: right;\">\n",
       "      <th></th>\n",
       "      <th>Fecha</th>\n",
       "      <th>Magnitud</th>\n",
       "      <th>Zona</th>\n",
       "      <th>Estación</th>\n",
       "      <th>Valor</th>\n",
       "    </tr>\n",
       "  </thead>\n",
       "  <tbody>\n",
       "    <tr>\n",
       "      <th>0</th>\n",
       "      <td>2023-07-01</td>\n",
       "      <td>Velocidad del viento</td>\n",
       "      <td>Noroeste</td>\n",
       "      <td>Casa de Campo</td>\n",
       "      <td>1,4</td>\n",
       "    </tr>\n",
       "    <tr>\n",
       "      <th>1</th>\n",
       "      <td>2023-07-02</td>\n",
       "      <td>Velocidad del viento</td>\n",
       "      <td>Noroeste</td>\n",
       "      <td>Casa de Campo</td>\n",
       "      <td>1,4</td>\n",
       "    </tr>\n",
       "    <tr>\n",
       "      <th>2</th>\n",
       "      <td>2023-07-03</td>\n",
       "      <td>Velocidad del viento</td>\n",
       "      <td>Noroeste</td>\n",
       "      <td>Casa de Campo</td>\n",
       "      <td>2,0</td>\n",
       "    </tr>\n",
       "    <tr>\n",
       "      <th>3</th>\n",
       "      <td>2023-07-04</td>\n",
       "      <td>Velocidad del viento</td>\n",
       "      <td>Noroeste</td>\n",
       "      <td>Casa de Campo</td>\n",
       "      <td>1,5</td>\n",
       "    </tr>\n",
       "    <tr>\n",
       "      <th>4</th>\n",
       "      <td>2023-07-05</td>\n",
       "      <td>Velocidad del viento</td>\n",
       "      <td>Noroeste</td>\n",
       "      <td>Casa de Campo</td>\n",
       "      <td>1,4</td>\n",
       "    </tr>\n",
       "  </tbody>\n",
       "</table>\n",
       "</div>"
      ],
      "text/plain": [
       "        Fecha              Magnitud      Zona       Estación Valor\n",
       "0  2023-07-01  Velocidad del viento  Noroeste  Casa de Campo   1,4\n",
       "1  2023-07-02  Velocidad del viento  Noroeste  Casa de Campo   1,4\n",
       "2  2023-07-03  Velocidad del viento  Noroeste  Casa de Campo   2,0\n",
       "3  2023-07-04  Velocidad del viento  Noroeste  Casa de Campo   1,5\n",
       "4  2023-07-05  Velocidad del viento  Noroeste  Casa de Campo   1,4"
      ]
     },
     "execution_count": 356,
     "metadata": {},
     "output_type": "execute_result"
    }
   ],
   "source": [
    "df_velc_v_jul = pd.read_csv('C:/Users/rfg2m/Documents/DATA_SCIENCE/Entregas/Proyectos/MACHINE LEARNING/Data/raw/Data_23/velocidad_viento_jul_23.csv', sep=';', encoding='utf-8')\n",
    "df_velc_v_jul.head()"
   ]
  },
  {
   "cell_type": "code",
   "execution_count": 357,
   "metadata": {},
   "outputs": [
    {
     "name": "stdout",
     "output_type": "stream",
     "text": [
      "<class 'pandas.core.frame.DataFrame'>\n",
      "RangeIndex: 31 entries, 0 to 30\n",
      "Data columns (total 5 columns):\n",
      " #   Column    Non-Null Count  Dtype \n",
      "---  ------    --------------  ----- \n",
      " 0   Fecha     31 non-null     object\n",
      " 1   Magnitud  31 non-null     object\n",
      " 2   Zona      31 non-null     object\n",
      " 3   Estación  31 non-null     object\n",
      " 4   Valor     31 non-null     object\n",
      "dtypes: object(5)\n",
      "memory usage: 1.3+ KB\n"
     ]
    }
   ],
   "source": [
    "df_velc_v_jul.info()"
   ]
  },
  {
   "cell_type": "code",
   "execution_count": 358,
   "metadata": {},
   "outputs": [
    {
     "name": "stdout",
     "output_type": "stream",
     "text": [
      "<class 'pandas.core.frame.DataFrame'>\n",
      "RangeIndex: 31 entries, 0 to 30\n",
      "Data columns (total 5 columns):\n",
      " #   Column    Non-Null Count  Dtype         \n",
      "---  ------    --------------  -----         \n",
      " 0   Fecha     31 non-null     datetime64[ns]\n",
      " 1   Magnitud  31 non-null     object        \n",
      " 2   Zona      31 non-null     object        \n",
      " 3   Estación  31 non-null     object        \n",
      " 4   Valor     31 non-null     object        \n",
      "dtypes: datetime64[ns](1), object(4)\n",
      "memory usage: 1.3+ KB\n"
     ]
    }
   ],
   "source": [
    "df_velc_v_jul[\"Fecha\"] = pd.to_datetime(df_velc_v_jul[\"Fecha\"])\n",
    "df_velc_v_jul.info()"
   ]
  },
  {
   "cell_type": "code",
   "execution_count": 359,
   "metadata": {},
   "outputs": [
    {
     "data": {
      "text/html": [
       "<div>\n",
       "<style scoped>\n",
       "    .dataframe tbody tr th:only-of-type {\n",
       "        vertical-align: middle;\n",
       "    }\n",
       "\n",
       "    .dataframe tbody tr th {\n",
       "        vertical-align: top;\n",
       "    }\n",
       "\n",
       "    .dataframe thead th {\n",
       "        text-align: right;\n",
       "    }\n",
       "</style>\n",
       "<table border=\"1\" class=\"dataframe\">\n",
       "  <thead>\n",
       "    <tr style=\"text-align: right;\">\n",
       "      <th></th>\n",
       "      <th>Fecha</th>\n",
       "      <th>Magnitud</th>\n",
       "      <th>Zona</th>\n",
       "      <th>Estación</th>\n",
       "      <th>Valor</th>\n",
       "    </tr>\n",
       "  </thead>\n",
       "  <tbody>\n",
       "    <tr>\n",
       "      <th>0</th>\n",
       "      <td>2023-07-01</td>\n",
       "      <td>Velocidad del viento</td>\n",
       "      <td>Noroeste</td>\n",
       "      <td>Casa de Campo</td>\n",
       "      <td>1.4</td>\n",
       "    </tr>\n",
       "    <tr>\n",
       "      <th>1</th>\n",
       "      <td>2023-07-02</td>\n",
       "      <td>Velocidad del viento</td>\n",
       "      <td>Noroeste</td>\n",
       "      <td>Casa de Campo</td>\n",
       "      <td>1.4</td>\n",
       "    </tr>\n",
       "    <tr>\n",
       "      <th>2</th>\n",
       "      <td>2023-07-03</td>\n",
       "      <td>Velocidad del viento</td>\n",
       "      <td>Noroeste</td>\n",
       "      <td>Casa de Campo</td>\n",
       "      <td>2.0</td>\n",
       "    </tr>\n",
       "    <tr>\n",
       "      <th>3</th>\n",
       "      <td>2023-07-04</td>\n",
       "      <td>Velocidad del viento</td>\n",
       "      <td>Noroeste</td>\n",
       "      <td>Casa de Campo</td>\n",
       "      <td>1.5</td>\n",
       "    </tr>\n",
       "    <tr>\n",
       "      <th>4</th>\n",
       "      <td>2023-07-05</td>\n",
       "      <td>Velocidad del viento</td>\n",
       "      <td>Noroeste</td>\n",
       "      <td>Casa de Campo</td>\n",
       "      <td>1.4</td>\n",
       "    </tr>\n",
       "  </tbody>\n",
       "</table>\n",
       "</div>"
      ],
      "text/plain": [
       "       Fecha              Magnitud      Zona       Estación Valor\n",
       "0 2023-07-01  Velocidad del viento  Noroeste  Casa de Campo   1.4\n",
       "1 2023-07-02  Velocidad del viento  Noroeste  Casa de Campo   1.4\n",
       "2 2023-07-03  Velocidad del viento  Noroeste  Casa de Campo   2.0\n",
       "3 2023-07-04  Velocidad del viento  Noroeste  Casa de Campo   1.5\n",
       "4 2023-07-05  Velocidad del viento  Noroeste  Casa de Campo   1.4"
      ]
     },
     "execution_count": 359,
     "metadata": {},
     "output_type": "execute_result"
    }
   ],
   "source": [
    "df_velc_v_jul['Valor'] = df_velc_v_jul['Valor'].str.replace(',', '.') #Reemplazar comas por puntos\n",
    "df_velc_v_jul['Valor'] = df_velc_v_jul['Valor'].str.replace(r'[^\\d\\.]', '', regex=True) #Eliminar caracteres no numéricos, exepto el punto \n",
    "df_velc_v_jul.head()"
   ]
  },
  {
   "cell_type": "code",
   "execution_count": 360,
   "metadata": {},
   "outputs": [],
   "source": [
    "df_velc_v_jul['Valor'] = pd.to_numeric(df_velc_v_jul['Valor'], errors='coerce')"
   ]
  },
  {
   "cell_type": "code",
   "execution_count": 361,
   "metadata": {},
   "outputs": [
    {
     "name": "stdout",
     "output_type": "stream",
     "text": [
      "<class 'pandas.core.frame.DataFrame'>\n",
      "RangeIndex: 31 entries, 0 to 30\n",
      "Data columns (total 5 columns):\n",
      " #   Column    Non-Null Count  Dtype         \n",
      "---  ------    --------------  -----         \n",
      " 0   Fecha     31 non-null     datetime64[ns]\n",
      " 1   Magnitud  31 non-null     object        \n",
      " 2   Zona      31 non-null     object        \n",
      " 3   Estación  31 non-null     object        \n",
      " 4   Valor     31 non-null     float64       \n",
      "dtypes: datetime64[ns](1), float64(1), object(3)\n",
      "memory usage: 1.3+ KB\n"
     ]
    }
   ],
   "source": [
    "df_velc_v_jul.info()"
   ]
  },
  {
   "cell_type": "code",
   "execution_count": 362,
   "metadata": {},
   "outputs": [
    {
     "data": {
      "text/html": [
       "<div>\n",
       "<style scoped>\n",
       "    .dataframe tbody tr th:only-of-type {\n",
       "        vertical-align: middle;\n",
       "    }\n",
       "\n",
       "    .dataframe tbody tr th {\n",
       "        vertical-align: top;\n",
       "    }\n",
       "\n",
       "    .dataframe thead th {\n",
       "        text-align: right;\n",
       "    }\n",
       "</style>\n",
       "<table border=\"1\" class=\"dataframe\">\n",
       "  <thead>\n",
       "    <tr style=\"text-align: right;\">\n",
       "      <th></th>\n",
       "      <th>Fecha</th>\n",
       "      <th>Magnitud</th>\n",
       "      <th>Zona</th>\n",
       "      <th>Estación</th>\n",
       "      <th>Valor</th>\n",
       "    </tr>\n",
       "  </thead>\n",
       "  <tbody>\n",
       "    <tr>\n",
       "      <th>0</th>\n",
       "      <td>2023-08-01</td>\n",
       "      <td>Velocidad del viento</td>\n",
       "      <td>Noroeste</td>\n",
       "      <td>Casa de Campo</td>\n",
       "      <td>1,6</td>\n",
       "    </tr>\n",
       "    <tr>\n",
       "      <th>1</th>\n",
       "      <td>2023-08-02</td>\n",
       "      <td>Velocidad del viento</td>\n",
       "      <td>Noroeste</td>\n",
       "      <td>Casa de Campo</td>\n",
       "      <td>1,9</td>\n",
       "    </tr>\n",
       "    <tr>\n",
       "      <th>2</th>\n",
       "      <td>2023-08-03</td>\n",
       "      <td>Velocidad del viento</td>\n",
       "      <td>Noroeste</td>\n",
       "      <td>Casa de Campo</td>\n",
       "      <td>1,8</td>\n",
       "    </tr>\n",
       "    <tr>\n",
       "      <th>3</th>\n",
       "      <td>2023-08-04</td>\n",
       "      <td>Velocidad del viento</td>\n",
       "      <td>Noroeste</td>\n",
       "      <td>Casa de Campo</td>\n",
       "      <td>1,9</td>\n",
       "    </tr>\n",
       "    <tr>\n",
       "      <th>4</th>\n",
       "      <td>2023-08-05</td>\n",
       "      <td>Velocidad del viento</td>\n",
       "      <td>Noroeste</td>\n",
       "      <td>Casa de Campo</td>\n",
       "      <td>1,5</td>\n",
       "    </tr>\n",
       "  </tbody>\n",
       "</table>\n",
       "</div>"
      ],
      "text/plain": [
       "        Fecha              Magnitud      Zona       Estación Valor\n",
       "0  2023-08-01  Velocidad del viento  Noroeste  Casa de Campo   1,6\n",
       "1  2023-08-02  Velocidad del viento  Noroeste  Casa de Campo   1,9\n",
       "2  2023-08-03  Velocidad del viento  Noroeste  Casa de Campo   1,8\n",
       "3  2023-08-04  Velocidad del viento  Noroeste  Casa de Campo   1,9\n",
       "4  2023-08-05  Velocidad del viento  Noroeste  Casa de Campo   1,5"
      ]
     },
     "execution_count": 362,
     "metadata": {},
     "output_type": "execute_result"
    }
   ],
   "source": [
    "df_velc_v_ago = pd.read_csv('C:/Users/rfg2m/Documents/DATA_SCIENCE/Entregas/Proyectos/MACHINE LEARNING/Data/raw/Data_23/velocidad_viento_ago_23.csv', sep=';', encoding='utf-8')\n",
    "df_velc_v_ago.head()"
   ]
  },
  {
   "cell_type": "code",
   "execution_count": 363,
   "metadata": {},
   "outputs": [
    {
     "name": "stdout",
     "output_type": "stream",
     "text": [
      "<class 'pandas.core.frame.DataFrame'>\n",
      "RangeIndex: 31 entries, 0 to 30\n",
      "Data columns (total 5 columns):\n",
      " #   Column    Non-Null Count  Dtype \n",
      "---  ------    --------------  ----- \n",
      " 0   Fecha     31 non-null     object\n",
      " 1   Magnitud  31 non-null     object\n",
      " 2   Zona      31 non-null     object\n",
      " 3   Estación  31 non-null     object\n",
      " 4   Valor     31 non-null     object\n",
      "dtypes: object(5)\n",
      "memory usage: 1.3+ KB\n"
     ]
    }
   ],
   "source": [
    "df_velc_v_ago.info()"
   ]
  },
  {
   "cell_type": "code",
   "execution_count": 364,
   "metadata": {},
   "outputs": [
    {
     "name": "stdout",
     "output_type": "stream",
     "text": [
      "<class 'pandas.core.frame.DataFrame'>\n",
      "RangeIndex: 31 entries, 0 to 30\n",
      "Data columns (total 5 columns):\n",
      " #   Column    Non-Null Count  Dtype         \n",
      "---  ------    --------------  -----         \n",
      " 0   Fecha     31 non-null     datetime64[ns]\n",
      " 1   Magnitud  31 non-null     object        \n",
      " 2   Zona      31 non-null     object        \n",
      " 3   Estación  31 non-null     object        \n",
      " 4   Valor     31 non-null     object        \n",
      "dtypes: datetime64[ns](1), object(4)\n",
      "memory usage: 1.3+ KB\n"
     ]
    }
   ],
   "source": [
    "df_velc_v_ago[\"Fecha\"] = pd.to_datetime(df_velc_v_ago[\"Fecha\"])\n",
    "df_velc_v_ago.info()"
   ]
  },
  {
   "cell_type": "code",
   "execution_count": 365,
   "metadata": {},
   "outputs": [
    {
     "data": {
      "text/html": [
       "<div>\n",
       "<style scoped>\n",
       "    .dataframe tbody tr th:only-of-type {\n",
       "        vertical-align: middle;\n",
       "    }\n",
       "\n",
       "    .dataframe tbody tr th {\n",
       "        vertical-align: top;\n",
       "    }\n",
       "\n",
       "    .dataframe thead th {\n",
       "        text-align: right;\n",
       "    }\n",
       "</style>\n",
       "<table border=\"1\" class=\"dataframe\">\n",
       "  <thead>\n",
       "    <tr style=\"text-align: right;\">\n",
       "      <th></th>\n",
       "      <th>Fecha</th>\n",
       "      <th>Magnitud</th>\n",
       "      <th>Zona</th>\n",
       "      <th>Estación</th>\n",
       "      <th>Valor</th>\n",
       "    </tr>\n",
       "  </thead>\n",
       "  <tbody>\n",
       "    <tr>\n",
       "      <th>0</th>\n",
       "      <td>2023-08-01</td>\n",
       "      <td>Velocidad del viento</td>\n",
       "      <td>Noroeste</td>\n",
       "      <td>Casa de Campo</td>\n",
       "      <td>1.6</td>\n",
       "    </tr>\n",
       "    <tr>\n",
       "      <th>1</th>\n",
       "      <td>2023-08-02</td>\n",
       "      <td>Velocidad del viento</td>\n",
       "      <td>Noroeste</td>\n",
       "      <td>Casa de Campo</td>\n",
       "      <td>1.9</td>\n",
       "    </tr>\n",
       "    <tr>\n",
       "      <th>2</th>\n",
       "      <td>2023-08-03</td>\n",
       "      <td>Velocidad del viento</td>\n",
       "      <td>Noroeste</td>\n",
       "      <td>Casa de Campo</td>\n",
       "      <td>1.8</td>\n",
       "    </tr>\n",
       "    <tr>\n",
       "      <th>3</th>\n",
       "      <td>2023-08-04</td>\n",
       "      <td>Velocidad del viento</td>\n",
       "      <td>Noroeste</td>\n",
       "      <td>Casa de Campo</td>\n",
       "      <td>1.9</td>\n",
       "    </tr>\n",
       "    <tr>\n",
       "      <th>4</th>\n",
       "      <td>2023-08-05</td>\n",
       "      <td>Velocidad del viento</td>\n",
       "      <td>Noroeste</td>\n",
       "      <td>Casa de Campo</td>\n",
       "      <td>1.5</td>\n",
       "    </tr>\n",
       "  </tbody>\n",
       "</table>\n",
       "</div>"
      ],
      "text/plain": [
       "       Fecha              Magnitud      Zona       Estación Valor\n",
       "0 2023-08-01  Velocidad del viento  Noroeste  Casa de Campo   1.6\n",
       "1 2023-08-02  Velocidad del viento  Noroeste  Casa de Campo   1.9\n",
       "2 2023-08-03  Velocidad del viento  Noroeste  Casa de Campo   1.8\n",
       "3 2023-08-04  Velocidad del viento  Noroeste  Casa de Campo   1.9\n",
       "4 2023-08-05  Velocidad del viento  Noroeste  Casa de Campo   1.5"
      ]
     },
     "execution_count": 365,
     "metadata": {},
     "output_type": "execute_result"
    }
   ],
   "source": [
    "df_velc_v_ago['Valor'] = df_velc_v_ago['Valor'].str.replace(',', '.') #Reemplazar comas por puntos\n",
    "df_velc_v_ago['Valor'] = df_velc_v_ago['Valor'].str.replace(r'[^\\d\\.]', '', regex=True) #Eliminar caracteres no numéricos, exepto el punto \n",
    "df_velc_v_ago.head()"
   ]
  },
  {
   "cell_type": "code",
   "execution_count": 366,
   "metadata": {},
   "outputs": [],
   "source": [
    "df_velc_v_ago['Valor'] = pd.to_numeric(df_velc_v_ago['Valor'], errors='coerce')"
   ]
  },
  {
   "cell_type": "code",
   "execution_count": 367,
   "metadata": {},
   "outputs": [
    {
     "name": "stdout",
     "output_type": "stream",
     "text": [
      "<class 'pandas.core.frame.DataFrame'>\n",
      "RangeIndex: 31 entries, 0 to 30\n",
      "Data columns (total 5 columns):\n",
      " #   Column    Non-Null Count  Dtype         \n",
      "---  ------    --------------  -----         \n",
      " 0   Fecha     31 non-null     datetime64[ns]\n",
      " 1   Magnitud  31 non-null     object        \n",
      " 2   Zona      31 non-null     object        \n",
      " 3   Estación  31 non-null     object        \n",
      " 4   Valor     31 non-null     float64       \n",
      "dtypes: datetime64[ns](1), float64(1), object(3)\n",
      "memory usage: 1.3+ KB\n"
     ]
    }
   ],
   "source": [
    "df_velc_v_ago.info()"
   ]
  },
  {
   "cell_type": "code",
   "execution_count": 368,
   "metadata": {},
   "outputs": [
    {
     "data": {
      "text/html": [
       "<div>\n",
       "<style scoped>\n",
       "    .dataframe tbody tr th:only-of-type {\n",
       "        vertical-align: middle;\n",
       "    }\n",
       "\n",
       "    .dataframe tbody tr th {\n",
       "        vertical-align: top;\n",
       "    }\n",
       "\n",
       "    .dataframe thead th {\n",
       "        text-align: right;\n",
       "    }\n",
       "</style>\n",
       "<table border=\"1\" class=\"dataframe\">\n",
       "  <thead>\n",
       "    <tr style=\"text-align: right;\">\n",
       "      <th></th>\n",
       "      <th>Fecha</th>\n",
       "      <th>Magnitud</th>\n",
       "      <th>Zona</th>\n",
       "      <th>Estación</th>\n",
       "      <th>Valor</th>\n",
       "    </tr>\n",
       "  </thead>\n",
       "  <tbody>\n",
       "    <tr>\n",
       "      <th>0</th>\n",
       "      <td>2023-09-01</td>\n",
       "      <td>Velocidad del viento</td>\n",
       "      <td>Noroeste</td>\n",
       "      <td>Casa de Campo</td>\n",
       "      <td>1,4</td>\n",
       "    </tr>\n",
       "    <tr>\n",
       "      <th>1</th>\n",
       "      <td>2023-09-02</td>\n",
       "      <td>Velocidad del viento</td>\n",
       "      <td>Noroeste</td>\n",
       "      <td>Casa de Campo</td>\n",
       "      <td>1,5</td>\n",
       "    </tr>\n",
       "    <tr>\n",
       "      <th>2</th>\n",
       "      <td>2023-09-03</td>\n",
       "      <td>Velocidad del viento</td>\n",
       "      <td>Noroeste</td>\n",
       "      <td>Casa de Campo</td>\n",
       "      <td>1,2</td>\n",
       "    </tr>\n",
       "    <tr>\n",
       "      <th>3</th>\n",
       "      <td>2023-09-04</td>\n",
       "      <td>Velocidad del viento</td>\n",
       "      <td>Noroeste</td>\n",
       "      <td>Casa de Campo</td>\n",
       "      <td>1,0</td>\n",
       "    </tr>\n",
       "    <tr>\n",
       "      <th>4</th>\n",
       "      <td>2023-09-05</td>\n",
       "      <td>Velocidad del viento</td>\n",
       "      <td>Noroeste</td>\n",
       "      <td>Casa de Campo</td>\n",
       "      <td>1,0</td>\n",
       "    </tr>\n",
       "  </tbody>\n",
       "</table>\n",
       "</div>"
      ],
      "text/plain": [
       "        Fecha              Magnitud      Zona       Estación Valor\n",
       "0  2023-09-01  Velocidad del viento  Noroeste  Casa de Campo   1,4\n",
       "1  2023-09-02  Velocidad del viento  Noroeste  Casa de Campo   1,5\n",
       "2  2023-09-03  Velocidad del viento  Noroeste  Casa de Campo   1,2\n",
       "3  2023-09-04  Velocidad del viento  Noroeste  Casa de Campo   1,0\n",
       "4  2023-09-05  Velocidad del viento  Noroeste  Casa de Campo   1,0"
      ]
     },
     "execution_count": 368,
     "metadata": {},
     "output_type": "execute_result"
    }
   ],
   "source": [
    "df_velc_v_sep = pd.read_csv('C:/Users/rfg2m/Documents/DATA_SCIENCE/Entregas/Proyectos/MACHINE LEARNING/Data/raw/Data_23/velocidad_viento_sep_23.csv', sep=';', encoding='utf-8')\n",
    "df_velc_v_sep.head()"
   ]
  },
  {
   "cell_type": "code",
   "execution_count": 369,
   "metadata": {},
   "outputs": [
    {
     "name": "stdout",
     "output_type": "stream",
     "text": [
      "<class 'pandas.core.frame.DataFrame'>\n",
      "RangeIndex: 30 entries, 0 to 29\n",
      "Data columns (total 5 columns):\n",
      " #   Column    Non-Null Count  Dtype \n",
      "---  ------    --------------  ----- \n",
      " 0   Fecha     30 non-null     object\n",
      " 1   Magnitud  30 non-null     object\n",
      " 2   Zona      30 non-null     object\n",
      " 3   Estación  30 non-null     object\n",
      " 4   Valor     30 non-null     object\n",
      "dtypes: object(5)\n",
      "memory usage: 1.3+ KB\n"
     ]
    }
   ],
   "source": [
    "df_velc_v_sep.info()"
   ]
  },
  {
   "cell_type": "code",
   "execution_count": 370,
   "metadata": {},
   "outputs": [
    {
     "name": "stdout",
     "output_type": "stream",
     "text": [
      "<class 'pandas.core.frame.DataFrame'>\n",
      "RangeIndex: 30 entries, 0 to 29\n",
      "Data columns (total 5 columns):\n",
      " #   Column    Non-Null Count  Dtype         \n",
      "---  ------    --------------  -----         \n",
      " 0   Fecha     30 non-null     datetime64[ns]\n",
      " 1   Magnitud  30 non-null     object        \n",
      " 2   Zona      30 non-null     object        \n",
      " 3   Estación  30 non-null     object        \n",
      " 4   Valor     30 non-null     object        \n",
      "dtypes: datetime64[ns](1), object(4)\n",
      "memory usage: 1.3+ KB\n"
     ]
    }
   ],
   "source": [
    "df_velc_v_sep[\"Fecha\"] = pd.to_datetime(df_velc_v_sep[\"Fecha\"])\n",
    "df_velc_v_sep.info()"
   ]
  },
  {
   "cell_type": "code",
   "execution_count": 371,
   "metadata": {},
   "outputs": [
    {
     "data": {
      "text/html": [
       "<div>\n",
       "<style scoped>\n",
       "    .dataframe tbody tr th:only-of-type {\n",
       "        vertical-align: middle;\n",
       "    }\n",
       "\n",
       "    .dataframe tbody tr th {\n",
       "        vertical-align: top;\n",
       "    }\n",
       "\n",
       "    .dataframe thead th {\n",
       "        text-align: right;\n",
       "    }\n",
       "</style>\n",
       "<table border=\"1\" class=\"dataframe\">\n",
       "  <thead>\n",
       "    <tr style=\"text-align: right;\">\n",
       "      <th></th>\n",
       "      <th>Fecha</th>\n",
       "      <th>Magnitud</th>\n",
       "      <th>Zona</th>\n",
       "      <th>Estación</th>\n",
       "      <th>Valor</th>\n",
       "    </tr>\n",
       "  </thead>\n",
       "  <tbody>\n",
       "    <tr>\n",
       "      <th>0</th>\n",
       "      <td>2023-09-01</td>\n",
       "      <td>Velocidad del viento</td>\n",
       "      <td>Noroeste</td>\n",
       "      <td>Casa de Campo</td>\n",
       "      <td>1.4</td>\n",
       "    </tr>\n",
       "    <tr>\n",
       "      <th>1</th>\n",
       "      <td>2023-09-02</td>\n",
       "      <td>Velocidad del viento</td>\n",
       "      <td>Noroeste</td>\n",
       "      <td>Casa de Campo</td>\n",
       "      <td>1.5</td>\n",
       "    </tr>\n",
       "    <tr>\n",
       "      <th>2</th>\n",
       "      <td>2023-09-03</td>\n",
       "      <td>Velocidad del viento</td>\n",
       "      <td>Noroeste</td>\n",
       "      <td>Casa de Campo</td>\n",
       "      <td>1.2</td>\n",
       "    </tr>\n",
       "    <tr>\n",
       "      <th>3</th>\n",
       "      <td>2023-09-04</td>\n",
       "      <td>Velocidad del viento</td>\n",
       "      <td>Noroeste</td>\n",
       "      <td>Casa de Campo</td>\n",
       "      <td>1.0</td>\n",
       "    </tr>\n",
       "    <tr>\n",
       "      <th>4</th>\n",
       "      <td>2023-09-05</td>\n",
       "      <td>Velocidad del viento</td>\n",
       "      <td>Noroeste</td>\n",
       "      <td>Casa de Campo</td>\n",
       "      <td>1.0</td>\n",
       "    </tr>\n",
       "  </tbody>\n",
       "</table>\n",
       "</div>"
      ],
      "text/plain": [
       "       Fecha              Magnitud      Zona       Estación Valor\n",
       "0 2023-09-01  Velocidad del viento  Noroeste  Casa de Campo   1.4\n",
       "1 2023-09-02  Velocidad del viento  Noroeste  Casa de Campo   1.5\n",
       "2 2023-09-03  Velocidad del viento  Noroeste  Casa de Campo   1.2\n",
       "3 2023-09-04  Velocidad del viento  Noroeste  Casa de Campo   1.0\n",
       "4 2023-09-05  Velocidad del viento  Noroeste  Casa de Campo   1.0"
      ]
     },
     "execution_count": 371,
     "metadata": {},
     "output_type": "execute_result"
    }
   ],
   "source": [
    "df_velc_v_sep['Valor'] = df_velc_v_sep['Valor'].str.replace(',', '.') #Reemplazar comas por puntos\n",
    "df_velc_v_sep['Valor'] = df_velc_v_sep['Valor'].str.replace(r'[^\\d\\.]', '', regex=True) #Eliminar caracteres no numéricos, exepto el punto \n",
    "df_velc_v_sep.head()"
   ]
  },
  {
   "cell_type": "code",
   "execution_count": 372,
   "metadata": {},
   "outputs": [],
   "source": [
    "df_velc_v_sep['Valor'] = pd.to_numeric(df_velc_v_sep['Valor'], errors='coerce')"
   ]
  },
  {
   "cell_type": "code",
   "execution_count": 373,
   "metadata": {},
   "outputs": [
    {
     "name": "stdout",
     "output_type": "stream",
     "text": [
      "<class 'pandas.core.frame.DataFrame'>\n",
      "RangeIndex: 30 entries, 0 to 29\n",
      "Data columns (total 5 columns):\n",
      " #   Column    Non-Null Count  Dtype         \n",
      "---  ------    --------------  -----         \n",
      " 0   Fecha     30 non-null     datetime64[ns]\n",
      " 1   Magnitud  30 non-null     object        \n",
      " 2   Zona      30 non-null     object        \n",
      " 3   Estación  30 non-null     object        \n",
      " 4   Valor     30 non-null     float64       \n",
      "dtypes: datetime64[ns](1), float64(1), object(3)\n",
      "memory usage: 1.3+ KB\n"
     ]
    }
   ],
   "source": [
    "df_velc_v_sep.info()"
   ]
  },
  {
   "cell_type": "code",
   "execution_count": 374,
   "metadata": {},
   "outputs": [
    {
     "data": {
      "text/html": [
       "<div>\n",
       "<style scoped>\n",
       "    .dataframe tbody tr th:only-of-type {\n",
       "        vertical-align: middle;\n",
       "    }\n",
       "\n",
       "    .dataframe tbody tr th {\n",
       "        vertical-align: top;\n",
       "    }\n",
       "\n",
       "    .dataframe thead th {\n",
       "        text-align: right;\n",
       "    }\n",
       "</style>\n",
       "<table border=\"1\" class=\"dataframe\">\n",
       "  <thead>\n",
       "    <tr style=\"text-align: right;\">\n",
       "      <th></th>\n",
       "      <th>Fecha</th>\n",
       "      <th>Magnitud</th>\n",
       "      <th>Zona</th>\n",
       "      <th>Estación</th>\n",
       "      <th>Valor</th>\n",
       "    </tr>\n",
       "  </thead>\n",
       "  <tbody>\n",
       "    <tr>\n",
       "      <th>0</th>\n",
       "      <td>2023-10-01</td>\n",
       "      <td>Velocidad del viento</td>\n",
       "      <td>Noroeste</td>\n",
       "      <td>Casa de Campo</td>\n",
       "      <td>0,7</td>\n",
       "    </tr>\n",
       "    <tr>\n",
       "      <th>1</th>\n",
       "      <td>2023-10-02</td>\n",
       "      <td>Velocidad del viento</td>\n",
       "      <td>Noroeste</td>\n",
       "      <td>Casa de Campo</td>\n",
       "      <td>0,7</td>\n",
       "    </tr>\n",
       "    <tr>\n",
       "      <th>2</th>\n",
       "      <td>2023-10-03</td>\n",
       "      <td>Velocidad del viento</td>\n",
       "      <td>Noroeste</td>\n",
       "      <td>Casa de Campo</td>\n",
       "      <td>0,8</td>\n",
       "    </tr>\n",
       "    <tr>\n",
       "      <th>3</th>\n",
       "      <td>2023-10-04</td>\n",
       "      <td>Velocidad del viento</td>\n",
       "      <td>Noroeste</td>\n",
       "      <td>Casa de Campo</td>\n",
       "      <td>0,8</td>\n",
       "    </tr>\n",
       "    <tr>\n",
       "      <th>4</th>\n",
       "      <td>2023-10-05</td>\n",
       "      <td>Velocidad del viento</td>\n",
       "      <td>Noroeste</td>\n",
       "      <td>Casa de Campo</td>\n",
       "      <td>0,7</td>\n",
       "    </tr>\n",
       "  </tbody>\n",
       "</table>\n",
       "</div>"
      ],
      "text/plain": [
       "        Fecha              Magnitud      Zona       Estación Valor\n",
       "0  2023-10-01  Velocidad del viento  Noroeste  Casa de Campo   0,7\n",
       "1  2023-10-02  Velocidad del viento  Noroeste  Casa de Campo   0,7\n",
       "2  2023-10-03  Velocidad del viento  Noroeste  Casa de Campo   0,8\n",
       "3  2023-10-04  Velocidad del viento  Noroeste  Casa de Campo   0,8\n",
       "4  2023-10-05  Velocidad del viento  Noroeste  Casa de Campo   0,7"
      ]
     },
     "execution_count": 374,
     "metadata": {},
     "output_type": "execute_result"
    }
   ],
   "source": [
    "df_velc_v_oct = pd.read_csv('C:/Users/rfg2m/Documents/DATA_SCIENCE/Entregas/Proyectos/MACHINE LEARNING/Data/raw/Data_23/velocoidad_viento_oct_23.csv', sep=';', encoding='utf-8')\n",
    "df_velc_v_oct.head()"
   ]
  },
  {
   "cell_type": "code",
   "execution_count": 375,
   "metadata": {},
   "outputs": [
    {
     "name": "stdout",
     "output_type": "stream",
     "text": [
      "<class 'pandas.core.frame.DataFrame'>\n",
      "RangeIndex: 31 entries, 0 to 30\n",
      "Data columns (total 5 columns):\n",
      " #   Column    Non-Null Count  Dtype \n",
      "---  ------    --------------  ----- \n",
      " 0   Fecha     31 non-null     object\n",
      " 1   Magnitud  31 non-null     object\n",
      " 2   Zona      31 non-null     object\n",
      " 3   Estación  31 non-null     object\n",
      " 4   Valor     31 non-null     object\n",
      "dtypes: object(5)\n",
      "memory usage: 1.3+ KB\n"
     ]
    }
   ],
   "source": [
    "df_velc_v_oct.info()"
   ]
  },
  {
   "cell_type": "code",
   "execution_count": 376,
   "metadata": {},
   "outputs": [
    {
     "name": "stdout",
     "output_type": "stream",
     "text": [
      "<class 'pandas.core.frame.DataFrame'>\n",
      "RangeIndex: 31 entries, 0 to 30\n",
      "Data columns (total 5 columns):\n",
      " #   Column    Non-Null Count  Dtype         \n",
      "---  ------    --------------  -----         \n",
      " 0   Fecha     31 non-null     datetime64[ns]\n",
      " 1   Magnitud  31 non-null     object        \n",
      " 2   Zona      31 non-null     object        \n",
      " 3   Estación  31 non-null     object        \n",
      " 4   Valor     31 non-null     object        \n",
      "dtypes: datetime64[ns](1), object(4)\n",
      "memory usage: 1.3+ KB\n"
     ]
    }
   ],
   "source": [
    "df_velc_v_oct[\"Fecha\"] = pd.to_datetime(df_velc_v_oct[\"Fecha\"])\n",
    "df_velc_v_oct.info()"
   ]
  },
  {
   "cell_type": "code",
   "execution_count": 377,
   "metadata": {},
   "outputs": [
    {
     "data": {
      "text/html": [
       "<div>\n",
       "<style scoped>\n",
       "    .dataframe tbody tr th:only-of-type {\n",
       "        vertical-align: middle;\n",
       "    }\n",
       "\n",
       "    .dataframe tbody tr th {\n",
       "        vertical-align: top;\n",
       "    }\n",
       "\n",
       "    .dataframe thead th {\n",
       "        text-align: right;\n",
       "    }\n",
       "</style>\n",
       "<table border=\"1\" class=\"dataframe\">\n",
       "  <thead>\n",
       "    <tr style=\"text-align: right;\">\n",
       "      <th></th>\n",
       "      <th>Fecha</th>\n",
       "      <th>Magnitud</th>\n",
       "      <th>Zona</th>\n",
       "      <th>Estación</th>\n",
       "      <th>Valor</th>\n",
       "    </tr>\n",
       "  </thead>\n",
       "  <tbody>\n",
       "    <tr>\n",
       "      <th>0</th>\n",
       "      <td>2023-10-01</td>\n",
       "      <td>Velocidad del viento</td>\n",
       "      <td>Noroeste</td>\n",
       "      <td>Casa de Campo</td>\n",
       "      <td>0.7</td>\n",
       "    </tr>\n",
       "    <tr>\n",
       "      <th>1</th>\n",
       "      <td>2023-10-02</td>\n",
       "      <td>Velocidad del viento</td>\n",
       "      <td>Noroeste</td>\n",
       "      <td>Casa de Campo</td>\n",
       "      <td>0.7</td>\n",
       "    </tr>\n",
       "    <tr>\n",
       "      <th>2</th>\n",
       "      <td>2023-10-03</td>\n",
       "      <td>Velocidad del viento</td>\n",
       "      <td>Noroeste</td>\n",
       "      <td>Casa de Campo</td>\n",
       "      <td>0.8</td>\n",
       "    </tr>\n",
       "    <tr>\n",
       "      <th>3</th>\n",
       "      <td>2023-10-04</td>\n",
       "      <td>Velocidad del viento</td>\n",
       "      <td>Noroeste</td>\n",
       "      <td>Casa de Campo</td>\n",
       "      <td>0.8</td>\n",
       "    </tr>\n",
       "    <tr>\n",
       "      <th>4</th>\n",
       "      <td>2023-10-05</td>\n",
       "      <td>Velocidad del viento</td>\n",
       "      <td>Noroeste</td>\n",
       "      <td>Casa de Campo</td>\n",
       "      <td>0.7</td>\n",
       "    </tr>\n",
       "  </tbody>\n",
       "</table>\n",
       "</div>"
      ],
      "text/plain": [
       "       Fecha              Magnitud      Zona       Estación Valor\n",
       "0 2023-10-01  Velocidad del viento  Noroeste  Casa de Campo   0.7\n",
       "1 2023-10-02  Velocidad del viento  Noroeste  Casa de Campo   0.7\n",
       "2 2023-10-03  Velocidad del viento  Noroeste  Casa de Campo   0.8\n",
       "3 2023-10-04  Velocidad del viento  Noroeste  Casa de Campo   0.8\n",
       "4 2023-10-05  Velocidad del viento  Noroeste  Casa de Campo   0.7"
      ]
     },
     "execution_count": 377,
     "metadata": {},
     "output_type": "execute_result"
    }
   ],
   "source": [
    "df_velc_v_oct['Valor'] = df_velc_v_oct['Valor'].str.replace(',', '.') #Reemplazar comas por puntos\n",
    "df_velc_v_oct['Valor'] = df_velc_v_oct['Valor'].str.replace(r'[^\\d\\.]', '', regex=True) #Eliminar caracteres no numéricos, exepto el punto \n",
    "df_velc_v_oct.head()"
   ]
  },
  {
   "cell_type": "code",
   "execution_count": 378,
   "metadata": {},
   "outputs": [],
   "source": [
    "df_velc_v_oct['Valor'] = pd.to_numeric(df_velc_v_oct['Valor'], errors='coerce')"
   ]
  },
  {
   "cell_type": "code",
   "execution_count": 379,
   "metadata": {},
   "outputs": [
    {
     "name": "stdout",
     "output_type": "stream",
     "text": [
      "<class 'pandas.core.frame.DataFrame'>\n",
      "RangeIndex: 31 entries, 0 to 30\n",
      "Data columns (total 5 columns):\n",
      " #   Column    Non-Null Count  Dtype         \n",
      "---  ------    --------------  -----         \n",
      " 0   Fecha     31 non-null     datetime64[ns]\n",
      " 1   Magnitud  31 non-null     object        \n",
      " 2   Zona      31 non-null     object        \n",
      " 3   Estación  31 non-null     object        \n",
      " 4   Valor     31 non-null     float64       \n",
      "dtypes: datetime64[ns](1), float64(1), object(3)\n",
      "memory usage: 1.3+ KB\n"
     ]
    }
   ],
   "source": [
    "df_velc_v_oct.info()"
   ]
  },
  {
   "cell_type": "code",
   "execution_count": 380,
   "metadata": {},
   "outputs": [
    {
     "data": {
      "text/html": [
       "<div>\n",
       "<style scoped>\n",
       "    .dataframe tbody tr th:only-of-type {\n",
       "        vertical-align: middle;\n",
       "    }\n",
       "\n",
       "    .dataframe tbody tr th {\n",
       "        vertical-align: top;\n",
       "    }\n",
       "\n",
       "    .dataframe thead th {\n",
       "        text-align: right;\n",
       "    }\n",
       "</style>\n",
       "<table border=\"1\" class=\"dataframe\">\n",
       "  <thead>\n",
       "    <tr style=\"text-align: right;\">\n",
       "      <th></th>\n",
       "      <th>Fecha</th>\n",
       "      <th>Magnitud</th>\n",
       "      <th>Zona</th>\n",
       "      <th>Estación</th>\n",
       "      <th>Valor</th>\n",
       "    </tr>\n",
       "  </thead>\n",
       "  <tbody>\n",
       "    <tr>\n",
       "      <th>0</th>\n",
       "      <td>2023-11-01</td>\n",
       "      <td>Velocidad del viento</td>\n",
       "      <td>Noroeste</td>\n",
       "      <td>Casa de Campo</td>\n",
       "      <td>2,6</td>\n",
       "    </tr>\n",
       "    <tr>\n",
       "      <th>1</th>\n",
       "      <td>2023-11-02</td>\n",
       "      <td>Velocidad del viento</td>\n",
       "      <td>Noroeste</td>\n",
       "      <td>Casa de Campo</td>\n",
       "      <td>4,0</td>\n",
       "    </tr>\n",
       "    <tr>\n",
       "      <th>2</th>\n",
       "      <td>2023-11-03</td>\n",
       "      <td>Velocidad del viento</td>\n",
       "      <td>Noroeste</td>\n",
       "      <td>Casa de Campo</td>\n",
       "      <td>2,8</td>\n",
       "    </tr>\n",
       "    <tr>\n",
       "      <th>3</th>\n",
       "      <td>2023-11-04</td>\n",
       "      <td>Velocidad del viento</td>\n",
       "      <td>Noroeste</td>\n",
       "      <td>Casa de Campo</td>\n",
       "      <td>3,8</td>\n",
       "    </tr>\n",
       "    <tr>\n",
       "      <th>4</th>\n",
       "      <td>2023-11-05</td>\n",
       "      <td>Velocidad del viento</td>\n",
       "      <td>Noroeste</td>\n",
       "      <td>Casa de Campo</td>\n",
       "      <td>2,7</td>\n",
       "    </tr>\n",
       "  </tbody>\n",
       "</table>\n",
       "</div>"
      ],
      "text/plain": [
       "        Fecha              Magnitud      Zona       Estación Valor\n",
       "0  2023-11-01  Velocidad del viento  Noroeste  Casa de Campo   2,6\n",
       "1  2023-11-02  Velocidad del viento  Noroeste  Casa de Campo   4,0\n",
       "2  2023-11-03  Velocidad del viento  Noroeste  Casa de Campo   2,8\n",
       "3  2023-11-04  Velocidad del viento  Noroeste  Casa de Campo   3,8\n",
       "4  2023-11-05  Velocidad del viento  Noroeste  Casa de Campo   2,7"
      ]
     },
     "execution_count": 380,
     "metadata": {},
     "output_type": "execute_result"
    }
   ],
   "source": [
    "df_velc_v_nov = pd.read_csv('C:/Users/rfg2m/Documents/DATA_SCIENCE/Entregas/Proyectos/MACHINE LEARNING/Data/raw/Data_23/velocidad_viento_nov_23.csv', sep=';', encoding='utf-8')\n",
    "df_velc_v_nov.head()"
   ]
  },
  {
   "cell_type": "code",
   "execution_count": 381,
   "metadata": {},
   "outputs": [
    {
     "name": "stdout",
     "output_type": "stream",
     "text": [
      "<class 'pandas.core.frame.DataFrame'>\n",
      "RangeIndex: 30 entries, 0 to 29\n",
      "Data columns (total 5 columns):\n",
      " #   Column    Non-Null Count  Dtype \n",
      "---  ------    --------------  ----- \n",
      " 0   Fecha     30 non-null     object\n",
      " 1   Magnitud  30 non-null     object\n",
      " 2   Zona      30 non-null     object\n",
      " 3   Estación  30 non-null     object\n",
      " 4   Valor     28 non-null     object\n",
      "dtypes: object(5)\n",
      "memory usage: 1.3+ KB\n"
     ]
    }
   ],
   "source": [
    "df_velc_v_nov.info()"
   ]
  },
  {
   "cell_type": "code",
   "execution_count": 382,
   "metadata": {},
   "outputs": [
    {
     "name": "stdout",
     "output_type": "stream",
     "text": [
      "<class 'pandas.core.frame.DataFrame'>\n",
      "RangeIndex: 30 entries, 0 to 29\n",
      "Data columns (total 5 columns):\n",
      " #   Column    Non-Null Count  Dtype         \n",
      "---  ------    --------------  -----         \n",
      " 0   Fecha     30 non-null     datetime64[ns]\n",
      " 1   Magnitud  30 non-null     object        \n",
      " 2   Zona      30 non-null     object        \n",
      " 3   Estación  30 non-null     object        \n",
      " 4   Valor     28 non-null     object        \n",
      "dtypes: datetime64[ns](1), object(4)\n",
      "memory usage: 1.3+ KB\n"
     ]
    }
   ],
   "source": [
    "df_velc_v_nov[\"Fecha\"] = pd.to_datetime(df_velc_v_nov[\"Fecha\"])\n",
    "df_velc_v_nov.info()"
   ]
  },
  {
   "cell_type": "code",
   "execution_count": 383,
   "metadata": {},
   "outputs": [
    {
     "data": {
      "text/html": [
       "<div>\n",
       "<style scoped>\n",
       "    .dataframe tbody tr th:only-of-type {\n",
       "        vertical-align: middle;\n",
       "    }\n",
       "\n",
       "    .dataframe tbody tr th {\n",
       "        vertical-align: top;\n",
       "    }\n",
       "\n",
       "    .dataframe thead th {\n",
       "        text-align: right;\n",
       "    }\n",
       "</style>\n",
       "<table border=\"1\" class=\"dataframe\">\n",
       "  <thead>\n",
       "    <tr style=\"text-align: right;\">\n",
       "      <th></th>\n",
       "      <th>Fecha</th>\n",
       "      <th>Magnitud</th>\n",
       "      <th>Zona</th>\n",
       "      <th>Estación</th>\n",
       "      <th>Valor</th>\n",
       "    </tr>\n",
       "  </thead>\n",
       "  <tbody>\n",
       "    <tr>\n",
       "      <th>0</th>\n",
       "      <td>2023-11-01</td>\n",
       "      <td>Velocidad del viento</td>\n",
       "      <td>Noroeste</td>\n",
       "      <td>Casa de Campo</td>\n",
       "      <td>2.6</td>\n",
       "    </tr>\n",
       "    <tr>\n",
       "      <th>1</th>\n",
       "      <td>2023-11-02</td>\n",
       "      <td>Velocidad del viento</td>\n",
       "      <td>Noroeste</td>\n",
       "      <td>Casa de Campo</td>\n",
       "      <td>4.0</td>\n",
       "    </tr>\n",
       "    <tr>\n",
       "      <th>2</th>\n",
       "      <td>2023-11-03</td>\n",
       "      <td>Velocidad del viento</td>\n",
       "      <td>Noroeste</td>\n",
       "      <td>Casa de Campo</td>\n",
       "      <td>2.8</td>\n",
       "    </tr>\n",
       "    <tr>\n",
       "      <th>3</th>\n",
       "      <td>2023-11-04</td>\n",
       "      <td>Velocidad del viento</td>\n",
       "      <td>Noroeste</td>\n",
       "      <td>Casa de Campo</td>\n",
       "      <td>3.8</td>\n",
       "    </tr>\n",
       "    <tr>\n",
       "      <th>4</th>\n",
       "      <td>2023-11-05</td>\n",
       "      <td>Velocidad del viento</td>\n",
       "      <td>Noroeste</td>\n",
       "      <td>Casa de Campo</td>\n",
       "      <td>2.7</td>\n",
       "    </tr>\n",
       "  </tbody>\n",
       "</table>\n",
       "</div>"
      ],
      "text/plain": [
       "       Fecha              Magnitud      Zona       Estación Valor\n",
       "0 2023-11-01  Velocidad del viento  Noroeste  Casa de Campo   2.6\n",
       "1 2023-11-02  Velocidad del viento  Noroeste  Casa de Campo   4.0\n",
       "2 2023-11-03  Velocidad del viento  Noroeste  Casa de Campo   2.8\n",
       "3 2023-11-04  Velocidad del viento  Noroeste  Casa de Campo   3.8\n",
       "4 2023-11-05  Velocidad del viento  Noroeste  Casa de Campo   2.7"
      ]
     },
     "execution_count": 383,
     "metadata": {},
     "output_type": "execute_result"
    }
   ],
   "source": [
    "df_velc_v_nov['Valor'] = df_velc_v_nov['Valor'].str.replace(',', '.') #Reemplazar comas por puntos\n",
    "df_velc_v_nov['Valor'] = df_velc_v_nov['Valor'].str.replace(r'[^\\d\\.]', '', regex=True) #Eliminar caracteres no numéricos, exepto el punto \n",
    "df_velc_v_nov.head()"
   ]
  },
  {
   "cell_type": "code",
   "execution_count": 384,
   "metadata": {},
   "outputs": [],
   "source": [
    "df_velc_v_nov['Valor'] = pd.to_numeric(df_velc_v_nov['Valor'], errors='coerce')"
   ]
  },
  {
   "cell_type": "code",
   "execution_count": 385,
   "metadata": {},
   "outputs": [
    {
     "name": "stdout",
     "output_type": "stream",
     "text": [
      "        Fecha              Magnitud      Zona       Estación  Valor\n",
      "22 2023-11-23  Velocidad del viento  Noroeste  Casa de Campo    NaN\n",
      "23 2023-11-24  Velocidad del viento  Noroeste  Casa de Campo    NaN\n"
     ]
    }
   ],
   "source": [
    "df_nulos = df_velc_v_nov[df_velc_v_nov.isnull().any(axis=1)]\n",
    "print(df_nulos)"
   ]
  },
  {
   "cell_type": "code",
   "execution_count": 386,
   "metadata": {},
   "outputs": [
    {
     "data": {
      "text/html": [
       "<div>\n",
       "<style scoped>\n",
       "    .dataframe tbody tr th:only-of-type {\n",
       "        vertical-align: middle;\n",
       "    }\n",
       "\n",
       "    .dataframe tbody tr th {\n",
       "        vertical-align: top;\n",
       "    }\n",
       "\n",
       "    .dataframe thead th {\n",
       "        text-align: right;\n",
       "    }\n",
       "</style>\n",
       "<table border=\"1\" class=\"dataframe\">\n",
       "  <thead>\n",
       "    <tr style=\"text-align: right;\">\n",
       "      <th></th>\n",
       "      <th>Fecha</th>\n",
       "      <th>Magnitud</th>\n",
       "      <th>Zona</th>\n",
       "      <th>Estación</th>\n",
       "      <th>Valor</th>\n",
       "    </tr>\n",
       "  </thead>\n",
       "  <tbody>\n",
       "    <tr>\n",
       "      <th>0</th>\n",
       "      <td>2023-11-01</td>\n",
       "      <td>Velocidad del viento</td>\n",
       "      <td>Noroeste</td>\n",
       "      <td>Casa de Campo</td>\n",
       "      <td>2.600000</td>\n",
       "    </tr>\n",
       "    <tr>\n",
       "      <th>1</th>\n",
       "      <td>2023-11-02</td>\n",
       "      <td>Velocidad del viento</td>\n",
       "      <td>Noroeste</td>\n",
       "      <td>Casa de Campo</td>\n",
       "      <td>4.000000</td>\n",
       "    </tr>\n",
       "    <tr>\n",
       "      <th>2</th>\n",
       "      <td>2023-11-03</td>\n",
       "      <td>Velocidad del viento</td>\n",
       "      <td>Noroeste</td>\n",
       "      <td>Casa de Campo</td>\n",
       "      <td>2.800000</td>\n",
       "    </tr>\n",
       "    <tr>\n",
       "      <th>3</th>\n",
       "      <td>2023-11-04</td>\n",
       "      <td>Velocidad del viento</td>\n",
       "      <td>Noroeste</td>\n",
       "      <td>Casa de Campo</td>\n",
       "      <td>3.800000</td>\n",
       "    </tr>\n",
       "    <tr>\n",
       "      <th>4</th>\n",
       "      <td>2023-11-05</td>\n",
       "      <td>Velocidad del viento</td>\n",
       "      <td>Noroeste</td>\n",
       "      <td>Casa de Campo</td>\n",
       "      <td>2.700000</td>\n",
       "    </tr>\n",
       "    <tr>\n",
       "      <th>5</th>\n",
       "      <td>2023-11-06</td>\n",
       "      <td>Velocidad del viento</td>\n",
       "      <td>Noroeste</td>\n",
       "      <td>Casa de Campo</td>\n",
       "      <td>1.100000</td>\n",
       "    </tr>\n",
       "    <tr>\n",
       "      <th>6</th>\n",
       "      <td>2023-11-07</td>\n",
       "      <td>Velocidad del viento</td>\n",
       "      <td>Noroeste</td>\n",
       "      <td>Casa de Campo</td>\n",
       "      <td>1.100000</td>\n",
       "    </tr>\n",
       "    <tr>\n",
       "      <th>7</th>\n",
       "      <td>2023-11-08</td>\n",
       "      <td>Velocidad del viento</td>\n",
       "      <td>Noroeste</td>\n",
       "      <td>Casa de Campo</td>\n",
       "      <td>1.000000</td>\n",
       "    </tr>\n",
       "    <tr>\n",
       "      <th>8</th>\n",
       "      <td>2023-11-09</td>\n",
       "      <td>Velocidad del viento</td>\n",
       "      <td>Noroeste</td>\n",
       "      <td>Casa de Campo</td>\n",
       "      <td>2.000000</td>\n",
       "    </tr>\n",
       "    <tr>\n",
       "      <th>9</th>\n",
       "      <td>2023-11-10</td>\n",
       "      <td>Velocidad del viento</td>\n",
       "      <td>Noroeste</td>\n",
       "      <td>Casa de Campo</td>\n",
       "      <td>1.600000</td>\n",
       "    </tr>\n",
       "    <tr>\n",
       "      <th>10</th>\n",
       "      <td>2023-11-11</td>\n",
       "      <td>Velocidad del viento</td>\n",
       "      <td>Noroeste</td>\n",
       "      <td>Casa de Campo</td>\n",
       "      <td>3.500000</td>\n",
       "    </tr>\n",
       "    <tr>\n",
       "      <th>11</th>\n",
       "      <td>2023-11-12</td>\n",
       "      <td>Velocidad del viento</td>\n",
       "      <td>Noroeste</td>\n",
       "      <td>Casa de Campo</td>\n",
       "      <td>2.200000</td>\n",
       "    </tr>\n",
       "    <tr>\n",
       "      <th>12</th>\n",
       "      <td>2023-11-13</td>\n",
       "      <td>Velocidad del viento</td>\n",
       "      <td>Noroeste</td>\n",
       "      <td>Casa de Campo</td>\n",
       "      <td>1.200000</td>\n",
       "    </tr>\n",
       "    <tr>\n",
       "      <th>13</th>\n",
       "      <td>2023-11-14</td>\n",
       "      <td>Velocidad del viento</td>\n",
       "      <td>Noroeste</td>\n",
       "      <td>Casa de Campo</td>\n",
       "      <td>0.600000</td>\n",
       "    </tr>\n",
       "    <tr>\n",
       "      <th>14</th>\n",
       "      <td>2023-11-15</td>\n",
       "      <td>Velocidad del viento</td>\n",
       "      <td>Noroeste</td>\n",
       "      <td>Casa de Campo</td>\n",
       "      <td>0.600000</td>\n",
       "    </tr>\n",
       "    <tr>\n",
       "      <th>15</th>\n",
       "      <td>2023-11-16</td>\n",
       "      <td>Velocidad del viento</td>\n",
       "      <td>Noroeste</td>\n",
       "      <td>Casa de Campo</td>\n",
       "      <td>0.600000</td>\n",
       "    </tr>\n",
       "    <tr>\n",
       "      <th>16</th>\n",
       "      <td>2023-11-17</td>\n",
       "      <td>Velocidad del viento</td>\n",
       "      <td>Noroeste</td>\n",
       "      <td>Casa de Campo</td>\n",
       "      <td>0.600000</td>\n",
       "    </tr>\n",
       "    <tr>\n",
       "      <th>17</th>\n",
       "      <td>2023-11-18</td>\n",
       "      <td>Velocidad del viento</td>\n",
       "      <td>Noroeste</td>\n",
       "      <td>Casa de Campo</td>\n",
       "      <td>0.500000</td>\n",
       "    </tr>\n",
       "    <tr>\n",
       "      <th>18</th>\n",
       "      <td>2023-11-19</td>\n",
       "      <td>Velocidad del viento</td>\n",
       "      <td>Noroeste</td>\n",
       "      <td>Casa de Campo</td>\n",
       "      <td>0.500000</td>\n",
       "    </tr>\n",
       "    <tr>\n",
       "      <th>19</th>\n",
       "      <td>2023-11-20</td>\n",
       "      <td>Velocidad del viento</td>\n",
       "      <td>Noroeste</td>\n",
       "      <td>Casa de Campo</td>\n",
       "      <td>0.700000</td>\n",
       "    </tr>\n",
       "    <tr>\n",
       "      <th>20</th>\n",
       "      <td>2023-11-21</td>\n",
       "      <td>Velocidad del viento</td>\n",
       "      <td>Noroeste</td>\n",
       "      <td>Casa de Campo</td>\n",
       "      <td>0.800000</td>\n",
       "    </tr>\n",
       "    <tr>\n",
       "      <th>21</th>\n",
       "      <td>2023-11-22</td>\n",
       "      <td>Velocidad del viento</td>\n",
       "      <td>Noroeste</td>\n",
       "      <td>Casa de Campo</td>\n",
       "      <td>0.800000</td>\n",
       "    </tr>\n",
       "    <tr>\n",
       "      <th>22</th>\n",
       "      <td>2023-11-23</td>\n",
       "      <td>Velocidad del viento</td>\n",
       "      <td>Noroeste</td>\n",
       "      <td>Casa de Campo</td>\n",
       "      <td>1.564286</td>\n",
       "    </tr>\n",
       "    <tr>\n",
       "      <th>23</th>\n",
       "      <td>2023-11-24</td>\n",
       "      <td>Velocidad del viento</td>\n",
       "      <td>Noroeste</td>\n",
       "      <td>Casa de Campo</td>\n",
       "      <td>1.564286</td>\n",
       "    </tr>\n",
       "    <tr>\n",
       "      <th>24</th>\n",
       "      <td>2023-11-25</td>\n",
       "      <td>Velocidad del viento</td>\n",
       "      <td>Noroeste</td>\n",
       "      <td>Casa de Campo</td>\n",
       "      <td>0.700000</td>\n",
       "    </tr>\n",
       "  </tbody>\n",
       "</table>\n",
       "</div>"
      ],
      "text/plain": [
       "        Fecha              Magnitud      Zona       Estación     Valor\n",
       "0  2023-11-01  Velocidad del viento  Noroeste  Casa de Campo  2.600000\n",
       "1  2023-11-02  Velocidad del viento  Noroeste  Casa de Campo  4.000000\n",
       "2  2023-11-03  Velocidad del viento  Noroeste  Casa de Campo  2.800000\n",
       "3  2023-11-04  Velocidad del viento  Noroeste  Casa de Campo  3.800000\n",
       "4  2023-11-05  Velocidad del viento  Noroeste  Casa de Campo  2.700000\n",
       "5  2023-11-06  Velocidad del viento  Noroeste  Casa de Campo  1.100000\n",
       "6  2023-11-07  Velocidad del viento  Noroeste  Casa de Campo  1.100000\n",
       "7  2023-11-08  Velocidad del viento  Noroeste  Casa de Campo  1.000000\n",
       "8  2023-11-09  Velocidad del viento  Noroeste  Casa de Campo  2.000000\n",
       "9  2023-11-10  Velocidad del viento  Noroeste  Casa de Campo  1.600000\n",
       "10 2023-11-11  Velocidad del viento  Noroeste  Casa de Campo  3.500000\n",
       "11 2023-11-12  Velocidad del viento  Noroeste  Casa de Campo  2.200000\n",
       "12 2023-11-13  Velocidad del viento  Noroeste  Casa de Campo  1.200000\n",
       "13 2023-11-14  Velocidad del viento  Noroeste  Casa de Campo  0.600000\n",
       "14 2023-11-15  Velocidad del viento  Noroeste  Casa de Campo  0.600000\n",
       "15 2023-11-16  Velocidad del viento  Noroeste  Casa de Campo  0.600000\n",
       "16 2023-11-17  Velocidad del viento  Noroeste  Casa de Campo  0.600000\n",
       "17 2023-11-18  Velocidad del viento  Noroeste  Casa de Campo  0.500000\n",
       "18 2023-11-19  Velocidad del viento  Noroeste  Casa de Campo  0.500000\n",
       "19 2023-11-20  Velocidad del viento  Noroeste  Casa de Campo  0.700000\n",
       "20 2023-11-21  Velocidad del viento  Noroeste  Casa de Campo  0.800000\n",
       "21 2023-11-22  Velocidad del viento  Noroeste  Casa de Campo  0.800000\n",
       "22 2023-11-23  Velocidad del viento  Noroeste  Casa de Campo  1.564286\n",
       "23 2023-11-24  Velocidad del viento  Noroeste  Casa de Campo  1.564286\n",
       "24 2023-11-25  Velocidad del viento  Noroeste  Casa de Campo  0.700000"
      ]
     },
     "execution_count": 386,
     "metadata": {},
     "output_type": "execute_result"
    }
   ],
   "source": [
    "df_velc_v_nov['Valor'] = df_velc_v_nov['Valor'].fillna(df_velc_v_nov['Valor'].mean())\n",
    "df_velc_v_nov.head(25)"
   ]
  },
  {
   "cell_type": "code",
   "execution_count": 387,
   "metadata": {},
   "outputs": [
    {
     "name": "stdout",
     "output_type": "stream",
     "text": [
      "<class 'pandas.core.frame.DataFrame'>\n",
      "RangeIndex: 30 entries, 0 to 29\n",
      "Data columns (total 5 columns):\n",
      " #   Column    Non-Null Count  Dtype         \n",
      "---  ------    --------------  -----         \n",
      " 0   Fecha     30 non-null     datetime64[ns]\n",
      " 1   Magnitud  30 non-null     object        \n",
      " 2   Zona      30 non-null     object        \n",
      " 3   Estación  30 non-null     object        \n",
      " 4   Valor     30 non-null     float64       \n",
      "dtypes: datetime64[ns](1), float64(1), object(3)\n",
      "memory usage: 1.3+ KB\n"
     ]
    }
   ],
   "source": [
    "df_velc_v_nov.info()"
   ]
  },
  {
   "cell_type": "code",
   "execution_count": 388,
   "metadata": {},
   "outputs": [
    {
     "data": {
      "text/html": [
       "<div>\n",
       "<style scoped>\n",
       "    .dataframe tbody tr th:only-of-type {\n",
       "        vertical-align: middle;\n",
       "    }\n",
       "\n",
       "    .dataframe tbody tr th {\n",
       "        vertical-align: top;\n",
       "    }\n",
       "\n",
       "    .dataframe thead th {\n",
       "        text-align: right;\n",
       "    }\n",
       "</style>\n",
       "<table border=\"1\" class=\"dataframe\">\n",
       "  <thead>\n",
       "    <tr style=\"text-align: right;\">\n",
       "      <th></th>\n",
       "      <th>Fecha</th>\n",
       "      <th>Magnitud</th>\n",
       "      <th>Zona</th>\n",
       "      <th>Estación</th>\n",
       "      <th>Valor</th>\n",
       "    </tr>\n",
       "  </thead>\n",
       "  <tbody>\n",
       "    <tr>\n",
       "      <th>0</th>\n",
       "      <td>2023-12-01</td>\n",
       "      <td>Velocidad del viento</td>\n",
       "      <td>Noroeste</td>\n",
       "      <td>Casa de Campo</td>\n",
       "      <td>1,5</td>\n",
       "    </tr>\n",
       "    <tr>\n",
       "      <th>1</th>\n",
       "      <td>2023-12-02</td>\n",
       "      <td>Velocidad del viento</td>\n",
       "      <td>Noroeste</td>\n",
       "      <td>Casa de Campo</td>\n",
       "      <td>0,9</td>\n",
       "    </tr>\n",
       "    <tr>\n",
       "      <th>2</th>\n",
       "      <td>2023-12-03</td>\n",
       "      <td>Velocidad del viento</td>\n",
       "      <td>Noroeste</td>\n",
       "      <td>Casa de Campo</td>\n",
       "      <td>0,7</td>\n",
       "    </tr>\n",
       "    <tr>\n",
       "      <th>3</th>\n",
       "      <td>2023-12-04</td>\n",
       "      <td>Velocidad del viento</td>\n",
       "      <td>Noroeste</td>\n",
       "      <td>Casa de Campo</td>\n",
       "      <td>1,7</td>\n",
       "    </tr>\n",
       "    <tr>\n",
       "      <th>4</th>\n",
       "      <td>2023-12-05</td>\n",
       "      <td>Velocidad del viento</td>\n",
       "      <td>Noroeste</td>\n",
       "      <td>Casa de Campo</td>\n",
       "      <td>0,7</td>\n",
       "    </tr>\n",
       "  </tbody>\n",
       "</table>\n",
       "</div>"
      ],
      "text/plain": [
       "        Fecha              Magnitud      Zona       Estación Valor\n",
       "0  2023-12-01  Velocidad del viento  Noroeste  Casa de Campo   1,5\n",
       "1  2023-12-02  Velocidad del viento  Noroeste  Casa de Campo   0,9\n",
       "2  2023-12-03  Velocidad del viento  Noroeste  Casa de Campo   0,7\n",
       "3  2023-12-04  Velocidad del viento  Noroeste  Casa de Campo   1,7\n",
       "4  2023-12-05  Velocidad del viento  Noroeste  Casa de Campo   0,7"
      ]
     },
     "execution_count": 388,
     "metadata": {},
     "output_type": "execute_result"
    }
   ],
   "source": [
    "df_velc_v_dic = pd.read_csv('C:/Users/rfg2m/Documents/DATA_SCIENCE/Entregas/Proyectos/MACHINE LEARNING/Data/raw/Data_23/velocidad_viento_dic_23.csv', sep=';', encoding='utf-8')\n",
    "df_velc_v_dic.head()"
   ]
  },
  {
   "cell_type": "code",
   "execution_count": 389,
   "metadata": {},
   "outputs": [
    {
     "name": "stdout",
     "output_type": "stream",
     "text": [
      "<class 'pandas.core.frame.DataFrame'>\n",
      "RangeIndex: 31 entries, 0 to 30\n",
      "Data columns (total 5 columns):\n",
      " #   Column    Non-Null Count  Dtype \n",
      "---  ------    --------------  ----- \n",
      " 0   Fecha     31 non-null     object\n",
      " 1   Magnitud  31 non-null     object\n",
      " 2   Zona      31 non-null     object\n",
      " 3   Estación  31 non-null     object\n",
      " 4   Valor     28 non-null     object\n",
      "dtypes: object(5)\n",
      "memory usage: 1.3+ KB\n"
     ]
    }
   ],
   "source": [
    "df_velc_v_dic.info()"
   ]
  },
  {
   "cell_type": "code",
   "execution_count": 390,
   "metadata": {},
   "outputs": [
    {
     "data": {
      "text/html": [
       "<div>\n",
       "<style scoped>\n",
       "    .dataframe tbody tr th:only-of-type {\n",
       "        vertical-align: middle;\n",
       "    }\n",
       "\n",
       "    .dataframe tbody tr th {\n",
       "        vertical-align: top;\n",
       "    }\n",
       "\n",
       "    .dataframe thead th {\n",
       "        text-align: right;\n",
       "    }\n",
       "</style>\n",
       "<table border=\"1\" class=\"dataframe\">\n",
       "  <thead>\n",
       "    <tr style=\"text-align: right;\">\n",
       "      <th></th>\n",
       "      <th>Fecha</th>\n",
       "      <th>Magnitud</th>\n",
       "      <th>Zona</th>\n",
       "      <th>Estación</th>\n",
       "      <th>Valor</th>\n",
       "    </tr>\n",
       "  </thead>\n",
       "  <tbody>\n",
       "    <tr>\n",
       "      <th>0</th>\n",
       "      <td>2023-12-01</td>\n",
       "      <td>Velocidad del viento</td>\n",
       "      <td>Noroeste</td>\n",
       "      <td>Casa de Campo</td>\n",
       "      <td>1.5</td>\n",
       "    </tr>\n",
       "    <tr>\n",
       "      <th>1</th>\n",
       "      <td>2023-12-02</td>\n",
       "      <td>Velocidad del viento</td>\n",
       "      <td>Noroeste</td>\n",
       "      <td>Casa de Campo</td>\n",
       "      <td>0.9</td>\n",
       "    </tr>\n",
       "    <tr>\n",
       "      <th>2</th>\n",
       "      <td>2023-12-03</td>\n",
       "      <td>Velocidad del viento</td>\n",
       "      <td>Noroeste</td>\n",
       "      <td>Casa de Campo</td>\n",
       "      <td>0.7</td>\n",
       "    </tr>\n",
       "    <tr>\n",
       "      <th>3</th>\n",
       "      <td>2023-12-04</td>\n",
       "      <td>Velocidad del viento</td>\n",
       "      <td>Noroeste</td>\n",
       "      <td>Casa de Campo</td>\n",
       "      <td>1.7</td>\n",
       "    </tr>\n",
       "    <tr>\n",
       "      <th>4</th>\n",
       "      <td>2023-12-05</td>\n",
       "      <td>Velocidad del viento</td>\n",
       "      <td>Noroeste</td>\n",
       "      <td>Casa de Campo</td>\n",
       "      <td>0.7</td>\n",
       "    </tr>\n",
       "  </tbody>\n",
       "</table>\n",
       "</div>"
      ],
      "text/plain": [
       "        Fecha              Magnitud      Zona       Estación Valor\n",
       "0  2023-12-01  Velocidad del viento  Noroeste  Casa de Campo   1.5\n",
       "1  2023-12-02  Velocidad del viento  Noroeste  Casa de Campo   0.9\n",
       "2  2023-12-03  Velocidad del viento  Noroeste  Casa de Campo   0.7\n",
       "3  2023-12-04  Velocidad del viento  Noroeste  Casa de Campo   1.7\n",
       "4  2023-12-05  Velocidad del viento  Noroeste  Casa de Campo   0.7"
      ]
     },
     "execution_count": 390,
     "metadata": {},
     "output_type": "execute_result"
    }
   ],
   "source": [
    "df_velc_v_dic['Valor'] = df_velc_v_dic['Valor'].str.replace(',', '.') #Reemplazar comas por puntos\n",
    "df_velc_v_dic['Valor'] = df_velc_v_dic['Valor'].str.replace(r'[^\\d\\.]', '', regex=True) #Eliminar caracteres no numéricos, exepto el punto \n",
    "df_velc_v_dic.head()"
   ]
  },
  {
   "cell_type": "code",
   "execution_count": 391,
   "metadata": {},
   "outputs": [],
   "source": [
    "df_velc_v_dic['Valor'] = pd.to_numeric(df_velc_v_dic['Valor'], errors='coerce')"
   ]
  },
  {
   "cell_type": "code",
   "execution_count": 392,
   "metadata": {},
   "outputs": [
    {
     "name": "stdout",
     "output_type": "stream",
     "text": [
      "        Fecha              Magnitud      Zona       Estación  Valor\n",
      "7  2023-12-08  Velocidad del viento  Noroeste  Casa de Campo    NaN\n",
      "8  2023-12-09  Velocidad del viento  Noroeste  Casa de Campo    NaN\n",
      "9  2023-12-10  Velocidad del viento  Noroeste  Casa de Campo    NaN\n"
     ]
    }
   ],
   "source": [
    "df_nulos = df_velc_v_dic[df_velc_v_dic.isnull().any(axis=1)]\n",
    "print(df_nulos)"
   ]
  },
  {
   "cell_type": "code",
   "execution_count": 393,
   "metadata": {},
   "outputs": [
    {
     "data": {
      "text/html": [
       "<div>\n",
       "<style scoped>\n",
       "    .dataframe tbody tr th:only-of-type {\n",
       "        vertical-align: middle;\n",
       "    }\n",
       "\n",
       "    .dataframe tbody tr th {\n",
       "        vertical-align: top;\n",
       "    }\n",
       "\n",
       "    .dataframe thead th {\n",
       "        text-align: right;\n",
       "    }\n",
       "</style>\n",
       "<table border=\"1\" class=\"dataframe\">\n",
       "  <thead>\n",
       "    <tr style=\"text-align: right;\">\n",
       "      <th></th>\n",
       "      <th>Fecha</th>\n",
       "      <th>Magnitud</th>\n",
       "      <th>Zona</th>\n",
       "      <th>Estación</th>\n",
       "      <th>Valor</th>\n",
       "    </tr>\n",
       "  </thead>\n",
       "  <tbody>\n",
       "    <tr>\n",
       "      <th>0</th>\n",
       "      <td>2023-12-01</td>\n",
       "      <td>Velocidad del viento</td>\n",
       "      <td>Noroeste</td>\n",
       "      <td>Casa de Campo</td>\n",
       "      <td>1.500000</td>\n",
       "    </tr>\n",
       "    <tr>\n",
       "      <th>1</th>\n",
       "      <td>2023-12-02</td>\n",
       "      <td>Velocidad del viento</td>\n",
       "      <td>Noroeste</td>\n",
       "      <td>Casa de Campo</td>\n",
       "      <td>0.900000</td>\n",
       "    </tr>\n",
       "    <tr>\n",
       "      <th>2</th>\n",
       "      <td>2023-12-03</td>\n",
       "      <td>Velocidad del viento</td>\n",
       "      <td>Noroeste</td>\n",
       "      <td>Casa de Campo</td>\n",
       "      <td>0.700000</td>\n",
       "    </tr>\n",
       "    <tr>\n",
       "      <th>3</th>\n",
       "      <td>2023-12-04</td>\n",
       "      <td>Velocidad del viento</td>\n",
       "      <td>Noroeste</td>\n",
       "      <td>Casa de Campo</td>\n",
       "      <td>1.700000</td>\n",
       "    </tr>\n",
       "    <tr>\n",
       "      <th>4</th>\n",
       "      <td>2023-12-05</td>\n",
       "      <td>Velocidad del viento</td>\n",
       "      <td>Noroeste</td>\n",
       "      <td>Casa de Campo</td>\n",
       "      <td>0.700000</td>\n",
       "    </tr>\n",
       "    <tr>\n",
       "      <th>5</th>\n",
       "      <td>2023-12-06</td>\n",
       "      <td>Velocidad del viento</td>\n",
       "      <td>Noroeste</td>\n",
       "      <td>Casa de Campo</td>\n",
       "      <td>0.500000</td>\n",
       "    </tr>\n",
       "    <tr>\n",
       "      <th>6</th>\n",
       "      <td>2023-12-07</td>\n",
       "      <td>Velocidad del viento</td>\n",
       "      <td>Noroeste</td>\n",
       "      <td>Casa de Campo</td>\n",
       "      <td>0.400000</td>\n",
       "    </tr>\n",
       "    <tr>\n",
       "      <th>7</th>\n",
       "      <td>2023-12-08</td>\n",
       "      <td>Velocidad del viento</td>\n",
       "      <td>Noroeste</td>\n",
       "      <td>Casa de Campo</td>\n",
       "      <td>0.782143</td>\n",
       "    </tr>\n",
       "    <tr>\n",
       "      <th>8</th>\n",
       "      <td>2023-12-09</td>\n",
       "      <td>Velocidad del viento</td>\n",
       "      <td>Noroeste</td>\n",
       "      <td>Casa de Campo</td>\n",
       "      <td>0.782143</td>\n",
       "    </tr>\n",
       "    <tr>\n",
       "      <th>9</th>\n",
       "      <td>2023-12-10</td>\n",
       "      <td>Velocidad del viento</td>\n",
       "      <td>Noroeste</td>\n",
       "      <td>Casa de Campo</td>\n",
       "      <td>0.782143</td>\n",
       "    </tr>\n",
       "    <tr>\n",
       "      <th>10</th>\n",
       "      <td>2023-12-11</td>\n",
       "      <td>Velocidad del viento</td>\n",
       "      <td>Noroeste</td>\n",
       "      <td>Casa de Campo</td>\n",
       "      <td>0.500000</td>\n",
       "    </tr>\n",
       "    <tr>\n",
       "      <th>11</th>\n",
       "      <td>2023-12-12</td>\n",
       "      <td>Velocidad del viento</td>\n",
       "      <td>Noroeste</td>\n",
       "      <td>Casa de Campo</td>\n",
       "      <td>0.800000</td>\n",
       "    </tr>\n",
       "    <tr>\n",
       "      <th>12</th>\n",
       "      <td>2023-12-13</td>\n",
       "      <td>Velocidad del viento</td>\n",
       "      <td>Noroeste</td>\n",
       "      <td>Casa de Campo</td>\n",
       "      <td>1.700000</td>\n",
       "    </tr>\n",
       "    <tr>\n",
       "      <th>13</th>\n",
       "      <td>2023-12-14</td>\n",
       "      <td>Velocidad del viento</td>\n",
       "      <td>Noroeste</td>\n",
       "      <td>Casa de Campo</td>\n",
       "      <td>0.800000</td>\n",
       "    </tr>\n",
       "    <tr>\n",
       "      <th>14</th>\n",
       "      <td>2023-12-15</td>\n",
       "      <td>Velocidad del viento</td>\n",
       "      <td>Noroeste</td>\n",
       "      <td>Casa de Campo</td>\n",
       "      <td>0.800000</td>\n",
       "    </tr>\n",
       "    <tr>\n",
       "      <th>15</th>\n",
       "      <td>2023-12-16</td>\n",
       "      <td>Velocidad del viento</td>\n",
       "      <td>Noroeste</td>\n",
       "      <td>Casa de Campo</td>\n",
       "      <td>0.500000</td>\n",
       "    </tr>\n",
       "    <tr>\n",
       "      <th>16</th>\n",
       "      <td>2023-12-17</td>\n",
       "      <td>Velocidad del viento</td>\n",
       "      <td>Noroeste</td>\n",
       "      <td>Casa de Campo</td>\n",
       "      <td>0.500000</td>\n",
       "    </tr>\n",
       "    <tr>\n",
       "      <th>17</th>\n",
       "      <td>2023-12-18</td>\n",
       "      <td>Velocidad del viento</td>\n",
       "      <td>Noroeste</td>\n",
       "      <td>Casa de Campo</td>\n",
       "      <td>0.500000</td>\n",
       "    </tr>\n",
       "    <tr>\n",
       "      <th>18</th>\n",
       "      <td>2023-12-19</td>\n",
       "      <td>Velocidad del viento</td>\n",
       "      <td>Noroeste</td>\n",
       "      <td>Casa de Campo</td>\n",
       "      <td>0.700000</td>\n",
       "    </tr>\n",
       "    <tr>\n",
       "      <th>19</th>\n",
       "      <td>2023-12-20</td>\n",
       "      <td>Velocidad del viento</td>\n",
       "      <td>Noroeste</td>\n",
       "      <td>Casa de Campo</td>\n",
       "      <td>1.200000</td>\n",
       "    </tr>\n",
       "    <tr>\n",
       "      <th>20</th>\n",
       "      <td>2023-12-21</td>\n",
       "      <td>Velocidad del viento</td>\n",
       "      <td>Noroeste</td>\n",
       "      <td>Casa de Campo</td>\n",
       "      <td>0.600000</td>\n",
       "    </tr>\n",
       "    <tr>\n",
       "      <th>21</th>\n",
       "      <td>2023-12-22</td>\n",
       "      <td>Velocidad del viento</td>\n",
       "      <td>Noroeste</td>\n",
       "      <td>Casa de Campo</td>\n",
       "      <td>0.500000</td>\n",
       "    </tr>\n",
       "    <tr>\n",
       "      <th>22</th>\n",
       "      <td>2023-12-23</td>\n",
       "      <td>Velocidad del viento</td>\n",
       "      <td>Noroeste</td>\n",
       "      <td>Casa de Campo</td>\n",
       "      <td>0.500000</td>\n",
       "    </tr>\n",
       "    <tr>\n",
       "      <th>23</th>\n",
       "      <td>2023-12-24</td>\n",
       "      <td>Velocidad del viento</td>\n",
       "      <td>Noroeste</td>\n",
       "      <td>Casa de Campo</td>\n",
       "      <td>0.500000</td>\n",
       "    </tr>\n",
       "    <tr>\n",
       "      <th>24</th>\n",
       "      <td>2023-12-25</td>\n",
       "      <td>Velocidad del viento</td>\n",
       "      <td>Noroeste</td>\n",
       "      <td>Casa de Campo</td>\n",
       "      <td>0.600000</td>\n",
       "    </tr>\n",
       "  </tbody>\n",
       "</table>\n",
       "</div>"
      ],
      "text/plain": [
       "         Fecha              Magnitud      Zona       Estación     Valor\n",
       "0   2023-12-01  Velocidad del viento  Noroeste  Casa de Campo  1.500000\n",
       "1   2023-12-02  Velocidad del viento  Noroeste  Casa de Campo  0.900000\n",
       "2   2023-12-03  Velocidad del viento  Noroeste  Casa de Campo  0.700000\n",
       "3   2023-12-04  Velocidad del viento  Noroeste  Casa de Campo  1.700000\n",
       "4   2023-12-05  Velocidad del viento  Noroeste  Casa de Campo  0.700000\n",
       "5   2023-12-06  Velocidad del viento  Noroeste  Casa de Campo  0.500000\n",
       "6   2023-12-07  Velocidad del viento  Noroeste  Casa de Campo  0.400000\n",
       "7   2023-12-08  Velocidad del viento  Noroeste  Casa de Campo  0.782143\n",
       "8   2023-12-09  Velocidad del viento  Noroeste  Casa de Campo  0.782143\n",
       "9   2023-12-10  Velocidad del viento  Noroeste  Casa de Campo  0.782143\n",
       "10  2023-12-11  Velocidad del viento  Noroeste  Casa de Campo  0.500000\n",
       "11  2023-12-12  Velocidad del viento  Noroeste  Casa de Campo  0.800000\n",
       "12  2023-12-13  Velocidad del viento  Noroeste  Casa de Campo  1.700000\n",
       "13  2023-12-14  Velocidad del viento  Noroeste  Casa de Campo  0.800000\n",
       "14  2023-12-15  Velocidad del viento  Noroeste  Casa de Campo  0.800000\n",
       "15  2023-12-16  Velocidad del viento  Noroeste  Casa de Campo  0.500000\n",
       "16  2023-12-17  Velocidad del viento  Noroeste  Casa de Campo  0.500000\n",
       "17  2023-12-18  Velocidad del viento  Noroeste  Casa de Campo  0.500000\n",
       "18  2023-12-19  Velocidad del viento  Noroeste  Casa de Campo  0.700000\n",
       "19  2023-12-20  Velocidad del viento  Noroeste  Casa de Campo  1.200000\n",
       "20  2023-12-21  Velocidad del viento  Noroeste  Casa de Campo  0.600000\n",
       "21  2023-12-22  Velocidad del viento  Noroeste  Casa de Campo  0.500000\n",
       "22  2023-12-23  Velocidad del viento  Noroeste  Casa de Campo  0.500000\n",
       "23  2023-12-24  Velocidad del viento  Noroeste  Casa de Campo  0.500000\n",
       "24  2023-12-25  Velocidad del viento  Noroeste  Casa de Campo  0.600000"
      ]
     },
     "execution_count": 393,
     "metadata": {},
     "output_type": "execute_result"
    }
   ],
   "source": [
    "df_velc_v_dic['Valor'] = df_velc_v_dic['Valor'].fillna(df_velc_v_dic['Valor'].mean())\n",
    "df_velc_v_dic.head(25)"
   ]
  },
  {
   "cell_type": "code",
   "execution_count": 394,
   "metadata": {},
   "outputs": [
    {
     "name": "stdout",
     "output_type": "stream",
     "text": [
      "<class 'pandas.core.frame.DataFrame'>\n",
      "RangeIndex: 31 entries, 0 to 30\n",
      "Data columns (total 5 columns):\n",
      " #   Column    Non-Null Count  Dtype         \n",
      "---  ------    --------------  -----         \n",
      " 0   Fecha     31 non-null     datetime64[ns]\n",
      " 1   Magnitud  31 non-null     object        \n",
      " 2   Zona      31 non-null     object        \n",
      " 3   Estación  31 non-null     object        \n",
      " 4   Valor     31 non-null     float64       \n",
      "dtypes: datetime64[ns](1), float64(1), object(3)\n",
      "memory usage: 1.3+ KB\n"
     ]
    }
   ],
   "source": [
    "df_velc_v_dic[\"Fecha\"] = pd.to_datetime(df_velc_v_dic[\"Fecha\"])\n",
    "df_velc_v_dic.info()"
   ]
  },
  {
   "cell_type": "code",
   "execution_count": 395,
   "metadata": {},
   "outputs": [
    {
     "data": {
      "text/html": [
       "<div>\n",
       "<style scoped>\n",
       "    .dataframe tbody tr th:only-of-type {\n",
       "        vertical-align: middle;\n",
       "    }\n",
       "\n",
       "    .dataframe tbody tr th {\n",
       "        vertical-align: top;\n",
       "    }\n",
       "\n",
       "    .dataframe thead th {\n",
       "        text-align: right;\n",
       "    }\n",
       "</style>\n",
       "<table border=\"1\" class=\"dataframe\">\n",
       "  <thead>\n",
       "    <tr style=\"text-align: right;\">\n",
       "      <th></th>\n",
       "      <th>Fecha</th>\n",
       "      <th>Magnitud</th>\n",
       "      <th>Zona</th>\n",
       "      <th>Estación</th>\n",
       "      <th>Valor</th>\n",
       "    </tr>\n",
       "  </thead>\n",
       "  <tbody>\n",
       "    <tr>\n",
       "      <th>0</th>\n",
       "      <td>2023-01-01</td>\n",
       "      <td>Velocidad del viento</td>\n",
       "      <td>Noroeste</td>\n",
       "      <td>Casa de Campo</td>\n",
       "      <td>0.8</td>\n",
       "    </tr>\n",
       "    <tr>\n",
       "      <th>1</th>\n",
       "      <td>2023-01-02</td>\n",
       "      <td>Velocidad del viento</td>\n",
       "      <td>Noroeste</td>\n",
       "      <td>Casa de Campo</td>\n",
       "      <td>1.0</td>\n",
       "    </tr>\n",
       "    <tr>\n",
       "      <th>2</th>\n",
       "      <td>2023-01-03</td>\n",
       "      <td>Velocidad del viento</td>\n",
       "      <td>Noroeste</td>\n",
       "      <td>Casa de Campo</td>\n",
       "      <td>0.7</td>\n",
       "    </tr>\n",
       "    <tr>\n",
       "      <th>3</th>\n",
       "      <td>2023-01-04</td>\n",
       "      <td>Velocidad del viento</td>\n",
       "      <td>Noroeste</td>\n",
       "      <td>Casa de Campo</td>\n",
       "      <td>0.6</td>\n",
       "    </tr>\n",
       "    <tr>\n",
       "      <th>4</th>\n",
       "      <td>2023-01-05</td>\n",
       "      <td>Velocidad del viento</td>\n",
       "      <td>Noroeste</td>\n",
       "      <td>Casa de Campo</td>\n",
       "      <td>0.7</td>\n",
       "    </tr>\n",
       "    <tr>\n",
       "      <th>...</th>\n",
       "      <td>...</td>\n",
       "      <td>...</td>\n",
       "      <td>...</td>\n",
       "      <td>...</td>\n",
       "      <td>...</td>\n",
       "    </tr>\n",
       "    <tr>\n",
       "      <th>360</th>\n",
       "      <td>2023-12-27</td>\n",
       "      <td>Velocidad del viento</td>\n",
       "      <td>Noroeste</td>\n",
       "      <td>Casa de Campo</td>\n",
       "      <td>0.6</td>\n",
       "    </tr>\n",
       "    <tr>\n",
       "      <th>361</th>\n",
       "      <td>2023-12-28</td>\n",
       "      <td>Velocidad del viento</td>\n",
       "      <td>Noroeste</td>\n",
       "      <td>Casa de Campo</td>\n",
       "      <td>0.5</td>\n",
       "    </tr>\n",
       "    <tr>\n",
       "      <th>362</th>\n",
       "      <td>2023-12-29</td>\n",
       "      <td>Velocidad del viento</td>\n",
       "      <td>Noroeste</td>\n",
       "      <td>Casa de Campo</td>\n",
       "      <td>0.6</td>\n",
       "    </tr>\n",
       "    <tr>\n",
       "      <th>363</th>\n",
       "      <td>2023-12-30</td>\n",
       "      <td>Velocidad del viento</td>\n",
       "      <td>Noroeste</td>\n",
       "      <td>Casa de Campo</td>\n",
       "      <td>0.7</td>\n",
       "    </tr>\n",
       "    <tr>\n",
       "      <th>364</th>\n",
       "      <td>2023-12-31</td>\n",
       "      <td>Velocidad del viento</td>\n",
       "      <td>Noroeste</td>\n",
       "      <td>Casa de Campo</td>\n",
       "      <td>1.8</td>\n",
       "    </tr>\n",
       "  </tbody>\n",
       "</table>\n",
       "<p>365 rows × 5 columns</p>\n",
       "</div>"
      ],
      "text/plain": [
       "         Fecha              Magnitud      Zona       Estación  Valor\n",
       "0   2023-01-01  Velocidad del viento  Noroeste  Casa de Campo    0.8\n",
       "1   2023-01-02  Velocidad del viento  Noroeste  Casa de Campo    1.0\n",
       "2   2023-01-03  Velocidad del viento  Noroeste  Casa de Campo    0.7\n",
       "3   2023-01-04  Velocidad del viento  Noroeste  Casa de Campo    0.6\n",
       "4   2023-01-05  Velocidad del viento  Noroeste  Casa de Campo    0.7\n",
       "..         ...                   ...       ...            ...    ...\n",
       "360 2023-12-27  Velocidad del viento  Noroeste  Casa de Campo    0.6\n",
       "361 2023-12-28  Velocidad del viento  Noroeste  Casa de Campo    0.5\n",
       "362 2023-12-29  Velocidad del viento  Noroeste  Casa de Campo    0.6\n",
       "363 2023-12-30  Velocidad del viento  Noroeste  Casa de Campo    0.7\n",
       "364 2023-12-31  Velocidad del viento  Noroeste  Casa de Campo    1.8\n",
       "\n",
       "[365 rows x 5 columns]"
      ]
     },
     "execution_count": 395,
     "metadata": {},
     "output_type": "execute_result"
    }
   ],
   "source": [
    "df_vel_vto = pd.concat([df_velc_v_ene, df_velc_v_feb, df_velc_v_mar, df_velc_v_abr, df_velc_v_may, df_velc_v_jun, df_velc_v_jul, df_velc_v_ago, df_velc_v_sep, df_velc_v_oct, df_velc_v_nov, df_velc_v_dic ],axis=0, ignore_index=True)\n",
    "df_vel_vto"
   ]
  },
  {
   "cell_type": "code",
   "execution_count": 396,
   "metadata": {},
   "outputs": [],
   "source": [
    "df_vel_vto.drop(columns=['Magnitud', 'Zona', 'Estación'], inplace=True)"
   ]
  },
  {
   "cell_type": "code",
   "execution_count": 397,
   "metadata": {},
   "outputs": [
    {
     "data": {
      "text/html": [
       "<div>\n",
       "<style scoped>\n",
       "    .dataframe tbody tr th:only-of-type {\n",
       "        vertical-align: middle;\n",
       "    }\n",
       "\n",
       "    .dataframe tbody tr th {\n",
       "        vertical-align: top;\n",
       "    }\n",
       "\n",
       "    .dataframe thead th {\n",
       "        text-align: right;\n",
       "    }\n",
       "</style>\n",
       "<table border=\"1\" class=\"dataframe\">\n",
       "  <thead>\n",
       "    <tr style=\"text-align: right;\">\n",
       "      <th></th>\n",
       "      <th>Fecha</th>\n",
       "      <th>Velocidad_Viento</th>\n",
       "    </tr>\n",
       "  </thead>\n",
       "  <tbody>\n",
       "    <tr>\n",
       "      <th>0</th>\n",
       "      <td>2023-01-01</td>\n",
       "      <td>0.8</td>\n",
       "    </tr>\n",
       "    <tr>\n",
       "      <th>1</th>\n",
       "      <td>2023-01-02</td>\n",
       "      <td>1.0</td>\n",
       "    </tr>\n",
       "    <tr>\n",
       "      <th>2</th>\n",
       "      <td>2023-01-03</td>\n",
       "      <td>0.7</td>\n",
       "    </tr>\n",
       "    <tr>\n",
       "      <th>3</th>\n",
       "      <td>2023-01-04</td>\n",
       "      <td>0.6</td>\n",
       "    </tr>\n",
       "    <tr>\n",
       "      <th>4</th>\n",
       "      <td>2023-01-05</td>\n",
       "      <td>0.7</td>\n",
       "    </tr>\n",
       "  </tbody>\n",
       "</table>\n",
       "</div>"
      ],
      "text/plain": [
       "       Fecha  Velocidad_Viento\n",
       "0 2023-01-01               0.8\n",
       "1 2023-01-02               1.0\n",
       "2 2023-01-03               0.7\n",
       "3 2023-01-04               0.6\n",
       "4 2023-01-05               0.7"
      ]
     },
     "execution_count": 397,
     "metadata": {},
     "output_type": "execute_result"
    }
   ],
   "source": [
    "df_vel_vto.rename(columns={'Valor': 'Velocidad_Viento'}, inplace=True)\n",
    "df_vel_vto.head()"
   ]
  },
  {
   "cell_type": "code",
   "execution_count": 398,
   "metadata": {},
   "outputs": [
    {
     "name": "stdout",
     "output_type": "stream",
     "text": [
      "<class 'pandas.core.frame.DataFrame'>\n",
      "RangeIndex: 365 entries, 0 to 364\n",
      "Data columns (total 2 columns):\n",
      " #   Column            Non-Null Count  Dtype         \n",
      "---  ------            --------------  -----         \n",
      " 0   Fecha             365 non-null    datetime64[ns]\n",
      " 1   Velocidad_Viento  365 non-null    float64       \n",
      "dtypes: datetime64[ns](1), float64(1)\n",
      "memory usage: 5.8 KB\n"
     ]
    }
   ],
   "source": [
    "df_vel_vto.info()"
   ]
  },
  {
   "cell_type": "code",
   "execution_count": 399,
   "metadata": {},
   "outputs": [
    {
     "data": {
      "text/plain": [
       "[         Fecha  Temperatura_Media\n",
       " 0   2023-01-01                9.3\n",
       " 1   2023-01-02               10.7\n",
       " 2   2023-01-03                7.2\n",
       " 3   2023-01-04                5.7\n",
       " 4   2023-01-05                5.6\n",
       " ..         ...                ...\n",
       " 360 2023-12-27                3.2\n",
       " 361 2023-12-28                2.6\n",
       " 362 2023-12-29                4.4\n",
       " 363 2023-12-30                5.6\n",
       " 364 2023-12-31                6.7\n",
       " \n",
       " [365 rows x 2 columns],\n",
       "          Fecha  Precipitaciones\n",
       " 0   2023-01-01              0.0\n",
       " 1   2023-01-02              0.0\n",
       " 2   2023-01-03              0.0\n",
       " 3   2023-01-04              0.0\n",
       " 4   2023-01-05              0.0\n",
       " ..         ...              ...\n",
       " 360 2023-12-27              0.0\n",
       " 361 2023-12-28              0.0\n",
       " 362 2023-12-29              0.0\n",
       " 363 2023-12-30              0.0\n",
       " 364 2023-12-31              0.0\n",
       " \n",
       " [365 rows x 2 columns],\n",
       "                    Fecha  Humedad_Relativa\n",
       " 0    2023-12-01 00:00:00              66.0\n",
       " 1    2023-12-02 00:00:00              80.0\n",
       " 2    2023-12-03 00:00:00              83.0\n",
       " 3    2023-12-04 00:00:00              79.0\n",
       " 4    2023-12-05 00:00:00              77.0\n",
       " ..                   ...               ...\n",
       " 360  2023-12-27 00:00:00              82.0\n",
       " 361  2023-12-28 00:00:00              86.0\n",
       " 362  2023-12-29 00:00:00              88.0\n",
       " 363  2023-12-30 00:00:00              82.0\n",
       " 364  2023-12-31 00:00:00              91.0\n",
       " \n",
       " [365 rows x 2 columns],\n",
       "          Fecha  Radiación_Solar\n",
       " 0   2023-01-01             82.0\n",
       " 1   2023-01-02             75.0\n",
       " 2   2023-01-03            101.0\n",
       " 3   2023-01-04             99.0\n",
       " 4   2023-01-05            100.0\n",
       " ..         ...              ...\n",
       " 360 2023-12-27            101.0\n",
       " 361 2023-12-28             54.0\n",
       " 362 2023-12-29             38.0\n",
       " 363 2023-12-30             95.0\n",
       " 364 2023-12-31             56.0\n",
       " \n",
       " [365 rows x 2 columns],\n",
       "          Fecha  Velocidad_Viento\n",
       " 0   2023-01-01               0.8\n",
       " 1   2023-01-02               1.0\n",
       " 2   2023-01-03               0.7\n",
       " 3   2023-01-04               0.6\n",
       " 4   2023-01-05               0.7\n",
       " ..         ...               ...\n",
       " 360 2023-12-27               0.6\n",
       " 361 2023-12-28               0.5\n",
       " 362 2023-12-29               0.6\n",
       " 363 2023-12-30               0.7\n",
       " 364 2023-12-31               1.8\n",
       " \n",
       " [365 rows x 2 columns]]"
      ]
     },
     "execution_count": 399,
     "metadata": {},
     "output_type": "execute_result"
    }
   ],
   "source": [
    "dataframes = [df_temp, df_precp, df_hum_rel, df_radia_solar, df_vel_vto]\n",
    "dataframes"
   ]
  },
  {
   "cell_type": "code",
   "execution_count": 400,
   "metadata": {},
   "outputs": [],
   "source": [
    "for df in dataframes:\n",
    "    df[\"Fecha\"] = pd.to_datetime(df[\"Fecha\"], errors='coerce')  # 'errors=\"coerce\"' convierte valores inválidos en NaT"
   ]
  },
  {
   "cell_type": "code",
   "execution_count": 401,
   "metadata": {},
   "outputs": [
    {
     "data": {
      "text/html": [
       "<div>\n",
       "<style scoped>\n",
       "    .dataframe tbody tr th:only-of-type {\n",
       "        vertical-align: middle;\n",
       "    }\n",
       "\n",
       "    .dataframe tbody tr th {\n",
       "        vertical-align: top;\n",
       "    }\n",
       "\n",
       "    .dataframe thead th {\n",
       "        text-align: right;\n",
       "    }\n",
       "</style>\n",
       "<table border=\"1\" class=\"dataframe\">\n",
       "  <thead>\n",
       "    <tr style=\"text-align: right;\">\n",
       "      <th></th>\n",
       "      <th>Fecha</th>\n",
       "      <th>Temperatura_Media</th>\n",
       "      <th>Precipitaciones</th>\n",
       "      <th>Humedad_Relativa</th>\n",
       "      <th>Radiación_Solar</th>\n",
       "      <th>Velocidad_Viento</th>\n",
       "    </tr>\n",
       "  </thead>\n",
       "  <tbody>\n",
       "    <tr>\n",
       "      <th>0</th>\n",
       "      <td>2023-02-01</td>\n",
       "      <td>4.1</td>\n",
       "      <td>0.0</td>\n",
       "      <td>67.0</td>\n",
       "      <td>138.0</td>\n",
       "      <td>0.9</td>\n",
       "    </tr>\n",
       "    <tr>\n",
       "      <th>1</th>\n",
       "      <td>2023-02-02</td>\n",
       "      <td>6.0</td>\n",
       "      <td>0.0</td>\n",
       "      <td>64.0</td>\n",
       "      <td>136.0</td>\n",
       "      <td>0.7</td>\n",
       "    </tr>\n",
       "    <tr>\n",
       "      <th>2</th>\n",
       "      <td>2023-02-03</td>\n",
       "      <td>5.9</td>\n",
       "      <td>0.0</td>\n",
       "      <td>60.0</td>\n",
       "      <td>141.0</td>\n",
       "      <td>0.7</td>\n",
       "    </tr>\n",
       "    <tr>\n",
       "      <th>3</th>\n",
       "      <td>2023-02-04</td>\n",
       "      <td>6.6</td>\n",
       "      <td>0.0</td>\n",
       "      <td>56.0</td>\n",
       "      <td>144.0</td>\n",
       "      <td>0.7</td>\n",
       "    </tr>\n",
       "    <tr>\n",
       "      <th>4</th>\n",
       "      <td>2023-02-05</td>\n",
       "      <td>7.1</td>\n",
       "      <td>0.0</td>\n",
       "      <td>47.0</td>\n",
       "      <td>148.0</td>\n",
       "      <td>0.8</td>\n",
       "    </tr>\n",
       "    <tr>\n",
       "      <th>...</th>\n",
       "      <td>...</td>\n",
       "      <td>...</td>\n",
       "      <td>...</td>\n",
       "      <td>...</td>\n",
       "      <td>...</td>\n",
       "      <td>...</td>\n",
       "    </tr>\n",
       "    <tr>\n",
       "      <th>360</th>\n",
       "      <td>2023-12-29</td>\n",
       "      <td>4.4</td>\n",
       "      <td>0.0</td>\n",
       "      <td>88.0</td>\n",
       "      <td>38.0</td>\n",
       "      <td>0.6</td>\n",
       "    </tr>\n",
       "    <tr>\n",
       "      <th>361</th>\n",
       "      <td>2023-12-30</td>\n",
       "      <td>5.6</td>\n",
       "      <td>0.0</td>\n",
       "      <td>66.0</td>\n",
       "      <td>95.0</td>\n",
       "      <td>0.7</td>\n",
       "    </tr>\n",
       "    <tr>\n",
       "      <th>362</th>\n",
       "      <td>2023-12-30</td>\n",
       "      <td>5.6</td>\n",
       "      <td>0.0</td>\n",
       "      <td>82.0</td>\n",
       "      <td>95.0</td>\n",
       "      <td>0.7</td>\n",
       "    </tr>\n",
       "    <tr>\n",
       "      <th>363</th>\n",
       "      <td>2023-12-31</td>\n",
       "      <td>6.7</td>\n",
       "      <td>0.0</td>\n",
       "      <td>68.0</td>\n",
       "      <td>56.0</td>\n",
       "      <td>1.8</td>\n",
       "    </tr>\n",
       "    <tr>\n",
       "      <th>364</th>\n",
       "      <td>2023-12-31</td>\n",
       "      <td>6.7</td>\n",
       "      <td>0.0</td>\n",
       "      <td>91.0</td>\n",
       "      <td>56.0</td>\n",
       "      <td>1.8</td>\n",
       "    </tr>\n",
       "  </tbody>\n",
       "</table>\n",
       "<p>365 rows × 6 columns</p>\n",
       "</div>"
      ],
      "text/plain": [
       "         Fecha  Temperatura_Media  Precipitaciones  Humedad_Relativa  \\\n",
       "0   2023-02-01                4.1              0.0              67.0   \n",
       "1   2023-02-02                6.0              0.0              64.0   \n",
       "2   2023-02-03                5.9              0.0              60.0   \n",
       "3   2023-02-04                6.6              0.0              56.0   \n",
       "4   2023-02-05                7.1              0.0              47.0   \n",
       "..         ...                ...              ...               ...   \n",
       "360 2023-12-29                4.4              0.0              88.0   \n",
       "361 2023-12-30                5.6              0.0              66.0   \n",
       "362 2023-12-30                5.6              0.0              82.0   \n",
       "363 2023-12-31                6.7              0.0              68.0   \n",
       "364 2023-12-31                6.7              0.0              91.0   \n",
       "\n",
       "     Radiación_Solar  Velocidad_Viento  \n",
       "0              138.0               0.9  \n",
       "1              136.0               0.7  \n",
       "2              141.0               0.7  \n",
       "3              144.0               0.7  \n",
       "4              148.0               0.8  \n",
       "..               ...               ...  \n",
       "360             38.0               0.6  \n",
       "361             95.0               0.7  \n",
       "362             95.0               0.7  \n",
       "363             56.0               1.8  \n",
       "364             56.0               1.8  \n",
       "\n",
       "[365 rows x 6 columns]"
      ]
     },
     "execution_count": 401,
     "metadata": {},
     "output_type": "execute_result"
    }
   ],
   "source": [
    "df_clima_23 = reduce(lambda left, right: pd.merge(left, right, on=\"Fecha\", how=\"inner\"), dataframes)\n",
    "df_clima_23"
   ]
  },
  {
   "cell_type": "code",
   "execution_count": 402,
   "metadata": {},
   "outputs": [
    {
     "name": "stdout",
     "output_type": "stream",
     "text": [
      "<class 'pandas.core.frame.DataFrame'>\n",
      "RangeIndex: 365 entries, 0 to 364\n",
      "Data columns (total 6 columns):\n",
      " #   Column             Non-Null Count  Dtype         \n",
      "---  ------             --------------  -----         \n",
      " 0   Fecha              365 non-null    datetime64[ns]\n",
      " 1   Temperatura_Media  365 non-null    float64       \n",
      " 2   Precipitaciones    365 non-null    float64       \n",
      " 3   Humedad_Relativa   365 non-null    float64       \n",
      " 4   Radiación_Solar    365 non-null    float64       \n",
      " 5   Velocidad_Viento   365 non-null    float64       \n",
      "dtypes: datetime64[ns](1), float64(5)\n",
      "memory usage: 17.2 KB\n"
     ]
    }
   ],
   "source": [
    "df_clima_23.info()"
   ]
  },
  {
   "cell_type": "code",
   "execution_count": 403,
   "metadata": {},
   "outputs": [],
   "source": [
    "# Guardar dataframe en csv\n",
    "df_clima_23.to_csv('archivo23.csv', index=False)"
   ]
  }
 ],
 "metadata": {
  "kernelspec": {
   "display_name": "Python 3",
   "language": "python",
   "name": "python3"
  },
  "language_info": {
   "codemirror_mode": {
    "name": "ipython",
    "version": 3
   },
   "file_extension": ".py",
   "mimetype": "text/x-python",
   "name": "python",
   "nbconvert_exporter": "python",
   "pygments_lexer": "ipython3",
   "version": "3.13.0"
  }
 },
 "nbformat": 4,
 "nbformat_minor": 2
}
